{
 "cells": [
  {
   "cell_type": "code",
   "execution_count": 153,
   "id": "da488508",
   "metadata": {
    "ExecuteTime": {
     "end_time": "2022-03-01T16:51:43.329177Z",
     "start_time": "2022-03-01T16:51:43.327052Z"
    }
   },
   "outputs": [],
   "source": [
    "import pandas as pd\n",
    "import numpy as np\n",
    "import sqlite3"
   ]
  },
  {
   "cell_type": "markdown",
   "id": "b5f8619a",
   "metadata": {},
   "source": [
    "# Pulling data and basic cleaning"
   ]
  },
  {
   "cell_type": "markdown",
   "id": "cc5a3215",
   "metadata": {},
   "source": [
    "## Pulling data"
   ]
  },
  {
   "cell_type": "code",
   "execution_count": 154,
   "id": "6172af96",
   "metadata": {
    "ExecuteTime": {
     "end_time": "2022-03-01T16:51:55.535464Z",
     "start_time": "2022-03-01T16:51:43.330779Z"
    }
   },
   "outputs": [],
   "source": [
    "data=pd.read_csv(\"../raw_data/Meteo/donnees-synop-essentielles-omm.csv\", sep=\";\")"
   ]
  },
  {
   "cell_type": "code",
   "execution_count": 155,
   "id": "f975ca13",
   "metadata": {
    "ExecuteTime": {
     "end_time": "2022-03-01T16:51:55.809288Z",
     "start_time": "2022-03-01T16:51:55.537044Z"
    }
   },
   "outputs": [],
   "source": [
    "df_dpts = pd.read_excel(\"../raw_data/Meteo/Classement_Departement.xlsx\")"
   ]
  },
  {
   "cell_type": "code",
   "execution_count": 156,
   "id": "e0a5fa2b",
   "metadata": {
    "ExecuteTime": {
     "end_time": "2022-03-01T16:51:55.826810Z",
     "start_time": "2022-03-01T16:51:55.811204Z"
    }
   },
   "outputs": [],
   "source": [
    "df_cleaning = pd.read_excel(\"../raw_data/Meteo/Meteo_Cleaning.xlsx\", sheet_name=\"Features\")"
   ]
  },
  {
   "cell_type": "code",
   "execution_count": 157,
   "id": "95349857",
   "metadata": {
    "ExecuteTime": {
     "end_time": "2022-03-01T16:51:55.843020Z",
     "start_time": "2022-03-01T16:51:55.828532Z"
    }
   },
   "outputs": [],
   "source": [
    "df_soil_cleaning = pd.read_excel('../raw_data/Meteo/Meteo_Cleaning.xlsx', sheet_name=\"Soil\")"
   ]
  },
  {
   "cell_type": "markdown",
   "id": "5d4abca3",
   "metadata": {},
   "source": [
    "## Cleaning df_dpts"
   ]
  },
  {
   "cell_type": "code",
   "execution_count": 158,
   "id": "e355c442",
   "metadata": {
    "ExecuteTime": {
     "end_time": "2022-03-01T16:51:55.848908Z",
     "start_time": "2022-03-01T16:51:55.844547Z"
    }
   },
   "outputs": [],
   "source": [
    "df_dpts = df_dpts.dropna() "
   ]
  },
  {
   "cell_type": "code",
   "execution_count": 159,
   "id": "16433586",
   "metadata": {
    "ExecuteTime": {
     "end_time": "2022-03-01T16:51:55.854877Z",
     "start_time": "2022-03-01T16:51:55.850539Z"
    },
    "scrolled": true
   },
   "outputs": [],
   "source": [
    "df_dpts[\"ID OMM station\"] = df_dpts[\"ID OMM station\"].astype('int')"
   ]
  },
  {
   "cell_type": "markdown",
   "id": "f33fb28c",
   "metadata": {},
   "source": [
    "## Filtering down df_cleaning"
   ]
  },
  {
   "cell_type": "code",
   "execution_count": 160,
   "id": "f1be5b63",
   "metadata": {
    "ExecuteTime": {
     "end_time": "2022-03-01T16:51:55.864010Z",
     "start_time": "2022-03-01T16:51:55.856848Z"
    }
   },
   "outputs": [],
   "source": [
    "df_cleaning = df_cleaning[df_cleaning['keep']==1]"
   ]
  },
  {
   "cell_type": "code",
   "execution_count": 161,
   "id": "b3a4d3bf",
   "metadata": {
    "ExecuteTime": {
     "end_time": "2022-03-01T16:51:55.870721Z",
     "start_time": "2022-03-01T16:51:55.867018Z"
    }
   },
   "outputs": [],
   "source": [
    "df_type_dict = pd.Series(df_cleaning.type.values, df_cleaning.feature_clean_name.values).to_dict()"
   ]
  },
  {
   "cell_type": "code",
   "execution_count": 162,
   "id": "62e03f6b",
   "metadata": {
    "ExecuteTime": {
     "end_time": "2022-03-01T16:51:55.884636Z",
     "start_time": "2022-03-01T16:51:55.872931Z"
    },
    "scrolled": true
   },
   "outputs": [
    {
     "data": {
      "text/html": [
       "<div>\n",
       "<style scoped>\n",
       "    .dataframe tbody tr th:only-of-type {\n",
       "        vertical-align: middle;\n",
       "    }\n",
       "\n",
       "    .dataframe tbody tr th {\n",
       "        vertical-align: top;\n",
       "    }\n",
       "\n",
       "    .dataframe thead th {\n",
       "        text-align: right;\n",
       "    }\n",
       "</style>\n",
       "<table border=\"1\" class=\"dataframe\">\n",
       "  <thead>\n",
       "    <tr style=\"text-align: right;\">\n",
       "      <th></th>\n",
       "      <th>feature_excel_name</th>\n",
       "      <th>keep</th>\n",
       "      <th>feature_clean_name</th>\n",
       "      <th>metrics</th>\n",
       "      <th>aggregation</th>\n",
       "      <th>notes</th>\n",
       "      <th>type</th>\n",
       "    </tr>\n",
       "  </thead>\n",
       "  <tbody>\n",
       "    <tr>\n",
       "      <th>0</th>\n",
       "      <td>ID OMM station</td>\n",
       "      <td>1.0</td>\n",
       "      <td>region_id</td>\n",
       "      <td>NaN</td>\n",
       "      <td>key</td>\n",
       "      <td>NaN</td>\n",
       "      <td>int32</td>\n",
       "    </tr>\n",
       "    <tr>\n",
       "      <th>1</th>\n",
       "      <td>Date</td>\n",
       "      <td>1.0</td>\n",
       "      <td>date_raw</td>\n",
       "      <td>YYYY-MM-DDTHH:MM:SS+HH:MM</td>\n",
       "      <td>key</td>\n",
       "      <td>NaN</td>\n",
       "      <td>str</td>\n",
       "    </tr>\n",
       "    <tr>\n",
       "      <th>2</th>\n",
       "      <td>Point de rosée</td>\n",
       "      <td>1.0</td>\n",
       "      <td>rose_point</td>\n",
       "      <td>K</td>\n",
       "      <td>mean</td>\n",
       "      <td>NaN</td>\n",
       "      <td>float32</td>\n",
       "    </tr>\n",
       "    <tr>\n",
       "      <th>3</th>\n",
       "      <td>Humidité</td>\n",
       "      <td>1.0</td>\n",
       "      <td>humidity</td>\n",
       "      <td>%</td>\n",
       "      <td>mean</td>\n",
       "      <td>NaN</td>\n",
       "      <td>float32</td>\n",
       "    </tr>\n",
       "    <tr>\n",
       "      <th>4</th>\n",
       "      <td>Variation de pression en 24 heures</td>\n",
       "      <td>1.0</td>\n",
       "      <td>pressure_var_24</td>\n",
       "      <td>Pa?</td>\n",
       "      <td>mean</td>\n",
       "      <td>Niveau barométrique et pression station en Pa</td>\n",
       "      <td>int64</td>\n",
       "    </tr>\n",
       "    <tr>\n",
       "      <th>5</th>\n",
       "      <td>Etat du sol</td>\n",
       "      <td>1.0</td>\n",
       "      <td>soil_state_raw</td>\n",
       "      <td>Code (0901)</td>\n",
       "      <td>mean</td>\n",
       "      <td>NaN</td>\n",
       "      <td>float32</td>\n",
       "    </tr>\n",
       "    <tr>\n",
       "      <th>6</th>\n",
       "      <td>Hauteur totale de la couche de neige, glace, a...</td>\n",
       "      <td>1.0</td>\n",
       "      <td>h_snow_plus</td>\n",
       "      <td>metre</td>\n",
       "      <td>max</td>\n",
       "      <td>NaN</td>\n",
       "      <td>float32</td>\n",
       "    </tr>\n",
       "    <tr>\n",
       "      <th>7</th>\n",
       "      <td>Hauteur de la neige fraîche</td>\n",
       "      <td>1.0</td>\n",
       "      <td>h_snow_fresh</td>\n",
       "      <td>metre</td>\n",
       "      <td>max</td>\n",
       "      <td>NaN</td>\n",
       "      <td>float32</td>\n",
       "    </tr>\n",
       "    <tr>\n",
       "      <th>8</th>\n",
       "      <td>Précipitations dans les 24 dernières heures</td>\n",
       "      <td>1.0</td>\n",
       "      <td>rain_24</td>\n",
       "      <td>mm</td>\n",
       "      <td>sum</td>\n",
       "      <td>NaN</td>\n",
       "      <td>float32</td>\n",
       "    </tr>\n",
       "    <tr>\n",
       "      <th>9</th>\n",
       "      <td>Nom</td>\n",
       "      <td>1.0</td>\n",
       "      <td>city</td>\n",
       "      <td>NaN</td>\n",
       "      <td>key</td>\n",
       "      <td>NaN</td>\n",
       "      <td>str</td>\n",
       "    </tr>\n",
       "    <tr>\n",
       "      <th>10</th>\n",
       "      <td>Température</td>\n",
       "      <td>1.0</td>\n",
       "      <td>temp</td>\n",
       "      <td>K/C</td>\n",
       "      <td>split</td>\n",
       "      <td>NaN</td>\n",
       "      <td>float32</td>\n",
       "    </tr>\n",
       "  </tbody>\n",
       "</table>\n",
       "</div>"
      ],
      "text/plain": [
       "                                   feature_excel_name  keep  \\\n",
       "0                                      ID OMM station   1.0   \n",
       "1                                                Date   1.0   \n",
       "2                                      Point de rosée   1.0   \n",
       "3                                            Humidité   1.0   \n",
       "4                  Variation de pression en 24 heures   1.0   \n",
       "5                                         Etat du sol   1.0   \n",
       "6   Hauteur totale de la couche de neige, glace, a...   1.0   \n",
       "7                         Hauteur de la neige fraîche   1.0   \n",
       "8         Précipitations dans les 24 dernières heures   1.0   \n",
       "9                                                 Nom   1.0   \n",
       "10                                        Température   1.0   \n",
       "\n",
       "   feature_clean_name                    metrics aggregation  \\\n",
       "0           region_id                        NaN         key   \n",
       "1            date_raw  YYYY-MM-DDTHH:MM:SS+HH:MM         key   \n",
       "2          rose_point                          K        mean   \n",
       "3            humidity                          %        mean   \n",
       "4     pressure_var_24                        Pa?        mean   \n",
       "5      soil_state_raw                Code (0901)        mean   \n",
       "6         h_snow_plus                      metre         max   \n",
       "7        h_snow_fresh                      metre         max   \n",
       "8             rain_24                         mm         sum   \n",
       "9                city                        NaN         key   \n",
       "10               temp                        K/C       split   \n",
       "\n",
       "                                            notes     type  \n",
       "0                                             NaN    int32  \n",
       "1                                             NaN      str  \n",
       "2                                             NaN  float32  \n",
       "3                                             NaN  float32  \n",
       "4   Niveau barométrique et pression station en Pa    int64  \n",
       "5                                             NaN  float32  \n",
       "6                                             NaN  float32  \n",
       "7                                             NaN  float32  \n",
       "8                                             NaN  float32  \n",
       "9                                             NaN      str  \n",
       "10                                            NaN  float32  "
      ]
     },
     "execution_count": 162,
     "metadata": {},
     "output_type": "execute_result"
    }
   ],
   "source": [
    "df_cleaning"
   ]
  },
  {
   "cell_type": "markdown",
   "id": "d04d237d",
   "metadata": {},
   "source": [
    "## Cleaning df"
   ]
  },
  {
   "cell_type": "code",
   "execution_count": 163,
   "id": "04a2a13f",
   "metadata": {
    "ExecuteTime": {
     "end_time": "2022-03-01T16:51:56.581317Z",
     "start_time": "2022-03-01T16:51:55.887006Z"
    },
    "scrolled": false
   },
   "outputs": [],
   "source": [
    "df = data[data[\"ID OMM station\"].isin(list(df_dpts[\"ID OMM station\"]))]\n",
    "df = df.reset_index(drop=True)"
   ]
  },
  {
   "cell_type": "code",
   "execution_count": 164,
   "id": "91297000",
   "metadata": {
    "ExecuteTime": {
     "end_time": "2022-03-01T16:51:56.628560Z",
     "start_time": "2022-03-01T16:51:56.583130Z"
    }
   },
   "outputs": [],
   "source": [
    "del data"
   ]
  },
  {
   "cell_type": "code",
   "execution_count": 165,
   "id": "babac674",
   "metadata": {
    "ExecuteTime": {
     "end_time": "2022-03-01T16:51:56.682643Z",
     "start_time": "2022-03-01T16:51:56.630358Z"
    }
   },
   "outputs": [],
   "source": [
    "df = df[list(df_cleaning['feature_excel_name'])]"
   ]
  },
  {
   "cell_type": "code",
   "execution_count": 166,
   "id": "07bdfb60",
   "metadata": {
    "ExecuteTime": {
     "end_time": "2022-03-01T16:51:56.686977Z",
     "start_time": "2022-03-01T16:51:56.684135Z"
    },
    "scrolled": true
   },
   "outputs": [],
   "source": [
    "df.columns = list(df_cleaning['feature_clean_name'])"
   ]
  },
  {
   "cell_type": "code",
   "execution_count": 167,
   "id": "d24d0696",
   "metadata": {
    "ExecuteTime": {
     "end_time": "2022-03-01T16:51:57.419431Z",
     "start_time": "2022-03-01T16:51:56.688208Z"
    }
   },
   "outputs": [],
   "source": [
    "df['year'] = df['date_raw'].str[:4]\n",
    "df['month'] = df['date_raw'].str[5:7]\n",
    "df['day'] = df['date_raw'].str[8:10]\n",
    "df['hour'] = df['date_raw'].str[11:13]"
   ]
  },
  {
   "cell_type": "code",
   "execution_count": 168,
   "id": "5c57e810",
   "metadata": {
    "ExecuteTime": {
     "end_time": "2022-03-01T16:51:57.596799Z",
     "start_time": "2022-03-01T16:51:57.420783Z"
    }
   },
   "outputs": [],
   "source": [
    "df['date_clean'] = pd.to_datetime(df['year']+df['month']+df['day'])"
   ]
  },
  {
   "cell_type": "code",
   "execution_count": 169,
   "id": "8909523d",
   "metadata": {
    "ExecuteTime": {
     "end_time": "2022-03-01T16:51:57.645524Z",
     "start_time": "2022-03-01T16:51:57.600092Z"
    },
    "scrolled": false
   },
   "outputs": [
    {
     "data": {
      "text/html": [
       "<div>\n",
       "<style scoped>\n",
       "    .dataframe tbody tr th:only-of-type {\n",
       "        vertical-align: middle;\n",
       "    }\n",
       "\n",
       "    .dataframe tbody tr th {\n",
       "        vertical-align: top;\n",
       "    }\n",
       "\n",
       "    .dataframe thead th {\n",
       "        text-align: right;\n",
       "    }\n",
       "</style>\n",
       "<table border=\"1\" class=\"dataframe\">\n",
       "  <thead>\n",
       "    <tr style=\"text-align: right;\">\n",
       "      <th></th>\n",
       "      <th>region_id</th>\n",
       "      <th>date_raw</th>\n",
       "      <th>rose_point</th>\n",
       "      <th>humidity</th>\n",
       "      <th>pressure_var_24</th>\n",
       "      <th>soil_state_raw</th>\n",
       "      <th>h_snow_plus</th>\n",
       "      <th>h_snow_fresh</th>\n",
       "      <th>rain_24</th>\n",
       "      <th>city</th>\n",
       "      <th>temp</th>\n",
       "      <th>year</th>\n",
       "      <th>month</th>\n",
       "      <th>day</th>\n",
       "      <th>hour</th>\n",
       "      <th>date_clean</th>\n",
       "    </tr>\n",
       "  </thead>\n",
       "  <tbody>\n",
       "    <tr>\n",
       "      <th>0</th>\n",
       "      <td>7027</td>\n",
       "      <td>2013-04-03T20:00:00+02:00</td>\n",
       "      <td>272.75</td>\n",
       "      <td>73.0</td>\n",
       "      <td>NaN</td>\n",
       "      <td>NaN</td>\n",
       "      <td>0.0</td>\n",
       "      <td>NaN</td>\n",
       "      <td>NaN</td>\n",
       "      <td>CAEN-CARPIQUET</td>\n",
       "      <td>277.15</td>\n",
       "      <td>2013</td>\n",
       "      <td>04</td>\n",
       "      <td>03</td>\n",
       "      <td>20</td>\n",
       "      <td>2013-04-03</td>\n",
       "    </tr>\n",
       "    <tr>\n",
       "      <th>1</th>\n",
       "      <td>7181</td>\n",
       "      <td>2013-04-03T20:00:00+02:00</td>\n",
       "      <td>271.15</td>\n",
       "      <td>60.0</td>\n",
       "      <td>NaN</td>\n",
       "      <td>NaN</td>\n",
       "      <td>NaN</td>\n",
       "      <td>NaN</td>\n",
       "      <td>NaN</td>\n",
       "      <td>NANCY-OCHEY</td>\n",
       "      <td>278.25</td>\n",
       "      <td>2013</td>\n",
       "      <td>04</td>\n",
       "      <td>03</td>\n",
       "      <td>20</td>\n",
       "      <td>2013-04-03</td>\n",
       "    </tr>\n",
       "    <tr>\n",
       "      <th>2</th>\n",
       "      <td>7207</td>\n",
       "      <td>2013-04-03T23:00:00+02:00</td>\n",
       "      <td>271.75</td>\n",
       "      <td>69.0</td>\n",
       "      <td>NaN</td>\n",
       "      <td>NaN</td>\n",
       "      <td>NaN</td>\n",
       "      <td>NaN</td>\n",
       "      <td>NaN</td>\n",
       "      <td>BELLE ILE-LE TALUT</td>\n",
       "      <td>276.95</td>\n",
       "      <td>2013</td>\n",
       "      <td>04</td>\n",
       "      <td>03</td>\n",
       "      <td>23</td>\n",
       "      <td>2013-04-03</td>\n",
       "    </tr>\n",
       "    <tr>\n",
       "      <th>3</th>\n",
       "      <td>7335</td>\n",
       "      <td>2013-04-03T23:00:00+02:00</td>\n",
       "      <td>269.25</td>\n",
       "      <td>50.0</td>\n",
       "      <td>NaN</td>\n",
       "      <td>NaN</td>\n",
       "      <td>0.0</td>\n",
       "      <td>NaN</td>\n",
       "      <td>NaN</td>\n",
       "      <td>POITIERS-BIARD</td>\n",
       "      <td>278.85</td>\n",
       "      <td>2013</td>\n",
       "      <td>04</td>\n",
       "      <td>03</td>\n",
       "      <td>23</td>\n",
       "      <td>2013-04-03</td>\n",
       "    </tr>\n",
       "    <tr>\n",
       "      <th>4</th>\n",
       "      <td>7280</td>\n",
       "      <td>2013-04-05T23:00:00+02:00</td>\n",
       "      <td>274.65</td>\n",
       "      <td>73.0</td>\n",
       "      <td>NaN</td>\n",
       "      <td>NaN</td>\n",
       "      <td>0.0</td>\n",
       "      <td>NaN</td>\n",
       "      <td>NaN</td>\n",
       "      <td>DIJON-LONGVIC</td>\n",
       "      <td>279.15</td>\n",
       "      <td>2013</td>\n",
       "      <td>04</td>\n",
       "      <td>05</td>\n",
       "      <td>23</td>\n",
       "      <td>2013-04-05</td>\n",
       "    </tr>\n",
       "    <tr>\n",
       "      <th>...</th>\n",
       "      <td>...</td>\n",
       "      <td>...</td>\n",
       "      <td>...</td>\n",
       "      <td>...</td>\n",
       "      <td>...</td>\n",
       "      <td>...</td>\n",
       "      <td>...</td>\n",
       "      <td>...</td>\n",
       "      <td>...</td>\n",
       "      <td>...</td>\n",
       "      <td>...</td>\n",
       "      <td>...</td>\n",
       "      <td>...</td>\n",
       "      <td>...</td>\n",
       "      <td>...</td>\n",
       "      <td>...</td>\n",
       "    </tr>\n",
       "    <tr>\n",
       "      <th>768967</th>\n",
       "      <td>7181</td>\n",
       "      <td>2021-07-06T20:00:00+02:00</td>\n",
       "      <td>286.85</td>\n",
       "      <td>84.0</td>\n",
       "      <td>290.0</td>\n",
       "      <td>NaN</td>\n",
       "      <td>NaN</td>\n",
       "      <td>NaN</td>\n",
       "      <td>9.9</td>\n",
       "      <td>NANCY-OCHEY</td>\n",
       "      <td>289.55</td>\n",
       "      <td>2021</td>\n",
       "      <td>07</td>\n",
       "      <td>06</td>\n",
       "      <td>20</td>\n",
       "      <td>2021-07-06</td>\n",
       "    </tr>\n",
       "    <tr>\n",
       "      <th>768968</th>\n",
       "      <td>7037</td>\n",
       "      <td>2021-07-07T02:00:00+02:00</td>\n",
       "      <td>284.95</td>\n",
       "      <td>90.0</td>\n",
       "      <td>890.0</td>\n",
       "      <td>NaN</td>\n",
       "      <td>0.0</td>\n",
       "      <td>NaN</td>\n",
       "      <td>3.8</td>\n",
       "      <td>ROUEN-BOOS</td>\n",
       "      <td>286.55</td>\n",
       "      <td>2021</td>\n",
       "      <td>07</td>\n",
       "      <td>07</td>\n",
       "      <td>02</td>\n",
       "      <td>2021-07-07</td>\n",
       "    </tr>\n",
       "    <tr>\n",
       "      <th>768969</th>\n",
       "      <td>7005</td>\n",
       "      <td>2021-07-07T05:00:00+02:00</td>\n",
       "      <td>286.35</td>\n",
       "      <td>96.0</td>\n",
       "      <td>990.0</td>\n",
       "      <td>0.0</td>\n",
       "      <td>NaN</td>\n",
       "      <td>NaN</td>\n",
       "      <td>1.0</td>\n",
       "      <td>ABBEVILLE</td>\n",
       "      <td>286.95</td>\n",
       "      <td>2021</td>\n",
       "      <td>07</td>\n",
       "      <td>07</td>\n",
       "      <td>05</td>\n",
       "      <td>2021-07-07</td>\n",
       "    </tr>\n",
       "    <tr>\n",
       "      <th>768970</th>\n",
       "      <td>7130</td>\n",
       "      <td>2021-07-06T08:00:00+02:00</td>\n",
       "      <td>284.45</td>\n",
       "      <td>81.0</td>\n",
       "      <td>-340.0</td>\n",
       "      <td>0.0</td>\n",
       "      <td>0.0</td>\n",
       "      <td>NaN</td>\n",
       "      <td>11.3</td>\n",
       "      <td>RENNES-ST JACQUES</td>\n",
       "      <td>287.65</td>\n",
       "      <td>2021</td>\n",
       "      <td>07</td>\n",
       "      <td>06</td>\n",
       "      <td>08</td>\n",
       "      <td>2021-07-06</td>\n",
       "    </tr>\n",
       "    <tr>\n",
       "      <th>768971</th>\n",
       "      <td>7240</td>\n",
       "      <td>2021-07-06T08:00:00+02:00</td>\n",
       "      <td>285.25</td>\n",
       "      <td>81.0</td>\n",
       "      <td>40.0</td>\n",
       "      <td>NaN</td>\n",
       "      <td>NaN</td>\n",
       "      <td>NaN</td>\n",
       "      <td>1.6</td>\n",
       "      <td>TOURS</td>\n",
       "      <td>288.45</td>\n",
       "      <td>2021</td>\n",
       "      <td>07</td>\n",
       "      <td>06</td>\n",
       "      <td>08</td>\n",
       "      <td>2021-07-06</td>\n",
       "    </tr>\n",
       "  </tbody>\n",
       "</table>\n",
       "<p>768972 rows × 16 columns</p>\n",
       "</div>"
      ],
      "text/plain": [
       "        region_id                   date_raw  rose_point  humidity  \\\n",
       "0            7027  2013-04-03T20:00:00+02:00      272.75      73.0   \n",
       "1            7181  2013-04-03T20:00:00+02:00      271.15      60.0   \n",
       "2            7207  2013-04-03T23:00:00+02:00      271.75      69.0   \n",
       "3            7335  2013-04-03T23:00:00+02:00      269.25      50.0   \n",
       "4            7280  2013-04-05T23:00:00+02:00      274.65      73.0   \n",
       "...           ...                        ...         ...       ...   \n",
       "768967       7181  2021-07-06T20:00:00+02:00      286.85      84.0   \n",
       "768968       7037  2021-07-07T02:00:00+02:00      284.95      90.0   \n",
       "768969       7005  2021-07-07T05:00:00+02:00      286.35      96.0   \n",
       "768970       7130  2021-07-06T08:00:00+02:00      284.45      81.0   \n",
       "768971       7240  2021-07-06T08:00:00+02:00      285.25      81.0   \n",
       "\n",
       "        pressure_var_24  soil_state_raw  h_snow_plus  h_snow_fresh  rain_24  \\\n",
       "0                   NaN             NaN          0.0           NaN      NaN   \n",
       "1                   NaN             NaN          NaN           NaN      NaN   \n",
       "2                   NaN             NaN          NaN           NaN      NaN   \n",
       "3                   NaN             NaN          0.0           NaN      NaN   \n",
       "4                   NaN             NaN          0.0           NaN      NaN   \n",
       "...                 ...             ...          ...           ...      ...   \n",
       "768967            290.0             NaN          NaN           NaN      9.9   \n",
       "768968            890.0             NaN          0.0           NaN      3.8   \n",
       "768969            990.0             0.0          NaN           NaN      1.0   \n",
       "768970           -340.0             0.0          0.0           NaN     11.3   \n",
       "768971             40.0             NaN          NaN           NaN      1.6   \n",
       "\n",
       "                      city    temp  year month day hour date_clean  \n",
       "0           CAEN-CARPIQUET  277.15  2013    04  03   20 2013-04-03  \n",
       "1              NANCY-OCHEY  278.25  2013    04  03   20 2013-04-03  \n",
       "2       BELLE ILE-LE TALUT  276.95  2013    04  03   23 2013-04-03  \n",
       "3           POITIERS-BIARD  278.85  2013    04  03   23 2013-04-03  \n",
       "4            DIJON-LONGVIC  279.15  2013    04  05   23 2013-04-05  \n",
       "...                    ...     ...   ...   ...  ..  ...        ...  \n",
       "768967         NANCY-OCHEY  289.55  2021    07  06   20 2021-07-06  \n",
       "768968          ROUEN-BOOS  286.55  2021    07  07   02 2021-07-07  \n",
       "768969           ABBEVILLE  286.95  2021    07  07   05 2021-07-07  \n",
       "768970   RENNES-ST JACQUES  287.65  2021    07  06   08 2021-07-06  \n",
       "768971               TOURS  288.45  2021    07  06   08 2021-07-06  \n",
       "\n",
       "[768972 rows x 16 columns]"
      ]
     },
     "execution_count": 169,
     "metadata": {},
     "output_type": "execute_result"
    }
   ],
   "source": [
    "df"
   ]
  },
  {
   "cell_type": "code",
   "execution_count": 170,
   "id": "5657aabb",
   "metadata": {
    "ExecuteTime": {
     "end_time": "2022-03-01T16:51:57.660928Z",
     "start_time": "2022-03-01T16:51:57.647822Z"
    }
   },
   "outputs": [
    {
     "data": {
      "text/html": [
       "<div>\n",
       "<style scoped>\n",
       "    .dataframe tbody tr th:only-of-type {\n",
       "        vertical-align: middle;\n",
       "    }\n",
       "\n",
       "    .dataframe tbody tr th {\n",
       "        vertical-align: top;\n",
       "    }\n",
       "\n",
       "    .dataframe thead th {\n",
       "        text-align: right;\n",
       "    }\n",
       "</style>\n",
       "<table border=\"1\" class=\"dataframe\">\n",
       "  <thead>\n",
       "    <tr style=\"text-align: right;\">\n",
       "      <th></th>\n",
       "      <th>feature_excel_name</th>\n",
       "      <th>keep</th>\n",
       "      <th>feature_clean_name</th>\n",
       "      <th>metrics</th>\n",
       "      <th>aggregation</th>\n",
       "      <th>notes</th>\n",
       "      <th>type</th>\n",
       "    </tr>\n",
       "  </thead>\n",
       "  <tbody>\n",
       "    <tr>\n",
       "      <th>0</th>\n",
       "      <td>ID OMM station</td>\n",
       "      <td>1.0</td>\n",
       "      <td>region_id</td>\n",
       "      <td>NaN</td>\n",
       "      <td>key</td>\n",
       "      <td>NaN</td>\n",
       "      <td>int32</td>\n",
       "    </tr>\n",
       "    <tr>\n",
       "      <th>1</th>\n",
       "      <td>Date</td>\n",
       "      <td>1.0</td>\n",
       "      <td>date_raw</td>\n",
       "      <td>YYYY-MM-DDTHH:MM:SS+HH:MM</td>\n",
       "      <td>key</td>\n",
       "      <td>NaN</td>\n",
       "      <td>str</td>\n",
       "    </tr>\n",
       "    <tr>\n",
       "      <th>2</th>\n",
       "      <td>Point de rosée</td>\n",
       "      <td>1.0</td>\n",
       "      <td>rose_point</td>\n",
       "      <td>K</td>\n",
       "      <td>mean</td>\n",
       "      <td>NaN</td>\n",
       "      <td>float32</td>\n",
       "    </tr>\n",
       "    <tr>\n",
       "      <th>3</th>\n",
       "      <td>Humidité</td>\n",
       "      <td>1.0</td>\n",
       "      <td>humidity</td>\n",
       "      <td>%</td>\n",
       "      <td>mean</td>\n",
       "      <td>NaN</td>\n",
       "      <td>float32</td>\n",
       "    </tr>\n",
       "    <tr>\n",
       "      <th>4</th>\n",
       "      <td>Variation de pression en 24 heures</td>\n",
       "      <td>1.0</td>\n",
       "      <td>pressure_var_24</td>\n",
       "      <td>Pa?</td>\n",
       "      <td>mean</td>\n",
       "      <td>Niveau barométrique et pression station en Pa</td>\n",
       "      <td>int64</td>\n",
       "    </tr>\n",
       "    <tr>\n",
       "      <th>5</th>\n",
       "      <td>Etat du sol</td>\n",
       "      <td>1.0</td>\n",
       "      <td>soil_state_raw</td>\n",
       "      <td>Code (0901)</td>\n",
       "      <td>mean</td>\n",
       "      <td>NaN</td>\n",
       "      <td>float32</td>\n",
       "    </tr>\n",
       "    <tr>\n",
       "      <th>6</th>\n",
       "      <td>Hauteur totale de la couche de neige, glace, a...</td>\n",
       "      <td>1.0</td>\n",
       "      <td>h_snow_plus</td>\n",
       "      <td>metre</td>\n",
       "      <td>max</td>\n",
       "      <td>NaN</td>\n",
       "      <td>float32</td>\n",
       "    </tr>\n",
       "    <tr>\n",
       "      <th>7</th>\n",
       "      <td>Hauteur de la neige fraîche</td>\n",
       "      <td>1.0</td>\n",
       "      <td>h_snow_fresh</td>\n",
       "      <td>metre</td>\n",
       "      <td>max</td>\n",
       "      <td>NaN</td>\n",
       "      <td>float32</td>\n",
       "    </tr>\n",
       "    <tr>\n",
       "      <th>8</th>\n",
       "      <td>Précipitations dans les 24 dernières heures</td>\n",
       "      <td>1.0</td>\n",
       "      <td>rain_24</td>\n",
       "      <td>mm</td>\n",
       "      <td>sum</td>\n",
       "      <td>NaN</td>\n",
       "      <td>float32</td>\n",
       "    </tr>\n",
       "    <tr>\n",
       "      <th>9</th>\n",
       "      <td>Nom</td>\n",
       "      <td>1.0</td>\n",
       "      <td>city</td>\n",
       "      <td>NaN</td>\n",
       "      <td>key</td>\n",
       "      <td>NaN</td>\n",
       "      <td>str</td>\n",
       "    </tr>\n",
       "    <tr>\n",
       "      <th>10</th>\n",
       "      <td>Température</td>\n",
       "      <td>1.0</td>\n",
       "      <td>temp</td>\n",
       "      <td>K/C</td>\n",
       "      <td>split</td>\n",
       "      <td>NaN</td>\n",
       "      <td>float32</td>\n",
       "    </tr>\n",
       "  </tbody>\n",
       "</table>\n",
       "</div>"
      ],
      "text/plain": [
       "                                   feature_excel_name  keep  \\\n",
       "0                                      ID OMM station   1.0   \n",
       "1                                                Date   1.0   \n",
       "2                                      Point de rosée   1.0   \n",
       "3                                            Humidité   1.0   \n",
       "4                  Variation de pression en 24 heures   1.0   \n",
       "5                                         Etat du sol   1.0   \n",
       "6   Hauteur totale de la couche de neige, glace, a...   1.0   \n",
       "7                         Hauteur de la neige fraîche   1.0   \n",
       "8         Précipitations dans les 24 dernières heures   1.0   \n",
       "9                                                 Nom   1.0   \n",
       "10                                        Température   1.0   \n",
       "\n",
       "   feature_clean_name                    metrics aggregation  \\\n",
       "0           region_id                        NaN         key   \n",
       "1            date_raw  YYYY-MM-DDTHH:MM:SS+HH:MM         key   \n",
       "2          rose_point                          K        mean   \n",
       "3            humidity                          %        mean   \n",
       "4     pressure_var_24                        Pa?        mean   \n",
       "5      soil_state_raw                Code (0901)        mean   \n",
       "6         h_snow_plus                      metre         max   \n",
       "7        h_snow_fresh                      metre         max   \n",
       "8             rain_24                         mm         sum   \n",
       "9                city                        NaN         key   \n",
       "10               temp                        K/C       split   \n",
       "\n",
       "                                            notes     type  \n",
       "0                                             NaN    int32  \n",
       "1                                             NaN      str  \n",
       "2                                             NaN  float32  \n",
       "3                                             NaN  float32  \n",
       "4   Niveau barométrique et pression station en Pa    int64  \n",
       "5                                             NaN  float32  \n",
       "6                                             NaN  float32  \n",
       "7                                             NaN  float32  \n",
       "8                                             NaN  float32  \n",
       "9                                             NaN      str  \n",
       "10                                            NaN  float32  "
      ]
     },
     "execution_count": 170,
     "metadata": {},
     "output_type": "execute_result"
    }
   ],
   "source": [
    "df_cleaning"
   ]
  },
  {
   "cell_type": "markdown",
   "id": "b02e9462",
   "metadata": {},
   "source": [
    "## Cleaning soil state"
   ]
  },
  {
   "cell_type": "code",
   "execution_count": 171,
   "id": "84097bed",
   "metadata": {
    "ExecuteTime": {
     "end_time": "2022-03-01T16:51:57.678052Z",
     "start_time": "2022-03-01T16:51:57.663095Z"
    },
    "scrolled": true
   },
   "outputs": [
    {
     "data": {
      "text/plain": [
       "-50.0      3637\n",
       "-90.0      3627\n",
       "-100.0     3606\n",
       "-60.0      3602\n",
       "-110.0     3580\n",
       "           ... \n",
       " 3730.0       1\n",
       " 3700.0       1\n",
       "-4070.0       1\n",
       " 3820.0       1\n",
       "-3510.0       1\n",
       "Name: pressure_var_24, Length: 805, dtype: int64"
      ]
     },
     "execution_count": 171,
     "metadata": {},
     "output_type": "execute_result"
    }
   ],
   "source": [
    "df['pressure_var_24'].value_counts()"
   ]
  },
  {
   "cell_type": "code",
   "execution_count": 172,
   "id": "5704d614",
   "metadata": {
    "ExecuteTime": {
     "end_time": "2022-03-01T16:51:57.919254Z",
     "start_time": "2022-03-01T16:51:57.680546Z"
    },
    "scrolled": false
   },
   "outputs": [],
   "source": [
    "df = df.merge(df_soil_cleaning, on=\"soil_state_raw\")"
   ]
  },
  {
   "cell_type": "code",
   "execution_count": 173,
   "id": "4931d1a2",
   "metadata": {
    "ExecuteTime": {
     "end_time": "2022-03-01T16:51:58.109734Z",
     "start_time": "2022-03-01T16:51:57.920848Z"
    }
   },
   "outputs": [],
   "source": [
    "df = df.drop(columns=\"soil_state_raw\")"
   ]
  },
  {
   "cell_type": "markdown",
   "id": "d1740a25",
   "metadata": {},
   "source": [
    "## Reducing down to Jan-March"
   ]
  },
  {
   "cell_type": "code",
   "execution_count": 174,
   "id": "f85e06ad",
   "metadata": {
    "ExecuteTime": {
     "end_time": "2022-03-01T16:51:58.188655Z",
     "start_time": "2022-03-01T16:51:58.111408Z"
    },
    "scrolled": true
   },
   "outputs": [],
   "source": [
    "df['month'] = df['month'].astype(int)"
   ]
  },
  {
   "cell_type": "code",
   "execution_count": 175,
   "id": "1a1c45d6",
   "metadata": {
    "ExecuteTime": {
     "end_time": "2022-03-01T16:51:58.242912Z",
     "start_time": "2022-03-01T16:51:58.190338Z"
    }
   },
   "outputs": [],
   "source": [
    "df = df[(df['month']<3) | (df['month']>=9)]"
   ]
  },
  {
   "cell_type": "markdown",
   "id": "9f426091",
   "metadata": {},
   "source": [
    "# Aggregation"
   ]
  },
  {
   "cell_type": "markdown",
   "id": "272e5235",
   "metadata": {},
   "source": [
    "## Temperature"
   ]
  },
  {
   "cell_type": "markdown",
   "id": "f832a628",
   "metadata": {},
   "source": [
    "Create min and max temp columns from temp\n",
    "\n",
    "Identical here but will be aggregated differently"
   ]
  },
  {
   "cell_type": "code",
   "execution_count": 176,
   "id": "d3706d56",
   "metadata": {
    "ExecuteTime": {
     "end_time": "2022-03-01T16:51:58.251434Z",
     "start_time": "2022-03-01T16:51:58.246959Z"
    }
   },
   "outputs": [],
   "source": [
    "df['tmin_24_c'] = df['temp'] + 273.15\n",
    "df['tmax_24_c'] = df['temp'] + 273.15"
   ]
  },
  {
   "cell_type": "code",
   "execution_count": 177,
   "id": "d1bc389d",
   "metadata": {
    "ExecuteTime": {
     "end_time": "2022-03-01T16:51:58.287459Z",
     "start_time": "2022-03-01T16:51:58.252872Z"
    },
    "scrolled": false
   },
   "outputs": [],
   "source": [
    "df = df.drop(columns='temp')"
   ]
  },
  {
   "cell_type": "markdown",
   "id": "32259a20",
   "metadata": {},
   "source": [
    "## Cleaning columns"
   ]
  },
  {
   "cell_type": "code",
   "execution_count": 178,
   "id": "f00f649b",
   "metadata": {
    "ExecuteTime": {
     "end_time": "2022-03-01T16:51:58.335011Z",
     "start_time": "2022-03-01T16:51:58.289381Z"
    }
   },
   "outputs": [],
   "source": [
    "df = df.drop(columns=\"city\")\n",
    "df = df.drop(columns = ['date_raw', 'year','month','day','hour'])"
   ]
  },
  {
   "cell_type": "code",
   "execution_count": 179,
   "id": "a7b3d43a",
   "metadata": {
    "ExecuteTime": {
     "end_time": "2022-03-01T16:51:58.340522Z",
     "start_time": "2022-03-01T16:51:58.336491Z"
    },
    "scrolled": false
   },
   "outputs": [
    {
     "data": {
      "text/plain": [
       "Index(['region_id', 'rose_point', 'humidity', 'pressure_var_24', 'h_snow_plus',\n",
       "       'h_snow_fresh', 'rain_24', 'date_clean', 'soil_state_clean',\n",
       "       'tmin_24_c', 'tmax_24_c'],\n",
       "      dtype='object')"
      ]
     },
     "execution_count": 179,
     "metadata": {},
     "output_type": "execute_result"
    }
   ],
   "source": [
    "df.columns"
   ]
  },
  {
   "cell_type": "markdown",
   "id": "1b76227a",
   "metadata": {},
   "source": [
    "## Creating an aggregation dict"
   ]
  },
  {
   "cell_type": "code",
   "execution_count": 180,
   "id": "922df3cf",
   "metadata": {
    "ExecuteTime": {
     "end_time": "2022-03-01T16:51:58.345697Z",
     "start_time": "2022-03-01T16:51:58.342011Z"
    }
   },
   "outputs": [],
   "source": [
    "df_agg_dict = pd.Series(df_cleaning.aggregation.values, df_cleaning.feature_clean_name.values).to_dict()\n",
    "del df_agg_dict['date_raw']\n",
    "del df_agg_dict['region_id']\n",
    "del df_agg_dict['city']\n",
    "del df_agg_dict['soil_state_raw']\n",
    "del df_agg_dict['temp']\n",
    "df_agg_dict['soil_state_clean'] = \"max\"\n",
    "df_agg_dict['tmin_24_c']=\"min\"\n",
    "df_agg_dict['tmax_24_c']=\"max\""
   ]
  },
  {
   "cell_type": "code",
   "execution_count": 181,
   "id": "15744960",
   "metadata": {
    "ExecuteTime": {
     "end_time": "2022-03-01T16:51:58.350685Z",
     "start_time": "2022-03-01T16:51:58.347213Z"
    },
    "scrolled": true
   },
   "outputs": [
    {
     "data": {
      "text/plain": [
       "{'rose_point': 'mean',\n",
       " 'humidity': 'mean',\n",
       " 'pressure_var_24': 'mean',\n",
       " 'h_snow_plus': 'max',\n",
       " 'h_snow_fresh': 'max',\n",
       " 'rain_24': 'sum',\n",
       " 'soil_state_clean': 'max',\n",
       " 'tmin_24_c': 'min',\n",
       " 'tmax_24_c': 'max'}"
      ]
     },
     "execution_count": 181,
     "metadata": {},
     "output_type": "execute_result"
    }
   ],
   "source": [
    "df_agg_dict"
   ]
  },
  {
   "cell_type": "code",
   "execution_count": null,
   "id": "1287beea",
   "metadata": {},
   "outputs": [],
   "source": []
  },
  {
   "cell_type": "code",
   "execution_count": 182,
   "id": "8ccab1dc",
   "metadata": {
    "ExecuteTime": {
     "end_time": "2022-03-01T16:51:58.386845Z",
     "start_time": "2022-03-01T16:51:58.352284Z"
    },
    "scrolled": false
   },
   "outputs": [],
   "source": [
    "df_meteo = df.groupby([\"date_clean\",'region_id']).agg(df_agg_dict)\n",
    "df_meteo = df_meteo.reset_index()"
   ]
  },
  {
   "cell_type": "code",
   "execution_count": 183,
   "id": "ff1db5b5",
   "metadata": {
    "ExecuteTime": {
     "end_time": "2022-03-01T16:52:03.958841Z",
     "start_time": "2022-03-01T16:51:58.388170Z"
    }
   },
   "outputs": [],
   "source": [
    "df_meteo.to_excel(\"../raw_data/Meteo/test_meteo.xlsx\", index=False)"
   ]
  },
  {
   "cell_type": "code",
   "execution_count": null,
   "id": "e842d50e",
   "metadata": {},
   "outputs": [],
   "source": []
  },
  {
   "cell_type": "markdown",
   "id": "3180f451",
   "metadata": {},
   "source": [
    "# Exploration"
   ]
  },
  {
   "cell_type": "code",
   "execution_count": 100,
   "id": "b04c81a1",
   "metadata": {
    "ExecuteTime": {
     "end_time": "2022-03-01T16:24:32.302366Z",
     "start_time": "2022-03-01T16:24:31.490260Z"
    }
   },
   "outputs": [],
   "source": [
    "import matplotlib.pyplot as plt\n",
    "import seaborn as sns"
   ]
  },
  {
   "cell_type": "markdown",
   "id": "c5cdaa97",
   "metadata": {},
   "source": [
    "## NAs"
   ]
  },
  {
   "cell_type": "code",
   "execution_count": 88,
   "id": "cfa5cf1e",
   "metadata": {
    "ExecuteTime": {
     "end_time": "2022-03-01T16:21:46.391222Z",
     "start_time": "2022-03-01T16:21:46.387966Z"
    },
    "scrolled": false
   },
   "outputs": [
    {
     "data": {
      "text/plain": [
       "Index(['region_id', 'rose_point', 'humidity', 'pressure_var_24', 'h_snow_plus',\n",
       "       'h_snow_fresh', 'rain_24', 'date_clean', 'soil_state_clean',\n",
       "       'tmin_24_c', 'tmax_24_c'],\n",
       "      dtype='object')"
      ]
     },
     "execution_count": 88,
     "metadata": {},
     "output_type": "execute_result"
    }
   ],
   "source": [
    "df.columns"
   ]
  },
  {
   "cell_type": "code",
   "execution_count": 89,
   "id": "3f232d05",
   "metadata": {
    "ExecuteTime": {
     "end_time": "2022-03-01T16:21:46.560945Z",
     "start_time": "2022-03-01T16:21:46.550922Z"
    },
    "scrolled": false
   },
   "outputs": [
    {
     "data": {
      "text/plain": [
       "region_id                0\n",
       "rose_point             376\n",
       "humidity               369\n",
       "pressure_var_24      34781\n",
       "h_snow_plus          44392\n",
       "h_snow_fresh        299527\n",
       "rain_24               8966\n",
       "date_clean               0\n",
       "soil_state_clean         0\n",
       "tmin_24_c              133\n",
       "tmax_24_c              133\n",
       "dtype: int64"
      ]
     },
     "execution_count": 89,
     "metadata": {},
     "output_type": "execute_result"
    }
   ],
   "source": [
    "df.isna().sum()"
   ]
  },
  {
   "cell_type": "code",
   "execution_count": 118,
   "id": "4e8fd383",
   "metadata": {
    "ExecuteTime": {
     "end_time": "2022-03-01T16:40:43.838568Z",
     "start_time": "2022-03-01T16:40:43.829882Z"
    }
   },
   "outputs": [
    {
     "data": {
      "text/plain": [
       "date_clean          76228\n",
       "region_id           76228\n",
       "rose_point          76153\n",
       "humidity            76154\n",
       "pressure_var_24     46290\n",
       "h_snow_plus         68194\n",
       "h_snow_fresh        23028\n",
       "rain_24             76228\n",
       "soil_state_clean    76228\n",
       "tmin_24_c           76201\n",
       "tmax_24_c           76201\n",
       "month               76228\n",
       "h_snow_na           76228\n",
       "dtype: int64"
      ]
     },
     "execution_count": 118,
     "metadata": {},
     "output_type": "execute_result"
    }
   ],
   "source": [
    "df_meteo.count()"
   ]
  },
  {
   "cell_type": "code",
   "execution_count": 119,
   "id": "cbe926f1",
   "metadata": {
    "ExecuteTime": {
     "end_time": "2022-03-01T16:41:24.001809Z",
     "start_time": "2022-03-01T16:41:23.998450Z"
    }
   },
   "outputs": [
    {
     "data": {
      "text/plain": [
       "0.10526315789473684"
      ]
     },
     "execution_count": 119,
     "metadata": {},
     "output_type": "execute_result"
    }
   ],
   "source": [
    "8000/76000"
   ]
  },
  {
   "cell_type": "code",
   "execution_count": 90,
   "id": "dbe1fad6",
   "metadata": {
    "ExecuteTime": {
     "end_time": "2022-03-01T16:21:56.283179Z",
     "start_time": "2022-03-01T16:21:56.278157Z"
    },
    "scrolled": true
   },
   "outputs": [
    {
     "data": {
      "text/plain": [
       "rose_point             75\n",
       "humidity               74\n",
       "pressure_var_24     29938\n",
       "h_snow_plus          8034\n",
       "h_snow_fresh        53200\n",
       "rain_24                 0\n",
       "soil_state_clean        0\n",
       "tmin_24_c              27\n",
       "tmax_24_c              27\n",
       "dtype: int64"
      ]
     },
     "execution_count": 90,
     "metadata": {},
     "output_type": "execute_result"
    }
   ],
   "source": [
    "df_meteo.isna().sum()"
   ]
  },
  {
   "cell_type": "code",
   "execution_count": 92,
   "id": "c4ab4ede",
   "metadata": {
    "ExecuteTime": {
     "end_time": "2022-03-01T16:22:34.057192Z",
     "start_time": "2022-03-01T16:22:34.052807Z"
    }
   },
   "outputs": [],
   "source": [
    "df_meteo = df_meteo.reset_index()"
   ]
  },
  {
   "cell_type": "code",
   "execution_count": 98,
   "id": "8f1da6d2",
   "metadata": {
    "ExecuteTime": {
     "end_time": "2022-03-01T16:24:02.902093Z",
     "start_time": "2022-03-01T16:24:02.615501Z"
    }
   },
   "outputs": [],
   "source": [
    "df_meteo['month'] = df_meteo['date_clean'].astype(str).str[5:7]"
   ]
  },
  {
   "cell_type": "code",
   "execution_count": 104,
   "id": "c7fe1e5b",
   "metadata": {
    "ExecuteTime": {
     "end_time": "2022-03-01T16:26:31.043095Z",
     "start_time": "2022-03-01T16:26:31.040167Z"
    }
   },
   "outputs": [],
   "source": [
    "df_meteo['h_snow_na'] = df_meteo['h_snow_plus'].isna()*1"
   ]
  },
  {
   "cell_type": "code",
   "execution_count": 105,
   "id": "16bfc2bf",
   "metadata": {
    "ExecuteTime": {
     "end_time": "2022-03-01T16:26:32.162102Z",
     "start_time": "2022-03-01T16:26:32.157725Z"
    },
    "scrolled": false
   },
   "outputs": [
    {
     "data": {
      "text/plain": [
       "0        01\n",
       "1        01\n",
       "2        01\n",
       "3        01\n",
       "4        01\n",
       "         ..\n",
       "76223    02\n",
       "76224    02\n",
       "76225    02\n",
       "76226    02\n",
       "76227    02\n",
       "Name: month, Length: 76228, dtype: object"
      ]
     },
     "execution_count": 105,
     "metadata": {},
     "output_type": "execute_result"
    }
   ],
   "source": [
    "df_meteo['month']"
   ]
  },
  {
   "cell_type": "code",
   "execution_count": 106,
   "id": "7f06981f",
   "metadata": {
    "ExecuteTime": {
     "end_time": "2022-03-01T16:26:32.721844Z",
     "start_time": "2022-03-01T16:26:32.717801Z"
    }
   },
   "outputs": [
    {
     "data": {
      "text/plain": [
       "0        0\n",
       "1        0\n",
       "2        0\n",
       "3        0\n",
       "4        0\n",
       "        ..\n",
       "76223    0\n",
       "76224    1\n",
       "76225    0\n",
       "76226    0\n",
       "76227    0\n",
       "Name: h_snow_na, Length: 76228, dtype: int64"
      ]
     },
     "execution_count": 106,
     "metadata": {},
     "output_type": "execute_result"
    }
   ],
   "source": [
    "df_meteo['h_snow_na']"
   ]
  },
  {
   "cell_type": "code",
   "execution_count": 120,
   "id": "92fba912",
   "metadata": {
    "ExecuteTime": {
     "end_time": "2022-03-01T16:41:49.005185Z",
     "start_time": "2022-03-01T16:41:48.880765Z"
    }
   },
   "outputs": [
    {
     "data": {
      "image/png": "[encoded data removed]",
      "text/plain": [
       "<Figure size 432x288 with 1 Axes>"
      ]
     },
     "metadata": {
      "needs_background": "light"
     },
     "output_type": "display_data"
    }
   ],
   "source": [
    "sns.histplot(df_meteo['h_snow_plus']);"
   ]
  },
  {
   "cell_type": "code",
   "execution_count": 117,
   "id": "025be6f9",
   "metadata": {
    "ExecuteTime": {
     "end_time": "2022-03-01T16:31:27.010536Z",
     "start_time": "2022-03-01T16:31:26.851605Z"
    }
   },
   "outputs": [
    {
     "data": {
      "image/png": "[encoded data removed]",
      "text/plain": [
       "<Figure size 432x288 with 1 Axes>"
      ]
     },
     "metadata": {
      "needs_background": "light"
     },
     "output_type": "display_data"
    }
   ],
   "source": [
    "sns.histplot(df_meteo[df_meteo['h_snow_plus']>0.1]['h_snow_plus']);"
   ]
  },
  {
   "cell_type": "code",
   "execution_count": 110,
   "id": "7fb89e6c",
   "metadata": {
    "ExecuteTime": {
     "end_time": "2022-03-01T16:29:51.565113Z",
     "start_time": "2022-03-01T16:29:50.847797Z"
    },
    "scrolled": false
   },
   "outputs": [
    {
     "name": "stderr",
     "output_type": "stream",
     "text": [
      "/home/wenfangzh/.pyenv/versions/3.8.12/envs/lewagon/lib/python3.8/site-packages/seaborn/_decorators.py:36: FutureWarning: Pass the following variables as keyword args: x, y. From version 0.12, the only valid positional argument will be `data`, and passing other arguments without an explicit keyword will result in an error or misinterpretation.\n",
      "  warnings.warn(\n"
     ]
    },
    {
     "data": {
      "text/plain": [
       "<AxesSubplot:xlabel='month', ylabel='h_snow_na'>"
      ]
     },
     "execution_count": 110,
     "metadata": {},
     "output_type": "execute_result"
    },
    {
     "data": {
      "image/png": "[encoded data removed]",
      "text/plain": [
       "<Figure size 432x288 with 1 Axes>"
      ]
     },
     "metadata": {
      "needs_background": "light"
     },
     "output_type": "display_data"
    }
   ],
   "source": [
    "sns.barplot(df_meteo[\"month\"], df_meteo[\"h_snow_na\"])"
   ]
  },
  {
   "cell_type": "markdown",
   "id": "4bc57186",
   "metadata": {
    "heading_collapsed": true
   },
   "source": [
    "## One region"
   ]
  },
  {
   "cell_type": "code",
   "execution_count": null,
   "id": "ef7ed258",
   "metadata": {
    "ExecuteTime": {
     "end_time": "2022-03-01T14:41:05.270289Z",
     "start_time": "2022-03-01T14:41:05.247406Z"
    },
    "hidden": true
   },
   "outputs": [],
   "source": [
    "df7005 = df[df['region_id']==7005].reset_index(drop=True)"
   ]
  },
  {
   "cell_type": "code",
   "execution_count": null,
   "id": "e96c3c77",
   "metadata": {
    "ExecuteTime": {
     "end_time": "2022-03-01T14:41:05.297972Z",
     "start_time": "2022-03-01T14:41:05.271820Z"
    },
    "hidden": true,
    "scrolled": true
   },
   "outputs": [],
   "source": [
    "df7005.sort_values(by=\"date_clean\")"
   ]
  },
  {
   "cell_type": "code",
   "execution_count": null,
   "id": "9456abb1",
   "metadata": {
    "ExecuteTime": {
     "end_time": "2022-03-01T14:41:05.312079Z",
     "start_time": "2022-03-01T14:41:05.299487Z"
    },
    "hidden": true,
    "scrolled": true
   },
   "outputs": [],
   "source": [
    "tmp = df7005[\"hour\"].unique()\n",
    "tmp.sort()\n",
    "tmp"
   ]
  },
  {
   "cell_type": "code",
   "execution_count": null,
   "id": "cb6eeea9",
   "metadata": {
    "ExecuteTime": {
     "end_time": "2022-03-01T14:41:05.318036Z",
     "start_time": "2022-03-01T14:41:05.314191Z"
    },
    "hidden": true,
    "scrolled": true
   },
   "outputs": [],
   "source": [
    "df7005['date_clean'].nunique()"
   ]
  },
  {
   "cell_type": "code",
   "execution_count": null,
   "id": "dbea6511",
   "metadata": {
    "ExecuteTime": {
     "end_time": "2022-03-01T14:41:05.322397Z",
     "start_time": "2022-03-01T14:41:05.319538Z"
    },
    "hidden": true
   },
   "outputs": [],
   "source": [
    "len(tmp)/2"
   ]
  },
  {
   "cell_type": "code",
   "execution_count": null,
   "id": "fb41e62e",
   "metadata": {
    "ExecuteTime": {
     "end_time": "2022-03-01T15:01:40.490028Z",
     "start_time": "2022-03-01T15:01:40.487034Z"
    },
    "hidden": true
   },
   "outputs": [],
   "source": [
    "4435*8"
   ]
  },
  {
   "cell_type": "markdown",
   "id": "02260156",
   "metadata": {
    "hidden": true
   },
   "source": [
    "Missing very little data"
   ]
  },
  {
   "cell_type": "code",
   "execution_count": null,
   "id": "8f94bbe2",
   "metadata": {
    "ExecuteTime": {
     "end_time": "2022-03-01T14:41:05.331823Z",
     "start_time": "2022-03-01T14:41:05.328088Z"
    },
    "hidden": true,
    "scrolled": true
   },
   "outputs": [],
   "source": [
    "df7005['soil_state'].sum()"
   ]
  },
  {
   "cell_type": "code",
   "execution_count": null,
   "id": "e09b8816",
   "metadata": {
    "ExecuteTime": {
     "end_time": "2022-03-01T14:41:05.337880Z",
     "start_time": "2022-03-01T14:41:05.332914Z"
    },
    "hidden": true,
    "scrolled": true
   },
   "outputs": [],
   "source": [
    "df7005['soil_state'].value_counts()"
   ]
  },
  {
   "cell_type": "code",
   "execution_count": null,
   "id": "ff4f9b21",
   "metadata": {
    "ExecuteTime": {
     "end_time": "2022-03-01T14:41:06.691372Z",
     "start_time": "2022-03-01T14:41:05.339673Z"
    },
    "hidden": true
   },
   "outputs": [],
   "source": [
    "ets = df7005.groupby('date_clean').max()['soil_state']"
   ]
  },
  {
   "cell_type": "code",
   "execution_count": null,
   "id": "9505fee5",
   "metadata": {
    "ExecuteTime": {
     "end_time": "2022-03-01T14:41:06.696700Z",
     "start_time": "2022-03-01T14:41:06.693491Z"
    },
    "hidden": true
   },
   "outputs": [],
   "source": [
    "ets.count()"
   ]
  },
  {
   "cell_type": "code",
   "execution_count": null,
   "id": "54f475b7",
   "metadata": {
    "ExecuteTime": {
     "end_time": "2022-03-01T14:41:06.703423Z",
     "start_time": "2022-03-01T14:41:06.698225Z"
    },
    "hidden": true,
    "scrolled": true
   },
   "outputs": [],
   "source": [
    "ets.value_counts().sort_index()"
   ]
  },
  {
   "cell_type": "markdown",
   "id": "61401c3c",
   "metadata": {},
   "source": [
    "## Soil state across regions"
   ]
  },
  {
   "cell_type": "code",
   "execution_count": null,
   "id": "0092e8e4",
   "metadata": {
    "ExecuteTime": {
     "end_time": "2022-03-01T14:18:29.519851Z",
     "start_time": "2022-03-01T14:17:59.596801Z"
    }
   },
   "outputs": [],
   "source": [
    "df_grp = df.groupby(['region_id', 'date_clean']).max()"
   ]
  },
  {
   "cell_type": "code",
   "execution_count": null,
   "id": "e7dd4526",
   "metadata": {
    "ExecuteTime": {
     "end_time": "2022-03-01T14:20:13.437984Z",
     "start_time": "2022-03-01T14:20:13.369365Z"
    }
   },
   "outputs": [],
   "source": [
    "df_grp.groupby('region_id').count()['soil_state'].sort_values()"
   ]
  },
  {
   "cell_type": "code",
   "execution_count": null,
   "id": "d8f91247",
   "metadata": {},
   "outputs": [],
   "source": [
    "df_100k_clean.groupby(\"ID OMM station\").count()[\"Etat du sol\"].sort_values(ascending=False)"
   ]
  },
  {
   "cell_type": "code",
   "execution_count": null,
   "id": "606d4f23",
   "metadata": {
    "ExecuteTime": {
     "end_time": "2022-03-01T14:18:35.684470Z",
     "start_time": "2022-03-01T14:18:35.678474Z"
    },
    "scrolled": true
   },
   "outputs": [],
   "source": [
    "df_grp['soil_state']"
   ]
  }
 ],
 "metadata": {
  "kernelspec": {
   "display_name": "Python 3 (ipykernel)",
   "language": "python",
   "name": "python3"
  },
  "language_info": {
   "codemirror_mode": {
    "name": "ipython",
    "version": 3
   },
   "file_extension": ".py",
   "mimetype": "text/x-python",
   "name": "python",
   "nbconvert_exporter": "python",
   "pygments_lexer": "ipython3",
   "version": "3.8.12"
  },
  "toc": {
   "base_numbering": 1,
   "nav_menu": {},
   "number_sections": true,
   "sideBar": true,
   "skip_h1_title": false,
   "title_cell": "Table of Contents",
   "title_sidebar": "Contents",
   "toc_cell": false,
   "toc_position": {},
   "toc_section_display": true,
   "toc_window_display": true
  },
  "varInspector": {
   "cols": {
    "lenName": 16,
    "lenType": 16,
    "lenVar": 40
   },
   "kernels_config": {
    "python": {
     "delete_cmd_postfix": "",
     "delete_cmd_prefix": "del ",
     "library": "var_list.py",
     "varRefreshCmd": "print(var_dic_list())"
    },
    "r": {
     "delete_cmd_postfix": ") ",
     "delete_cmd_prefix": "rm(",
     "library": "var_list.r",
     "varRefreshCmd": "cat(var_dic_list()) "
    }
   },
   "types_to_exclude": [
    "module",
    "function",
    "builtin_function_or_method",
    "instance",
    "_Feature"
   ],
   "window_display": false
  }
 },
 "nbformat": 4,
 "nbformat_minor": 5
}
