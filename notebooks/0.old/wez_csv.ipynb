{
 "cells": [
  {
   "cell_type": "code",
   "execution_count": 1,
   "id": "1f726ba3",
   "metadata": {
    "ExecuteTime": {
     "end_time": "2022-03-01T10:01:17.509474Z",
     "start_time": "2022-03-01T10:01:17.182060Z"
    }
   },
   "outputs": [],
   "source": [
    "import pandas as pd\n",
    "import numpy as np\n",
    "import sqlite3"
   ]
  },
  {
   "cell_type": "markdown",
   "id": "6433c152",
   "metadata": {},
   "source": [
    "# Load"
   ]
  },
  {
   "cell_type": "code",
   "execution_count": 2,
   "id": "e4097250",
   "metadata": {
    "ExecuteTime": {
     "end_time": "2022-03-01T10:02:01.494082Z",
     "start_time": "2022-03-01T10:02:00.850912Z"
    }
   },
   "outputs": [],
   "source": [
    "df_100k = pd.read_csv(\"../raw_data/Meteo/donnees-synop-essentielles-omm.csv\", sep=\";\", nrows=100_000)"
   ]
  },
  {
   "cell_type": "code",
   "execution_count": 22,
   "id": "5fbc4a78",
   "metadata": {
    "ExecuteTime": {
     "end_time": "2022-03-01T10:06:16.687080Z",
     "start_time": "2022-03-01T10:06:16.669090Z"
    }
   },
   "outputs": [
    {
     "data": {
      "text/html": [
       "<div>\n",
       "<style scoped>\n",
       "    .dataframe tbody tr th:only-of-type {\n",
       "        vertical-align: middle;\n",
       "    }\n",
       "\n",
       "    .dataframe tbody tr th {\n",
       "        vertical-align: top;\n",
       "    }\n",
       "\n",
       "    .dataframe thead th {\n",
       "        text-align: right;\n",
       "    }\n",
       "</style>\n",
       "<table border=\"1\" class=\"dataframe\">\n",
       "  <thead>\n",
       "    <tr style=\"text-align: right;\">\n",
       "      <th></th>\n",
       "      <th>ID OMM station</th>\n",
       "      <th>Date</th>\n",
       "      <th>Pression au niveau mer</th>\n",
       "      <th>Variation de pression en 3 heures</th>\n",
       "      <th>Type de tendance barométrique</th>\n",
       "      <th>Direction du vent moyen 10 mn</th>\n",
       "      <th>Vitesse du vent moyen 10 mn</th>\n",
       "      <th>Température</th>\n",
       "      <th>Point de rosée</th>\n",
       "      <th>Humidité</th>\n",
       "      <th>...</th>\n",
       "      <th>communes (name)</th>\n",
       "      <th>communes (code)</th>\n",
       "      <th>EPCI (name)</th>\n",
       "      <th>EPCI (code)</th>\n",
       "      <th>department (name)</th>\n",
       "      <th>department (code)</th>\n",
       "      <th>region (name)</th>\n",
       "      <th>region (code)</th>\n",
       "      <th>mois_de_l_annee</th>\n",
       "      <th>Year</th>\n",
       "    </tr>\n",
       "  </thead>\n",
       "  <tbody>\n",
       "    <tr>\n",
       "      <th>0</th>\n",
       "      <td>81405</td>\n",
       "      <td>2013-04-03T17:00:00+02:00</td>\n",
       "      <td>101460.0</td>\n",
       "      <td>NaN</td>\n",
       "      <td>NaN</td>\n",
       "      <td>40.0</td>\n",
       "      <td>7.2</td>\n",
       "      <td>302.75</td>\n",
       "      <td>293.85</td>\n",
       "      <td>59.0</td>\n",
       "      <td>...</td>\n",
       "      <td>Matoury</td>\n",
       "      <td>97307</td>\n",
       "      <td>CA du Centre Littoral</td>\n",
       "      <td>249730045.0</td>\n",
       "      <td>Guyane</td>\n",
       "      <td>973</td>\n",
       "      <td>Guyane</td>\n",
       "      <td>3.0</td>\n",
       "      <td>4</td>\n",
       "      <td>2013</td>\n",
       "    </tr>\n",
       "    <tr>\n",
       "      <th>1</th>\n",
       "      <td>7027</td>\n",
       "      <td>2013-04-03T20:00:00+02:00</td>\n",
       "      <td>101180.0</td>\n",
       "      <td>-40.0</td>\n",
       "      <td>7</td>\n",
       "      <td>20.0</td>\n",
       "      <td>5.7</td>\n",
       "      <td>277.15</td>\n",
       "      <td>272.75</td>\n",
       "      <td>73.0</td>\n",
       "      <td>...</td>\n",
       "      <td>Carpiquet</td>\n",
       "      <td>14137</td>\n",
       "      <td>CU Caen la Mer</td>\n",
       "      <td>200065597.0</td>\n",
       "      <td>Calvados</td>\n",
       "      <td>14</td>\n",
       "      <td>Normandie</td>\n",
       "      <td>28.0</td>\n",
       "      <td>4</td>\n",
       "      <td>2013</td>\n",
       "    </tr>\n",
       "    <tr>\n",
       "      <th>2</th>\n",
       "      <td>7181</td>\n",
       "      <td>2013-04-03T20:00:00+02:00</td>\n",
       "      <td>100890.0</td>\n",
       "      <td>20.0</td>\n",
       "      <td>3</td>\n",
       "      <td>70.0</td>\n",
       "      <td>7.7</td>\n",
       "      <td>278.25</td>\n",
       "      <td>271.15</td>\n",
       "      <td>60.0</td>\n",
       "      <td>...</td>\n",
       "      <td>Thuilley-aux-Groseilles</td>\n",
       "      <td>54523</td>\n",
       "      <td>CC du Pays de Colombey et du Sud Toulois</td>\n",
       "      <td>245400510.0</td>\n",
       "      <td>Meurthe-et-Moselle</td>\n",
       "      <td>54</td>\n",
       "      <td>Grand Est</td>\n",
       "      <td>44.0</td>\n",
       "      <td>4</td>\n",
       "      <td>2013</td>\n",
       "    </tr>\n",
       "    <tr>\n",
       "      <th>3</th>\n",
       "      <td>7747</td>\n",
       "      <td>2013-04-03T20:00:00+02:00</td>\n",
       "      <td>100350.0</td>\n",
       "      <td>-100.0</td>\n",
       "      <td>6</td>\n",
       "      <td>170.0</td>\n",
       "      <td>1.5</td>\n",
       "      <td>286.75</td>\n",
       "      <td>281.95</td>\n",
       "      <td>73.0</td>\n",
       "      <td>...</td>\n",
       "      <td>Perpignan</td>\n",
       "      <td>66136</td>\n",
       "      <td>CU Perpignan Méditerranée Métropole</td>\n",
       "      <td>200027183.0</td>\n",
       "      <td>Pyrénées-Orientales</td>\n",
       "      <td>66</td>\n",
       "      <td>Occitanie</td>\n",
       "      <td>76.0</td>\n",
       "      <td>4</td>\n",
       "      <td>2013</td>\n",
       "    </tr>\n",
       "    <tr>\n",
       "      <th>4</th>\n",
       "      <td>7207</td>\n",
       "      <td>2013-04-03T23:00:00+02:00</td>\n",
       "      <td>100950.0</td>\n",
       "      <td>100.0</td>\n",
       "      <td>1</td>\n",
       "      <td>30.0</td>\n",
       "      <td>10.3</td>\n",
       "      <td>276.95</td>\n",
       "      <td>271.75</td>\n",
       "      <td>69.0</td>\n",
       "      <td>...</td>\n",
       "      <td>Bangor</td>\n",
       "      <td>56009</td>\n",
       "      <td>CC de Belle Ile en Mer</td>\n",
       "      <td>245600465.0</td>\n",
       "      <td>Morbihan</td>\n",
       "      <td>56</td>\n",
       "      <td>Bretagne</td>\n",
       "      <td>53.0</td>\n",
       "      <td>4</td>\n",
       "      <td>2013</td>\n",
       "    </tr>\n",
       "  </tbody>\n",
       "</table>\n",
       "<p>5 rows × 83 columns</p>\n",
       "</div>"
      ],
      "text/plain": [
       "   ID OMM station                       Date  Pression au niveau mer  \\\n",
       "0           81405  2013-04-03T17:00:00+02:00                101460.0   \n",
       "1            7027  2013-04-03T20:00:00+02:00                101180.0   \n",
       "2            7181  2013-04-03T20:00:00+02:00                100890.0   \n",
       "3            7747  2013-04-03T20:00:00+02:00                100350.0   \n",
       "4            7207  2013-04-03T23:00:00+02:00                100950.0   \n",
       "\n",
       "   Variation de pression en 3 heures Type de tendance barométrique  \\\n",
       "0                                NaN                           NaN   \n",
       "1                              -40.0                             7   \n",
       "2                               20.0                             3   \n",
       "3                             -100.0                             6   \n",
       "4                              100.0                             1   \n",
       "\n",
       "   Direction du vent moyen 10 mn  Vitesse du vent moyen 10 mn  Température  \\\n",
       "0                           40.0                          7.2       302.75   \n",
       "1                           20.0                          5.7       277.15   \n",
       "2                           70.0                          7.7       278.25   \n",
       "3                          170.0                          1.5       286.75   \n",
       "4                           30.0                         10.3       276.95   \n",
       "\n",
       "   Point de rosée  Humidité  ...          communes (name) communes (code)  \\\n",
       "0          293.85      59.0  ...                  Matoury           97307   \n",
       "1          272.75      73.0  ...                Carpiquet           14137   \n",
       "2          271.15      60.0  ...  Thuilley-aux-Groseilles           54523   \n",
       "3          281.95      73.0  ...                Perpignan           66136   \n",
       "4          271.75      69.0  ...                   Bangor           56009   \n",
       "\n",
       "                                EPCI (name)  EPCI (code)    department (name)  \\\n",
       "0                     CA du Centre Littoral  249730045.0               Guyane   \n",
       "1                            CU Caen la Mer  200065597.0             Calvados   \n",
       "2  CC du Pays de Colombey et du Sud Toulois  245400510.0   Meurthe-et-Moselle   \n",
       "3       CU Perpignan Méditerranée Métropole  200027183.0  Pyrénées-Orientales   \n",
       "4                    CC de Belle Ile en Mer  245600465.0             Morbihan   \n",
       "\n",
       "   department (code)  region (name)  region (code)  mois_de_l_annee  Year  \n",
       "0                973         Guyane            3.0                4  2013  \n",
       "1                 14      Normandie           28.0                4  2013  \n",
       "2                 54      Grand Est           44.0                4  2013  \n",
       "3                 66      Occitanie           76.0                4  2013  \n",
       "4                 56       Bretagne           53.0                4  2013  \n",
       "\n",
       "[5 rows x 83 columns]"
      ]
     },
     "execution_count": 22,
     "metadata": {},
     "output_type": "execute_result"
    }
   ],
   "source": [
    "df_100k.head()"
   ]
  },
  {
   "cell_type": "markdown",
   "id": "7408a88b",
   "metadata": {},
   "source": [
    "# Clean"
   ]
  },
  {
   "cell_type": "code",
   "execution_count": 25,
   "id": "ec12ea7c",
   "metadata": {
    "ExecuteTime": {
     "end_time": "2022-03-01T10:07:18.510800Z",
     "start_time": "2022-03-01T10:07:18.424261Z"
    }
   },
   "outputs": [],
   "source": [
    "df_100k['Year'] = df_100k['Date'].str[:4]\n",
    "df_100k['Month'] = df_100k['Date'].str[5:7]\n",
    "df_100k['Day'] = df_100k['Date'].str[8:10]\n",
    "df_100k['Hour'] = df_100k['Date'].str[11:13]"
   ]
  },
  {
   "cell_type": "code",
   "execution_count": 39,
   "id": "aa5af282",
   "metadata": {
    "ExecuteTime": {
     "end_time": "2022-03-01T10:30:00.165844Z",
     "start_time": "2022-03-01T10:30:00.137320Z"
    }
   },
   "outputs": [],
   "source": [
    "df_100k['DateClean'] = pd.to_datetime(df_100k['Year']+df_100k['Month']+df_100k['Day'])"
   ]
  },
  {
   "cell_type": "code",
   "execution_count": 40,
   "id": "0d73c074",
   "metadata": {
    "ExecuteTime": {
     "end_time": "2022-03-01T10:30:03.654622Z",
     "start_time": "2022-03-01T10:30:03.648688Z"
    }
   },
   "outputs": [],
   "source": [
    "df_7027 = df_100k[df_100k['ID OMM station']==7027]"
   ]
  },
  {
   "cell_type": "markdown",
   "id": "1aa6fe3e",
   "metadata": {},
   "source": [
    "# Dpts"
   ]
  },
  {
   "cell_type": "code",
   "execution_count": 107,
   "id": "001d2832",
   "metadata": {
    "ExecuteTime": {
     "end_time": "2022-03-01T11:37:18.157697Z",
     "start_time": "2022-03-01T11:37:17.958330Z"
    },
    "scrolled": true
   },
   "outputs": [],
   "source": [
    "df_dpts = pd.read_excel(\"../raw_data/Meteo/Classement_Departement.xlsx\")"
   ]
  },
  {
   "cell_type": "code",
   "execution_count": 108,
   "id": "f96b95d7",
   "metadata": {
    "ExecuteTime": {
     "end_time": "2022-03-01T11:37:18.220114Z",
     "start_time": "2022-03-01T11:37:18.215966Z"
    }
   },
   "outputs": [],
   "source": [
    "df_dpts = df_dpts.dropna()"
   ]
  },
  {
   "cell_type": "code",
   "execution_count": 109,
   "id": "697e0edd",
   "metadata": {
    "ExecuteTime": {
     "end_time": "2022-03-01T11:37:18.347378Z",
     "start_time": "2022-03-01T11:37:18.339237Z"
    }
   },
   "outputs": [
    {
     "data": {
      "text/html": [
       "<div>\n",
       "<style scoped>\n",
       "    .dataframe tbody tr th:only-of-type {\n",
       "        vertical-align: middle;\n",
       "    }\n",
       "\n",
       "    .dataframe tbody tr th {\n",
       "        vertical-align: top;\n",
       "    }\n",
       "\n",
       "    .dataframe thead th {\n",
       "        text-align: right;\n",
       "    }\n",
       "</style>\n",
       "<table border=\"1\" class=\"dataframe\">\n",
       "  <thead>\n",
       "    <tr style=\"text-align: right;\">\n",
       "      <th></th>\n",
       "      <th>Departement</th>\n",
       "      <th>Production</th>\n",
       "      <th>Part Cumul</th>\n",
       "      <th>ID OMM station</th>\n",
       "    </tr>\n",
       "  </thead>\n",
       "  <tbody>\n",
       "    <tr>\n",
       "      <th>0</th>\n",
       "      <td>80 - Somme</td>\n",
       "      <td>1682.43880</td>\n",
       "      <td>0.111671</td>\n",
       "      <td>7005.0</td>\n",
       "    </tr>\n",
       "    <tr>\n",
       "      <th>1</th>\n",
       "      <td>51 - Marne</td>\n",
       "      <td>1416.11300</td>\n",
       "      <td>0.205665</td>\n",
       "      <td>7072.0</td>\n",
       "    </tr>\n",
       "    <tr>\n",
       "      <th>2</th>\n",
       "      <td>59 - Nord</td>\n",
       "      <td>1034.29740</td>\n",
       "      <td>0.274316</td>\n",
       "      <td>7015.0</td>\n",
       "    </tr>\n",
       "    <tr>\n",
       "      <th>3</th>\n",
       "      <td>76 - Seine-Maritime</td>\n",
       "      <td>1011.94720</td>\n",
       "      <td>0.341483</td>\n",
       "      <td>7037.0</td>\n",
       "    </tr>\n",
       "    <tr>\n",
       "      <th>4</th>\n",
       "      <td>10 - Aube</td>\n",
       "      <td>847.57400</td>\n",
       "      <td>0.397741</td>\n",
       "      <td>7168.0</td>\n",
       "    </tr>\n",
       "    <tr>\n",
       "      <th>5</th>\n",
       "      <td>86 - Vienne</td>\n",
       "      <td>822.28150</td>\n",
       "      <td>0.452319</td>\n",
       "      <td>7335.0</td>\n",
       "    </tr>\n",
       "    <tr>\n",
       "      <th>6</th>\n",
       "      <td>37 - Indre-et-Loire</td>\n",
       "      <td>672.49306</td>\n",
       "      <td>0.496956</td>\n",
       "      <td>7240.0</td>\n",
       "    </tr>\n",
       "    <tr>\n",
       "      <th>7</th>\n",
       "      <td>35 - Ille-et-Vilaine</td>\n",
       "      <td>663.43710</td>\n",
       "      <td>0.540991</td>\n",
       "      <td>7130.0</td>\n",
       "    </tr>\n",
       "    <tr>\n",
       "      <th>8</th>\n",
       "      <td>21 - Côte-d'Or</td>\n",
       "      <td>648.13320</td>\n",
       "      <td>0.584010</td>\n",
       "      <td>7280.0</td>\n",
       "    </tr>\n",
       "    <tr>\n",
       "      <th>9</th>\n",
       "      <td>22 - Côtes-d'Armor</td>\n",
       "      <td>646.42780</td>\n",
       "      <td>0.626917</td>\n",
       "      <td>7117.0</td>\n",
       "    </tr>\n",
       "    <tr>\n",
       "      <th>10</th>\n",
       "      <td>14 - Calvados</td>\n",
       "      <td>637.06600</td>\n",
       "      <td>0.669202</td>\n",
       "      <td>7027.0</td>\n",
       "    </tr>\n",
       "    <tr>\n",
       "      <th>11</th>\n",
       "      <td>18 - Cher</td>\n",
       "      <td>630.66270</td>\n",
       "      <td>0.711062</td>\n",
       "      <td>7255.0</td>\n",
       "    </tr>\n",
       "    <tr>\n",
       "      <th>12</th>\n",
       "      <td>61 - Orne</td>\n",
       "      <td>563.70340</td>\n",
       "      <td>0.748477</td>\n",
       "      <td>7139.0</td>\n",
       "    </tr>\n",
       "    <tr>\n",
       "      <th>13</th>\n",
       "      <td>17 - Charente-Maritime</td>\n",
       "      <td>536.19142</td>\n",
       "      <td>0.784067</td>\n",
       "      <td>7314.0</td>\n",
       "    </tr>\n",
       "    <tr>\n",
       "      <th>14</th>\n",
       "      <td>56 - Morbihan</td>\n",
       "      <td>437.45800</td>\n",
       "      <td>0.813103</td>\n",
       "      <td>7207.0</td>\n",
       "    </tr>\n",
       "    <tr>\n",
       "      <th>15</th>\n",
       "      <td>54 - Meurthe-et-Moselle</td>\n",
       "      <td>434.76660</td>\n",
       "      <td>0.841960</td>\n",
       "      <td>7181.0</td>\n",
       "    </tr>\n",
       "    <tr>\n",
       "      <th>16</th>\n",
       "      <td>29 - Finistère</td>\n",
       "      <td>354.58160</td>\n",
       "      <td>0.865495</td>\n",
       "      <td>7110.0</td>\n",
       "    </tr>\n",
       "    <tr>\n",
       "      <th>17</th>\n",
       "      <td>44 - Loire-Atlantique</td>\n",
       "      <td>350.40102</td>\n",
       "      <td>0.888753</td>\n",
       "      <td>7222.0</td>\n",
       "    </tr>\n",
       "    <tr>\n",
       "      <th>18</th>\n",
       "      <td>50 - Manche</td>\n",
       "      <td>286.44300</td>\n",
       "      <td>0.907765</td>\n",
       "      <td>7020.0</td>\n",
       "    </tr>\n",
       "    <tr>\n",
       "      <th>19</th>\n",
       "      <td>63 - Puy-de-Dôme</td>\n",
       "      <td>238.64230</td>\n",
       "      <td>0.923605</td>\n",
       "      <td>7460.0</td>\n",
       "    </tr>\n",
       "    <tr>\n",
       "      <th>20</th>\n",
       "      <td>67 - Bas-Rhin</td>\n",
       "      <td>238.32244</td>\n",
       "      <td>0.939424</td>\n",
       "      <td>7190.0</td>\n",
       "    </tr>\n",
       "    <tr>\n",
       "      <th>21</th>\n",
       "      <td>31 - Haute-Garonne</td>\n",
       "      <td>235.35780</td>\n",
       "      <td>0.955045</td>\n",
       "      <td>7630.0</td>\n",
       "    </tr>\n",
       "  </tbody>\n",
       "</table>\n",
       "</div>"
      ],
      "text/plain": [
       "                Departement  Production  Part Cumul  ID OMM station\n",
       "0                80 - Somme  1682.43880    0.111671          7005.0\n",
       "1                51 - Marne  1416.11300    0.205665          7072.0\n",
       "2                 59 - Nord  1034.29740    0.274316          7015.0\n",
       "3       76 - Seine-Maritime  1011.94720    0.341483          7037.0\n",
       "4                 10 - Aube   847.57400    0.397741          7168.0\n",
       "5               86 - Vienne   822.28150    0.452319          7335.0\n",
       "6       37 - Indre-et-Loire   672.49306    0.496956          7240.0\n",
       "7      35 - Ille-et-Vilaine   663.43710    0.540991          7130.0\n",
       "8            21 - Côte-d'Or   648.13320    0.584010          7280.0\n",
       "9        22 - Côtes-d'Armor   646.42780    0.626917          7117.0\n",
       "10            14 - Calvados   637.06600    0.669202          7027.0\n",
       "11                18 - Cher   630.66270    0.711062          7255.0\n",
       "12                61 - Orne   563.70340    0.748477          7139.0\n",
       "13   17 - Charente-Maritime   536.19142    0.784067          7314.0\n",
       "14            56 - Morbihan   437.45800    0.813103          7207.0\n",
       "15  54 - Meurthe-et-Moselle   434.76660    0.841960          7181.0\n",
       "16           29 - Finistère   354.58160    0.865495          7110.0\n",
       "17    44 - Loire-Atlantique   350.40102    0.888753          7222.0\n",
       "18              50 - Manche   286.44300    0.907765          7020.0\n",
       "19         63 - Puy-de-Dôme   238.64230    0.923605          7460.0\n",
       "20            67 - Bas-Rhin   238.32244    0.939424          7190.0\n",
       "21       31 - Haute-Garonne   235.35780    0.955045          7630.0"
      ]
     },
     "execution_count": 109,
     "metadata": {},
     "output_type": "execute_result"
    }
   ],
   "source": [
    "df_dpts"
   ]
  },
  {
   "cell_type": "code",
   "execution_count": 110,
   "id": "fe14b70d",
   "metadata": {
    "ExecuteTime": {
     "end_time": "2022-03-01T11:37:18.554462Z",
     "start_time": "2022-03-01T11:37:18.551152Z"
    },
    "scrolled": false
   },
   "outputs": [],
   "source": [
    "df_dpts['ID OMM station'] = df_dpts['ID OMM station'].astype(\"int\")"
   ]
  },
  {
   "cell_type": "code",
   "execution_count": 111,
   "id": "56a08e5f",
   "metadata": {
    "ExecuteTime": {
     "end_time": "2022-03-01T11:37:19.210147Z",
     "start_time": "2022-03-01T11:37:19.203569Z"
    }
   },
   "outputs": [
    {
     "data": {
      "text/html": [
       "<div>\n",
       "<style scoped>\n",
       "    .dataframe tbody tr th:only-of-type {\n",
       "        vertical-align: middle;\n",
       "    }\n",
       "\n",
       "    .dataframe tbody tr th {\n",
       "        vertical-align: top;\n",
       "    }\n",
       "\n",
       "    .dataframe thead th {\n",
       "        text-align: right;\n",
       "    }\n",
       "</style>\n",
       "<table border=\"1\" class=\"dataframe\">\n",
       "  <thead>\n",
       "    <tr style=\"text-align: right;\">\n",
       "      <th></th>\n",
       "      <th>Departement</th>\n",
       "      <th>Production</th>\n",
       "      <th>Part Cumul</th>\n",
       "      <th>ID OMM station</th>\n",
       "    </tr>\n",
       "  </thead>\n",
       "  <tbody>\n",
       "    <tr>\n",
       "      <th>0</th>\n",
       "      <td>80 - Somme</td>\n",
       "      <td>1682.43880</td>\n",
       "      <td>0.111671</td>\n",
       "      <td>7005</td>\n",
       "    </tr>\n",
       "    <tr>\n",
       "      <th>1</th>\n",
       "      <td>51 - Marne</td>\n",
       "      <td>1416.11300</td>\n",
       "      <td>0.205665</td>\n",
       "      <td>7072</td>\n",
       "    </tr>\n",
       "    <tr>\n",
       "      <th>2</th>\n",
       "      <td>59 - Nord</td>\n",
       "      <td>1034.29740</td>\n",
       "      <td>0.274316</td>\n",
       "      <td>7015</td>\n",
       "    </tr>\n",
       "    <tr>\n",
       "      <th>3</th>\n",
       "      <td>76 - Seine-Maritime</td>\n",
       "      <td>1011.94720</td>\n",
       "      <td>0.341483</td>\n",
       "      <td>7037</td>\n",
       "    </tr>\n",
       "    <tr>\n",
       "      <th>4</th>\n",
       "      <td>10 - Aube</td>\n",
       "      <td>847.57400</td>\n",
       "      <td>0.397741</td>\n",
       "      <td>7168</td>\n",
       "    </tr>\n",
       "    <tr>\n",
       "      <th>5</th>\n",
       "      <td>86 - Vienne</td>\n",
       "      <td>822.28150</td>\n",
       "      <td>0.452319</td>\n",
       "      <td>7335</td>\n",
       "    </tr>\n",
       "    <tr>\n",
       "      <th>6</th>\n",
       "      <td>37 - Indre-et-Loire</td>\n",
       "      <td>672.49306</td>\n",
       "      <td>0.496956</td>\n",
       "      <td>7240</td>\n",
       "    </tr>\n",
       "    <tr>\n",
       "      <th>7</th>\n",
       "      <td>35 - Ille-et-Vilaine</td>\n",
       "      <td>663.43710</td>\n",
       "      <td>0.540991</td>\n",
       "      <td>7130</td>\n",
       "    </tr>\n",
       "    <tr>\n",
       "      <th>8</th>\n",
       "      <td>21 - Côte-d'Or</td>\n",
       "      <td>648.13320</td>\n",
       "      <td>0.584010</td>\n",
       "      <td>7280</td>\n",
       "    </tr>\n",
       "    <tr>\n",
       "      <th>9</th>\n",
       "      <td>22 - Côtes-d'Armor</td>\n",
       "      <td>646.42780</td>\n",
       "      <td>0.626917</td>\n",
       "      <td>7117</td>\n",
       "    </tr>\n",
       "    <tr>\n",
       "      <th>10</th>\n",
       "      <td>14 - Calvados</td>\n",
       "      <td>637.06600</td>\n",
       "      <td>0.669202</td>\n",
       "      <td>7027</td>\n",
       "    </tr>\n",
       "    <tr>\n",
       "      <th>11</th>\n",
       "      <td>18 - Cher</td>\n",
       "      <td>630.66270</td>\n",
       "      <td>0.711062</td>\n",
       "      <td>7255</td>\n",
       "    </tr>\n",
       "    <tr>\n",
       "      <th>12</th>\n",
       "      <td>61 - Orne</td>\n",
       "      <td>563.70340</td>\n",
       "      <td>0.748477</td>\n",
       "      <td>7139</td>\n",
       "    </tr>\n",
       "    <tr>\n",
       "      <th>13</th>\n",
       "      <td>17 - Charente-Maritime</td>\n",
       "      <td>536.19142</td>\n",
       "      <td>0.784067</td>\n",
       "      <td>7314</td>\n",
       "    </tr>\n",
       "    <tr>\n",
       "      <th>14</th>\n",
       "      <td>56 - Morbihan</td>\n",
       "      <td>437.45800</td>\n",
       "      <td>0.813103</td>\n",
       "      <td>7207</td>\n",
       "    </tr>\n",
       "    <tr>\n",
       "      <th>15</th>\n",
       "      <td>54 - Meurthe-et-Moselle</td>\n",
       "      <td>434.76660</td>\n",
       "      <td>0.841960</td>\n",
       "      <td>7181</td>\n",
       "    </tr>\n",
       "    <tr>\n",
       "      <th>16</th>\n",
       "      <td>29 - Finistère</td>\n",
       "      <td>354.58160</td>\n",
       "      <td>0.865495</td>\n",
       "      <td>7110</td>\n",
       "    </tr>\n",
       "    <tr>\n",
       "      <th>17</th>\n",
       "      <td>44 - Loire-Atlantique</td>\n",
       "      <td>350.40102</td>\n",
       "      <td>0.888753</td>\n",
       "      <td>7222</td>\n",
       "    </tr>\n",
       "    <tr>\n",
       "      <th>18</th>\n",
       "      <td>50 - Manche</td>\n",
       "      <td>286.44300</td>\n",
       "      <td>0.907765</td>\n",
       "      <td>7020</td>\n",
       "    </tr>\n",
       "    <tr>\n",
       "      <th>19</th>\n",
       "      <td>63 - Puy-de-Dôme</td>\n",
       "      <td>238.64230</td>\n",
       "      <td>0.923605</td>\n",
       "      <td>7460</td>\n",
       "    </tr>\n",
       "    <tr>\n",
       "      <th>20</th>\n",
       "      <td>67 - Bas-Rhin</td>\n",
       "      <td>238.32244</td>\n",
       "      <td>0.939424</td>\n",
       "      <td>7190</td>\n",
       "    </tr>\n",
       "    <tr>\n",
       "      <th>21</th>\n",
       "      <td>31 - Haute-Garonne</td>\n",
       "      <td>235.35780</td>\n",
       "      <td>0.955045</td>\n",
       "      <td>7630</td>\n",
       "    </tr>\n",
       "  </tbody>\n",
       "</table>\n",
       "</div>"
      ],
      "text/plain": [
       "                Departement  Production  Part Cumul  ID OMM station\n",
       "0                80 - Somme  1682.43880    0.111671            7005\n",
       "1                51 - Marne  1416.11300    0.205665            7072\n",
       "2                 59 - Nord  1034.29740    0.274316            7015\n",
       "3       76 - Seine-Maritime  1011.94720    0.341483            7037\n",
       "4                 10 - Aube   847.57400    0.397741            7168\n",
       "5               86 - Vienne   822.28150    0.452319            7335\n",
       "6       37 - Indre-et-Loire   672.49306    0.496956            7240\n",
       "7      35 - Ille-et-Vilaine   663.43710    0.540991            7130\n",
       "8            21 - Côte-d'Or   648.13320    0.584010            7280\n",
       "9        22 - Côtes-d'Armor   646.42780    0.626917            7117\n",
       "10            14 - Calvados   637.06600    0.669202            7027\n",
       "11                18 - Cher   630.66270    0.711062            7255\n",
       "12                61 - Orne   563.70340    0.748477            7139\n",
       "13   17 - Charente-Maritime   536.19142    0.784067            7314\n",
       "14            56 - Morbihan   437.45800    0.813103            7207\n",
       "15  54 - Meurthe-et-Moselle   434.76660    0.841960            7181\n",
       "16           29 - Finistère   354.58160    0.865495            7110\n",
       "17    44 - Loire-Atlantique   350.40102    0.888753            7222\n",
       "18              50 - Manche   286.44300    0.907765            7020\n",
       "19         63 - Puy-de-Dôme   238.64230    0.923605            7460\n",
       "20            67 - Bas-Rhin   238.32244    0.939424            7190\n",
       "21       31 - Haute-Garonne   235.35780    0.955045            7630"
      ]
     },
     "execution_count": 111,
     "metadata": {},
     "output_type": "execute_result"
    }
   ],
   "source": [
    "df_dpts"
   ]
  },
  {
   "cell_type": "code",
   "execution_count": 115,
   "id": "e3a6d32e",
   "metadata": {
    "ExecuteTime": {
     "end_time": "2022-03-01T11:37:46.711738Z",
     "start_time": "2022-03-01T11:37:46.482592Z"
    }
   },
   "outputs": [],
   "source": [
    "df_100k_clean = df_100k.merge(df_dpts, on=\"ID OMM station\", how=\"inner\")"
   ]
  },
  {
   "cell_type": "markdown",
   "id": "bb20bb59",
   "metadata": {},
   "source": [
    "# Explore"
   ]
  },
  {
   "cell_type": "code",
   "execution_count": 121,
   "id": "eba936c9",
   "metadata": {
    "ExecuteTime": {
     "end_time": "2022-03-01T11:40:08.920346Z",
     "start_time": "2022-03-01T11:40:08.917075Z"
    },
    "scrolled": true
   },
   "outputs": [
    {
     "data": {
      "text/plain": [
       "12495"
      ]
     },
     "execution_count": 121,
     "metadata": {},
     "output_type": "execute_result"
    }
   ],
   "source": [
    "df_100k_clean['Etat du sol'].count()"
   ]
  },
  {
   "cell_type": "code",
   "execution_count": 123,
   "id": "99e4a620",
   "metadata": {
    "ExecuteTime": {
     "end_time": "2022-03-01T11:40:38.199900Z",
     "start_time": "2022-03-01T11:40:38.123157Z"
    },
    "scrolled": true
   },
   "outputs": [
    {
     "data": {
      "text/plain": [
       "DateClean   ID OMM station\n",
       "2010-01-01  7020              0.0\n",
       "            7027              0.0\n",
       "            7117              0.0\n",
       "            7130              0.0\n",
       "            7139              0.0\n",
       "                             ... \n",
       "2018-05-31  7168              0.0\n",
       "            7181              0.0\n",
       "            7255              0.0\n",
       "            7335              0.0\n",
       "            7460              0.0\n",
       "Name: Etat du sol, Length: 29263, dtype: float64"
      ]
     },
     "execution_count": 123,
     "metadata": {},
     "output_type": "execute_result"
    }
   ],
   "source": [
    "df_100k_clean.groupby([\"DateClean\", \"ID OMM station\"]).sum()['Etat du sol']"
   ]
  },
  {
   "cell_type": "code",
   "execution_count": null,
   "id": "128e6acc",
   "metadata": {},
   "outputs": [],
   "source": []
  },
  {
   "cell_type": "code",
   "execution_count": 126,
   "id": "e2810145",
   "metadata": {
    "ExecuteTime": {
     "end_time": "2022-03-01T11:41:40.244249Z",
     "start_time": "2022-03-01T11:41:40.185524Z"
    }
   },
   "outputs": [
    {
     "data": {
      "text/plain": [
       "ID OMM station\n",
       "7015    820\n",
       "7460    804\n",
       "7240    779\n",
       "7222    774\n",
       "7110    767\n",
       "7280    766\n",
       "7190    738\n",
       "7335    730\n",
       "7027    727\n",
       "7139    723\n",
       "7630    709\n",
       "7168    705\n",
       "7130    637\n",
       "7005    615\n",
       "7072    601\n",
       "7314    551\n",
       "7255    336\n",
       "7117    307\n",
       "7037    278\n",
       "7207     67\n",
       "7181     43\n",
       "7020     18\n",
       "Name: Etat du sol, dtype: int64"
      ]
     },
     "execution_count": 126,
     "metadata": {},
     "output_type": "execute_result"
    }
   ],
   "source": [
    "df_100k_clean.groupby(\"ID OMM station\").count()[\"Etat du sol\"].sort_values(ascending=False)"
   ]
  },
  {
   "cell_type": "code",
   "execution_count": 124,
   "id": "9679e4e0",
   "metadata": {
    "ExecuteTime": {
     "end_time": "2022-03-01T11:40:50.622398Z",
     "start_time": "2022-03-01T11:40:50.619184Z"
    }
   },
   "outputs": [
    {
     "data": {
      "text/plain": [
       "2.3419767907162865"
      ]
     },
     "execution_count": 124,
     "metadata": {},
     "output_type": "execute_result"
    }
   ],
   "source": [
    "29263/12495"
   ]
  },
  {
   "cell_type": "code",
   "execution_count": 54,
   "id": "6c4939b0",
   "metadata": {
    "ExecuteTime": {
     "end_time": "2022-03-01T10:38:35.460584Z",
     "start_time": "2022-03-01T10:38:35.436614Z"
    },
    "scrolled": true
   },
   "outputs": [
    {
     "data": {
      "text/html": [
       "<div>\n",
       "<style scoped>\n",
       "    .dataframe tbody tr th:only-of-type {\n",
       "        vertical-align: middle;\n",
       "    }\n",
       "\n",
       "    .dataframe tbody tr th {\n",
       "        vertical-align: top;\n",
       "    }\n",
       "\n",
       "    .dataframe thead th {\n",
       "        text-align: right;\n",
       "    }\n",
       "</style>\n",
       "<table border=\"1\" class=\"dataframe\">\n",
       "  <thead>\n",
       "    <tr style=\"text-align: right;\">\n",
       "      <th></th>\n",
       "      <th>ID OMM station</th>\n",
       "      <th>Date</th>\n",
       "      <th>Pression au niveau mer</th>\n",
       "      <th>Variation de pression en 3 heures</th>\n",
       "      <th>Type de tendance barométrique</th>\n",
       "      <th>Direction du vent moyen 10 mn</th>\n",
       "      <th>Vitesse du vent moyen 10 mn</th>\n",
       "      <th>Température</th>\n",
       "      <th>Point de rosée</th>\n",
       "      <th>Humidité</th>\n",
       "      <th>...</th>\n",
       "      <th>department (name)</th>\n",
       "      <th>department (code)</th>\n",
       "      <th>region (name)</th>\n",
       "      <th>region (code)</th>\n",
       "      <th>mois_de_l_annee</th>\n",
       "      <th>Year</th>\n",
       "      <th>Month</th>\n",
       "      <th>Day</th>\n",
       "      <th>Hour</th>\n",
       "      <th>DateClean</th>\n",
       "    </tr>\n",
       "  </thead>\n",
       "  <tbody>\n",
       "    <tr>\n",
       "      <th>49579</th>\n",
       "      <td>7747</td>\n",
       "      <td>2010-01-01T19:00:00+01:00</td>\n",
       "      <td>100570.0</td>\n",
       "      <td>310.0</td>\n",
       "      <td>En hausse, puis stationnaire, ou en hausse, pu...</td>\n",
       "      <td>310.0</td>\n",
       "      <td>8.2</td>\n",
       "      <td>283.85</td>\n",
       "      <td>275.15</td>\n",
       "      <td>55.0</td>\n",
       "      <td>...</td>\n",
       "      <td>Pyrénées-Orientales</td>\n",
       "      <td>66</td>\n",
       "      <td>Occitanie</td>\n",
       "      <td>76.0</td>\n",
       "      <td>1</td>\n",
       "      <td>2010</td>\n",
       "      <td>01</td>\n",
       "      <td>01</td>\n",
       "      <td>19</td>\n",
       "      <td>2010-01-01</td>\n",
       "    </tr>\n",
       "    <tr>\n",
       "      <th>49560</th>\n",
       "      <td>7747</td>\n",
       "      <td>2010-01-01T01:00:00+01:00</td>\n",
       "      <td>99140.0</td>\n",
       "      <td>-40.0</td>\n",
       "      <td>5</td>\n",
       "      <td>310.0</td>\n",
       "      <td>5.7</td>\n",
       "      <td>283.65</td>\n",
       "      <td>279.55</td>\n",
       "      <td>76.0</td>\n",
       "      <td>...</td>\n",
       "      <td>Pyrénées-Orientales</td>\n",
       "      <td>66</td>\n",
       "      <td>Occitanie</td>\n",
       "      <td>76.0</td>\n",
       "      <td>1</td>\n",
       "      <td>2010</td>\n",
       "      <td>01</td>\n",
       "      <td>01</td>\n",
       "      <td>01</td>\n",
       "      <td>2010-01-01</td>\n",
       "    </tr>\n",
       "    <tr>\n",
       "      <th>21750</th>\n",
       "      <td>7747</td>\n",
       "      <td>2010-01-01T10:00:00+01:00</td>\n",
       "      <td>99580.0</td>\n",
       "      <td>280.0</td>\n",
       "      <td>En hausse</td>\n",
       "      <td>300.0</td>\n",
       "      <td>11.8</td>\n",
       "      <td>285.15</td>\n",
       "      <td>271.65</td>\n",
       "      <td>39.0</td>\n",
       "      <td>...</td>\n",
       "      <td>Pyrénées-Orientales</td>\n",
       "      <td>66</td>\n",
       "      <td>Occitanie</td>\n",
       "      <td>76.0</td>\n",
       "      <td>1</td>\n",
       "      <td>2010</td>\n",
       "      <td>01</td>\n",
       "      <td>01</td>\n",
       "      <td>10</td>\n",
       "      <td>2010-01-01</td>\n",
       "    </tr>\n",
       "    <tr>\n",
       "      <th>49621</th>\n",
       "      <td>7747</td>\n",
       "      <td>2010-01-03T16:00:00+01:00</td>\n",
       "      <td>101750.0</td>\n",
       "      <td>-120.0</td>\n",
       "      <td>5</td>\n",
       "      <td>20.0</td>\n",
       "      <td>3.6</td>\n",
       "      <td>279.55</td>\n",
       "      <td>274.65</td>\n",
       "      <td>71.0</td>\n",
       "      <td>...</td>\n",
       "      <td>Pyrénées-Orientales</td>\n",
       "      <td>66</td>\n",
       "      <td>Occitanie</td>\n",
       "      <td>76.0</td>\n",
       "      <td>1</td>\n",
       "      <td>2010</td>\n",
       "      <td>01</td>\n",
       "      <td>03</td>\n",
       "      <td>16</td>\n",
       "      <td>2010-01-03</td>\n",
       "    </tr>\n",
       "    <tr>\n",
       "      <th>49544</th>\n",
       "      <td>7747</td>\n",
       "      <td>2010-01-04T10:00:00+01:00</td>\n",
       "      <td>101360.0</td>\n",
       "      <td>50.0</td>\n",
       "      <td>En hausse, puis stationnaire, ou en hausse, pu...</td>\n",
       "      <td>330.0</td>\n",
       "      <td>1.0</td>\n",
       "      <td>277.85</td>\n",
       "      <td>274.85</td>\n",
       "      <td>81.0</td>\n",
       "      <td>...</td>\n",
       "      <td>Pyrénées-Orientales</td>\n",
       "      <td>66</td>\n",
       "      <td>Occitanie</td>\n",
       "      <td>76.0</td>\n",
       "      <td>1</td>\n",
       "      <td>2010</td>\n",
       "      <td>01</td>\n",
       "      <td>04</td>\n",
       "      <td>10</td>\n",
       "      <td>2010-01-04</td>\n",
       "    </tr>\n",
       "    <tr>\n",
       "      <th>...</th>\n",
       "      <td>...</td>\n",
       "      <td>...</td>\n",
       "      <td>...</td>\n",
       "      <td>...</td>\n",
       "      <td>...</td>\n",
       "      <td>...</td>\n",
       "      <td>...</td>\n",
       "      <td>...</td>\n",
       "      <td>...</td>\n",
       "      <td>...</td>\n",
       "      <td>...</td>\n",
       "      <td>...</td>\n",
       "      <td>...</td>\n",
       "      <td>...</td>\n",
       "      <td>...</td>\n",
       "      <td>...</td>\n",
       "      <td>...</td>\n",
       "      <td>...</td>\n",
       "      <td>...</td>\n",
       "      <td>...</td>\n",
       "      <td>...</td>\n",
       "    </tr>\n",
       "    <tr>\n",
       "      <th>34330</th>\n",
       "      <td>7747</td>\n",
       "      <td>2018-05-25T23:00:00+02:00</td>\n",
       "      <td>101510.0</td>\n",
       "      <td>90.0</td>\n",
       "      <td>3</td>\n",
       "      <td>80.0</td>\n",
       "      <td>2.2</td>\n",
       "      <td>291.95</td>\n",
       "      <td>286.15</td>\n",
       "      <td>69.0</td>\n",
       "      <td>...</td>\n",
       "      <td>Pyrénées-Orientales</td>\n",
       "      <td>66</td>\n",
       "      <td>Occitanie</td>\n",
       "      <td>76.0</td>\n",
       "      <td>5</td>\n",
       "      <td>2018</td>\n",
       "      <td>05</td>\n",
       "      <td>25</td>\n",
       "      <td>23</td>\n",
       "      <td>2018-05-25</td>\n",
       "    </tr>\n",
       "    <tr>\n",
       "      <th>34246</th>\n",
       "      <td>7747</td>\n",
       "      <td>2018-05-28T11:00:00+02:00</td>\n",
       "      <td>101330.0</td>\n",
       "      <td>60.0</td>\n",
       "      <td>0</td>\n",
       "      <td>330.0</td>\n",
       "      <td>3.2</td>\n",
       "      <td>291.95</td>\n",
       "      <td>289.15</td>\n",
       "      <td>84.0</td>\n",
       "      <td>...</td>\n",
       "      <td>Pyrénées-Orientales</td>\n",
       "      <td>66</td>\n",
       "      <td>Occitanie</td>\n",
       "      <td>76.0</td>\n",
       "      <td>5</td>\n",
       "      <td>2018</td>\n",
       "      <td>05</td>\n",
       "      <td>28</td>\n",
       "      <td>11</td>\n",
       "      <td>2018-05-28</td>\n",
       "    </tr>\n",
       "    <tr>\n",
       "      <th>81077</th>\n",
       "      <td>7747</td>\n",
       "      <td>2018-05-28T08:00:00+02:00</td>\n",
       "      <td>101270.0</td>\n",
       "      <td>-20.0</td>\n",
       "      <td>Stationnaire ou en hausse, puis en baisse, ou ...</td>\n",
       "      <td>350.0</td>\n",
       "      <td>3.2</td>\n",
       "      <td>292.55</td>\n",
       "      <td>288.45</td>\n",
       "      <td>77.0</td>\n",
       "      <td>...</td>\n",
       "      <td>Pyrénées-Orientales</td>\n",
       "      <td>66</td>\n",
       "      <td>Occitanie</td>\n",
       "      <td>76.0</td>\n",
       "      <td>5</td>\n",
       "      <td>2018</td>\n",
       "      <td>05</td>\n",
       "      <td>28</td>\n",
       "      <td>08</td>\n",
       "      <td>2018-05-28</td>\n",
       "    </tr>\n",
       "    <tr>\n",
       "      <th>81121</th>\n",
       "      <td>7747</td>\n",
       "      <td>2018-05-31T17:00:00+02:00</td>\n",
       "      <td>101690.0</td>\n",
       "      <td>-30.0</td>\n",
       "      <td>6</td>\n",
       "      <td>120.0</td>\n",
       "      <td>4.7</td>\n",
       "      <td>296.55</td>\n",
       "      <td>288.05</td>\n",
       "      <td>59.0</td>\n",
       "      <td>...</td>\n",
       "      <td>Pyrénées-Orientales</td>\n",
       "      <td>66</td>\n",
       "      <td>Occitanie</td>\n",
       "      <td>76.0</td>\n",
       "      <td>5</td>\n",
       "      <td>2018</td>\n",
       "      <td>05</td>\n",
       "      <td>31</td>\n",
       "      <td>17</td>\n",
       "      <td>2018-05-31</td>\n",
       "    </tr>\n",
       "    <tr>\n",
       "      <th>34288</th>\n",
       "      <td>7747</td>\n",
       "      <td>2018-05-31T14:00:00+02:00</td>\n",
       "      <td>101720.0</td>\n",
       "      <td>0.0</td>\n",
       "      <td>0</td>\n",
       "      <td>270.0</td>\n",
       "      <td>3.0</td>\n",
       "      <td>297.05</td>\n",
       "      <td>285.65</td>\n",
       "      <td>49.0</td>\n",
       "      <td>...</td>\n",
       "      <td>Pyrénées-Orientales</td>\n",
       "      <td>66</td>\n",
       "      <td>Occitanie</td>\n",
       "      <td>76.0</td>\n",
       "      <td>5</td>\n",
       "      <td>2018</td>\n",
       "      <td>05</td>\n",
       "      <td>31</td>\n",
       "      <td>14</td>\n",
       "      <td>2018-05-31</td>\n",
       "    </tr>\n",
       "  </tbody>\n",
       "</table>\n",
       "<p>1777 rows × 87 columns</p>\n",
       "</div>"
      ],
      "text/plain": [
       "       ID OMM station                       Date  Pression au niveau mer  \\\n",
       "49579            7747  2010-01-01T19:00:00+01:00                100570.0   \n",
       "49560            7747  2010-01-01T01:00:00+01:00                 99140.0   \n",
       "21750            7747  2010-01-01T10:00:00+01:00                 99580.0   \n",
       "49621            7747  2010-01-03T16:00:00+01:00                101750.0   \n",
       "49544            7747  2010-01-04T10:00:00+01:00                101360.0   \n",
       "...               ...                        ...                     ...   \n",
       "34330            7747  2018-05-25T23:00:00+02:00                101510.0   \n",
       "34246            7747  2018-05-28T11:00:00+02:00                101330.0   \n",
       "81077            7747  2018-05-28T08:00:00+02:00                101270.0   \n",
       "81121            7747  2018-05-31T17:00:00+02:00                101690.0   \n",
       "34288            7747  2018-05-31T14:00:00+02:00                101720.0   \n",
       "\n",
       "       Variation de pression en 3 heures  \\\n",
       "49579                              310.0   \n",
       "49560                              -40.0   \n",
       "21750                              280.0   \n",
       "49621                             -120.0   \n",
       "49544                               50.0   \n",
       "...                                  ...   \n",
       "34330                               90.0   \n",
       "34246                               60.0   \n",
       "81077                              -20.0   \n",
       "81121                              -30.0   \n",
       "34288                                0.0   \n",
       "\n",
       "                           Type de tendance barométrique  \\\n",
       "49579  En hausse, puis stationnaire, ou en hausse, pu...   \n",
       "49560                                                  5   \n",
       "21750                                          En hausse   \n",
       "49621                                                  5   \n",
       "49544  En hausse, puis stationnaire, ou en hausse, pu...   \n",
       "...                                                  ...   \n",
       "34330                                                  3   \n",
       "34246                                                  0   \n",
       "81077  Stationnaire ou en hausse, puis en baisse, ou ...   \n",
       "81121                                                  6   \n",
       "34288                                                  0   \n",
       "\n",
       "       Direction du vent moyen 10 mn  Vitesse du vent moyen 10 mn  \\\n",
       "49579                          310.0                          8.2   \n",
       "49560                          310.0                          5.7   \n",
       "21750                          300.0                         11.8   \n",
       "49621                           20.0                          3.6   \n",
       "49544                          330.0                          1.0   \n",
       "...                              ...                          ...   \n",
       "34330                           80.0                          2.2   \n",
       "34246                          330.0                          3.2   \n",
       "81077                          350.0                          3.2   \n",
       "81121                          120.0                          4.7   \n",
       "34288                          270.0                          3.0   \n",
       "\n",
       "       Température  Point de rosée  Humidité  ...    department (name)  \\\n",
       "49579       283.85          275.15      55.0  ...  Pyrénées-Orientales   \n",
       "49560       283.65          279.55      76.0  ...  Pyrénées-Orientales   \n",
       "21750       285.15          271.65      39.0  ...  Pyrénées-Orientales   \n",
       "49621       279.55          274.65      71.0  ...  Pyrénées-Orientales   \n",
       "49544       277.85          274.85      81.0  ...  Pyrénées-Orientales   \n",
       "...            ...             ...       ...  ...                  ...   \n",
       "34330       291.95          286.15      69.0  ...  Pyrénées-Orientales   \n",
       "34246       291.95          289.15      84.0  ...  Pyrénées-Orientales   \n",
       "81077       292.55          288.45      77.0  ...  Pyrénées-Orientales   \n",
       "81121       296.55          288.05      59.0  ...  Pyrénées-Orientales   \n",
       "34288       297.05          285.65      49.0  ...  Pyrénées-Orientales   \n",
       "\n",
       "      department (code) region (name)  region (code)  mois_de_l_annee  Year  \\\n",
       "49579                66     Occitanie           76.0                1  2010   \n",
       "49560                66     Occitanie           76.0                1  2010   \n",
       "21750                66     Occitanie           76.0                1  2010   \n",
       "49621                66     Occitanie           76.0                1  2010   \n",
       "49544                66     Occitanie           76.0                1  2010   \n",
       "...                 ...           ...            ...              ...   ...   \n",
       "34330                66     Occitanie           76.0                5  2018   \n",
       "34246                66     Occitanie           76.0                5  2018   \n",
       "81077                66     Occitanie           76.0                5  2018   \n",
       "81121                66     Occitanie           76.0                5  2018   \n",
       "34288                66     Occitanie           76.0                5  2018   \n",
       "\n",
       "       Month  Day  Hour  DateClean  \n",
       "49579     01   01    19 2010-01-01  \n",
       "49560     01   01    01 2010-01-01  \n",
       "21750     01   01    10 2010-01-01  \n",
       "49621     01   03    16 2010-01-03  \n",
       "49544     01   04    10 2010-01-04  \n",
       "...      ...  ...   ...        ...  \n",
       "34330     05   25    23 2018-05-25  \n",
       "34246     05   28    11 2018-05-28  \n",
       "81077     05   28    08 2018-05-28  \n",
       "81121     05   31    17 2018-05-31  \n",
       "34288     05   31    14 2018-05-31  \n",
       "\n",
       "[1777 rows x 87 columns]"
      ]
     },
     "execution_count": 54,
     "metadata": {},
     "output_type": "execute_result"
    }
   ],
   "source": [
    "df_100k[df_100k['ID OMM station']==7747].sort_values(by=\"DateClean\")"
   ]
  },
  {
   "cell_type": "code",
   "execution_count": 87,
   "id": "dfa6c40d",
   "metadata": {
    "ExecuteTime": {
     "end_time": "2022-03-01T11:22:31.740263Z",
     "start_time": "2022-03-01T11:22:31.736632Z"
    }
   },
   "outputs": [
    {
     "data": {
      "text/plain": [
       "3042"
      ]
     },
     "execution_count": 87,
     "metadata": {},
     "output_type": "execute_result"
    }
   ],
   "source": [
    "df_100k['DateClean'].nunique()"
   ]
  },
  {
   "cell_type": "code",
   "execution_count": 91,
   "id": "d90baad0",
   "metadata": {
    "ExecuteTime": {
     "end_time": "2022-03-01T11:27:03.383790Z",
     "start_time": "2022-03-01T11:27:03.379610Z"
    }
   },
   "outputs": [
    {
     "data": {
      "text/plain": [
       "0.0     15634\n",
       "1.0      4294\n",
       "2.0      3377\n",
       "3.0         3\n",
       "4.0       314\n",
       "5.0       142\n",
       "6.0         1\n",
       "9.0         1\n",
       "10.0        2\n",
       "11.0      128\n",
       "12.0      200\n",
       "13.0      347\n",
       "14.0       60\n",
       "15.0       34\n",
       "16.0       59\n",
       "17.0       98\n",
       "18.0       66\n",
       "19.0        7\n",
       "Name: Etat du sol, dtype: int64"
      ]
     },
     "execution_count": 91,
     "metadata": {},
     "output_type": "execute_result"
    }
   ],
   "source": [
    "ets.sort_index()"
   ]
  },
  {
   "cell_type": "code",
   "execution_count": 86,
   "id": "c4bf4d3a",
   "metadata": {
    "ExecuteTime": {
     "end_time": "2022-03-01T11:17:36.569644Z",
     "start_time": "2022-03-01T11:17:36.458663Z"
    },
    "scrolled": true
   },
   "outputs": [
    {
     "data": {
      "text/plain": [
       "ID OMM station\n",
       "7299     905\n",
       "7481     859\n",
       "7149     824\n",
       "7015     820\n",
       "7460     804\n",
       "        ... \n",
       "61970      0\n",
       "61998      0\n",
       "61997      0\n",
       "61996      0\n",
       "89642      0\n",
       "Name: Etat du sol, Length: 62, dtype: int64"
      ]
     },
     "execution_count": 86,
     "metadata": {},
     "output_type": "execute_result"
    }
   ],
   "source": [
    "df_100k.groupby(\"ID OMM station\").count()[\"Etat du sol\"].sort_values(ascending=False)"
   ]
  },
  {
   "cell_type": "code",
   "execution_count": 88,
   "id": "d21c7aaf",
   "metadata": {
    "ExecuteTime": {
     "end_time": "2022-03-01T11:22:38.619573Z",
     "start_time": "2022-03-01T11:22:38.616754Z"
    }
   },
   "outputs": [
    {
     "data": {
      "text/plain": [
       "3.38"
      ]
     },
     "execution_count": 88,
     "metadata": {},
     "output_type": "execute_result"
    }
   ],
   "source": [
    "3042/900"
   ]
  },
  {
   "cell_type": "code",
   "execution_count": 83,
   "id": "5fa1dcc1",
   "metadata": {
    "ExecuteTime": {
     "end_time": "2022-03-01T11:16:33.950283Z",
     "start_time": "2022-03-01T11:16:33.947038Z"
    }
   },
   "outputs": [
    {
     "data": {
      "text/plain": [
       "0.31601444374976073"
      ]
     },
     "execution_count": 83,
     "metadata": {},
     "output_type": "execute_result"
    }
   ],
   "source": [
    "24767/78373"
   ]
  },
  {
   "cell_type": "code",
   "execution_count": 125,
   "id": "216236a7",
   "metadata": {
    "ExecuteTime": {
     "end_time": "2022-03-01T11:41:24.882724Z",
     "start_time": "2022-03-01T11:41:24.879415Z"
    }
   },
   "outputs": [],
   "source": [
    "ets = df_100k['Etat du sol'].value_counts()"
   ]
  },
  {
   "cell_type": "code",
   "execution_count": 76,
   "id": "82944df2",
   "metadata": {
    "ExecuteTime": {
     "end_time": "2022-03-01T11:14:21.616045Z",
     "start_time": "2022-03-01T11:14:21.612150Z"
    },
    "scrolled": false
   },
   "outputs": [
    {
     "data": {
      "text/plain": [
       "24767"
      ]
     },
     "execution_count": 76,
     "metadata": {},
     "output_type": "execute_result"
    }
   ],
   "source": [
    "ets.sort_index().sum()"
   ]
  },
  {
   "cell_type": "code",
   "execution_count": 4,
   "id": "eb22d975",
   "metadata": {
    "ExecuteTime": {
     "end_time": "2022-03-01T10:02:12.429091Z",
     "start_time": "2022-03-01T10:02:12.425078Z"
    },
    "scrolled": true
   },
   "outputs": [
    {
     "data": {
      "text/plain": [
       "Index(['ID OMM station', 'Date', 'Pression au niveau mer',\n",
       "       'Variation de pression en 3 heures', 'Type de tendance barométrique',\n",
       "       'Direction du vent moyen 10 mn', 'Vitesse du vent moyen 10 mn',\n",
       "       'Température', 'Point de rosée', 'Humidité', 'Visibilité horizontale',\n",
       "       'Temps présent', 'Temps passé 1', 'Temps passé 2', 'Nebulosité totale',\n",
       "       'Nébulosité  des nuages de l' étage inférieur',\n",
       "       'Hauteur de la base des nuages de l'étage inférieur',\n",
       "       'Type des nuages de l'étage inférieur',\n",
       "       'Type des nuages de l'étage moyen',\n",
       "       'Type des nuages de l'étage supérieur', 'Pression station',\n",
       "       'Niveau barométrique', 'Géopotentiel',\n",
       "       'Variation de pression en 24 heures',\n",
       "       'Température minimale sur 12 heures',\n",
       "       'Température minimale sur 24 heures',\n",
       "       'Température maximale sur 12 heures',\n",
       "       'Température maximale sur 24 heures',\n",
       "       'Température minimale du sol sur 12 heures',\n",
       "       'Méthode de mesure Température du thermomètre mouillé',\n",
       "       'Température du thermomètre mouillé',\n",
       "       'Rafale sur les 10 dernières minutes', 'Rafales sur une période',\n",
       "       'Periode de mesure de la rafale', 'Etat du sol',\n",
       "       'Hauteur totale de la couche de neige, glace, autre au sol',\n",
       "       'Hauteur de la neige fraîche', 'Periode de mesure de la neige fraiche',\n",
       "       'Précipitations dans la dernière heure',\n",
       "       'Précipitations dans les 3 dernières heures',\n",
       "       'Précipitations dans les 6 dernières heures',\n",
       "       'Précipitations dans les 12 dernières heures',\n",
       "       'Précipitations dans les 24 dernières heures', 'Phénomène spécial 1',\n",
       "       'Phénomène spécial 2', 'Phénomène spécial 3', 'Phénomène spécial 4',\n",
       "       'Nébulosité couche nuageuse 1', 'Type nuage 1', 'Hauteur de base 1',\n",
       "       'Nébulosité couche nuageuse 2', 'Type nuage 2', 'Hauteur de base 2',\n",
       "       'Nébulosité couche nuageuse 3', 'Type nuage 3', 'Hauteur de base 3',\n",
       "       'Nébulosité couche nuageuse 4', 'Type nuage 4', 'Hauteur de base 4',\n",
       "       'Coordonnees', 'Nom', 'Type de tendance barométrique.1',\n",
       "       'Temps passé 1.1', 'Temps présent.1', 'Température (°C)',\n",
       "       'Température minimale sur 12 heures (°C)',\n",
       "       'Température minimale sur 24 heures (°C)',\n",
       "       'Température maximale sur 12 heures (°C)',\n",
       "       'Température maximale sur 24 heures (°C)',\n",
       "       'Température minimale du sol sur 12 heures (en °C)', 'Latitude',\n",
       "       'Longitude', 'Altitude', 'communes (name)', 'communes (code)',\n",
       "       'EPCI (name)', 'EPCI (code)', 'department (name)', 'department (code)',\n",
       "       'region (name)', 'region (code)', 'mois_de_l_annee'],\n",
       "      dtype='object')"
      ]
     },
     "execution_count": 4,
     "metadata": {},
     "output_type": "execute_result"
    }
   ],
   "source": [
    "df_100k.columns"
   ]
  }
 ],
 "metadata": {
  "kernelspec": {
   "display_name": "Python 3 (ipykernel)",
   "language": "python",
   "name": "python3"
  },
  "language_info": {
   "codemirror_mode": {
    "name": "ipython",
    "version": 3
   },
   "file_extension": ".py",
   "mimetype": "text/x-python",
   "name": "python",
   "nbconvert_exporter": "python",
   "pygments_lexer": "ipython3",
   "version": "3.8.12"
  },
  "toc": {
   "base_numbering": 1,
   "nav_menu": {},
   "number_sections": true,
   "sideBar": true,
   "skip_h1_title": false,
   "title_cell": "Table of Contents",
   "title_sidebar": "Contents",
   "toc_cell": false,
   "toc_position": {},
   "toc_section_display": true,
   "toc_window_display": false
  },
  "varInspector": {
   "cols": {
    "lenName": 16,
    "lenType": 16,
    "lenVar": 40
   },
   "kernels_config": {
    "python": {
     "delete_cmd_postfix": "",
     "delete_cmd_prefix": "del ",
     "library": "var_list.py",
     "varRefreshCmd": "print(var_dic_list())"
    },
    "r": {
     "delete_cmd_postfix": ") ",
     "delete_cmd_prefix": "rm(",
     "library": "var_list.r",
     "varRefreshCmd": "cat(var_dic_list()) "
    }
   },
   "types_to_exclude": [
    "module",
    "function",
    "builtin_function_or_method",
    "instance",
    "_Feature"
   ],
   "window_display": false
  }
 },
 "nbformat": 4,
 "nbformat_minor": 5
}
