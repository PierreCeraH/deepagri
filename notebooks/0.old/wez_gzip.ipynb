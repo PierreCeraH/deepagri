{
 "cells": [
  {
   "cell_type": "code",
   "execution_count": 1,
   "id": "1e8a6f7b",
   "metadata": {
    "ExecuteTime": {
     "end_time": "2022-03-01T10:05:00.097195Z",
     "start_time": "2022-03-01T10:04:59.942557Z"
    }
   },
   "outputs": [],
   "source": [
    "import pandas as pd\n",
    "import numpy as np"
   ]
  },
  {
   "cell_type": "code",
   "execution_count": 2,
   "id": "675d03d8",
   "metadata": {
    "ExecuteTime": {
     "end_time": "2022-03-01T10:05:00.171664Z",
     "start_time": "2022-03-01T10:05:00.106756Z"
    }
   },
   "outputs": [],
   "source": [
    "df = pd.read_csv('../raw_data/Meteo/synop.202101.csv', sep=\";\")"
   ]
  },
  {
   "cell_type": "code",
   "execution_count": 3,
   "id": "a5487c2d",
   "metadata": {
    "ExecuteTime": {
     "end_time": "2022-03-01T10:05:00.303482Z",
     "start_time": "2022-03-01T10:05:00.286704Z"
    }
   },
   "outputs": [],
   "source": [
    "df['year'] = df[\"date\"].astype(str).str[:4]"
   ]
  },
  {
   "cell_type": "code",
   "execution_count": 4,
   "id": "b7520100",
   "metadata": {
    "ExecuteTime": {
     "end_time": "2022-03-01T10:05:00.466857Z",
     "start_time": "2022-03-01T10:05:00.450950Z"
    }
   },
   "outputs": [],
   "source": [
    "df['month'] = df[\"date\"].astype(str).str[4:6]"
   ]
  },
  {
   "cell_type": "code",
   "execution_count": 5,
   "id": "b269fb1f",
   "metadata": {
    "ExecuteTime": {
     "end_time": "2022-03-01T10:05:00.631096Z",
     "start_time": "2022-03-01T10:05:00.623842Z"
    }
   },
   "outputs": [
    {
     "data": {
      "text/plain": [
       "array(['01'], dtype=object)"
      ]
     },
     "execution_count": 5,
     "metadata": {},
     "output_type": "execute_result"
    }
   ],
   "source": [
    "df['month'].unique()"
   ]
  },
  {
   "cell_type": "code",
   "execution_count": 6,
   "id": "3bdbe885",
   "metadata": {
    "ExecuteTime": {
     "end_time": "2022-03-01T10:05:00.825700Z",
     "start_time": "2022-03-01T10:05:00.822316Z"
    }
   },
   "outputs": [
    {
     "data": {
      "text/plain": [
       "Index(['numer_sta', 'date', 'pmer', 'tend', 'cod_tend', 'dd', 'ff', 't', 'td',\n",
       "       'u', 'vv', 'ww', 'w1', 'w2', 'n', 'nbas', 'hbas', 'cl', 'cm', 'ch',\n",
       "       'pres', 'niv_bar', 'geop', 'tend24', 'tn12', 'tn24', 'tx12', 'tx24',\n",
       "       'tminsol', 'sw', 'tw', 'raf10', 'rafper', 'per', 'etat_sol', 'ht_neige',\n",
       "       'ssfrai', 'perssfrai', 'rr1', 'rr3', 'rr6', 'rr12', 'rr24', 'phenspe1',\n",
       "       'phenspe2', 'phenspe3', 'phenspe4', 'nnuage1', 'ctype1', 'hnuage1',\n",
       "       'nnuage2', 'ctype2', 'hnuage2', 'nnuage3', 'ctype3', 'hnuage3',\n",
       "       'nnuage4', 'ctype4', 'hnuage4', 'Unnamed: 59', 'year', 'month'],\n",
       "      dtype='object')"
      ]
     },
     "execution_count": 6,
     "metadata": {},
     "output_type": "execute_result"
    }
   ],
   "source": [
    "df.columns"
   ]
  },
  {
   "cell_type": "markdown",
   "id": "1c4b03b6",
   "metadata": {},
   "source": [
    "## 202202"
   ]
  },
  {
   "cell_type": "code",
   "execution_count": 38,
   "id": "46dbc3ad",
   "metadata": {
    "ExecuteTime": {
     "end_time": "2022-03-01T09:52:04.792121Z",
     "start_time": "2022-03-01T09:52:04.740396Z"
    }
   },
   "outputs": [],
   "source": [
    "df2 = pd.read_csv('../raw_data/Meteo/synop.202202.csv', sep=\";\")"
   ]
  },
  {
   "cell_type": "code",
   "execution_count": 31,
   "id": "1502ba1a",
   "metadata": {
    "ExecuteTime": {
     "end_time": "2022-03-01T09:51:14.688574Z",
     "start_time": "2022-03-01T09:51:14.684742Z"
    }
   },
   "outputs": [
    {
     "data": {
      "text/plain": [
       "array([20220201000000, 20220201030000, 20220201060000, 20220201090000,\n",
       "       20220201120000, 20220201150000, 20220201180000, 20220201210000,\n",
       "       20220202000000, 20220202030000, 20220202060000, 20220202090000,\n",
       "       20220202120000, 20220202150000, 20220202180000, 20220202210000,\n",
       "       20220203000000, 20220203030000, 20220203060000, 20220203090000,\n",
       "       20220203120000, 20220203150000, 20220203180000, 20220203210000,\n",
       "       20220204000000, 20220204030000, 20220204060000, 20220204090000,\n",
       "       20220204120000, 20220204150000, 20220204180000, 20220204210000,\n",
       "       20220205000000, 20220205030000, 20220205060000, 20220205090000,\n",
       "       20220205120000, 20220205150000, 20220205180000, 20220205210000,\n",
       "       20220206000000, 20220206030000, 20220206060000, 20220206090000,\n",
       "       20220206120000, 20220206150000, 20220206180000, 20220206210000,\n",
       "       20220207000000, 20220207030000, 20220207060000, 20220207090000,\n",
       "       20220207120000, 20220207150000, 20220207180000, 20220207210000,\n",
       "       20220208000000, 20220208030000, 20220208060000, 20220208090000,\n",
       "       20220208120000, 20220208150000, 20220208180000, 20220208210000,\n",
       "       20220209000000, 20220209030000, 20220209060000, 20220209090000,\n",
       "       20220209120000, 20220209150000, 20220209180000, 20220209210000,\n",
       "       20220210000000, 20220210030000, 20220210060000, 20220210090000,\n",
       "       20220210120000, 20220210150000, 20220210180000, 20220210210000,\n",
       "       20220211000000, 20220211030000, 20220211060000, 20220211090000,\n",
       "       20220211120000, 20220211150000, 20220211180000, 20220211210000,\n",
       "       20220212000000, 20220212030000, 20220212060000, 20220212090000,\n",
       "       20220212120000, 20220212150000, 20220212180000, 20220212210000,\n",
       "       20220213000000, 20220213030000, 20220213060000, 20220213090000,\n",
       "       20220213120000, 20220213150000, 20220213180000, 20220213210000,\n",
       "       20220214000000, 20220214030000, 20220214060000, 20220214090000,\n",
       "       20220214120000, 20220214150000, 20220214180000, 20220214210000,\n",
       "       20220215000000, 20220215030000, 20220215060000, 20220215090000,\n",
       "       20220215120000, 20220215150000, 20220215180000, 20220215210000,\n",
       "       20220216000000, 20220216030000, 20220216060000, 20220216090000,\n",
       "       20220216120000, 20220216150000, 20220216180000, 20220216210000,\n",
       "       20220217000000, 20220217030000, 20220217060000, 20220217090000,\n",
       "       20220217120000, 20220217150000, 20220217180000, 20220217210000,\n",
       "       20220218000000, 20220218030000, 20220218060000, 20220218090000,\n",
       "       20220218120000, 20220218150000, 20220218180000, 20220218210000,\n",
       "       20220219000000, 20220219030000, 20220219060000, 20220219090000,\n",
       "       20220219120000, 20220219150000, 20220219180000, 20220219210000,\n",
       "       20220220000000, 20220220030000, 20220220060000, 20220220090000,\n",
       "       20220220120000, 20220220150000, 20220220180000, 20220220210000,\n",
       "       20220221000000, 20220221030000, 20220221060000, 20220221090000,\n",
       "       20220221120000, 20220221150000, 20220221180000, 20220221210000,\n",
       "       20220222000000, 20220222030000, 20220222060000, 20220222090000,\n",
       "       20220222120000, 20220222150000, 20220222180000, 20220222210000,\n",
       "       20220223000000, 20220223030000, 20220223060000, 20220223090000,\n",
       "       20220223120000, 20220223150000, 20220223180000, 20220223210000,\n",
       "       20220224000000, 20220224030000, 20220224060000, 20220224090000,\n",
       "       20220224120000, 20220224150000, 20220224180000, 20220224210000,\n",
       "       20220225000000, 20220225030000, 20220225060000, 20220225090000,\n",
       "       20220225120000, 20220225150000, 20220225180000, 20220225210000,\n",
       "       20220226000000, 20220226030000, 20220226060000, 20220226090000,\n",
       "       20220226120000, 20220226150000, 20220226180000, 20220226210000,\n",
       "       20220227000000, 20220227030000, 20220227060000, 20220227090000,\n",
       "       20220227120000, 20220227150000, 20220227180000, 20220227210000,\n",
       "       20220228000000, 20220228030000, 20220228060000, 20220228090000,\n",
       "       20220228120000, 20220228150000, 20220228180000, 20220228210000])"
      ]
     },
     "execution_count": 31,
     "metadata": {},
     "output_type": "execute_result"
    }
   ],
   "source": [
    "df.date.unique()"
   ]
  },
  {
   "cell_type": "code",
   "execution_count": 23,
   "id": "02e6e780",
   "metadata": {
    "ExecuteTime": {
     "end_time": "2022-03-01T09:47:18.497986Z",
     "start_time": "2022-03-01T09:47:18.461235Z"
    }
   },
   "outputs": [],
   "source": [
    "df = df.replace(\"mq\", np.nan)"
   ]
  },
  {
   "cell_type": "code",
   "execution_count": 24,
   "id": "dca100ef",
   "metadata": {
    "ExecuteTime": {
     "end_time": "2022-03-01T09:47:19.296207Z",
     "start_time": "2022-03-01T09:47:19.291993Z"
    }
   },
   "outputs": [
    {
     "data": {
      "text/plain": [
       "0          0\n",
       "1          2\n",
       "2        NaN\n",
       "3          5\n",
       "4        NaN\n",
       "        ... \n",
       "14703    NaN\n",
       "14704    NaN\n",
       "14705    NaN\n",
       "14706    NaN\n",
       "14707    NaN\n",
       "Name: etat_sol, Length: 14708, dtype: object"
      ]
     },
     "execution_count": 24,
     "metadata": {},
     "output_type": "execute_result"
    }
   ],
   "source": [
    "df['etat_sol']"
   ]
  },
  {
   "cell_type": "code",
   "execution_count": 18,
   "id": "08c3f82a",
   "metadata": {
    "ExecuteTime": {
     "end_time": "2022-03-01T09:46:40.490236Z",
     "start_time": "2022-03-01T09:46:40.472939Z"
    },
    "scrolled": true
   },
   "outputs": [
    {
     "data": {
      "text/html": [
       "<div>\n",
       "<style scoped>\n",
       "    .dataframe tbody tr th:only-of-type {\n",
       "        vertical-align: middle;\n",
       "    }\n",
       "\n",
       "    .dataframe tbody tr th {\n",
       "        vertical-align: top;\n",
       "    }\n",
       "\n",
       "    .dataframe thead th {\n",
       "        text-align: right;\n",
       "    }\n",
       "</style>\n",
       "<table border=\"1\" class=\"dataframe\">\n",
       "  <thead>\n",
       "    <tr style=\"text-align: right;\">\n",
       "      <th></th>\n",
       "      <th></th>\n",
       "      <th>date</th>\n",
       "      <th>Unnamed: 59</th>\n",
       "    </tr>\n",
       "    <tr>\n",
       "      <th>year</th>\n",
       "      <th>numer_sta</th>\n",
       "      <th></th>\n",
       "      <th></th>\n",
       "    </tr>\n",
       "  </thead>\n",
       "  <tbody>\n",
       "    <tr>\n",
       "      <th rowspan=\"11\" valign=\"top\">2021</th>\n",
       "      <th>7005</th>\n",
       "      <td>2.021012e+13</td>\n",
       "      <td>NaN</td>\n",
       "    </tr>\n",
       "    <tr>\n",
       "      <th>7015</th>\n",
       "      <td>2.021012e+13</td>\n",
       "      <td>NaN</td>\n",
       "    </tr>\n",
       "    <tr>\n",
       "      <th>7020</th>\n",
       "      <td>2.021012e+13</td>\n",
       "      <td>NaN</td>\n",
       "    </tr>\n",
       "    <tr>\n",
       "      <th>7027</th>\n",
       "      <td>2.021012e+13</td>\n",
       "      <td>NaN</td>\n",
       "    </tr>\n",
       "    <tr>\n",
       "      <th>7037</th>\n",
       "      <td>2.021012e+13</td>\n",
       "      <td>NaN</td>\n",
       "    </tr>\n",
       "    <tr>\n",
       "      <th>...</th>\n",
       "      <td>...</td>\n",
       "      <td>...</td>\n",
       "    </tr>\n",
       "    <tr>\n",
       "      <th>81401</th>\n",
       "      <td>2.021012e+13</td>\n",
       "      <td>NaN</td>\n",
       "    </tr>\n",
       "    <tr>\n",
       "      <th>81405</th>\n",
       "      <td>2.021012e+13</td>\n",
       "      <td>NaN</td>\n",
       "    </tr>\n",
       "    <tr>\n",
       "      <th>81408</th>\n",
       "      <td>2.021012e+13</td>\n",
       "      <td>NaN</td>\n",
       "    </tr>\n",
       "    <tr>\n",
       "      <th>81415</th>\n",
       "      <td>2.021012e+13</td>\n",
       "      <td>NaN</td>\n",
       "    </tr>\n",
       "    <tr>\n",
       "      <th>89642</th>\n",
       "      <td>2.021012e+13</td>\n",
       "      <td>NaN</td>\n",
       "    </tr>\n",
       "  </tbody>\n",
       "</table>\n",
       "<p>61 rows × 2 columns</p>\n",
       "</div>"
      ],
      "text/plain": [
       "                        date  Unnamed: 59\n",
       "year numer_sta                           \n",
       "2021 7005       2.021012e+13          NaN\n",
       "     7015       2.021012e+13          NaN\n",
       "     7020       2.021012e+13          NaN\n",
       "     7027       2.021012e+13          NaN\n",
       "     7037       2.021012e+13          NaN\n",
       "...                      ...          ...\n",
       "     81401      2.021012e+13          NaN\n",
       "     81405      2.021012e+13          NaN\n",
       "     81408      2.021012e+13          NaN\n",
       "     81415      2.021012e+13          NaN\n",
       "     89642      2.021012e+13          NaN\n",
       "\n",
       "[61 rows x 2 columns]"
      ]
     },
     "execution_count": 18,
     "metadata": {},
     "output_type": "execute_result"
    }
   ],
   "source": [
    "df.groupby(['year', 'numer_sta']).mean()"
   ]
  },
  {
   "cell_type": "code",
   "execution_count": 6,
   "id": "0134f9d1",
   "metadata": {
    "ExecuteTime": {
     "end_time": "2022-03-01T09:44:10.079196Z",
     "start_time": "2022-03-01T09:44:10.054855Z"
    },
    "scrolled": true
   },
   "outputs": [
    {
     "data": {
      "text/html": [
       "<div>\n",
       "<style scoped>\n",
       "    .dataframe tbody tr th:only-of-type {\n",
       "        vertical-align: middle;\n",
       "    }\n",
       "\n",
       "    .dataframe tbody tr th {\n",
       "        vertical-align: top;\n",
       "    }\n",
       "\n",
       "    .dataframe thead th {\n",
       "        text-align: right;\n",
       "    }\n",
       "</style>\n",
       "<table border=\"1\" class=\"dataframe\">\n",
       "  <thead>\n",
       "    <tr style=\"text-align: right;\">\n",
       "      <th></th>\n",
       "      <th>numer_sta</th>\n",
       "      <th>date</th>\n",
       "      <th>pmer</th>\n",
       "      <th>tend</th>\n",
       "      <th>cod_tend</th>\n",
       "      <th>dd</th>\n",
       "      <th>ff</th>\n",
       "      <th>t</th>\n",
       "      <th>td</th>\n",
       "      <th>u</th>\n",
       "      <th>...</th>\n",
       "      <th>nnuage2</th>\n",
       "      <th>ctype2</th>\n",
       "      <th>hnuage2</th>\n",
       "      <th>nnuage3</th>\n",
       "      <th>ctype3</th>\n",
       "      <th>hnuage3</th>\n",
       "      <th>nnuage4</th>\n",
       "      <th>ctype4</th>\n",
       "      <th>hnuage4</th>\n",
       "      <th>Unnamed: 59</th>\n",
       "    </tr>\n",
       "  </thead>\n",
       "  <tbody>\n",
       "    <tr>\n",
       "      <th>2</th>\n",
       "      <td>7020</td>\n",
       "      <td>20210101000000</td>\n",
       "      <td>100820</td>\n",
       "      <td>90</td>\n",
       "      <td>1</td>\n",
       "      <td>150</td>\n",
       "      <td>1.900000</td>\n",
       "      <td>274.750000</td>\n",
       "      <td>270.250000</td>\n",
       "      <td>72</td>\n",
       "      <td>...</td>\n",
       "      <td>mq</td>\n",
       "      <td>mq</td>\n",
       "      <td>mq</td>\n",
       "      <td>mq</td>\n",
       "      <td>mq</td>\n",
       "      <td>mq</td>\n",
       "      <td>mq</td>\n",
       "      <td>mq</td>\n",
       "      <td>mq</td>\n",
       "      <td>NaN</td>\n",
       "    </tr>\n",
       "    <tr>\n",
       "      <th>4</th>\n",
       "      <td>7037</td>\n",
       "      <td>20210101000000</td>\n",
       "      <td>100850</td>\n",
       "      <td>80</td>\n",
       "      <td>1</td>\n",
       "      <td>340</td>\n",
       "      <td>1.400000</td>\n",
       "      <td>271.350000</td>\n",
       "      <td>270.750000</td>\n",
       "      <td>96</td>\n",
       "      <td>...</td>\n",
       "      <td>mq</td>\n",
       "      <td>mq</td>\n",
       "      <td>mq</td>\n",
       "      <td>mq</td>\n",
       "      <td>mq</td>\n",
       "      <td>mq</td>\n",
       "      <td>mq</td>\n",
       "      <td>mq</td>\n",
       "      <td>mq</td>\n",
       "      <td>NaN</td>\n",
       "    </tr>\n",
       "    <tr>\n",
       "      <th>5</th>\n",
       "      <td>7072</td>\n",
       "      <td>20210101000000</td>\n",
       "      <td>100710</td>\n",
       "      <td>110</td>\n",
       "      <td>2</td>\n",
       "      <td>240</td>\n",
       "      <td>1.900000</td>\n",
       "      <td>274.650000</td>\n",
       "      <td>274.050000</td>\n",
       "      <td>96</td>\n",
       "      <td>...</td>\n",
       "      <td>8</td>\n",
       "      <td>mq</td>\n",
       "      <td>1560</td>\n",
       "      <td>mq</td>\n",
       "      <td>mq</td>\n",
       "      <td>mq</td>\n",
       "      <td>mq</td>\n",
       "      <td>mq</td>\n",
       "      <td>mq</td>\n",
       "      <td>NaN</td>\n",
       "    </tr>\n",
       "    <tr>\n",
       "      <th>7</th>\n",
       "      <td>7117</td>\n",
       "      <td>20210101000000</td>\n",
       "      <td>100810</td>\n",
       "      <td>50</td>\n",
       "      <td>3</td>\n",
       "      <td>290</td>\n",
       "      <td>1.700000</td>\n",
       "      <td>276.750000</td>\n",
       "      <td>274.750000</td>\n",
       "      <td>87</td>\n",
       "      <td>...</td>\n",
       "      <td>mq</td>\n",
       "      <td>mq</td>\n",
       "      <td>mq</td>\n",
       "      <td>mq</td>\n",
       "      <td>mq</td>\n",
       "      <td>mq</td>\n",
       "      <td>mq</td>\n",
       "      <td>mq</td>\n",
       "      <td>mq</td>\n",
       "      <td>NaN</td>\n",
       "    </tr>\n",
       "    <tr>\n",
       "      <th>8</th>\n",
       "      <td>7130</td>\n",
       "      <td>20210101000000</td>\n",
       "      <td>100830</td>\n",
       "      <td>10</td>\n",
       "      <td>0</td>\n",
       "      <td>0</td>\n",
       "      <td>0.000000</td>\n",
       "      <td>270.650000</td>\n",
       "      <td>270.350000</td>\n",
       "      <td>98</td>\n",
       "      <td>...</td>\n",
       "      <td>mq</td>\n",
       "      <td>mq</td>\n",
       "      <td>mq</td>\n",
       "      <td>mq</td>\n",
       "      <td>mq</td>\n",
       "      <td>mq</td>\n",
       "      <td>mq</td>\n",
       "      <td>mq</td>\n",
       "      <td>mq</td>\n",
       "      <td>NaN</td>\n",
       "    </tr>\n",
       "    <tr>\n",
       "      <th>...</th>\n",
       "      <td>...</td>\n",
       "      <td>...</td>\n",
       "      <td>...</td>\n",
       "      <td>...</td>\n",
       "      <td>...</td>\n",
       "      <td>...</td>\n",
       "      <td>...</td>\n",
       "      <td>...</td>\n",
       "      <td>...</td>\n",
       "      <td>...</td>\n",
       "      <td>...</td>\n",
       "      <td>...</td>\n",
       "      <td>...</td>\n",
       "      <td>...</td>\n",
       "      <td>...</td>\n",
       "      <td>...</td>\n",
       "      <td>...</td>\n",
       "      <td>...</td>\n",
       "      <td>...</td>\n",
       "      <td>...</td>\n",
       "      <td>...</td>\n",
       "    </tr>\n",
       "    <tr>\n",
       "      <th>14703</th>\n",
       "      <td>81401</td>\n",
       "      <td>20210131210000</td>\n",
       "      <td>101040</td>\n",
       "      <td>20</td>\n",
       "      <td>5</td>\n",
       "      <td>40</td>\n",
       "      <td>2.300000</td>\n",
       "      <td>301.050000</td>\n",
       "      <td>296.250000</td>\n",
       "      <td>75</td>\n",
       "      <td>...</td>\n",
       "      <td>mq</td>\n",
       "      <td>mq</td>\n",
       "      <td>mq</td>\n",
       "      <td>mq</td>\n",
       "      <td>mq</td>\n",
       "      <td>mq</td>\n",
       "      <td>mq</td>\n",
       "      <td>mq</td>\n",
       "      <td>mq</td>\n",
       "      <td>NaN</td>\n",
       "    </tr>\n",
       "    <tr>\n",
       "      <th>14704</th>\n",
       "      <td>81405</td>\n",
       "      <td>20210131210000</td>\n",
       "      <td>101060</td>\n",
       "      <td>-30</td>\n",
       "      <td>5</td>\n",
       "      <td>40</td>\n",
       "      <td>5.500000</td>\n",
       "      <td>300.350000</td>\n",
       "      <td>296.150000</td>\n",
       "      <td>78</td>\n",
       "      <td>...</td>\n",
       "      <td>5</td>\n",
       "      <td>mq</td>\n",
       "      <td>960</td>\n",
       "      <td>6</td>\n",
       "      <td>mq</td>\n",
       "      <td>1200</td>\n",
       "      <td>mq</td>\n",
       "      <td>mq</td>\n",
       "      <td>mq</td>\n",
       "      <td>NaN</td>\n",
       "    </tr>\n",
       "    <tr>\n",
       "      <th>14705</th>\n",
       "      <td>81408</td>\n",
       "      <td>20210131210000</td>\n",
       "      <td>100980</td>\n",
       "      <td>0</td>\n",
       "      <td>5</td>\n",
       "      <td>20</td>\n",
       "      <td>2.000000</td>\n",
       "      <td>300.650000</td>\n",
       "      <td>298.250000</td>\n",
       "      <td>87</td>\n",
       "      <td>...</td>\n",
       "      <td>mq</td>\n",
       "      <td>mq</td>\n",
       "      <td>mq</td>\n",
       "      <td>mq</td>\n",
       "      <td>mq</td>\n",
       "      <td>mq</td>\n",
       "      <td>mq</td>\n",
       "      <td>mq</td>\n",
       "      <td>mq</td>\n",
       "      <td>NaN</td>\n",
       "    </tr>\n",
       "    <tr>\n",
       "      <th>14706</th>\n",
       "      <td>81415</td>\n",
       "      <td>20210131210000</td>\n",
       "      <td>100940</td>\n",
       "      <td>30</td>\n",
       "      <td>5</td>\n",
       "      <td>200</td>\n",
       "      <td>1.900000</td>\n",
       "      <td>299.650000</td>\n",
       "      <td>296.950000</td>\n",
       "      <td>85</td>\n",
       "      <td>...</td>\n",
       "      <td>mq</td>\n",
       "      <td>mq</td>\n",
       "      <td>mq</td>\n",
       "      <td>mq</td>\n",
       "      <td>mq</td>\n",
       "      <td>mq</td>\n",
       "      <td>mq</td>\n",
       "      <td>mq</td>\n",
       "      <td>mq</td>\n",
       "      <td>NaN</td>\n",
       "    </tr>\n",
       "    <tr>\n",
       "      <th>14707</th>\n",
       "      <td>89642</td>\n",
       "      <td>20210131210000</td>\n",
       "      <td>98100</td>\n",
       "      <td>110</td>\n",
       "      <td>3</td>\n",
       "      <td>130</td>\n",
       "      <td>7.200000</td>\n",
       "      <td>267.550000</td>\n",
       "      <td>260.750000</td>\n",
       "      <td>55</td>\n",
       "      <td>...</td>\n",
       "      <td>3</td>\n",
       "      <td>3</td>\n",
       "      <td>2400</td>\n",
       "      <td>8</td>\n",
       "      <td>4</td>\n",
       "      <td>3000</td>\n",
       "      <td>mq</td>\n",
       "      <td>mq</td>\n",
       "      <td>mq</td>\n",
       "      <td>NaN</td>\n",
       "    </tr>\n",
       "  </tbody>\n",
       "</table>\n",
       "<p>8797 rows × 60 columns</p>\n",
       "</div>"
      ],
      "text/plain": [
       "       numer_sta            date    pmer tend cod_tend   dd        ff  \\\n",
       "2           7020  20210101000000  100820   90        1  150  1.900000   \n",
       "4           7037  20210101000000  100850   80        1  340  1.400000   \n",
       "5           7072  20210101000000  100710  110        2  240  1.900000   \n",
       "7           7117  20210101000000  100810   50        3  290  1.700000   \n",
       "8           7130  20210101000000  100830   10        0    0  0.000000   \n",
       "...          ...             ...     ...  ...      ...  ...       ...   \n",
       "14703      81401  20210131210000  101040   20        5   40  2.300000   \n",
       "14704      81405  20210131210000  101060  -30        5   40  5.500000   \n",
       "14705      81408  20210131210000  100980    0        5   20  2.000000   \n",
       "14706      81415  20210131210000  100940   30        5  200  1.900000   \n",
       "14707      89642  20210131210000   98100  110        3  130  7.200000   \n",
       "\n",
       "                t          td   u  ... nnuage2 ctype2 hnuage2 nnuage3 ctype3  \\\n",
       "2      274.750000  270.250000  72  ...      mq     mq      mq      mq     mq   \n",
       "4      271.350000  270.750000  96  ...      mq     mq      mq      mq     mq   \n",
       "5      274.650000  274.050000  96  ...       8     mq    1560      mq     mq   \n",
       "7      276.750000  274.750000  87  ...      mq     mq      mq      mq     mq   \n",
       "8      270.650000  270.350000  98  ...      mq     mq      mq      mq     mq   \n",
       "...           ...         ...  ..  ...     ...    ...     ...     ...    ...   \n",
       "14703  301.050000  296.250000  75  ...      mq     mq      mq      mq     mq   \n",
       "14704  300.350000  296.150000  78  ...       5     mq     960       6     mq   \n",
       "14705  300.650000  298.250000  87  ...      mq     mq      mq      mq     mq   \n",
       "14706  299.650000  296.950000  85  ...      mq     mq      mq      mq     mq   \n",
       "14707  267.550000  260.750000  55  ...       3      3    2400       8      4   \n",
       "\n",
       "      hnuage3 nnuage4 ctype4 hnuage4 Unnamed: 59  \n",
       "2          mq      mq     mq      mq         NaN  \n",
       "4          mq      mq     mq      mq         NaN  \n",
       "5          mq      mq     mq      mq         NaN  \n",
       "7          mq      mq     mq      mq         NaN  \n",
       "8          mq      mq     mq      mq         NaN  \n",
       "...       ...     ...    ...     ...         ...  \n",
       "14703      mq      mq     mq      mq         NaN  \n",
       "14704    1200      mq     mq      mq         NaN  \n",
       "14705      mq      mq     mq      mq         NaN  \n",
       "14706      mq      mq     mq      mq         NaN  \n",
       "14707    3000      mq     mq      mq         NaN  \n",
       "\n",
       "[8797 rows x 60 columns]"
      ]
     },
     "execution_count": 6,
     "metadata": {},
     "output_type": "execute_result"
    }
   ],
   "source": [
    "df[df['etat_sol']==\"mq\"]"
   ]
  },
  {
   "cell_type": "code",
   "execution_count": 5,
   "id": "0b4e21bb",
   "metadata": {
    "ExecuteTime": {
     "end_time": "2022-03-01T09:43:46.194198Z",
     "start_time": "2022-03-01T09:43:46.187742Z"
    }
   },
   "outputs": [
    {
     "data": {
      "text/plain": [
       "mq    8797\n",
       "0     2588\n",
       "2     1388\n",
       "1     1288\n",
       "13     231\n",
       "5      157\n",
       "4      125\n",
       "12      66\n",
       "15      18\n",
       "11      17\n",
       "18      17\n",
       "16      12\n",
       "17       4\n",
       "Name: etat_sol, dtype: int64"
      ]
     },
     "execution_count": 5,
     "metadata": {},
     "output_type": "execute_result"
    }
   ],
   "source": [
    "df['etat_sol'].value_counts()"
   ]
  },
  {
   "cell_type": "code",
   "execution_count": 4,
   "id": "ea17821f",
   "metadata": {
    "ExecuteTime": {
     "end_time": "2022-03-01T09:43:19.225872Z",
     "start_time": "2022-03-01T09:43:19.222130Z"
    }
   },
   "outputs": [
    {
     "data": {
      "text/plain": [
       "Index(['numer_sta', 'date', 'pmer', 'tend', 'cod_tend', 'dd', 'ff', 't', 'td',\n",
       "       'u', 'vv', 'ww', 'w1', 'w2', 'n', 'nbas', 'hbas', 'cl', 'cm', 'ch',\n",
       "       'pres', 'niv_bar', 'geop', 'tend24', 'tn12', 'tn24', 'tx12', 'tx24',\n",
       "       'tminsol', 'sw', 'tw', 'raf10', 'rafper', 'per', 'etat_sol', 'ht_neige',\n",
       "       'ssfrai', 'perssfrai', 'rr1', 'rr3', 'rr6', 'rr12', 'rr24', 'phenspe1',\n",
       "       'phenspe2', 'phenspe3', 'phenspe4', 'nnuage1', 'ctype1', 'hnuage1',\n",
       "       'nnuage2', 'ctype2', 'hnuage2', 'nnuage3', 'ctype3', 'hnuage3',\n",
       "       'nnuage4', 'ctype4', 'hnuage4', 'Unnamed: 59'],\n",
       "      dtype='object')"
      ]
     },
     "execution_count": 4,
     "metadata": {},
     "output_type": "execute_result"
    }
   ],
   "source": [
    "df.columns"
   ]
  }
 ],
 "metadata": {
  "kernelspec": {
   "display_name": "Python 3 (ipykernel)",
   "language": "python",
   "name": "python3"
  },
  "language_info": {
   "codemirror_mode": {
    "name": "ipython",
    "version": 3
   },
   "file_extension": ".py",
   "mimetype": "text/x-python",
   "name": "python",
   "nbconvert_exporter": "python",
   "pygments_lexer": "ipython3",
   "version": "3.8.12"
  },
  "toc": {
   "base_numbering": 1,
   "nav_menu": {},
   "number_sections": true,
   "sideBar": true,
   "skip_h1_title": false,
   "title_cell": "Table of Contents",
   "title_sidebar": "Contents",
   "toc_cell": false,
   "toc_position": {},
   "toc_section_display": true,
   "toc_window_display": false
  },
  "varInspector": {
   "cols": {
    "lenName": 16,
    "lenType": 16,
    "lenVar": 40
   },
   "kernels_config": {
    "python": {
     "delete_cmd_postfix": "",
     "delete_cmd_prefix": "del ",
     "library": "var_list.py",
     "varRefreshCmd": "print(var_dic_list())"
    },
    "r": {
     "delete_cmd_postfix": ") ",
     "delete_cmd_prefix": "rm(",
     "library": "var_list.r",
     "varRefreshCmd": "cat(var_dic_list()) "
    }
   },
   "types_to_exclude": [
    "module",
    "function",
    "builtin_function_or_method",
    "instance",
    "_Feature"
   ],
   "window_display": false
  }
 },
 "nbformat": 4,
 "nbformat_minor": 5
}
