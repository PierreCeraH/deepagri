{
 "cells": [
  {
   "cell_type": "code",
   "execution_count": 3,
   "id": "e398e1bc",
   "metadata": {
    "ExecuteTime": {
     "end_time": "2022-03-04T16:37:59.696475Z",
     "start_time": "2022-03-04T16:37:59.669799Z"
    }
   },
   "outputs": [
    {
     "name": "stdout",
     "output_type": "stream",
     "text": [
      "The autoreload extension is already loaded. To reload it, use:\n",
      "  %reload_ext autoreload\n"
     ]
    }
   ],
   "source": [
    "%load_ext autoreload\n",
    "%autoreload 2"
   ]
  },
  {
   "cell_type": "code",
   "execution_count": 4,
   "id": "2321f178",
   "metadata": {
    "ExecuteTime": {
     "end_time": "2022-03-04T16:37:59.962449Z",
     "start_time": "2022-03-04T16:37:59.941068Z"
    }
   },
   "outputs": [
    {
     "data": {
      "text/html": [
       "<style>.container { width:90% !important; }</style>"
      ],
      "text/plain": [
       "<IPython.core.display.HTML object>"
      ]
     },
     "metadata": {},
     "output_type": "display_data"
    }
   ],
   "source": [
    "from IPython.display import display, HTML\n",
    "display(HTML(\"<style>.container { width:90% !important; }</style>\"))"
   ]
  },
  {
   "cell_type": "code",
   "execution_count": 5,
   "id": "e34a00a3",
   "metadata": {
    "ExecuteTime": {
     "end_time": "2022-03-04T16:38:00.870570Z",
     "start_time": "2022-03-04T16:38:00.842280Z"
    }
   },
   "outputs": [],
   "source": [
    "from deepagri.data_full import get_df_full"
   ]
  },
  {
   "cell_type": "code",
   "execution_count": 20,
   "id": "bc319566",
   "metadata": {
    "ExecuteTime": {
     "end_time": "2022-03-04T16:39:35.827240Z",
     "start_time": "2022-03-04T16:39:27.053676Z"
    }
   },
   "outputs": [
    {
     "name": "stderr",
     "output_type": "stream",
     "text": [
      "/Users/constantintalandier/code/Constantier/deepagri/deepagri/meteo_agg.py:99: FutureWarning: The behavior of indexing on a MultiIndex with a nested sequence of labels is deprecated and will change in a future version. `series.loc[label, sequence]` will raise if any members of 'sequence' or not present in the index's second level. To retain the old behavior, use `series.index.isin(sequence, level=1)`\n",
      "  df_agg.loc[:, idx[:,cols_to_shift]] = (df_agg.loc[:, idx[:,cols_to_shift]]\n",
      "/Users/constantintalandier/code/Constantier/deepagri/deepagri/meteo_agg.py:99: FutureWarning: The behavior of indexing on a MultiIndex with a nested sequence of labels is deprecated and will change in a future version. `series.loc[label, sequence]` will raise if any members of 'sequence' or not present in the index's second level. To retain the old behavior, use `series.index.isin(sequence, level=1)`\n",
      "  df_agg.loc[:, idx[:,cols_to_shift]] = (df_agg.loc[:, idx[:,cols_to_shift]]\n"
     ]
    }
   ],
   "source": [
    "df=get_df_full(agg_type='M')"
   ]
  },
  {
   "cell_type": "code",
   "execution_count": 21,
   "id": "4398e41e",
   "metadata": {
    "ExecuteTime": {
     "end_time": "2022-03-04T16:39:36.198735Z",
     "start_time": "2022-03-04T16:39:36.169351Z"
    }
   },
   "outputs": [
    {
     "data": {
      "text/html": [
       "<div>\n",
       "<style scoped>\n",
       "    .dataframe tbody tr th:only-of-type {\n",
       "        vertical-align: middle;\n",
       "    }\n",
       "\n",
       "    .dataframe tbody tr th {\n",
       "        vertical-align: top;\n",
       "    }\n",
       "\n",
       "    .dataframe thead th {\n",
       "        text-align: right;\n",
       "    }\n",
       "</style>\n",
       "<table border=\"1\" class=\"dataframe\">\n",
       "  <thead>\n",
       "    <tr style=\"text-align: right;\">\n",
       "      <th></th>\n",
       "      <th>Agriculteur</th>\n",
       "      <th>Production</th>\n",
       "      <th>RatioSep</th>\n",
       "      <th>RatioOct</th>\n",
       "      <th>Prix_matos</th>\n",
       "      <th>tmax_c 01</th>\n",
       "      <th>tmax_c 02</th>\n",
       "      <th>tmax_c 03</th>\n",
       "      <th>tmax_c 04</th>\n",
       "      <th>tmax_c 05</th>\n",
       "      <th>...</th>\n",
       "      <th>uv_idx 12_n-1</th>\n",
       "      <th>sunhour 01</th>\n",
       "      <th>sunhour 02</th>\n",
       "      <th>sunhour 03</th>\n",
       "      <th>sunhour 04</th>\n",
       "      <th>sunhour 05</th>\n",
       "      <th>sunhour 09_n-1</th>\n",
       "      <th>sunhour 10_n-1</th>\n",
       "      <th>sunhour 11_n-1</th>\n",
       "      <th>sunhour 12_n-1</th>\n",
       "    </tr>\n",
       "  </thead>\n",
       "  <tbody>\n",
       "    <tr>\n",
       "      <th>2010-1</th>\n",
       "      <td>2820.041792</td>\n",
       "      <td>239640.3</td>\n",
       "      <td>1.229426</td>\n",
       "      <td>1.255319</td>\n",
       "      <td>92.741667</td>\n",
       "      <td>7.0</td>\n",
       "      <td>5.0</td>\n",
       "      <td>7.0</td>\n",
       "      <td>5.0</td>\n",
       "      <td>5.0</td>\n",
       "      <td>...</td>\n",
       "      <td>1.645161</td>\n",
       "      <td>5.803226</td>\n",
       "      <td>7.564286</td>\n",
       "      <td>9.532258</td>\n",
       "      <td>12.416667</td>\n",
       "      <td>12.158065</td>\n",
       "      <td>11.066667</td>\n",
       "      <td>8.932258</td>\n",
       "      <td>6.893333</td>\n",
       "      <td>6.077419</td>\n",
       "    </tr>\n",
       "    <tr>\n",
       "      <th>2010-2</th>\n",
       "      <td>3563.698886</td>\n",
       "      <td>1485134.7</td>\n",
       "      <td>1.229426</td>\n",
       "      <td>1.255319</td>\n",
       "      <td>92.741667</td>\n",
       "      <td>4.0</td>\n",
       "      <td>6.0</td>\n",
       "      <td>7.0</td>\n",
       "      <td>6.0</td>\n",
       "      <td>5.0</td>\n",
       "      <td>...</td>\n",
       "      <td>1.903226</td>\n",
       "      <td>6.116129</td>\n",
       "      <td>6.335714</td>\n",
       "      <td>9.467742</td>\n",
       "      <td>12.096667</td>\n",
       "      <td>12.693548</td>\n",
       "      <td>10.553333</td>\n",
       "      <td>7.745161</td>\n",
       "      <td>5.053333</td>\n",
       "      <td>5.029032</td>\n",
       "    </tr>\n",
       "    <tr>\n",
       "      <th>2010-3</th>\n",
       "      <td>4276.654443</td>\n",
       "      <td>307450.0</td>\n",
       "      <td>1.229426</td>\n",
       "      <td>1.255319</td>\n",
       "      <td>92.741667</td>\n",
       "      <td>6.0</td>\n",
       "      <td>5.0</td>\n",
       "      <td>9.0</td>\n",
       "      <td>4.0</td>\n",
       "      <td>3.0</td>\n",
       "      <td>...</td>\n",
       "      <td>1.774194</td>\n",
       "      <td>5.964516</td>\n",
       "      <td>7.667857</td>\n",
       "      <td>9.741935</td>\n",
       "      <td>11.956667</td>\n",
       "      <td>12.332258</td>\n",
       "      <td>10.506667</td>\n",
       "      <td>9.261290</td>\n",
       "      <td>6.766667</td>\n",
       "      <td>5.348387</td>\n",
       "    </tr>\n",
       "    <tr>\n",
       "      <th>2010-4</th>\n",
       "      <td>1462.803043</td>\n",
       "      <td>6233.7</td>\n",
       "      <td>1.229426</td>\n",
       "      <td>1.255319</td>\n",
       "      <td>92.741667</td>\n",
       "      <td>3.0</td>\n",
       "      <td>6.0</td>\n",
       "      <td>6.0</td>\n",
       "      <td>8.0</td>\n",
       "      <td>8.0</td>\n",
       "      <td>...</td>\n",
       "      <td>1.838710</td>\n",
       "      <td>7.290323</td>\n",
       "      <td>8.550000</td>\n",
       "      <td>10.506452</td>\n",
       "      <td>12.880000</td>\n",
       "      <td>13.706452</td>\n",
       "      <td>11.273333</td>\n",
       "      <td>9.293548</td>\n",
       "      <td>8.183333</td>\n",
       "      <td>7.467742</td>\n",
       "    </tr>\n",
       "    <tr>\n",
       "      <th>2010-5</th>\n",
       "      <td>1406.337173</td>\n",
       "      <td>9753.9</td>\n",
       "      <td>1.229426</td>\n",
       "      <td>1.255319</td>\n",
       "      <td>92.741667</td>\n",
       "      <td>3.0</td>\n",
       "      <td>5.0</td>\n",
       "      <td>4.0</td>\n",
       "      <td>6.0</td>\n",
       "      <td>7.0</td>\n",
       "      <td>...</td>\n",
       "      <td>1.483871</td>\n",
       "      <td>6.370968</td>\n",
       "      <td>7.753571</td>\n",
       "      <td>9.777419</td>\n",
       "      <td>12.413333</td>\n",
       "      <td>13.283871</td>\n",
       "      <td>10.996667</td>\n",
       "      <td>9.490323</td>\n",
       "      <td>7.516667</td>\n",
       "      <td>7.409677</td>\n",
       "    </tr>\n",
       "    <tr>\n",
       "      <th>...</th>\n",
       "      <td>...</td>\n",
       "      <td>...</td>\n",
       "      <td>...</td>\n",
       "      <td>...</td>\n",
       "      <td>...</td>\n",
       "      <td>...</td>\n",
       "      <td>...</td>\n",
       "      <td>...</td>\n",
       "      <td>...</td>\n",
       "      <td>...</td>\n",
       "      <td>...</td>\n",
       "      <td>...</td>\n",
       "      <td>...</td>\n",
       "      <td>...</td>\n",
       "      <td>...</td>\n",
       "      <td>...</td>\n",
       "      <td>...</td>\n",
       "      <td>...</td>\n",
       "      <td>...</td>\n",
       "      <td>...</td>\n",
       "      <td>...</td>\n",
       "    </tr>\n",
       "    <tr>\n",
       "      <th>2021-91</th>\n",
       "      <td>422.282609</td>\n",
       "      <td>243243.0</td>\n",
       "      <td>1.104197</td>\n",
       "      <td>1.072703</td>\n",
       "      <td>89.891667</td>\n",
       "      <td>6.0</td>\n",
       "      <td>4.0</td>\n",
       "      <td>4.0</td>\n",
       "      <td>4.0</td>\n",
       "      <td>7.0</td>\n",
       "      <td>...</td>\n",
       "      <td>2.129032</td>\n",
       "      <td>4.958065</td>\n",
       "      <td>7.510714</td>\n",
       "      <td>9.254839</td>\n",
       "      <td>11.213333</td>\n",
       "      <td>11.777419</td>\n",
       "      <td>9.846667</td>\n",
       "      <td>6.312903</td>\n",
       "      <td>7.233333</td>\n",
       "      <td>4.364516</td>\n",
       "    </tr>\n",
       "    <tr>\n",
       "      <th>2021-93</th>\n",
       "      <td>80.734902</td>\n",
       "      <td>2739.0</td>\n",
       "      <td>1.104197</td>\n",
       "      <td>1.072703</td>\n",
       "      <td>89.891667</td>\n",
       "      <td>14.0</td>\n",
       "      <td>6.0</td>\n",
       "      <td>8.0</td>\n",
       "      <td>14.0</td>\n",
       "      <td>10.0</td>\n",
       "      <td>...</td>\n",
       "      <td>2.967742</td>\n",
       "      <td>6.835484</td>\n",
       "      <td>8.442857</td>\n",
       "      <td>10.883871</td>\n",
       "      <td>11.123333</td>\n",
       "      <td>13.635484</td>\n",
       "      <td>10.196667</td>\n",
       "      <td>8.761290</td>\n",
       "      <td>7.923333</td>\n",
       "      <td>6.506452</td>\n",
       "    </tr>\n",
       "    <tr>\n",
       "      <th>2021-94</th>\n",
       "      <td>65.237675</td>\n",
       "      <td>3483.0</td>\n",
       "      <td>1.104197</td>\n",
       "      <td>1.072703</td>\n",
       "      <td>89.891667</td>\n",
       "      <td>5.0</td>\n",
       "      <td>4.0</td>\n",
       "      <td>4.0</td>\n",
       "      <td>4.0</td>\n",
       "      <td>7.0</td>\n",
       "      <td>...</td>\n",
       "      <td>2.096774</td>\n",
       "      <td>4.951613</td>\n",
       "      <td>7.621429</td>\n",
       "      <td>9.080645</td>\n",
       "      <td>11.260000</td>\n",
       "      <td>11.651613</td>\n",
       "      <td>9.623333</td>\n",
       "      <td>6.380645</td>\n",
       "      <td>7.046667</td>\n",
       "      <td>4.416129</td>\n",
       "    </tr>\n",
       "    <tr>\n",
       "      <th>2021-95</th>\n",
       "      <td>213.709486</td>\n",
       "      <td>198121.0</td>\n",
       "      <td>1.104197</td>\n",
       "      <td>1.072703</td>\n",
       "      <td>89.891667</td>\n",
       "      <td>8.0</td>\n",
       "      <td>5.0</td>\n",
       "      <td>4.0</td>\n",
       "      <td>4.0</td>\n",
       "      <td>7.0</td>\n",
       "      <td>...</td>\n",
       "      <td>1.870968</td>\n",
       "      <td>4.658065</td>\n",
       "      <td>7.364286</td>\n",
       "      <td>8.925806</td>\n",
       "      <td>11.236667</td>\n",
       "      <td>11.170968</td>\n",
       "      <td>9.496667</td>\n",
       "      <td>6.074194</td>\n",
       "      <td>6.410000</td>\n",
       "      <td>4.274194</td>\n",
       "    </tr>\n",
       "    <tr>\n",
       "      <th>2021-20</th>\n",
       "      <td>1526.132188</td>\n",
       "      <td>297.5</td>\n",
       "      <td>1.104197</td>\n",
       "      <td>1.072703</td>\n",
       "      <td>89.891667</td>\n",
       "      <td>5.0</td>\n",
       "      <td>3.0</td>\n",
       "      <td>5.0</td>\n",
       "      <td>4.0</td>\n",
       "      <td>2.0</td>\n",
       "      <td>...</td>\n",
       "      <td>2.870968</td>\n",
       "      <td>5.767742</td>\n",
       "      <td>8.060714</td>\n",
       "      <td>10.274194</td>\n",
       "      <td>11.476667</td>\n",
       "      <td>13.187097</td>\n",
       "      <td>10.140000</td>\n",
       "      <td>7.132258</td>\n",
       "      <td>8.196667</td>\n",
       "      <td>5.764516</td>\n",
       "    </tr>\n",
       "  </tbody>\n",
       "</table>\n",
       "<p>1116 rows × 104 columns</p>\n",
       "</div>"
      ],
      "text/plain": [
       "         Agriculteur  Production  RatioSep  RatioOct  Prix_matos  tmax_c 01  \\\n",
       "2010-1   2820.041792    239640.3  1.229426  1.255319   92.741667        7.0   \n",
       "2010-2   3563.698886   1485134.7  1.229426  1.255319   92.741667        4.0   \n",
       "2010-3   4276.654443    307450.0  1.229426  1.255319   92.741667        6.0   \n",
       "2010-4   1462.803043      6233.7  1.229426  1.255319   92.741667        3.0   \n",
       "2010-5   1406.337173      9753.9  1.229426  1.255319   92.741667        3.0   \n",
       "...              ...         ...       ...       ...         ...        ...   \n",
       "2021-91   422.282609    243243.0  1.104197  1.072703   89.891667        6.0   \n",
       "2021-93    80.734902      2739.0  1.104197  1.072703   89.891667       14.0   \n",
       "2021-94    65.237675      3483.0  1.104197  1.072703   89.891667        5.0   \n",
       "2021-95   213.709486    198121.0  1.104197  1.072703   89.891667        8.0   \n",
       "2021-20  1526.132188       297.5  1.104197  1.072703   89.891667        5.0   \n",
       "\n",
       "         tmax_c 02  tmax_c 03  tmax_c 04  tmax_c 05  ...  uv_idx 12_n-1  \\\n",
       "2010-1         5.0        7.0        5.0        5.0  ...       1.645161   \n",
       "2010-2         6.0        7.0        6.0        5.0  ...       1.903226   \n",
       "2010-3         5.0        9.0        4.0        3.0  ...       1.774194   \n",
       "2010-4         6.0        6.0        8.0        8.0  ...       1.838710   \n",
       "2010-5         5.0        4.0        6.0        7.0  ...       1.483871   \n",
       "...            ...        ...        ...        ...  ...            ...   \n",
       "2021-91        4.0        4.0        4.0        7.0  ...       2.129032   \n",
       "2021-93        6.0        8.0       14.0       10.0  ...       2.967742   \n",
       "2021-94        4.0        4.0        4.0        7.0  ...       2.096774   \n",
       "2021-95        5.0        4.0        4.0        7.0  ...       1.870968   \n",
       "2021-20        3.0        5.0        4.0        2.0  ...       2.870968   \n",
       "\n",
       "         sunhour 01  sunhour 02  sunhour 03  sunhour 04  sunhour 05  \\\n",
       "2010-1     5.803226    7.564286    9.532258   12.416667   12.158065   \n",
       "2010-2     6.116129    6.335714    9.467742   12.096667   12.693548   \n",
       "2010-3     5.964516    7.667857    9.741935   11.956667   12.332258   \n",
       "2010-4     7.290323    8.550000   10.506452   12.880000   13.706452   \n",
       "2010-5     6.370968    7.753571    9.777419   12.413333   13.283871   \n",
       "...             ...         ...         ...         ...         ...   \n",
       "2021-91    4.958065    7.510714    9.254839   11.213333   11.777419   \n",
       "2021-93    6.835484    8.442857   10.883871   11.123333   13.635484   \n",
       "2021-94    4.951613    7.621429    9.080645   11.260000   11.651613   \n",
       "2021-95    4.658065    7.364286    8.925806   11.236667   11.170968   \n",
       "2021-20    5.767742    8.060714   10.274194   11.476667   13.187097   \n",
       "\n",
       "         sunhour 09_n-1  sunhour 10_n-1  sunhour 11_n-1  sunhour 12_n-1  \n",
       "2010-1        11.066667        8.932258        6.893333        6.077419  \n",
       "2010-2        10.553333        7.745161        5.053333        5.029032  \n",
       "2010-3        10.506667        9.261290        6.766667        5.348387  \n",
       "2010-4        11.273333        9.293548        8.183333        7.467742  \n",
       "2010-5        10.996667        9.490323        7.516667        7.409677  \n",
       "...                 ...             ...             ...             ...  \n",
       "2021-91        9.846667        6.312903        7.233333        4.364516  \n",
       "2021-93       10.196667        8.761290        7.923333        6.506452  \n",
       "2021-94        9.623333        6.380645        7.046667        4.416129  \n",
       "2021-95        9.496667        6.074194        6.410000        4.274194  \n",
       "2021-20       10.140000        7.132258        8.196667        5.764516  \n",
       "\n",
       "[1116 rows x 104 columns]"
      ]
     },
     "execution_count": 21,
     "metadata": {},
     "output_type": "execute_result"
    }
   ],
   "source": [
    "df"
   ]
  },
  {
   "cell_type": "code",
   "execution_count": 22,
   "id": "a09ec440",
   "metadata": {
    "ExecuteTime": {
     "end_time": "2022-03-04T16:39:40.003382Z",
     "start_time": "2022-03-04T16:39:39.945542Z"
    }
   },
   "outputs": [],
   "source": [
    "cols_to_keep=['Agriculteur','Production','RatioSep','RatioOct',\"01\",'02','10','11','12']\n",
    "months_to_shift=['10','11','12']\n",
    "\n",
    "for i in df.columns:\n",
    "    if i[-2:] in cols_to_keep or i in cols_to_keep:\n",
    "        if i[-2:] in months_to_shift:\n",
    "            df[i]=df[i].shift(93)\n",
    "    else :\n",
    "        df=df.drop(columns=[i])"
   ]
  },
  {
   "cell_type": "code",
   "execution_count": 23,
   "id": "59bda48f",
   "metadata": {
    "ExecuteTime": {
     "end_time": "2022-03-04T16:39:40.369408Z",
     "start_time": "2022-03-04T16:39:40.353212Z"
    }
   },
   "outputs": [],
   "source": [
    "df=df.dropna()"
   ]
  },
  {
   "cell_type": "code",
   "execution_count": 8,
   "id": "ab33f01d",
   "metadata": {
    "ExecuteTime": {
     "end_time": "2022-03-04T11:29:29.511017Z",
     "start_time": "2022-03-04T11:29:28.490250Z"
    }
   },
   "outputs": [
    {
     "name": "stdout",
     "output_type": "stream",
     "text": [
      "Requirement already satisfied: seaborn in /Users/constantintalandier/.pyenv/versions/3.8.12/envs/deepagri/lib/python3.8/site-packages (0.11.2)\n",
      "Requirement already satisfied: scipy>=1.0 in /Users/constantintalandier/.pyenv/versions/3.8.12/envs/deepagri/lib/python3.8/site-packages (from seaborn) (1.8.0)\n",
      "Requirement already satisfied: pandas>=0.23 in /Users/constantintalandier/.pyenv/versions/3.8.12/envs/deepagri/lib/python3.8/site-packages (from seaborn) (1.4.1)\n",
      "Requirement already satisfied: numpy>=1.15 in /Users/constantintalandier/.pyenv/versions/3.8.12/envs/deepagri/lib/python3.8/site-packages (from seaborn) (1.22.2)\n",
      "Requirement already satisfied: matplotlib>=2.2 in /Users/constantintalandier/.pyenv/versions/3.8.12/envs/deepagri/lib/python3.8/site-packages (from seaborn) (3.5.1)\n",
      "Requirement already satisfied: pillow>=6.2.0 in /Users/constantintalandier/.pyenv/versions/3.8.12/envs/deepagri/lib/python3.8/site-packages (from matplotlib>=2.2->seaborn) (9.0.1)\n",
      "Requirement already satisfied: pyparsing>=2.2.1 in /Users/constantintalandier/.pyenv/versions/3.8.12/envs/deepagri/lib/python3.8/site-packages (from matplotlib>=2.2->seaborn) (3.0.7)\n",
      "Requirement already satisfied: cycler>=0.10 in /Users/constantintalandier/.pyenv/versions/3.8.12/envs/deepagri/lib/python3.8/site-packages (from matplotlib>=2.2->seaborn) (0.11.0)\n",
      "Requirement already satisfied: python-dateutil>=2.7 in /Users/constantintalandier/.pyenv/versions/3.8.12/envs/deepagri/lib/python3.8/site-packages (from matplotlib>=2.2->seaborn) (2.8.2)\n",
      "Requirement already satisfied: fonttools>=4.22.0 in /Users/constantintalandier/.pyenv/versions/3.8.12/envs/deepagri/lib/python3.8/site-packages (from matplotlib>=2.2->seaborn) (4.29.1)\n",
      "Requirement already satisfied: packaging>=20.0 in /Users/constantintalandier/.pyenv/versions/3.8.12/envs/deepagri/lib/python3.8/site-packages (from matplotlib>=2.2->seaborn) (21.3)\n",
      "Requirement already satisfied: kiwisolver>=1.0.1 in /Users/constantintalandier/.pyenv/versions/3.8.12/envs/deepagri/lib/python3.8/site-packages (from matplotlib>=2.2->seaborn) (1.3.2)\n",
      "Requirement already satisfied: pytz>=2020.1 in /Users/constantintalandier/.pyenv/versions/3.8.12/envs/deepagri/lib/python3.8/site-packages (from pandas>=0.23->seaborn) (2021.3)\n",
      "Requirement already satisfied: six>=1.5 in /Users/constantintalandier/.pyenv/versions/3.8.12/envs/deepagri/lib/python3.8/site-packages (from python-dateutil>=2.7->matplotlib>=2.2->seaborn) (1.16.0)\n"
     ]
    }
   ],
   "source": [
    "!pip install seaborn"
   ]
  },
  {
   "cell_type": "code",
   "execution_count": 9,
   "id": "1cbf93cd",
   "metadata": {
    "ExecuteTime": {
     "end_time": "2022-03-04T11:29:30.414431Z",
     "start_time": "2022-03-04T11:29:29.513771Z"
    }
   },
   "outputs": [
    {
     "name": "stdout",
     "output_type": "stream",
     "text": [
      "Requirement already satisfied: matplotlib in /Users/constantintalandier/.pyenv/versions/3.8.12/envs/deepagri/lib/python3.8/site-packages (3.5.1)\n",
      "Requirement already satisfied: packaging>=20.0 in /Users/constantintalandier/.pyenv/versions/3.8.12/envs/deepagri/lib/python3.8/site-packages (from matplotlib) (21.3)\n",
      "Requirement already satisfied: pillow>=6.2.0 in /Users/constantintalandier/.pyenv/versions/3.8.12/envs/deepagri/lib/python3.8/site-packages (from matplotlib) (9.0.1)\n",
      "Requirement already satisfied: pyparsing>=2.2.1 in /Users/constantintalandier/.pyenv/versions/3.8.12/envs/deepagri/lib/python3.8/site-packages (from matplotlib) (3.0.7)\n",
      "Requirement already satisfied: fonttools>=4.22.0 in /Users/constantintalandier/.pyenv/versions/3.8.12/envs/deepagri/lib/python3.8/site-packages (from matplotlib) (4.29.1)\n",
      "Requirement already satisfied: cycler>=0.10 in /Users/constantintalandier/.pyenv/versions/3.8.12/envs/deepagri/lib/python3.8/site-packages (from matplotlib) (0.11.0)\n",
      "Requirement already satisfied: numpy>=1.17 in /Users/constantintalandier/.pyenv/versions/3.8.12/envs/deepagri/lib/python3.8/site-packages (from matplotlib) (1.22.2)\n",
      "Requirement already satisfied: kiwisolver>=1.0.1 in /Users/constantintalandier/.pyenv/versions/3.8.12/envs/deepagri/lib/python3.8/site-packages (from matplotlib) (1.3.2)\n",
      "Requirement already satisfied: python-dateutil>=2.7 in /Users/constantintalandier/.pyenv/versions/3.8.12/envs/deepagri/lib/python3.8/site-packages (from matplotlib) (2.8.2)\n",
      "Requirement already satisfied: six>=1.5 in /Users/constantintalandier/.pyenv/versions/3.8.12/envs/deepagri/lib/python3.8/site-packages (from python-dateutil>=2.7->matplotlib) (1.16.0)\n"
     ]
    }
   ],
   "source": [
    "!pip install matplotlib"
   ]
  },
  {
   "cell_type": "code",
   "execution_count": 51,
   "id": "3f4b7bdc",
   "metadata": {
    "ExecuteTime": {
     "end_time": "2022-03-04T13:28:41.311871Z",
     "start_time": "2022-03-04T13:28:41.280041Z"
    }
   },
   "outputs": [],
   "source": [
    "import seaborn as sns\n",
    "import matplotlib.pyplot as plt"
   ]
  },
  {
   "cell_type": "code",
   "execution_count": 54,
   "id": "730f9863",
   "metadata": {
    "ExecuteTime": {
     "end_time": "2022-03-04T13:32:22.474339Z",
     "start_time": "2022-03-04T13:32:22.435225Z"
    }
   },
   "outputs": [
    {
     "data": {
      "text/plain": [
       "2010-1     69.712601\n",
       "2010-2     89.977942\n",
       "2010-3          68.0\n",
       "2010-4          35.0\n",
       "2010-5          41.0\n",
       "             ...    \n",
       "2021-91         72.0\n",
       "2021-93         78.0\n",
       "2021-94         72.0\n",
       "2021-95         78.0\n",
       "2021-20         70.0\n",
       "Name: Surface_n-1, Length: 1116, dtype: object"
      ]
     },
     "execution_count": 54,
     "metadata": {},
     "output_type": "execute_result"
    }
   ],
   "source": [
    "df['Surface_n-1']"
   ]
  },
  {
   "cell_type": "code",
   "execution_count": 67,
   "id": "0be8139c",
   "metadata": {
    "ExecuteTime": {
     "end_time": "2022-03-04T13:35:16.736711Z",
     "start_time": "2022-03-04T13:35:16.484611Z"
    }
   },
   "outputs": [
    {
     "data": {
      "text/plain": [
       "<AxesSubplot:>"
      ]
     },
     "execution_count": 67,
     "metadata": {},
     "output_type": "execute_result"
    },
    {
     "data": {
      "image/png": "[encoded data removed]",
      "text/plain": [
       "<Figure size 2160x1440 with 2 Axes>"
      ]
     },
     "metadata": {
      "needs_background": "light"
     },
     "output_type": "display_data"
    }
   ],
   "source": [
    "plt.figure(figsize = (30,20))\n",
    "cols=['Agriculteur','Production','RatioSep','RatioOct','Prix_matos','Surface_n-1']\n",
    "sns.heatmap(df[cols].corr(), \n",
    "            cmap='coolwarm', \n",
    "            annot = True, \n",
    "            annot_kws={\"size\": 10})"
   ]
  },
  {
   "cell_type": "code",
   "execution_count": 12,
   "id": "1fd2890c",
   "metadata": {
    "ExecuteTime": {
     "end_time": "2022-03-04T11:29:38.348244Z",
     "start_time": "2022-03-04T11:29:37.452319Z"
    }
   },
   "outputs": [
    {
     "name": "stdout",
     "output_type": "stream",
     "text": [
      "Requirement already satisfied: xgboost in /Users/constantintalandier/.pyenv/versions/3.8.12/envs/deepagri/lib/python3.8/site-packages (1.5.2)\r\n",
      "Requirement already satisfied: numpy in /Users/constantintalandier/.pyenv/versions/3.8.12/envs/deepagri/lib/python3.8/site-packages (from xgboost) (1.22.2)\r\n",
      "Requirement already satisfied: scipy in /Users/constantintalandier/.pyenv/versions/3.8.12/envs/deepagri/lib/python3.8/site-packages (from xgboost) (1.8.0)\r\n"
     ]
    }
   ],
   "source": [
    "!pip install xgboost"
   ]
  },
  {
   "cell_type": "code",
   "execution_count": 10,
   "id": "0a888ada",
   "metadata": {
    "ExecuteTime": {
     "end_time": "2022-03-04T16:38:30.491331Z",
     "start_time": "2022-03-04T16:38:30.034108Z"
    }
   },
   "outputs": [
    {
     "name": "stderr",
     "output_type": "stream",
     "text": [
      "/Users/constantintalandier/.pyenv/versions/3.8.12/envs/deepagri/lib/python3.8/site-packages/xgboost/compat.py:36: FutureWarning: pandas.Int64Index is deprecated and will be removed from pandas in a future version. Use pandas.Index with the appropriate dtype instead.\n",
      "  from pandas import MultiIndex, Int64Index\n"
     ]
    }
   ],
   "source": [
    "from sklearn.preprocessing import RobustScaler\n",
    "from sklearn.pipeline import Pipeline\n",
    "from sklearn import set_config; set_config(display='diagram')\n",
    "from xgboost import XGBRegressor\n",
    "from sklearn.model_selection import cross_validate\n",
    "\n",
    "xgb=XGBRegressor(max_depth=10, n_estimators=100, learning_rate=0.1)\n",
    "\n",
    "scaler=RobustScaler()\n",
    "pipe=Pipeline([\n",
    "         ('Scaler',scaler),\n",
    "         ('XGBoost',xgb)\n",
    "])"
   ]
  },
  {
   "cell_type": "code",
   "execution_count": 13,
   "id": "dd29a4e4",
   "metadata": {
    "ExecuteTime": {
     "end_time": "2022-03-04T16:39:04.655451Z",
     "start_time": "2022-03-04T16:39:04.617649Z"
    }
   },
   "outputs": [],
   "source": [
    "X_test=df.iloc[-93:].drop(columns=['Production'])\n",
    "#X_test=df.iloc[-93:][['Surface_n-1','Agriculteur','windspeed_max sept-jan_n-1']]\n",
    "y_test=df.iloc[-93:]['Production']\n",
    "X_train=df.iloc[:-93].drop(columns=['Production'])\n",
    "#X_train=df.iloc[:-93][['Surface_n-1','Agriculteur','']]\n",
    "y_train=df.iloc[:-93]['Production']"
   ]
  },
  {
   "cell_type": "code",
   "execution_count": 14,
   "id": "afbc8212",
   "metadata": {
    "ExecuteTime": {
     "end_time": "2022-03-04T16:39:06.774932Z",
     "start_time": "2022-03-04T16:39:05.631682Z"
    }
   },
   "outputs": [
    {
     "data": {
      "text/html": [
       "<style>#sk-b7bb1105-4f38-4aaf-ad43-b07781c3f555 {color: black;background-color: white;}#sk-b7bb1105-4f38-4aaf-ad43-b07781c3f555 pre{padding: 0;}#sk-b7bb1105-4f38-4aaf-ad43-b07781c3f555 div.sk-toggleable {background-color: white;}#sk-b7bb1105-4f38-4aaf-ad43-b07781c3f555 label.sk-toggleable__label {cursor: pointer;display: block;width: 100%;margin-bottom: 0;padding: 0.3em;box-sizing: border-box;text-align: center;}#sk-b7bb1105-4f38-4aaf-ad43-b07781c3f555 label.sk-toggleable__label-arrow:before {content: \"▸\";float: left;margin-right: 0.25em;color: #696969;}#sk-b7bb1105-4f38-4aaf-ad43-b07781c3f555 label.sk-toggleable__label-arrow:hover:before {color: black;}#sk-b7bb1105-4f38-4aaf-ad43-b07781c3f555 div.sk-estimator:hover label.sk-toggleable__label-arrow:before {color: black;}#sk-b7bb1105-4f38-4aaf-ad43-b07781c3f555 div.sk-toggleable__content {max-height: 0;max-width: 0;overflow: hidden;text-align: left;background-color: #f0f8ff;}#sk-b7bb1105-4f38-4aaf-ad43-b07781c3f555 div.sk-toggleable__content pre {margin: 0.2em;color: black;border-radius: 0.25em;background-color: #f0f8ff;}#sk-b7bb1105-4f38-4aaf-ad43-b07781c3f555 input.sk-toggleable__control:checked~div.sk-toggleable__content {max-height: 200px;max-width: 100%;overflow: auto;}#sk-b7bb1105-4f38-4aaf-ad43-b07781c3f555 input.sk-toggleable__control:checked~label.sk-toggleable__label-arrow:before {content: \"▾\";}#sk-b7bb1105-4f38-4aaf-ad43-b07781c3f555 div.sk-estimator input.sk-toggleable__control:checked~label.sk-toggleable__label {background-color: #d4ebff;}#sk-b7bb1105-4f38-4aaf-ad43-b07781c3f555 div.sk-label input.sk-toggleable__control:checked~label.sk-toggleable__label {background-color: #d4ebff;}#sk-b7bb1105-4f38-4aaf-ad43-b07781c3f555 input.sk-hidden--visually {border: 0;clip: rect(1px 1px 1px 1px);clip: rect(1px, 1px, 1px, 1px);height: 1px;margin: -1px;overflow: hidden;padding: 0;position: absolute;width: 1px;}#sk-b7bb1105-4f38-4aaf-ad43-b07781c3f555 div.sk-estimator {font-family: monospace;background-color: #f0f8ff;border: 1px dotted black;border-radius: 0.25em;box-sizing: border-box;margin-bottom: 0.5em;}#sk-b7bb1105-4f38-4aaf-ad43-b07781c3f555 div.sk-estimator:hover {background-color: #d4ebff;}#sk-b7bb1105-4f38-4aaf-ad43-b07781c3f555 div.sk-parallel-item::after {content: \"\";width: 100%;border-bottom: 1px solid gray;flex-grow: 1;}#sk-b7bb1105-4f38-4aaf-ad43-b07781c3f555 div.sk-label:hover label.sk-toggleable__label {background-color: #d4ebff;}#sk-b7bb1105-4f38-4aaf-ad43-b07781c3f555 div.sk-serial::before {content: \"\";position: absolute;border-left: 1px solid gray;box-sizing: border-box;top: 2em;bottom: 0;left: 50%;}#sk-b7bb1105-4f38-4aaf-ad43-b07781c3f555 div.sk-serial {display: flex;flex-direction: column;align-items: center;background-color: white;padding-right: 0.2em;padding-left: 0.2em;}#sk-b7bb1105-4f38-4aaf-ad43-b07781c3f555 div.sk-item {z-index: 1;}#sk-b7bb1105-4f38-4aaf-ad43-b07781c3f555 div.sk-parallel {display: flex;align-items: stretch;justify-content: center;background-color: white;}#sk-b7bb1105-4f38-4aaf-ad43-b07781c3f555 div.sk-parallel::before {content: \"\";position: absolute;border-left: 1px solid gray;box-sizing: border-box;top: 2em;bottom: 0;left: 50%;}#sk-b7bb1105-4f38-4aaf-ad43-b07781c3f555 div.sk-parallel-item {display: flex;flex-direction: column;position: relative;background-color: white;}#sk-b7bb1105-4f38-4aaf-ad43-b07781c3f555 div.sk-parallel-item:first-child::after {align-self: flex-end;width: 50%;}#sk-b7bb1105-4f38-4aaf-ad43-b07781c3f555 div.sk-parallel-item:last-child::after {align-self: flex-start;width: 50%;}#sk-b7bb1105-4f38-4aaf-ad43-b07781c3f555 div.sk-parallel-item:only-child::after {width: 0;}#sk-b7bb1105-4f38-4aaf-ad43-b07781c3f555 div.sk-dashed-wrapped {border: 1px dashed gray;margin: 0 0.4em 0.5em 0.4em;box-sizing: border-box;padding-bottom: 0.4em;background-color: white;position: relative;}#sk-b7bb1105-4f38-4aaf-ad43-b07781c3f555 div.sk-label label {font-family: monospace;font-weight: bold;background-color: white;display: inline-block;line-height: 1.2em;}#sk-b7bb1105-4f38-4aaf-ad43-b07781c3f555 div.sk-label-container {position: relative;z-index: 2;text-align: center;}#sk-b7bb1105-4f38-4aaf-ad43-b07781c3f555 div.sk-container {/* jupyter's `normalize.less` sets `[hidden] { display: none; }` but bootstrap.min.css set `[hidden] { display: none !important; }` so we also need the `!important` here to be able to override the default hidden behavior on the sphinx rendered scikit-learn.org. See: https://github.com/scikit-learn/scikit-learn/issues/21755 */display: inline-block !important;position: relative;}#sk-b7bb1105-4f38-4aaf-ad43-b07781c3f555 div.sk-text-repr-fallback {display: none;}</style><div id=\"sk-b7bb1105-4f38-4aaf-ad43-b07781c3f555\" class=\"sk-top-container\"><div class=\"sk-text-repr-fallback\"><pre>Pipeline(steps=[(&#x27;Scaler&#x27;, RobustScaler()),\n",
       "                (&#x27;XGBoost&#x27;,\n",
       "                 XGBRegressor(base_score=0.5, booster=&#x27;gbtree&#x27;,\n",
       "                              colsample_bylevel=1, colsample_bynode=1,\n",
       "                              colsample_bytree=1, enable_categorical=False,\n",
       "                              gamma=0, gpu_id=-1, importance_type=None,\n",
       "                              interaction_constraints=&#x27;&#x27;, learning_rate=0.1,\n",
       "                              max_delta_step=0, max_depth=10,\n",
       "                              min_child_weight=1, missing=nan,\n",
       "                              monotone_constraints=&#x27;()&#x27;, n_estimators=100,\n",
       "                              n_jobs=10, num_parallel_tree=1, predictor=&#x27;auto&#x27;,\n",
       "                              random_state=0, reg_alpha=0, reg_lambda=1,\n",
       "                              scale_pos_weight=1, subsample=1,\n",
       "                              tree_method=&#x27;exact&#x27;, validate_parameters=1,\n",
       "                              verbosity=None))])</pre><b>Please rerun this cell to show the HTML repr or trust the notebook.</b></div><div class=\"sk-container\" hidden><div class=\"sk-item sk-dashed-wrapped\"><div class=\"sk-label-container\"><div class=\"sk-label sk-toggleable\"><input class=\"sk-toggleable__control sk-hidden--visually\" id=\"664e052e-3386-4fdd-8f6f-a993e71385f6\" type=\"checkbox\" ><label for=\"664e052e-3386-4fdd-8f6f-a993e71385f6\" class=\"sk-toggleable__label sk-toggleable__label-arrow\">Pipeline</label><div class=\"sk-toggleable__content\"><pre>Pipeline(steps=[(&#x27;Scaler&#x27;, RobustScaler()),\n",
       "                (&#x27;XGBoost&#x27;,\n",
       "                 XGBRegressor(base_score=0.5, booster=&#x27;gbtree&#x27;,\n",
       "                              colsample_bylevel=1, colsample_bynode=1,\n",
       "                              colsample_bytree=1, enable_categorical=False,\n",
       "                              gamma=0, gpu_id=-1, importance_type=None,\n",
       "                              interaction_constraints=&#x27;&#x27;, learning_rate=0.1,\n",
       "                              max_delta_step=0, max_depth=10,\n",
       "                              min_child_weight=1, missing=nan,\n",
       "                              monotone_constraints=&#x27;()&#x27;, n_estimators=100,\n",
       "                              n_jobs=10, num_parallel_tree=1, predictor=&#x27;auto&#x27;,\n",
       "                              random_state=0, reg_alpha=0, reg_lambda=1,\n",
       "                              scale_pos_weight=1, subsample=1,\n",
       "                              tree_method=&#x27;exact&#x27;, validate_parameters=1,\n",
       "                              verbosity=None))])</pre></div></div></div><div class=\"sk-serial\"><div class=\"sk-item\"><div class=\"sk-estimator sk-toggleable\"><input class=\"sk-toggleable__control sk-hidden--visually\" id=\"da9d4315-a9e5-43dc-955f-b713efcc883b\" type=\"checkbox\" ><label for=\"da9d4315-a9e5-43dc-955f-b713efcc883b\" class=\"sk-toggleable__label sk-toggleable__label-arrow\">RobustScaler</label><div class=\"sk-toggleable__content\"><pre>RobustScaler()</pre></div></div></div><div class=\"sk-item\"><div class=\"sk-estimator sk-toggleable\"><input class=\"sk-toggleable__control sk-hidden--visually\" id=\"d34a87c9-8857-4f2c-b146-1e027ab78bbe\" type=\"checkbox\" ><label for=\"d34a87c9-8857-4f2c-b146-1e027ab78bbe\" class=\"sk-toggleable__label sk-toggleable__label-arrow\">XGBRegressor</label><div class=\"sk-toggleable__content\"><pre>XGBRegressor(base_score=0.5, booster=&#x27;gbtree&#x27;, colsample_bylevel=1,\n",
       "             colsample_bynode=1, colsample_bytree=1, enable_categorical=False,\n",
       "             gamma=0, gpu_id=-1, importance_type=None,\n",
       "             interaction_constraints=&#x27;&#x27;, learning_rate=0.1, max_delta_step=0,\n",
       "             max_depth=10, min_child_weight=1, missing=nan,\n",
       "             monotone_constraints=&#x27;()&#x27;, n_estimators=100, n_jobs=10,\n",
       "             num_parallel_tree=1, predictor=&#x27;auto&#x27;, random_state=0, reg_alpha=0,\n",
       "             reg_lambda=1, scale_pos_weight=1, subsample=1, tree_method=&#x27;exact&#x27;,\n",
       "             validate_parameters=1, verbosity=None)</pre></div></div></div></div></div></div></div>"
      ],
      "text/plain": [
       "Pipeline(steps=[('Scaler', RobustScaler()),\n",
       "                ('XGBoost',\n",
       "                 XGBRegressor(base_score=0.5, booster='gbtree',\n",
       "                              colsample_bylevel=1, colsample_bynode=1,\n",
       "                              colsample_bytree=1, enable_categorical=False,\n",
       "                              gamma=0, gpu_id=-1, importance_type=None,\n",
       "                              interaction_constraints='', learning_rate=0.1,\n",
       "                              max_delta_step=0, max_depth=10,\n",
       "                              min_child_weight=1, missing=nan,\n",
       "                              monotone_constraints='()', n_estimators=100,\n",
       "                              n_jobs=10, num_parallel_tree=1, predictor='auto',\n",
       "                              random_state=0, reg_alpha=0, reg_lambda=1,\n",
       "                              scale_pos_weight=1, subsample=1,\n",
       "                              tree_method='exact', validate_parameters=1,\n",
       "                              verbosity=None))])"
      ]
     },
     "execution_count": 14,
     "metadata": {},
     "output_type": "execute_result"
    }
   ],
   "source": [
    "pipe.fit(X_train,y_train)"
   ]
  },
  {
   "cell_type": "code",
   "execution_count": 15,
   "id": "83305922",
   "metadata": {
    "ExecuteTime": {
     "end_time": "2022-03-04T16:39:07.914528Z",
     "start_time": "2022-03-04T16:39:07.875204Z"
    }
   },
   "outputs": [],
   "source": [
    "y_pred=pipe.predict(X_test)"
   ]
  },
  {
   "cell_type": "code",
   "execution_count": 16,
   "id": "ad9bc926",
   "metadata": {
    "ExecuteTime": {
     "end_time": "2022-03-04T16:39:09.670068Z",
     "start_time": "2022-03-04T16:39:09.634373Z"
    }
   },
   "outputs": [],
   "source": [
    "from sklearn.metrics import mean_absolute_error\n",
    "from sklearn.metrics import mean_absolute_percentage_error"
   ]
  },
  {
   "cell_type": "code",
   "execution_count": 17,
   "id": "0944d7af",
   "metadata": {
    "ExecuteTime": {
     "end_time": "2022-03-04T16:39:10.057476Z",
     "start_time": "2022-03-04T16:39:10.040348Z"
    }
   },
   "outputs": [
    {
     "data": {
      "text/plain": [
       "24.74900589645665"
      ]
     },
     "execution_count": 17,
     "metadata": {},
     "output_type": "execute_result"
    }
   ],
   "source": [
    "mean_absolute_percentage_error(y_test,y_pred)"
   ]
  },
  {
   "cell_type": "code",
   "execution_count": 18,
   "id": "07c4e03a",
   "metadata": {
    "ExecuteTime": {
     "end_time": "2022-03-04T16:39:12.208141Z",
     "start_time": "2022-03-04T16:39:12.173012Z"
    }
   },
   "outputs": [
    {
     "data": {
      "text/plain": [
       "42264396.0"
      ]
     },
     "execution_count": 18,
     "metadata": {},
     "output_type": "execute_result"
    }
   ],
   "source": [
    "y_pred.sum()"
   ]
  },
  {
   "cell_type": "code",
   "execution_count": 19,
   "id": "9295867e",
   "metadata": {
    "ExecuteTime": {
     "end_time": "2022-03-04T16:39:15.092447Z",
     "start_time": "2022-03-04T16:39:15.060380Z"
    }
   },
   "outputs": [
    {
     "data": {
      "text/plain": [
       "35409386.8"
      ]
     },
     "execution_count": 19,
     "metadata": {},
     "output_type": "execute_result"
    }
   ],
   "source": [
    "y_test.sum()"
   ]
  },
  {
   "cell_type": "code",
   "execution_count": 97,
   "id": "5ab86d3e",
   "metadata": {
    "ExecuteTime": {
     "end_time": "2022-03-04T13:40:18.345961Z",
     "start_time": "2022-03-04T13:40:15.304422Z"
    }
   },
   "outputs": [
    {
     "data": {
      "text/html": [
       "<div>\n",
       "<style scoped>\n",
       "    .dataframe tbody tr th:only-of-type {\n",
       "        vertical-align: middle;\n",
       "    }\n",
       "\n",
       "    .dataframe tbody tr th {\n",
       "        vertical-align: top;\n",
       "    }\n",
       "\n",
       "    .dataframe thead th {\n",
       "        text-align: right;\n",
       "    }\n",
       "</style>\n",
       "<table border=\"1\" class=\"dataframe\">\n",
       "  <thead>\n",
       "    <tr style=\"text-align: right;\">\n",
       "      <th></th>\n",
       "      <th>feature</th>\n",
       "      <th>score decrease</th>\n",
       "    </tr>\n",
       "  </thead>\n",
       "  <tbody>\n",
       "    <tr>\n",
       "      <th>4</th>\n",
       "      <td>Surface_n-1</td>\n",
       "      <td>0.665657</td>\n",
       "    </tr>\n",
       "    <tr>\n",
       "      <th>0</th>\n",
       "      <td>Agriculteur</td>\n",
       "      <td>0.277061</td>\n",
       "    </tr>\n",
       "    <tr>\n",
       "      <th>10</th>\n",
       "      <td>windspeed_max sept-jan_n-1</td>\n",
       "      <td>0.12188</td>\n",
       "    </tr>\n",
       "    <tr>\n",
       "      <th>25</th>\n",
       "      <td>sunhour jan-mar</td>\n",
       "      <td>0.084536</td>\n",
       "    </tr>\n",
       "    <tr>\n",
       "      <th>11</th>\n",
       "      <td>rain_mm jan-mar</td>\n",
       "      <td>0.071363</td>\n",
       "    </tr>\n",
       "    <tr>\n",
       "      <th>9</th>\n",
       "      <td>windspeed_max jan-mar</td>\n",
       "      <td>0.061193</td>\n",
       "    </tr>\n",
       "    <tr>\n",
       "      <th>16</th>\n",
       "      <td>pressuremax_mb sept-jan_n-1</td>\n",
       "      <td>0.046844</td>\n",
       "    </tr>\n",
       "    <tr>\n",
       "      <th>22</th>\n",
       "      <td>snow_mm sept-jan_n-1</td>\n",
       "      <td>0.042867</td>\n",
       "    </tr>\n",
       "    <tr>\n",
       "      <th>12</th>\n",
       "      <td>rain_mm sept-jan_n-1</td>\n",
       "      <td>0.032176</td>\n",
       "    </tr>\n",
       "    <tr>\n",
       "      <th>13</th>\n",
       "      <td>humidity_pct jan-mar</td>\n",
       "      <td>0.030734</td>\n",
       "    </tr>\n",
       "    <tr>\n",
       "      <th>23</th>\n",
       "      <td>uv_idx jan-mar</td>\n",
       "      <td>0.01868</td>\n",
       "    </tr>\n",
       "    <tr>\n",
       "      <th>26</th>\n",
       "      <td>sunhour sept-jan_n-1</td>\n",
       "      <td>0.017097</td>\n",
       "    </tr>\n",
       "    <tr>\n",
       "      <th>24</th>\n",
       "      <td>uv_idx sept-jan_n-1</td>\n",
       "      <td>0.012075</td>\n",
       "    </tr>\n",
       "    <tr>\n",
       "      <th>15</th>\n",
       "      <td>pressuremax_mb jan-mar</td>\n",
       "      <td>0.008165</td>\n",
       "    </tr>\n",
       "    <tr>\n",
       "      <th>21</th>\n",
       "      <td>snow_mm jan-mar</td>\n",
       "      <td>0.007192</td>\n",
       "    </tr>\n",
       "    <tr>\n",
       "      <th>17</th>\n",
       "      <td>cloudcov_avg_pct jan-mar</td>\n",
       "      <td>0.006349</td>\n",
       "    </tr>\n",
       "    <tr>\n",
       "      <th>8</th>\n",
       "      <td>tmin_c sept-jan_n-1</td>\n",
       "      <td>0.005401</td>\n",
       "    </tr>\n",
       "    <tr>\n",
       "      <th>14</th>\n",
       "      <td>humidity_pct sept-jan_n-1</td>\n",
       "      <td>0.005372</td>\n",
       "    </tr>\n",
       "    <tr>\n",
       "      <th>3</th>\n",
       "      <td>Prix_matos</td>\n",
       "      <td>0.005258</td>\n",
       "    </tr>\n",
       "    <tr>\n",
       "      <th>18</th>\n",
       "      <td>cloudcov_avg_pct sept-jan_n-1</td>\n",
       "      <td>0.003656</td>\n",
       "    </tr>\n",
       "    <tr>\n",
       "      <th>19</th>\n",
       "      <td>dewmax_c jan-mar</td>\n",
       "      <td>0.002603</td>\n",
       "    </tr>\n",
       "    <tr>\n",
       "      <th>6</th>\n",
       "      <td>tmax_c sept-jan_n-1</td>\n",
       "      <td>0.001986</td>\n",
       "    </tr>\n",
       "    <tr>\n",
       "      <th>1</th>\n",
       "      <td>RatioSep</td>\n",
       "      <td>0.001956</td>\n",
       "    </tr>\n",
       "    <tr>\n",
       "      <th>7</th>\n",
       "      <td>tmin_c jan-mar</td>\n",
       "      <td>0.001412</td>\n",
       "    </tr>\n",
       "    <tr>\n",
       "      <th>20</th>\n",
       "      <td>dewmax_c sept-jan_n-1</td>\n",
       "      <td>0.001403</td>\n",
       "    </tr>\n",
       "    <tr>\n",
       "      <th>5</th>\n",
       "      <td>tmax_c jan-mar</td>\n",
       "      <td>0.001019</td>\n",
       "    </tr>\n",
       "    <tr>\n",
       "      <th>2</th>\n",
       "      <td>RatioOct</td>\n",
       "      <td>0.000078</td>\n",
       "    </tr>\n",
       "  </tbody>\n",
       "</table>\n",
       "</div>"
      ],
      "text/plain": [
       "                          feature score decrease\n",
       "4                     Surface_n-1       0.665657\n",
       "0                     Agriculteur       0.277061\n",
       "10     windspeed_max sept-jan_n-1        0.12188\n",
       "25                sunhour jan-mar       0.084536\n",
       "11                rain_mm jan-mar       0.071363\n",
       "9           windspeed_max jan-mar       0.061193\n",
       "16    pressuremax_mb sept-jan_n-1       0.046844\n",
       "22           snow_mm sept-jan_n-1       0.042867\n",
       "12           rain_mm sept-jan_n-1       0.032176\n",
       "13           humidity_pct jan-mar       0.030734\n",
       "23                 uv_idx jan-mar        0.01868\n",
       "26           sunhour sept-jan_n-1       0.017097\n",
       "24            uv_idx sept-jan_n-1       0.012075\n",
       "15         pressuremax_mb jan-mar       0.008165\n",
       "21                snow_mm jan-mar       0.007192\n",
       "17       cloudcov_avg_pct jan-mar       0.006349\n",
       "8             tmin_c sept-jan_n-1       0.005401\n",
       "14      humidity_pct sept-jan_n-1       0.005372\n",
       "3                      Prix_matos       0.005258\n",
       "18  cloudcov_avg_pct sept-jan_n-1       0.003656\n",
       "19               dewmax_c jan-mar       0.002603\n",
       "6             tmax_c sept-jan_n-1       0.001986\n",
       "1                        RatioSep       0.001956\n",
       "7                  tmin_c jan-mar       0.001412\n",
       "20          dewmax_c sept-jan_n-1       0.001403\n",
       "5                  tmax_c jan-mar       0.001019\n",
       "2                        RatioOct       0.000078"
      ]
     },
     "execution_count": 97,
     "metadata": {},
     "output_type": "execute_result"
    }
   ],
   "source": [
    "X=df.drop(columns=['Production','date jan-mar','date sept-jan_n-1'])\n",
    "y=df['Production']\n",
    "import pandas as pd\n",
    "from sklearn.inspection import permutation_importance\n",
    "pipe.fit(X,y)\n",
    "permutation_score = permutation_importance(pipe, X, y, n_repeats=10)\n",
    "importance_df = pd.DataFrame(np.vstack((X.columns,permutation_score.importances_mean)).T) # Unstack results from permutation_score\n",
    "\n",
    "importance_df.columns=['feature','score decrease']\n",
    "importance_df.sort_values(by=\"score decrease\", ascending = False) # Order by importance"
   ]
  },
  {
   "cell_type": "code",
   "execution_count": 22,
   "id": "32f17515",
   "metadata": {
    "ExecuteTime": {
     "end_time": "2022-03-04T11:29:43.621598Z",
     "start_time": "2022-03-04T11:29:42.717646Z"
    }
   },
   "outputs": [
    {
     "name": "stdout",
     "output_type": "stream",
     "text": [
      "Requirement already satisfied: statsmodels in /Users/constantintalandier/.pyenv/versions/3.8.12/envs/deepagri/lib/python3.8/site-packages (0.13.2)\n",
      "Requirement already satisfied: pandas>=0.25 in /Users/constantintalandier/.pyenv/versions/3.8.12/envs/deepagri/lib/python3.8/site-packages (from statsmodels) (1.4.1)\n",
      "Requirement already satisfied: numpy>=1.17 in /Users/constantintalandier/.pyenv/versions/3.8.12/envs/deepagri/lib/python3.8/site-packages (from statsmodels) (1.22.2)\n",
      "Requirement already satisfied: scipy>=1.3 in /Users/constantintalandier/.pyenv/versions/3.8.12/envs/deepagri/lib/python3.8/site-packages (from statsmodels) (1.8.0)\n",
      "Requirement already satisfied: patsy>=0.5.2 in /Users/constantintalandier/.pyenv/versions/3.8.12/envs/deepagri/lib/python3.8/site-packages (from statsmodels) (0.5.2)\n",
      "Requirement already satisfied: packaging>=21.3 in /Users/constantintalandier/.pyenv/versions/3.8.12/envs/deepagri/lib/python3.8/site-packages (from statsmodels) (21.3)\n",
      "Requirement already satisfied: pyparsing!=3.0.5,>=2.0.2 in /Users/constantintalandier/.pyenv/versions/3.8.12/envs/deepagri/lib/python3.8/site-packages (from packaging>=21.3->statsmodels) (3.0.7)\n",
      "Requirement already satisfied: python-dateutil>=2.8.1 in /Users/constantintalandier/.pyenv/versions/3.8.12/envs/deepagri/lib/python3.8/site-packages (from pandas>=0.25->statsmodels) (2.8.2)\n",
      "Requirement already satisfied: pytz>=2020.1 in /Users/constantintalandier/.pyenv/versions/3.8.12/envs/deepagri/lib/python3.8/site-packages (from pandas>=0.25->statsmodels) (2021.3)\n",
      "Requirement already satisfied: six in /Users/constantintalandier/.pyenv/versions/3.8.12/envs/deepagri/lib/python3.8/site-packages (from patsy>=0.5.2->statsmodels) (1.16.0)\n"
     ]
    }
   ],
   "source": [
    "!pip install statsmodels"
   ]
  },
  {
   "cell_type": "code",
   "execution_count": 23,
   "id": "a373c268",
   "metadata": {
    "ExecuteTime": {
     "end_time": "2022-03-04T11:29:44.055081Z",
     "start_time": "2022-03-04T11:29:43.624139Z"
    }
   },
   "outputs": [
    {
     "ename": "NameError",
     "evalue": "name 'data_no_na_price' is not defined",
     "output_type": "error",
     "traceback": [
      "\u001b[0;31m---------------------------------------------------------------------------\u001b[0m",
      "\u001b[0;31mNameError\u001b[0m                                 Traceback (most recent call last)",
      "Input \u001b[0;32mIn [23]\u001b[0m, in \u001b[0;36m<cell line: 7>\u001b[0;34m()\u001b[0m\n\u001b[1;32m      5\u001b[0m df_[\u001b[38;5;124m\"\u001b[39m\u001b[38;5;124mfeatures\u001b[39m\u001b[38;5;124m\"\u001b[39m] \u001b[38;5;241m=\u001b[39m df_corr\u001b[38;5;241m.\u001b[39mindex\n\u001b[1;32m      7\u001b[0m \u001b[38;5;28;01mfor\u001b[39;00m i \u001b[38;5;129;01min\u001b[39;00m \u001b[38;5;28mrange\u001b[39m(df_corr\u001b[38;5;241m.\u001b[39mshape[\u001b[38;5;241m0\u001b[39m]):\n\u001b[0;32m----> 8\u001b[0m     df_\u001b[38;5;241m.\u001b[39mloc[i,\u001b[38;5;124m\"\u001b[39m\u001b[38;5;124mvif_index\u001b[39m\u001b[38;5;124m\"\u001b[39m] \u001b[38;5;241m=\u001b[39m vif(\u001b[43mdata_no_na_price\u001b[49m[df_corr\u001b[38;5;241m.\u001b[39mindex]\u001b[38;5;241m.\u001b[39mvalues, i)\n\u001b[1;32m     10\u001b[0m \u001b[38;5;28mround\u001b[39m(df_\u001b[38;5;241m.\u001b[39msort_values(by\u001b[38;5;241m=\u001b[39m\u001b[38;5;124m\"\u001b[39m\u001b[38;5;124mvif_index\u001b[39m\u001b[38;5;124m\"\u001b[39m, ascending \u001b[38;5;241m=\u001b[39m \u001b[38;5;28;01mFalse\u001b[39;00m),\u001b[38;5;241m2\u001b[39m)\n",
      "\u001b[0;31mNameError\u001b[0m: name 'data_no_na_price' is not defined"
     ]
    }
   ],
   "source": [
    "from statsmodels.stats.outliers_influence import variance_inflation_factor as vif\n",
    "df_corr=df.corr()\n",
    "df_ = pd.DataFrame()\n",
    "\n",
    "df_[\"features\"] = df_corr.index\n",
    "\n",
    "for i in range(df_corr.shape[0]):\n",
    "    df_.loc[i,\"vif_index\"] = vif(data_no_na_price[df_corr.index].values, i)\n",
    "\n",
    "round(df_.sort_values(by=\"vif_index\", ascending = False),2)"
   ]
  },
  {
   "cell_type": "code",
   "execution_count": 24,
   "id": "191f0d44",
   "metadata": {
    "ExecuteTime": {
     "end_time": "2022-03-04T11:29:51.532903Z",
     "start_time": "2022-03-04T11:29:51.495510Z"
    }
   },
   "outputs": [],
   "source": [
    "from deepagri.meteo_agg import agg_meteo"
   ]
  },
  {
   "cell_type": "code",
   "execution_count": 25,
   "id": "5404c01d",
   "metadata": {
    "ExecuteTime": {
     "end_time": "2022-03-04T11:30:16.142292Z",
     "start_time": "2022-03-04T11:29:51.813689Z"
    }
   },
   "outputs": [],
   "source": [
    "df_meteo=agg_meteo(agg_type='W')"
   ]
  },
  {
   "cell_type": "code",
   "execution_count": 42,
   "id": "686eb323",
   "metadata": {
    "ExecuteTime": {
     "end_time": "2022-03-04T11:32:31.453393Z",
     "start_time": "2022-03-04T11:32:31.411890Z"
    }
   },
   "outputs": [],
   "source": [
    "from deepagri.data_rendement import get_data_rendement"
   ]
  },
  {
   "cell_type": "code",
   "execution_count": 43,
   "id": "fb84b39d",
   "metadata": {
    "ExecuteTime": {
     "end_time": "2022-03-04T11:32:32.126201Z",
     "start_time": "2022-03-04T11:32:31.776874Z"
    }
   },
   "outputs": [
    {
     "name": "stderr",
     "output_type": "stream",
     "text": [
      "/Users/constantintalandier/.pyenv/versions/3.8.12/envs/deepagri/lib/python3.8/site-packages/pandas/core/indexes/base.py:6982: FutureWarning: In a future version, the Index constructor will not infer numeric dtypes when passed object-dtype sequences (matching Series behavior)\n",
      "  return Index(sequences[0], name=names)\n"
     ]
    }
   ],
   "source": [
    "df_surface=get_data_rendement()"
   ]
  },
  {
   "cell_type": "code",
   "execution_count": 44,
   "id": "e3e63c28",
   "metadata": {
    "ExecuteTime": {
     "end_time": "2022-03-04T11:32:32.458375Z",
     "start_time": "2022-03-04T11:32:32.438301Z"
    }
   },
   "outputs": [
    {
     "data": {
      "text/html": [
       "<div>\n",
       "<style scoped>\n",
       "    .dataframe tbody tr th:only-of-type {\n",
       "        vertical-align: middle;\n",
       "    }\n",
       "\n",
       "    .dataframe tbody tr th {\n",
       "        vertical-align: top;\n",
       "    }\n",
       "\n",
       "    .dataframe thead th {\n",
       "        text-align: right;\n",
       "    }\n",
       "</style>\n",
       "<table border=\"1\" class=\"dataframe\">\n",
       "  <thead>\n",
       "    <tr style=\"text-align: right;\">\n",
       "      <th></th>\n",
       "      <th>Surface</th>\n",
       "    </tr>\n",
       "    <tr>\n",
       "      <th>Ind</th>\n",
       "      <th></th>\n",
       "    </tr>\n",
       "  </thead>\n",
       "  <tbody>\n",
       "    <tr>\n",
       "      <th>2010-1</th>\n",
       "      <td>33300.0</td>\n",
       "    </tr>\n",
       "    <tr>\n",
       "      <th>2010-2</th>\n",
       "      <td>177466.0</td>\n",
       "    </tr>\n",
       "    <tr>\n",
       "      <th>2010-3</th>\n",
       "      <td>47300.0</td>\n",
       "    </tr>\n",
       "    <tr>\n",
       "      <th>2010-4</th>\n",
       "      <td>1889.0</td>\n",
       "    </tr>\n",
       "    <tr>\n",
       "      <th>2010-5</th>\n",
       "      <td>2379.0</td>\n",
       "    </tr>\n",
       "    <tr>\n",
       "      <th>...</th>\n",
       "      <td>...</td>\n",
       "    </tr>\n",
       "    <tr>\n",
       "      <th>2022-90</th>\n",
       "      <td>2940.0</td>\n",
       "    </tr>\n",
       "    <tr>\n",
       "      <th>2022-91</th>\n",
       "      <td>28380.0</td>\n",
       "    </tr>\n",
       "    <tr>\n",
       "      <th>2022-93</th>\n",
       "      <td>320.0</td>\n",
       "    </tr>\n",
       "    <tr>\n",
       "      <th>2022-94</th>\n",
       "      <td>415.0</td>\n",
       "    </tr>\n",
       "    <tr>\n",
       "      <th>2022-95</th>\n",
       "      <td>23865.0</td>\n",
       "    </tr>\n",
       "  </tbody>\n",
       "</table>\n",
       "<p>1209 rows × 1 columns</p>\n",
       "</div>"
      ],
      "text/plain": [
       "          Surface\n",
       "Ind              \n",
       "2010-1    33300.0\n",
       "2010-2   177466.0\n",
       "2010-3    47300.0\n",
       "2010-4     1889.0\n",
       "2010-5     2379.0\n",
       "...           ...\n",
       "2022-90    2940.0\n",
       "2022-91   28380.0\n",
       "2022-93     320.0\n",
       "2022-94     415.0\n",
       "2022-95   23865.0\n",
       "\n",
       "[1209 rows x 1 columns]"
      ]
     },
     "execution_count": 44,
     "metadata": {},
     "output_type": "execute_result"
    }
   ],
   "source": [
    "df_surface"
   ]
  },
  {
   "cell_type": "code",
   "execution_count": 31,
   "id": "d5b37702",
   "metadata": {
    "ExecuteTime": {
     "end_time": "2022-03-04T11:30:18.448409Z",
     "start_time": "2022-03-04T11:30:18.387854Z"
    },
    "collapsed": true
   },
   "outputs": [
    {
     "name": "stdout",
     "output_type": "stream",
     "text": [
      "2010-1 2010-2 2010-3 2010-4 2010-5 2010-6 2010-7 2010-8 2010-9 2010-10 2010-11 2010-12 2010-13 2010-14 2010-15 2010-16 2010-17 2010-18 2010-19 2010-20 2010-21 2010-22 2010-23 2010-24 2010-25 2010-26 2010-27 2010-28 2010-29 2010-30 2010-31 2010-32 2010-33 2010-34 2010-35 2010-36 2010-37 2010-38 2010-39 2010-40 2010-41 2010-42 2010-43 2010-44 2010-45 2010-46 2010-47 2010-48 2010-49 2010-50 2010-51 2010-52 2010-53 2010-54 2010-55 2010-56 2010-57 2010-58 2010-59 2010-60 2010-61 2010-62 2010-63 2010-64 2010-65 2010-66 2010-67 2010-68 2010-69 2010-70 2010-71 2010-72 2010-73 2010-74 2010-76 2010-77 2010-78 2010-79 2010-80 2010-81 2010-82 2010-83 2010-84 2010-85 2010-86 2010-87 2010-88 2010-89 2010-90 2010-91 2010-93 2010-94 2010-95 \n",
      "2010-96 2011-1 2011-2 2011-3 2011-4 2011-5 2011-6 2011-7 2011-8 2011-9 2011-10 2011-11 2011-12 2011-13 2011-14 2011-15 2011-16 2011-17 2011-18 2011-19 2011-20 2011-21 2011-22 2011-23 2011-24 2011-25 2011-26 2011-27 2011-28 2011-29 2011-30 2011-31 2011-32 2011-33 2011-34 2011-35 2011-36 2011-37 2011-38 2011-39 2011-40 2011-41 2011-42 2011-43 2011-44 2011-45 2011-46 2011-47 2011-48 2011-49 2011-50 2011-51 2011-52 2011-53 2011-54 2011-55 2011-56 2011-57 2011-58 2011-59 2011-60 2011-61 2011-62 2011-63 2011-64 2011-65 2011-66 2011-67 2011-68 2011-69 2011-70 2011-71 2011-72 2011-73 2011-74 2011-76 2011-77 2011-78 2011-79 2011-80 2011-81 2011-82 2011-83 2011-84 2011-85 2011-86 2011-87 2011-88 2011-89 2011-90 2011-91 2011-93 2011-94 2011-95 \n",
      "2011-96 2012-1 2012-2 2012-3 2012-4 2012-5 2012-6 2012-7 2012-8 2012-9 2012-10 2012-11 2012-12 2012-13 2012-14 2012-15 2012-16 2012-17 2012-18 2012-19 2012-20 2012-21 2012-22 2012-23 2012-24 2012-25 2012-26 2012-27 2012-28 2012-29 2012-30 2012-31 2012-32 2012-33 2012-34 2012-35 2012-36 2012-37 2012-38 2012-39 2012-40 2012-41 2012-42 2012-43 2012-44 2012-45 2012-46 2012-47 2012-48 2012-49 2012-50 2012-51 2012-52 2012-53 2012-54 2012-55 2012-56 2012-57 2012-58 2012-59 2012-60 2012-61 2012-62 2012-63 2012-64 2012-65 2012-66 2012-67 2012-68 2012-69 2012-70 2012-71 2012-72 2012-73 2012-74 2012-76 2012-77 2012-78 2012-79 2012-80 2012-81 2012-82 2012-83 2012-84 2012-85 2012-86 2012-87 2012-88 2012-89 2012-90 2012-91 2012-93 2012-94 2012-95 \n",
      "2012-96 2013-1 2013-2 2013-3 2013-4 2013-5 2013-6 2013-7 2013-8 2013-9 2013-10 2013-11 2013-12 2013-13 2013-14 2013-15 2013-16 2013-17 2013-18 2013-19 2013-20 2013-21 2013-22 2013-23 2013-24 2013-25 2013-26 2013-27 2013-28 2013-29 2013-30 2013-31 2013-32 2013-33 2013-34 2013-35 2013-36 2013-37 2013-38 2013-39 2013-40 2013-41 2013-42 2013-43 2013-44 2013-45 2013-46 2013-47 2013-48 2013-49 2013-50 2013-51 2013-52 2013-53 2013-54 2013-55 2013-56 2013-57 2013-58 2013-59 2013-60 2013-61 2013-62 2013-63 2013-64 2013-65 2013-66 2013-67 2013-68 2013-69 2013-70 2013-71 2013-72 2013-73 2013-74 2013-76 2013-77 2013-78 2013-79 2013-80 2013-81 2013-82 2013-83 2013-84 2013-85 2013-86 2013-87 2013-88 2013-89 2013-90 2013-91 2013-93 2013-94 2013-95 \n",
      "2013-96 2014-1 2014-2 2014-3 2014-4 2014-5 2014-6 2014-7 2014-8 2014-9 2014-10 2014-11 2014-12 2014-13 2014-14 2014-15 2014-16 2014-17 2014-18 2014-19 2014-20 2014-21 2014-22 2014-23 2014-24 2014-25 2014-26 2014-27 2014-28 2014-29 2014-30 2014-31 2014-32 2014-33 2014-34 2014-35 2014-36 2014-37 2014-38 2014-39 2014-40 2014-41 2014-42 2014-43 2014-44 2014-45 2014-46 2014-47 2014-48 2014-49 2014-50 2014-51 2014-52 2014-53 2014-54 2014-55 2014-56 2014-57 2014-58 2014-59 2014-60 2014-61 2014-62 2014-63 2014-64 2014-65 2014-66 2014-67 2014-68 2014-69 2014-70 2014-71 2014-72 2014-73 2014-74 2014-76 2014-77 2014-78 2014-79 2014-80 2014-81 2014-82 2014-83 2014-84 2014-85 2014-86 2014-87 2014-88 2014-89 2014-90 2014-91 2014-93 2014-94 2014-95 \n",
      "2014-96 2015-1 2015-2 2015-3 2015-4 2015-5 2015-6 2015-7 2015-8 2015-9 2015-10 2015-11 2015-12 2015-13 2015-14 2015-15 2015-16 2015-17 2015-18 2015-19 2015-20 2015-21 2015-22 2015-23 2015-24 2015-25 2015-26 2015-27 2015-28 2015-29 2015-30 2015-31 2015-32 2015-33 2015-34 2015-35 2015-36 2015-37 2015-38 2015-39 2015-40 2015-41 2015-42 2015-43 2015-44 2015-45 2015-46 2015-47 2015-48 2015-49 2015-50 2015-51 2015-52 2015-53 2015-54 2015-55 2015-56 2015-57 2015-58 2015-59 2015-60 2015-61 2015-62 2015-63 2015-64 2015-65 2015-66 2015-67 2015-68 2015-69 2015-70 2015-71 2015-72 2015-73 2015-74 2015-76 2015-77 2015-78 2015-79 2015-80 2015-81 2015-82 2015-83 2015-84 2015-85 2015-86 2015-87 2015-88 2015-89 2015-90 2015-91 2015-93 2015-94 2015-95 \n",
      "2015-96 2016-1 2016-2 2016-3 2016-4 2016-5 2016-6 2016-7 2016-8 2016-9 2016-10 2016-11 2016-12 2016-13 2016-14 2016-15 2016-16 2016-17 2016-18 2016-19 2016-20 2016-21 2016-22 2016-23 2016-24 2016-25 2016-26 2016-27 2016-28 2016-29 2016-30 2016-31 2016-32 2016-33 2016-34 2016-35 2016-36 2016-37 2016-38 2016-39 2016-40 2016-41 2016-42 2016-43 2016-44 2016-45 2016-46 2016-47 2016-48 2016-49 2016-50 2016-51 2016-52 2016-53 2016-54 2016-55 2016-56 2016-57 2016-58 2016-59 2016-60 2016-61 2016-62 2016-63 2016-64 2016-65 2016-66 2016-67 2016-68 2016-69 2016-70 2016-71 2016-72 2016-73 2016-74 2016-76 2016-77 2016-78 2016-79 2016-80 2016-81 2016-82 2016-83 2016-84 2016-85 2016-86 2016-87 2016-88 2016-89 2016-90 2016-91 2016-93 2016-94 2016-95 \n",
      "2016-96 2017-1 2017-2 2017-3 2017-4 2017-5 2017-6 2017-7 2017-8 2017-9 2017-10 2017-11 2017-12 2017-13 2017-14 2017-15 2017-16 2017-17 2017-18 2017-19 2017-20 2017-21 2017-22 2017-23 2017-24 2017-25 2017-26 2017-27 2017-28 2017-29 2017-30 2017-31 2017-32 2017-33 2017-34 2017-35 2017-36 2017-37 2017-38 2017-39 2017-40 2017-41 2017-42 2017-43 2017-44 2017-45 2017-46 2017-47 2017-48 2017-49 2017-50 2017-51 2017-52 2017-53 2017-54 2017-55 2017-56 2017-57 2017-58 2017-59 2017-60 2017-61 2017-62 2017-63 2017-64 2017-65 2017-66 2017-67 2017-68 2017-69 2017-70 2017-71 2017-72 2017-73 2017-74 2017-76 2017-77 2017-78 2017-79 2017-80 2017-81 2017-82 2017-83 2017-84 2017-85 2017-86 2017-87 2017-88 2017-89 2017-90 2017-91 2017-93 2017-94 2017-95 \n",
      "2017-96 2018-1 2018-2 2018-3 2018-4 2018-5 2018-6 2018-7 2018-8 2018-9 2018-10 2018-11 2018-12 2018-13 2018-14 2018-15 2018-16 2018-17 2018-18 2018-19 2018-20 2018-21 2018-22 2018-23 2018-24 2018-25 2018-26 2018-27 2018-28 2018-29 2018-30 2018-31 2018-32 2018-33 2018-34 2018-35 2018-36 2018-37 2018-38 2018-39 2018-40 2018-41 2018-42 2018-43 2018-44 2018-45 2018-46 2018-47 2018-48 2018-49 2018-50 2018-51 2018-52 2018-53 2018-54 2018-55 2018-56 2018-57 2018-58 2018-59 2018-60 2018-61 2018-62 2018-63 2018-64 2018-65 2018-66 2018-67 2018-68 2018-69 2018-70 2018-71 2018-72 2018-73 2018-74 2018-76 2018-77 2018-78 2018-79 2018-80 2018-81 2018-82 2018-83 2018-84 2018-85 2018-86 2018-87 2018-88 2018-89 2018-90 2018-91 2018-93 2018-94 2018-95 \n",
      "2018-96 2019-1 2019-2 2019-3 2019-4 2019-5 2019-6 2019-7 2019-8 2019-9 2019-10 2019-11 2019-12 2019-13 2019-14 2019-15 2019-16 2019-17 2019-18 2019-19 2019-20 2019-21 2019-22 2019-23 2019-24 2019-25 2019-26 2019-27 2019-28 2019-29 2019-30 2019-31 2019-32 2019-33 2019-34 2019-35 2019-36 2019-37 2019-38 2019-39 2019-40 2019-41 2019-42 2019-43 2019-44 2019-45 2019-46 2019-47 2019-48 2019-49 2019-50 2019-51 2019-52 2019-53 2019-54 2019-55 2019-56 2019-57 2019-58 2019-59 2019-60 2019-61 2019-62 2019-63 2019-64 2019-65 2019-66 2019-67 2019-68 2019-69 2019-70 2019-71 2019-72 2019-73 2019-74 2019-76 2019-77 2019-78 2019-79 2019-80 2019-81 2019-82 2019-83 2019-84 2019-85 2019-86 2019-87 2019-88 2019-89 2019-90 2019-91 2019-93 2019-94 2019-95 \n",
      "2019-96 2020-1 2020-2 2020-3 2020-4 2020-5 2020-6 2020-7 2020-8 2020-9 2020-10 2020-11 2020-12 2020-13 2020-14 2020-15 2020-16 2020-17 2020-18 2020-19 2020-20 2020-21 2020-22 2020-23 2020-24 2020-25 2020-26 2020-27 2020-28 2020-29 2020-30 2020-31 2020-32 2020-33 2020-34 2020-35 2020-36 2020-37 2020-38 2020-39 2020-40 2020-41 2020-42 2020-43 2020-44 2020-45 2020-46 2020-47 2020-48 2020-49 2020-50 2020-51 2020-52 2020-53 2020-54 2020-55 2020-56 2020-57 2020-58 2020-59 2020-60 2020-61 2020-62 2020-63 2020-64 2020-65 2020-66 2020-67 2020-68 2020-69 2020-70 2020-71 2020-72 2020-73 2020-74 2020-76 2020-77 2020-78 2020-79 2020-80 2020-81 2020-82 2020-83 2020-84 2020-85 2020-86 2020-87 2020-88 2020-89 2020-90 2020-91 2020-93 2020-94 2020-95 \n",
      "2020-96 2021-1 2021-2 2021-3 2021-4 2021-5 2021-6 2021-7 2021-8 2021-9 2021-10 2021-11 2021-12 2021-13 2021-14 2021-15 2021-16 2021-17 2021-18 2021-19 2021-20 2021-21 2021-22 2021-23 2021-24 2021-25 2021-26 2021-27 2021-28 2021-29 2021-30 2021-31 2021-32 2021-33 2021-34 2021-35 2021-36 2021-37 2021-38 2021-39 2021-40 2021-41 2021-42 2021-43 2021-44 2021-45 2021-46 2021-47 2021-48 2021-49 2021-50 2021-51 2021-52 2021-53 2021-54 2021-55 2021-56 2021-57 2021-58 2021-59 2021-60 2021-61 2021-62 2021-63 2021-64 2021-65 2021-66 2021-67 2021-68 2021-69 2021-70 2021-71 2021-72 2021-73 2021-74 2021-76 2021-77 2021-78 2021-79 2021-80 2021-81 2021-82 2021-83 2021-84 2021-85 2021-86 2021-87 2021-88 2021-89 2021-90 2021-91 2021-93 2021-94 2021-95 \n",
      "2021-96 2022-1 2022-2 2022-3 2022-4 2022-5 2022-6 2022-7 2022-8 2022-9 2022-10 2022-11 2022-12 2022-13 2022-14 2022-15 2022-16 2022-17 2022-18 2022-19 2022-20 2022-21 2022-22 2022-23 2022-24 2022-25 2022-26 2022-27 2022-28 2022-29 2022-30 2022-31 2022-32 2022-33 2022-34 2022-35 2022-36 2022-37 2022-38 2022-39 2022-40 2022-41 2022-42 2022-43 2022-44 2022-45 2022-46 2022-47 2022-48 2022-49 2022-50 2022-51 2022-52 2022-53 2022-54 2022-55 2022-56 2022-57 2022-58 2022-59 2022-60 2022-61 2022-62 2022-63 2022-64 2022-65 2022-66 2022-67 2022-68 2022-69 2022-70 2022-71 2022-72 2022-73 2022-74 2022-76 2022-77 2022-78 2022-79 2022-80 2022-81 2022-82 2022-83 2022-84 2022-85 2022-86 2022-87 2022-88 2022-89 2022-90 2022-91 2022-93 2022-94 2022-95 \n",
      "2022-96 "
     ]
    }
   ],
   "source": [
    "annees=[]\n",
    "annee=[]\n",
    "\n",
    "for i in df_surface.index:\n",
    "    print(i,end=' ')\n",
    "    annee.append(i)\n",
    "    if '95' in i:\n",
    "        print('')\n",
    "        annees.append(annee)\n",
    "        annee=[]\n",
    "    "
   ]
  },
  {
   "cell_type": "code",
   "execution_count": 32,
   "id": "095900f2",
   "metadata": {
    "ExecuteTime": {
     "end_time": "2022-03-04T11:30:18.873656Z",
     "start_time": "2022-03-04T11:30:18.848243Z"
    }
   },
   "outputs": [
    {
     "name": "stdout",
     "output_type": "stream",
     "text": [
      "13\n",
      "False\n",
      "True\n",
      "True\n",
      "True\n",
      "True\n",
      "True\n",
      "True\n",
      "True\n",
      "True\n",
      "True\n",
      "True\n",
      "True\n"
     ]
    },
    {
     "ename": "IndexError",
     "evalue": "list index out of range",
     "output_type": "error",
     "traceback": [
      "\u001b[0;31m---------------------------------------------------------------------------\u001b[0m",
      "\u001b[0;31mIndexError\u001b[0m                                Traceback (most recent call last)",
      "Input \u001b[0;32mIn [32]\u001b[0m, in \u001b[0;36m<cell line: 2>\u001b[0;34m()\u001b[0m\n\u001b[1;32m      1\u001b[0m \u001b[38;5;28mprint\u001b[39m(\u001b[38;5;28mlen\u001b[39m(annees))\n\u001b[1;32m      2\u001b[0m \u001b[38;5;28;01mfor\u001b[39;00m index,i \u001b[38;5;129;01min\u001b[39;00m \u001b[38;5;28menumerate\u001b[39m(annees):\n\u001b[0;32m----> 3\u001b[0m     \u001b[38;5;28mprint\u001b[39m(\u001b[38;5;28mlen\u001b[39m(\u001b[43mannees\u001b[49m\u001b[43m[\u001b[49m\u001b[43mindex\u001b[49m\u001b[38;5;241;43m+\u001b[39;49m\u001b[38;5;241;43m1\u001b[39;49m\u001b[43m]\u001b[49m)\u001b[38;5;241m==\u001b[39m\u001b[38;5;28mlen\u001b[39m(i))\n",
      "\u001b[0;31mIndexError\u001b[0m: list index out of range"
     ]
    }
   ],
   "source": [
    "print(len(annees))\n",
    "for index,i in enumerate(annees):\n",
    "    print(len(annees[index+1])==len(i))"
   ]
  },
  {
   "cell_type": "code",
   "execution_count": null,
   "id": "90348912",
   "metadata": {},
   "outputs": [],
   "source": []
  },
  {
   "cell_type": "code",
   "execution_count": null,
   "id": "bb03a885",
   "metadata": {},
   "outputs": [],
   "source": []
  },
  {
   "cell_type": "code",
   "execution_count": null,
   "id": "b2e19664",
   "metadata": {},
   "outputs": [],
   "source": []
  }
 ],
 "metadata": {
  "kernelspec": {
   "display_name": "Python 3 (ipykernel)",
   "language": "python",
   "name": "python3"
  },
  "language_info": {
   "codemirror_mode": {
    "name": "ipython",
    "version": 3
   },
   "file_extension": ".py",
   "mimetype": "text/x-python",
   "name": "python",
   "nbconvert_exporter": "python",
   "pygments_lexer": "ipython3",
   "version": "3.8.12"
  },
  "toc": {
   "base_numbering": 1,
   "nav_menu": {},
   "number_sections": true,
   "sideBar": true,
   "skip_h1_title": false,
   "title_cell": "Table of Contents",
   "title_sidebar": "Contents",
   "toc_cell": false,
   "toc_position": {},
   "toc_section_display": true,
   "toc_window_display": false
  },
  "varInspector": {
   "cols": {
    "lenName": 16,
    "lenType": 16,
    "lenVar": 40
   },
   "kernels_config": {
    "python": {
     "delete_cmd_postfix": "",
     "delete_cmd_prefix": "del ",
     "library": "var_list.py",
     "varRefreshCmd": "print(var_dic_list())"
    },
    "r": {
     "delete_cmd_postfix": ") ",
     "delete_cmd_prefix": "rm(",
     "library": "var_list.r",
     "varRefreshCmd": "cat(var_dic_list()) "
    }
   },
   "types_to_exclude": [
    "module",
    "function",
    "builtin_function_or_method",
    "instance",
    "_Feature"
   ],
   "window_display": false
  }
 },
 "nbformat": 4,
 "nbformat_minor": 5
}
