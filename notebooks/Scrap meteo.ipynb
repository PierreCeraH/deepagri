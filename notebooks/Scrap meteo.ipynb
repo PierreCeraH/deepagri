{
 "cells": [
  {
   "cell_type": "code",
   "execution_count": 6,
   "id": "e13663a8",
   "metadata": {
    "ExecuteTime": {
     "end_time": "2022-03-02T09:11:57.765547Z",
     "start_time": "2022-03-02T09:11:57.366973Z"
    }
   },
   "outputs": [],
   "source": [
    "import pandas as pd"
   ]
  },
  {
   "cell_type": "code",
   "execution_count": 19,
   "id": "76481ebe",
   "metadata": {
    "ExecuteTime": {
     "end_time": "2022-03-01T17:37:36.835319Z",
     "start_time": "2022-03-01T17:37:36.467117Z"
    }
   },
   "outputs": [
    {
     "ename": "HTTPError",
     "evalue": "HTTP Error 403: Forbidden",
     "output_type": "error",
     "traceback": [
      "\u001b[0;31m---------------------------------------------------------------------------\u001b[0m",
      "\u001b[0;31mHTTPError\u001b[0m                                 Traceback (most recent call last)",
      "\u001b[0;32m/var/folders/v0/5qktxwz92kl52b34cz5nxqbr0000gn/T/ipykernel_86400/2988358590.py\u001b[0m in \u001b[0;36m<module>\u001b[0;34m\u001b[0m\n\u001b[1;32m      1\u001b[0m \u001b[0mnum\u001b[0m\u001b[0;34m=\u001b[0m\u001b[0;36m1000\u001b[0m\u001b[0;34m\u001b[0m\u001b[0;34m\u001b[0m\u001b[0m\n\u001b[0;32m----> 2\u001b[0;31m \u001b[0mpd\u001b[0m\u001b[0;34m.\u001b[0m\u001b[0mread_csv\u001b[0m\u001b[0;34m(\u001b[0m\u001b[0;34mf'https://www.historique-meteo.net/site/export.php?ville_id={num}'\u001b[0m\u001b[0;34m)\u001b[0m\u001b[0;34m\u001b[0m\u001b[0;34m\u001b[0m\u001b[0m\n\u001b[0m",
      "\u001b[0;32m~/.pyenv/versions/3.8.12/envs/lewagon/lib/python3.8/site-packages/pandas/util/_decorators.py\u001b[0m in \u001b[0;36mwrapper\u001b[0;34m(*args, **kwargs)\u001b[0m\n\u001b[1;32m    309\u001b[0m                     \u001b[0mstacklevel\u001b[0m\u001b[0;34m=\u001b[0m\u001b[0mstacklevel\u001b[0m\u001b[0;34m,\u001b[0m\u001b[0;34m\u001b[0m\u001b[0;34m\u001b[0m\u001b[0m\n\u001b[1;32m    310\u001b[0m                 )\n\u001b[0;32m--> 311\u001b[0;31m             \u001b[0;32mreturn\u001b[0m \u001b[0mfunc\u001b[0m\u001b[0;34m(\u001b[0m\u001b[0;34m*\u001b[0m\u001b[0margs\u001b[0m\u001b[0;34m,\u001b[0m \u001b[0;34m**\u001b[0m\u001b[0mkwargs\u001b[0m\u001b[0;34m)\u001b[0m\u001b[0;34m\u001b[0m\u001b[0;34m\u001b[0m\u001b[0m\n\u001b[0m\u001b[1;32m    312\u001b[0m \u001b[0;34m\u001b[0m\u001b[0m\n\u001b[1;32m    313\u001b[0m         \u001b[0;32mreturn\u001b[0m \u001b[0mwrapper\u001b[0m\u001b[0;34m\u001b[0m\u001b[0;34m\u001b[0m\u001b[0m\n",
      "\u001b[0;32m~/.pyenv/versions/3.8.12/envs/lewagon/lib/python3.8/site-packages/pandas/io/parsers/readers.py\u001b[0m in \u001b[0;36mread_csv\u001b[0;34m(filepath_or_buffer, sep, delimiter, header, names, index_col, usecols, squeeze, prefix, mangle_dupe_cols, dtype, engine, converters, true_values, false_values, skipinitialspace, skiprows, skipfooter, nrows, na_values, keep_default_na, na_filter, verbose, skip_blank_lines, parse_dates, infer_datetime_format, keep_date_col, date_parser, dayfirst, cache_dates, iterator, chunksize, compression, thousands, decimal, lineterminator, quotechar, quoting, doublequote, escapechar, comment, encoding, encoding_errors, dialect, error_bad_lines, warn_bad_lines, on_bad_lines, delim_whitespace, low_memory, memory_map, float_precision, storage_options)\u001b[0m\n\u001b[1;32m    584\u001b[0m     \u001b[0mkwds\u001b[0m\u001b[0;34m.\u001b[0m\u001b[0mupdate\u001b[0m\u001b[0;34m(\u001b[0m\u001b[0mkwds_defaults\u001b[0m\u001b[0;34m)\u001b[0m\u001b[0;34m\u001b[0m\u001b[0;34m\u001b[0m\u001b[0m\n\u001b[1;32m    585\u001b[0m \u001b[0;34m\u001b[0m\u001b[0m\n\u001b[0;32m--> 586\u001b[0;31m     \u001b[0;32mreturn\u001b[0m \u001b[0m_read\u001b[0m\u001b[0;34m(\u001b[0m\u001b[0mfilepath_or_buffer\u001b[0m\u001b[0;34m,\u001b[0m \u001b[0mkwds\u001b[0m\u001b[0;34m)\u001b[0m\u001b[0;34m\u001b[0m\u001b[0;34m\u001b[0m\u001b[0m\n\u001b[0m\u001b[1;32m    587\u001b[0m \u001b[0;34m\u001b[0m\u001b[0m\n\u001b[1;32m    588\u001b[0m \u001b[0;34m\u001b[0m\u001b[0m\n",
      "\u001b[0;32m~/.pyenv/versions/3.8.12/envs/lewagon/lib/python3.8/site-packages/pandas/io/parsers/readers.py\u001b[0m in \u001b[0;36m_read\u001b[0;34m(filepath_or_buffer, kwds)\u001b[0m\n\u001b[1;32m    480\u001b[0m \u001b[0;34m\u001b[0m\u001b[0m\n\u001b[1;32m    481\u001b[0m     \u001b[0;31m# Create the parser.\u001b[0m\u001b[0;34m\u001b[0m\u001b[0;34m\u001b[0m\u001b[0;34m\u001b[0m\u001b[0m\n\u001b[0;32m--> 482\u001b[0;31m     \u001b[0mparser\u001b[0m \u001b[0;34m=\u001b[0m \u001b[0mTextFileReader\u001b[0m\u001b[0;34m(\u001b[0m\u001b[0mfilepath_or_buffer\u001b[0m\u001b[0;34m,\u001b[0m \u001b[0;34m**\u001b[0m\u001b[0mkwds\u001b[0m\u001b[0;34m)\u001b[0m\u001b[0;34m\u001b[0m\u001b[0;34m\u001b[0m\u001b[0m\n\u001b[0m\u001b[1;32m    483\u001b[0m \u001b[0;34m\u001b[0m\u001b[0m\n\u001b[1;32m    484\u001b[0m     \u001b[0;32mif\u001b[0m \u001b[0mchunksize\u001b[0m \u001b[0;32mor\u001b[0m \u001b[0miterator\u001b[0m\u001b[0;34m:\u001b[0m\u001b[0;34m\u001b[0m\u001b[0;34m\u001b[0m\u001b[0m\n",
      "\u001b[0;32m~/.pyenv/versions/3.8.12/envs/lewagon/lib/python3.8/site-packages/pandas/io/parsers/readers.py\u001b[0m in \u001b[0;36m__init__\u001b[0;34m(self, f, engine, **kwds)\u001b[0m\n\u001b[1;32m    809\u001b[0m             \u001b[0mself\u001b[0m\u001b[0;34m.\u001b[0m\u001b[0moptions\u001b[0m\u001b[0;34m[\u001b[0m\u001b[0;34m\"has_index_names\"\u001b[0m\u001b[0;34m]\u001b[0m \u001b[0;34m=\u001b[0m \u001b[0mkwds\u001b[0m\u001b[0;34m[\u001b[0m\u001b[0;34m\"has_index_names\"\u001b[0m\u001b[0;34m]\u001b[0m\u001b[0;34m\u001b[0m\u001b[0;34m\u001b[0m\u001b[0m\n\u001b[1;32m    810\u001b[0m \u001b[0;34m\u001b[0m\u001b[0m\n\u001b[0;32m--> 811\u001b[0;31m         \u001b[0mself\u001b[0m\u001b[0;34m.\u001b[0m\u001b[0m_engine\u001b[0m \u001b[0;34m=\u001b[0m \u001b[0mself\u001b[0m\u001b[0;34m.\u001b[0m\u001b[0m_make_engine\u001b[0m\u001b[0;34m(\u001b[0m\u001b[0mself\u001b[0m\u001b[0;34m.\u001b[0m\u001b[0mengine\u001b[0m\u001b[0;34m)\u001b[0m\u001b[0;34m\u001b[0m\u001b[0;34m\u001b[0m\u001b[0m\n\u001b[0m\u001b[1;32m    812\u001b[0m \u001b[0;34m\u001b[0m\u001b[0m\n\u001b[1;32m    813\u001b[0m     \u001b[0;32mdef\u001b[0m \u001b[0mclose\u001b[0m\u001b[0;34m(\u001b[0m\u001b[0mself\u001b[0m\u001b[0;34m)\u001b[0m\u001b[0;34m:\u001b[0m\u001b[0;34m\u001b[0m\u001b[0;34m\u001b[0m\u001b[0m\n",
      "\u001b[0;32m~/.pyenv/versions/3.8.12/envs/lewagon/lib/python3.8/site-packages/pandas/io/parsers/readers.py\u001b[0m in \u001b[0;36m_make_engine\u001b[0;34m(self, engine)\u001b[0m\n\u001b[1;32m   1038\u001b[0m             )\n\u001b[1;32m   1039\u001b[0m         \u001b[0;31m# error: Too many arguments for \"ParserBase\"\u001b[0m\u001b[0;34m\u001b[0m\u001b[0;34m\u001b[0m\u001b[0;34m\u001b[0m\u001b[0m\n\u001b[0;32m-> 1040\u001b[0;31m         \u001b[0;32mreturn\u001b[0m \u001b[0mmapping\u001b[0m\u001b[0;34m[\u001b[0m\u001b[0mengine\u001b[0m\u001b[0;34m]\u001b[0m\u001b[0;34m(\u001b[0m\u001b[0mself\u001b[0m\u001b[0;34m.\u001b[0m\u001b[0mf\u001b[0m\u001b[0;34m,\u001b[0m \u001b[0;34m**\u001b[0m\u001b[0mself\u001b[0m\u001b[0;34m.\u001b[0m\u001b[0moptions\u001b[0m\u001b[0;34m)\u001b[0m  \u001b[0;31m# type: ignore[call-arg]\u001b[0m\u001b[0;34m\u001b[0m\u001b[0;34m\u001b[0m\u001b[0m\n\u001b[0m\u001b[1;32m   1041\u001b[0m \u001b[0;34m\u001b[0m\u001b[0m\n\u001b[1;32m   1042\u001b[0m     \u001b[0;32mdef\u001b[0m \u001b[0m_failover_to_python\u001b[0m\u001b[0;34m(\u001b[0m\u001b[0mself\u001b[0m\u001b[0;34m)\u001b[0m\u001b[0;34m:\u001b[0m\u001b[0;34m\u001b[0m\u001b[0;34m\u001b[0m\u001b[0m\n",
      "\u001b[0;32m~/.pyenv/versions/3.8.12/envs/lewagon/lib/python3.8/site-packages/pandas/io/parsers/c_parser_wrapper.py\u001b[0m in \u001b[0;36m__init__\u001b[0;34m(self, src, **kwds)\u001b[0m\n\u001b[1;32m     49\u001b[0m \u001b[0;34m\u001b[0m\u001b[0m\n\u001b[1;32m     50\u001b[0m         \u001b[0;31m# open handles\u001b[0m\u001b[0;34m\u001b[0m\u001b[0;34m\u001b[0m\u001b[0;34m\u001b[0m\u001b[0m\n\u001b[0;32m---> 51\u001b[0;31m         \u001b[0mself\u001b[0m\u001b[0;34m.\u001b[0m\u001b[0m_open_handles\u001b[0m\u001b[0;34m(\u001b[0m\u001b[0msrc\u001b[0m\u001b[0;34m,\u001b[0m \u001b[0mkwds\u001b[0m\u001b[0;34m)\u001b[0m\u001b[0;34m\u001b[0m\u001b[0;34m\u001b[0m\u001b[0m\n\u001b[0m\u001b[1;32m     52\u001b[0m         \u001b[0;32massert\u001b[0m \u001b[0mself\u001b[0m\u001b[0;34m.\u001b[0m\u001b[0mhandles\u001b[0m \u001b[0;32mis\u001b[0m \u001b[0;32mnot\u001b[0m \u001b[0;32mNone\u001b[0m\u001b[0;34m\u001b[0m\u001b[0;34m\u001b[0m\u001b[0m\n\u001b[1;32m     53\u001b[0m \u001b[0;34m\u001b[0m\u001b[0m\n",
      "\u001b[0;32m~/.pyenv/versions/3.8.12/envs/lewagon/lib/python3.8/site-packages/pandas/io/parsers/base_parser.py\u001b[0m in \u001b[0;36m_open_handles\u001b[0;34m(self, src, kwds)\u001b[0m\n\u001b[1;32m    220\u001b[0m         \u001b[0mLet\u001b[0m \u001b[0mthe\u001b[0m \u001b[0mreaders\u001b[0m \u001b[0mopen\u001b[0m \u001b[0mIOHandles\u001b[0m \u001b[0mafter\u001b[0m \u001b[0mthey\u001b[0m \u001b[0mare\u001b[0m \u001b[0mdone\u001b[0m \u001b[0;32mwith\u001b[0m \u001b[0mtheir\u001b[0m \u001b[0mpotential\u001b[0m \u001b[0mraises\u001b[0m\u001b[0;34m.\u001b[0m\u001b[0;34m\u001b[0m\u001b[0;34m\u001b[0m\u001b[0m\n\u001b[1;32m    221\u001b[0m         \"\"\"\n\u001b[0;32m--> 222\u001b[0;31m         self.handles = get_handle(\n\u001b[0m\u001b[1;32m    223\u001b[0m             \u001b[0msrc\u001b[0m\u001b[0;34m,\u001b[0m\u001b[0;34m\u001b[0m\u001b[0;34m\u001b[0m\u001b[0m\n\u001b[1;32m    224\u001b[0m             \u001b[0;34m\"r\"\u001b[0m\u001b[0;34m,\u001b[0m\u001b[0;34m\u001b[0m\u001b[0;34m\u001b[0m\u001b[0m\n",
      "\u001b[0;32m~/.pyenv/versions/3.8.12/envs/lewagon/lib/python3.8/site-packages/pandas/io/common.py\u001b[0m in \u001b[0;36mget_handle\u001b[0;34m(path_or_buf, mode, encoding, compression, memory_map, is_text, errors, storage_options)\u001b[0m\n\u001b[1;32m    607\u001b[0m \u001b[0;34m\u001b[0m\u001b[0m\n\u001b[1;32m    608\u001b[0m     \u001b[0;31m# open URLs\u001b[0m\u001b[0;34m\u001b[0m\u001b[0;34m\u001b[0m\u001b[0;34m\u001b[0m\u001b[0m\n\u001b[0;32m--> 609\u001b[0;31m     ioargs = _get_filepath_or_buffer(\n\u001b[0m\u001b[1;32m    610\u001b[0m         \u001b[0mpath_or_buf\u001b[0m\u001b[0;34m,\u001b[0m\u001b[0;34m\u001b[0m\u001b[0;34m\u001b[0m\u001b[0m\n\u001b[1;32m    611\u001b[0m         \u001b[0mencoding\u001b[0m\u001b[0;34m=\u001b[0m\u001b[0mencoding\u001b[0m\u001b[0;34m,\u001b[0m\u001b[0;34m\u001b[0m\u001b[0;34m\u001b[0m\u001b[0m\n",
      "\u001b[0;32m~/.pyenv/versions/3.8.12/envs/lewagon/lib/python3.8/site-packages/pandas/io/common.py\u001b[0m in \u001b[0;36m_get_filepath_or_buffer\u001b[0;34m(filepath_or_buffer, encoding, compression, mode, storage_options)\u001b[0m\n\u001b[1;32m    310\u001b[0m         \u001b[0;31m# assuming storage_options is to be interpreted as headers\u001b[0m\u001b[0;34m\u001b[0m\u001b[0;34m\u001b[0m\u001b[0;34m\u001b[0m\u001b[0m\n\u001b[1;32m    311\u001b[0m         \u001b[0mreq_info\u001b[0m \u001b[0;34m=\u001b[0m \u001b[0murllib\u001b[0m\u001b[0;34m.\u001b[0m\u001b[0mrequest\u001b[0m\u001b[0;34m.\u001b[0m\u001b[0mRequest\u001b[0m\u001b[0;34m(\u001b[0m\u001b[0mfilepath_or_buffer\u001b[0m\u001b[0;34m,\u001b[0m \u001b[0mheaders\u001b[0m\u001b[0;34m=\u001b[0m\u001b[0mstorage_options\u001b[0m\u001b[0;34m)\u001b[0m\u001b[0;34m\u001b[0m\u001b[0;34m\u001b[0m\u001b[0m\n\u001b[0;32m--> 312\u001b[0;31m         \u001b[0;32mwith\u001b[0m \u001b[0murlopen\u001b[0m\u001b[0;34m(\u001b[0m\u001b[0mreq_info\u001b[0m\u001b[0;34m)\u001b[0m \u001b[0;32mas\u001b[0m \u001b[0mreq\u001b[0m\u001b[0;34m:\u001b[0m\u001b[0;34m\u001b[0m\u001b[0;34m\u001b[0m\u001b[0m\n\u001b[0m\u001b[1;32m    313\u001b[0m             \u001b[0mcontent_encoding\u001b[0m \u001b[0;34m=\u001b[0m \u001b[0mreq\u001b[0m\u001b[0;34m.\u001b[0m\u001b[0mheaders\u001b[0m\u001b[0;34m.\u001b[0m\u001b[0mget\u001b[0m\u001b[0;34m(\u001b[0m\u001b[0;34m\"Content-Encoding\"\u001b[0m\u001b[0;34m,\u001b[0m \u001b[0;32mNone\u001b[0m\u001b[0;34m)\u001b[0m\u001b[0;34m\u001b[0m\u001b[0;34m\u001b[0m\u001b[0m\n\u001b[1;32m    314\u001b[0m             \u001b[0;32mif\u001b[0m \u001b[0mcontent_encoding\u001b[0m \u001b[0;34m==\u001b[0m \u001b[0;34m\"gzip\"\u001b[0m\u001b[0;34m:\u001b[0m\u001b[0;34m\u001b[0m\u001b[0;34m\u001b[0m\u001b[0m\n",
      "\u001b[0;32m~/.pyenv/versions/3.8.12/envs/lewagon/lib/python3.8/site-packages/pandas/io/common.py\u001b[0m in \u001b[0;36murlopen\u001b[0;34m(*args, **kwargs)\u001b[0m\n\u001b[1;32m    210\u001b[0m     \u001b[0;32mimport\u001b[0m \u001b[0murllib\u001b[0m\u001b[0;34m.\u001b[0m\u001b[0mrequest\u001b[0m\u001b[0;34m\u001b[0m\u001b[0;34m\u001b[0m\u001b[0m\n\u001b[1;32m    211\u001b[0m \u001b[0;34m\u001b[0m\u001b[0m\n\u001b[0;32m--> 212\u001b[0;31m     \u001b[0;32mreturn\u001b[0m \u001b[0murllib\u001b[0m\u001b[0;34m.\u001b[0m\u001b[0mrequest\u001b[0m\u001b[0;34m.\u001b[0m\u001b[0murlopen\u001b[0m\u001b[0;34m(\u001b[0m\u001b[0;34m*\u001b[0m\u001b[0margs\u001b[0m\u001b[0;34m,\u001b[0m \u001b[0;34m**\u001b[0m\u001b[0mkwargs\u001b[0m\u001b[0;34m)\u001b[0m\u001b[0;34m\u001b[0m\u001b[0;34m\u001b[0m\u001b[0m\n\u001b[0m\u001b[1;32m    213\u001b[0m \u001b[0;34m\u001b[0m\u001b[0m\n\u001b[1;32m    214\u001b[0m \u001b[0;34m\u001b[0m\u001b[0m\n",
      "\u001b[0;32m~/.pyenv/versions/3.8.12/lib/python3.8/urllib/request.py\u001b[0m in \u001b[0;36murlopen\u001b[0;34m(url, data, timeout, cafile, capath, cadefault, context)\u001b[0m\n\u001b[1;32m    220\u001b[0m     \u001b[0;32melse\u001b[0m\u001b[0;34m:\u001b[0m\u001b[0;34m\u001b[0m\u001b[0;34m\u001b[0m\u001b[0m\n\u001b[1;32m    221\u001b[0m         \u001b[0mopener\u001b[0m \u001b[0;34m=\u001b[0m \u001b[0m_opener\u001b[0m\u001b[0;34m\u001b[0m\u001b[0;34m\u001b[0m\u001b[0m\n\u001b[0;32m--> 222\u001b[0;31m     \u001b[0;32mreturn\u001b[0m \u001b[0mopener\u001b[0m\u001b[0;34m.\u001b[0m\u001b[0mopen\u001b[0m\u001b[0;34m(\u001b[0m\u001b[0murl\u001b[0m\u001b[0;34m,\u001b[0m \u001b[0mdata\u001b[0m\u001b[0;34m,\u001b[0m \u001b[0mtimeout\u001b[0m\u001b[0;34m)\u001b[0m\u001b[0;34m\u001b[0m\u001b[0;34m\u001b[0m\u001b[0m\n\u001b[0m\u001b[1;32m    223\u001b[0m \u001b[0;34m\u001b[0m\u001b[0m\n\u001b[1;32m    224\u001b[0m \u001b[0;32mdef\u001b[0m \u001b[0minstall_opener\u001b[0m\u001b[0;34m(\u001b[0m\u001b[0mopener\u001b[0m\u001b[0;34m)\u001b[0m\u001b[0;34m:\u001b[0m\u001b[0;34m\u001b[0m\u001b[0;34m\u001b[0m\u001b[0m\n",
      "\u001b[0;32m~/.pyenv/versions/3.8.12/lib/python3.8/urllib/request.py\u001b[0m in \u001b[0;36mopen\u001b[0;34m(self, fullurl, data, timeout)\u001b[0m\n\u001b[1;32m    529\u001b[0m         \u001b[0;32mfor\u001b[0m \u001b[0mprocessor\u001b[0m \u001b[0;32min\u001b[0m \u001b[0mself\u001b[0m\u001b[0;34m.\u001b[0m\u001b[0mprocess_response\u001b[0m\u001b[0;34m.\u001b[0m\u001b[0mget\u001b[0m\u001b[0;34m(\u001b[0m\u001b[0mprotocol\u001b[0m\u001b[0;34m,\u001b[0m \u001b[0;34m[\u001b[0m\u001b[0;34m]\u001b[0m\u001b[0;34m)\u001b[0m\u001b[0;34m:\u001b[0m\u001b[0;34m\u001b[0m\u001b[0;34m\u001b[0m\u001b[0m\n\u001b[1;32m    530\u001b[0m             \u001b[0mmeth\u001b[0m \u001b[0;34m=\u001b[0m \u001b[0mgetattr\u001b[0m\u001b[0;34m(\u001b[0m\u001b[0mprocessor\u001b[0m\u001b[0;34m,\u001b[0m \u001b[0mmeth_name\u001b[0m\u001b[0;34m)\u001b[0m\u001b[0;34m\u001b[0m\u001b[0;34m\u001b[0m\u001b[0m\n\u001b[0;32m--> 531\u001b[0;31m             \u001b[0mresponse\u001b[0m \u001b[0;34m=\u001b[0m \u001b[0mmeth\u001b[0m\u001b[0;34m(\u001b[0m\u001b[0mreq\u001b[0m\u001b[0;34m,\u001b[0m \u001b[0mresponse\u001b[0m\u001b[0;34m)\u001b[0m\u001b[0;34m\u001b[0m\u001b[0;34m\u001b[0m\u001b[0m\n\u001b[0m\u001b[1;32m    532\u001b[0m \u001b[0;34m\u001b[0m\u001b[0m\n\u001b[1;32m    533\u001b[0m         \u001b[0;32mreturn\u001b[0m \u001b[0mresponse\u001b[0m\u001b[0;34m\u001b[0m\u001b[0;34m\u001b[0m\u001b[0m\n",
      "\u001b[0;32m~/.pyenv/versions/3.8.12/lib/python3.8/urllib/request.py\u001b[0m in \u001b[0;36mhttp_response\u001b[0;34m(self, request, response)\u001b[0m\n\u001b[1;32m    638\u001b[0m         \u001b[0;31m# request was successfully received, understood, and accepted.\u001b[0m\u001b[0;34m\u001b[0m\u001b[0;34m\u001b[0m\u001b[0;34m\u001b[0m\u001b[0m\n\u001b[1;32m    639\u001b[0m         \u001b[0;32mif\u001b[0m \u001b[0;32mnot\u001b[0m \u001b[0;34m(\u001b[0m\u001b[0;36m200\u001b[0m \u001b[0;34m<=\u001b[0m \u001b[0mcode\u001b[0m \u001b[0;34m<\u001b[0m \u001b[0;36m300\u001b[0m\u001b[0;34m)\u001b[0m\u001b[0;34m:\u001b[0m\u001b[0;34m\u001b[0m\u001b[0;34m\u001b[0m\u001b[0m\n\u001b[0;32m--> 640\u001b[0;31m             response = self.parent.error(\n\u001b[0m\u001b[1;32m    641\u001b[0m                 'http', request, response, code, msg, hdrs)\n\u001b[1;32m    642\u001b[0m \u001b[0;34m\u001b[0m\u001b[0m\n",
      "\u001b[0;32m~/.pyenv/versions/3.8.12/lib/python3.8/urllib/request.py\u001b[0m in \u001b[0;36merror\u001b[0;34m(self, proto, *args)\u001b[0m\n\u001b[1;32m    567\u001b[0m         \u001b[0;32mif\u001b[0m \u001b[0mhttp_err\u001b[0m\u001b[0;34m:\u001b[0m\u001b[0;34m\u001b[0m\u001b[0;34m\u001b[0m\u001b[0m\n\u001b[1;32m    568\u001b[0m             \u001b[0margs\u001b[0m \u001b[0;34m=\u001b[0m \u001b[0;34m(\u001b[0m\u001b[0mdict\u001b[0m\u001b[0;34m,\u001b[0m \u001b[0;34m'default'\u001b[0m\u001b[0;34m,\u001b[0m \u001b[0;34m'http_error_default'\u001b[0m\u001b[0;34m)\u001b[0m \u001b[0;34m+\u001b[0m \u001b[0morig_args\u001b[0m\u001b[0;34m\u001b[0m\u001b[0;34m\u001b[0m\u001b[0m\n\u001b[0;32m--> 569\u001b[0;31m             \u001b[0;32mreturn\u001b[0m \u001b[0mself\u001b[0m\u001b[0;34m.\u001b[0m\u001b[0m_call_chain\u001b[0m\u001b[0;34m(\u001b[0m\u001b[0;34m*\u001b[0m\u001b[0margs\u001b[0m\u001b[0;34m)\u001b[0m\u001b[0;34m\u001b[0m\u001b[0;34m\u001b[0m\u001b[0m\n\u001b[0m\u001b[1;32m    570\u001b[0m \u001b[0;34m\u001b[0m\u001b[0m\n\u001b[1;32m    571\u001b[0m \u001b[0;31m# XXX probably also want an abstract factory that knows when it makes\u001b[0m\u001b[0;34m\u001b[0m\u001b[0;34m\u001b[0m\u001b[0;34m\u001b[0m\u001b[0m\n",
      "\u001b[0;32m~/.pyenv/versions/3.8.12/lib/python3.8/urllib/request.py\u001b[0m in \u001b[0;36m_call_chain\u001b[0;34m(self, chain, kind, meth_name, *args)\u001b[0m\n\u001b[1;32m    500\u001b[0m         \u001b[0;32mfor\u001b[0m \u001b[0mhandler\u001b[0m \u001b[0;32min\u001b[0m \u001b[0mhandlers\u001b[0m\u001b[0;34m:\u001b[0m\u001b[0;34m\u001b[0m\u001b[0;34m\u001b[0m\u001b[0m\n\u001b[1;32m    501\u001b[0m             \u001b[0mfunc\u001b[0m \u001b[0;34m=\u001b[0m \u001b[0mgetattr\u001b[0m\u001b[0;34m(\u001b[0m\u001b[0mhandler\u001b[0m\u001b[0;34m,\u001b[0m \u001b[0mmeth_name\u001b[0m\u001b[0;34m)\u001b[0m\u001b[0;34m\u001b[0m\u001b[0;34m\u001b[0m\u001b[0m\n\u001b[0;32m--> 502\u001b[0;31m             \u001b[0mresult\u001b[0m \u001b[0;34m=\u001b[0m \u001b[0mfunc\u001b[0m\u001b[0;34m(\u001b[0m\u001b[0;34m*\u001b[0m\u001b[0margs\u001b[0m\u001b[0;34m)\u001b[0m\u001b[0;34m\u001b[0m\u001b[0;34m\u001b[0m\u001b[0m\n\u001b[0m\u001b[1;32m    503\u001b[0m             \u001b[0;32mif\u001b[0m \u001b[0mresult\u001b[0m \u001b[0;32mis\u001b[0m \u001b[0;32mnot\u001b[0m \u001b[0;32mNone\u001b[0m\u001b[0;34m:\u001b[0m\u001b[0;34m\u001b[0m\u001b[0;34m\u001b[0m\u001b[0m\n\u001b[1;32m    504\u001b[0m                 \u001b[0;32mreturn\u001b[0m \u001b[0mresult\u001b[0m\u001b[0;34m\u001b[0m\u001b[0;34m\u001b[0m\u001b[0m\n",
      "\u001b[0;32m~/.pyenv/versions/3.8.12/lib/python3.8/urllib/request.py\u001b[0m in \u001b[0;36mhttp_error_default\u001b[0;34m(self, req, fp, code, msg, hdrs)\u001b[0m\n\u001b[1;32m    647\u001b[0m \u001b[0;32mclass\u001b[0m \u001b[0mHTTPDefaultErrorHandler\u001b[0m\u001b[0;34m(\u001b[0m\u001b[0mBaseHandler\u001b[0m\u001b[0;34m)\u001b[0m\u001b[0;34m:\u001b[0m\u001b[0;34m\u001b[0m\u001b[0;34m\u001b[0m\u001b[0m\n\u001b[1;32m    648\u001b[0m     \u001b[0;32mdef\u001b[0m \u001b[0mhttp_error_default\u001b[0m\u001b[0;34m(\u001b[0m\u001b[0mself\u001b[0m\u001b[0;34m,\u001b[0m \u001b[0mreq\u001b[0m\u001b[0;34m,\u001b[0m \u001b[0mfp\u001b[0m\u001b[0;34m,\u001b[0m \u001b[0mcode\u001b[0m\u001b[0;34m,\u001b[0m \u001b[0mmsg\u001b[0m\u001b[0;34m,\u001b[0m \u001b[0mhdrs\u001b[0m\u001b[0;34m)\u001b[0m\u001b[0;34m:\u001b[0m\u001b[0;34m\u001b[0m\u001b[0;34m\u001b[0m\u001b[0m\n\u001b[0;32m--> 649\u001b[0;31m         \u001b[0;32mraise\u001b[0m \u001b[0mHTTPError\u001b[0m\u001b[0;34m(\u001b[0m\u001b[0mreq\u001b[0m\u001b[0;34m.\u001b[0m\u001b[0mfull_url\u001b[0m\u001b[0;34m,\u001b[0m \u001b[0mcode\u001b[0m\u001b[0;34m,\u001b[0m \u001b[0mmsg\u001b[0m\u001b[0;34m,\u001b[0m \u001b[0mhdrs\u001b[0m\u001b[0;34m,\u001b[0m \u001b[0mfp\u001b[0m\u001b[0;34m)\u001b[0m\u001b[0;34m\u001b[0m\u001b[0;34m\u001b[0m\u001b[0m\n\u001b[0m\u001b[1;32m    650\u001b[0m \u001b[0;34m\u001b[0m\u001b[0m\n\u001b[1;32m    651\u001b[0m \u001b[0;32mclass\u001b[0m \u001b[0mHTTPRedirectHandler\u001b[0m\u001b[0;34m(\u001b[0m\u001b[0mBaseHandler\u001b[0m\u001b[0;34m)\u001b[0m\u001b[0;34m:\u001b[0m\u001b[0;34m\u001b[0m\u001b[0;34m\u001b[0m\u001b[0m\n",
      "\u001b[0;31mHTTPError\u001b[0m: HTTP Error 403: Forbidden"
     ]
    }
   ],
   "source": [
    "num=1000\n",
    "pd.read_csv(f'https://www.historique-meteo.net/site/export.php?ville_id={num}')"
   ]
  },
  {
   "cell_type": "code",
   "execution_count": 17,
   "id": "839023c7",
   "metadata": {
    "ExecuteTime": {
     "end_time": "2022-03-02T11:46:23.107646Z",
     "start_time": "2022-03-02T11:46:23.091749Z"
    }
   },
   "outputs": [],
   "source": [
    "from selenium import webdriver\n",
    "import chromedriver_binary\n",
    "\n",
    "from selenium.webdriver.common.by import By\n",
    "import time\n",
    "from selenium.webdriver.support.ui import WebDriverWait\n",
    "from selenium.webdriver.support import expected_conditions as ec"
   ]
  },
  {
   "cell_type": "code",
   "execution_count": 16,
   "id": "3569c2e7",
   "metadata": {
    "ExecuteTime": {
     "end_time": "2022-03-02T11:46:18.662280Z",
     "start_time": "2022-03-02T11:46:18.607463Z"
    }
   },
   "outputs": [],
   "source": [
    "\n",
    "import zipfile\n",
    "\n",
    "from selenium import webdriver\n",
    "\n",
    "\n",
    "\n",
    "PROXY_HOST = '154.95.0.22'  # rotating proxy or host\n",
    "PROXY_PORT = 6275 # port\n",
    "PROXY_USER = 'xatdbibj' # username\n",
    "PROXY_PASS = 'y0kzxgfiz3ne' # password\n",
    "\n",
    "\n",
    "manifest_json = \"\"\"\n",
    "{\n",
    "    \"version\": \"1.0.0\",\n",
    "    \"manifest_version\": 2,\n",
    "    \"name\": \"Chrome Proxy\",\n",
    "    \"permissions\": [\n",
    "        \"proxy\",\n",
    "        \"tabs\",\n",
    "        \"unlimitedStorage\",\n",
    "        \"storage\",\n",
    "        \"<all_urls>\",\n",
    "        \"webRequest\",\n",
    "        \"webRequestBlocking\"\n",
    "    ],\n",
    "    \"background\": {\n",
    "        \"scripts\": [\"background.js\"]\n",
    "    },\n",
    "    \"minimum_chrome_version\":\"22.0.0\"\n",
    "}\n",
    "\"\"\"\n",
    "\n",
    "background_js = \"\"\"\n",
    "var config = {\n",
    "        mode: \"fixed_servers\",\n",
    "        rules: {\n",
    "        singleProxy: {\n",
    "            scheme: \"http\",\n",
    "            host: \"%s\",\n",
    "            port: parseInt(%s)\n",
    "        },\n",
    "        bypassList: [\"localhost\"]\n",
    "        }\n",
    "    };\n",
    "\n",
    "chrome.proxy.settings.set({value: config, scope: \"regular\"}, function() {});\n",
    "\n",
    "function callbackFn(details) {\n",
    "    return {\n",
    "        authCredentials: {\n",
    "            username: \"%s\",\n",
    "            password: \"%s\"\n",
    "        }\n",
    "    };\n",
    "}\n",
    "\n",
    "chrome.webRequest.onAuthRequired.addListener(\n",
    "            callbackFn,\n",
    "            {urls: [\"<all_urls>\"]},\n",
    "            ['blocking']\n",
    ");\n",
    "\"\"\" % (PROXY_HOST, PROXY_PORT, PROXY_USER, PROXY_PASS)\n",
    "\n",
    "\n",
    "def get_chromedriver(use_proxy=False, user_agent=None):\n",
    "    chrome_options = webdriver.ChromeOptions()\n",
    "    if use_proxy:\n",
    "        pluginfile = 'proxy_auth_plugin.zip'\n",
    "\n",
    "        with zipfile.ZipFile(pluginfile, 'w') as zp:\n",
    "            zp.writestr(\"manifest.json\", manifest_json)\n",
    "            zp.writestr(\"background.js\", background_js)\n",
    "        chrome_options.add_extension(pluginfile)\n",
    "    if user_agent:\n",
    "        chrome_options.add_argument('--user-agent=%s' % user_agent)\n",
    "    driver = webdriver.Chrome(\n",
    "        chrome_options=chrome_options)\n",
    "    return driver\n",
    "\n",
    "\n",
    "\n",
    "def get_ville_id(driver,dep,ville):\n",
    "    #driver=webdriver.Chrome()\n",
    "    driver.get(f'https://www.historique-meteo.net/france/{dep}/{ville}/')\n",
    "\n",
    "    #driver.find_element(By.CLASS_NAME,\"form-control\").clear()\n",
    "    #driver.find_element(By.CLASS_NAME,\"form-control\").send_keys(\"dijon\")\n",
    "    #driver.find_element(By.CLASS_NAME,\"btn.btn-theme.btn-lg\").click()\n",
    "    \n",
    "    try:\n",
    "        page=driver.find_element(By.CLASS_NAME,\"btn.btn-small.btn-theme.pull-right\")\n",
    "        lien=page.get_attribute(\"href\")\n",
    "        start=lien.index('=')\n",
    "        return(lien[start+1:])\n",
    "    except:\n",
    "        return 'erreur 404'"
   ]
  },
  {
   "cell_type": "code",
   "execution_count": 18,
   "id": "568af247",
   "metadata": {
    "ExecuteTime": {
     "end_time": "2022-03-02T11:47:20.727530Z",
     "start_time": "2022-03-02T11:46:26.438464Z"
    }
   },
   "outputs": [
    {
     "name": "stderr",
     "output_type": "stream",
     "text": [
      "/var/folders/v0/5qktxwz92kl52b34cz5nxqbr0000gn/T/ipykernel_98445/3461726541.py:77: DeprecationWarning: use options instead of chrome_options\n",
      "  driver = webdriver.Chrome(\n"
     ]
    },
    {
     "name": "stdout",
     "output_type": "stream",
     "text": [
      "picardie amiens 226\n",
      "champagne-ardenne reims 177\n",
      "nord-pas-de-calais lille 210\n",
      "normandie rouen 218\n",
      "champagne-ardenne troyes 178\n",
      "poitou-charentes poitiers 233\n",
      "centre tours 168\n",
      "bretagne rennes 172\n",
      "bourgogne dijon 170\n",
      "bretagne lannion 1002\n",
      "normandie caen 216\n",
      "centre bourges 163\n",
      "normandie alençon erreur 404\n",
      "charentes saintes erreur 404\n",
      "bretagne vannes 173\n",
      "lorraine nancy 200\n",
      "bretagne concarneau 1043\n",
      "pays-de-la-loire nantes 221\n",
      "normandie granville 2181\n",
      "auvergne clermont-ferrand 161\n",
      "grand est Strasbourg erreur 404\n",
      "occitanie toulouse 205\n",
      "grand est colmar erreur 404\n",
      "drome valence 5977\n",
      "aveyron rodez-aveyron 1143\n",
      "auvergne puy-en-velay-haute-loire 871\n",
      "limousin Limoges erreur 404\n",
      "lyonnais lyon 201\n",
      "lot Cahors-lot erreur 404\n",
      "midi-pyrenees foix-ariege 1142\n",
      "aquitaine bordeaux 156\n",
      "midi-pyrenees tarbes 987\n",
      "landes mont-de-marsan 2668\n",
      "rh-ne-alpes gap-hautes-alpes 1007\n",
      "occitanie Montpellier erreur 404\n",
      "provence-alpes-c-te-d-azur Marseille erreur 404\n",
      "provence-alpes-c-te-d-azur Toulon erreur 404\n",
      "occitanie Perpignan erreur 404\n"
     ]
    }
   ],
   "source": [
    "dict_id_ville={}\n",
    "driver = get_chromedriver(use_proxy=True)\n",
    "for i,j in zip(liste_regions,liste_ville):\n",
    "    id =get_ville_id(driver,i,j)\n",
    "    print(i,j,id)\n",
    "    dict_id_ville[j]=id\n",
    "driver.close()"
   ]
  },
  {
   "cell_type": "code",
   "execution_count": 14,
   "id": "bd3f1aa2",
   "metadata": {
    "ExecuteTime": {
     "end_time": "2022-03-02T11:46:08.908242Z",
     "start_time": "2022-03-02T11:46:08.893835Z"
    }
   },
   "outputs": [],
   "source": [
    "liste_regions =['picardie','champagne-ardenne','nord-pas-de-calais',\n",
    "                'normandie','champagne-ardenne','poitou-charentes','centre','bretagne','bourgogne',\n",
    "                'bretagne','normandie','centre','normandie','charentes','bretagne','lorraine','bretagne',\n",
    "                'pays-de-la-loire','normandie','auvergne','grand est','occitanie','grand est','drome',\n",
    "                'aveyron','auvergne','limousin','lyonnais','lot','midi-pyrenees','aquitaine','midi-pyrenees',\n",
    "                'landes','rh-ne-alpes','occitanie','provence-alpes-c-te-d-azur','provence-alpes-c-te-d-azur',\n",
    "                'occitanie']\n",
    "\n",
    "liste_ville =['amiens','reims','lille','rouen','troyes','poitiers','tours','rennes','dijon','lannion','caen',\n",
    "              'bourges','alençon','saintes','vannes','nancy','concarneau','nantes','granville',\n",
    "              'clermont-ferrand','Strasbourg','toulouse','colmar','valence','rodez-aveyron',\n",
    "              'puy-en-velay-haute-loire','Limoges','lyon','Cahors-lot','foix-ariege','bordeaux',\n",
    "              'tarbes','mont-de-marsan','gap-hautes-alpes','Montpellier','Marseille','Toulon','Perpignan']"
   ]
  },
  {
   "cell_type": "code",
   "execution_count": 72,
   "id": "66d381ca",
   "metadata": {
    "ExecuteTime": {
     "end_time": "2022-03-01T18:26:03.180452Z",
     "start_time": "2022-03-01T18:26:03.177027Z"
    }
   },
   "outputs": [
    {
     "data": {
      "text/plain": [
       "{'amiens': '226',\n",
       " 'reims': '177',\n",
       " 'lille': '210',\n",
       " 'rouen': '218',\n",
       " 'troyes': '178',\n",
       " 'poitiers': '233',\n",
       " 'tours': '168',\n",
       " 'rennes': '172',\n",
       " 'dijon': '170',\n",
       " 'lannion': '1002',\n",
       " 'caen': '216',\n",
       " 'bourges': '163',\n",
       " 'alencon-orne': '873',\n",
       " 'saintes-charente-maritime': '5655',\n",
       " 'vannes': '173',\n",
       " 'nancy': '200',\n",
       " 'concarneau': '1043',\n",
       " 'nantes': '221',\n",
       " 'granville': '2181'}"
      ]
     },
     "execution_count": 72,
     "metadata": {},
     "output_type": "execute_result"
    }
   ],
   "source": [
    "dict_id_ville"
   ]
  },
  {
   "cell_type": "code",
   "execution_count": 12,
   "id": "48defe55",
   "metadata": {
    "ExecuteTime": {
     "end_time": "2022-03-02T09:55:59.848044Z",
     "start_time": "2022-03-02T09:55:59.463083Z"
    }
   },
   "outputs": [],
   "source": [
    "import requests\n",
    "\n",
    "headers = {\n",
    "    'authority': 'www.historique-meteo.net',\n",
    "    'sec-ch-ua': '\" Not A;Brand\";v=\"99\", \"Chromium\";v=\"98\", \"Google Chrome\";v=\"98\"',\n",
    "    'sec-ch-ua-mobile': '?0',\n",
    "    'sec-ch-ua-platform': '\"macOS\"',\n",
    "    'upgrade-insecure-requests': '1',\n",
    "    'user-agent': 'Mozilla/5.0 (Macintosh; Intel Mac OS X 10_15_7) AppleWebKit/537.36 (KHTML, like Gecko) Chrome/98.0.4758.109 Safari/537.36',\n",
    "    'accept': 'text/html,application/xhtml+xml,application/xml;q=0.9,image/avif,image/webp,image/apng,*/*;q=0.8,application/signed-exchange;v=b3;q=0.9',\n",
    "    'sec-fetch-site': 'none',\n",
    "    'sec-fetch-mode': 'navigate',\n",
    "    'sec-fetch-user': '?1',\n",
    "    'sec-fetch-dest': 'document',\n",
    "    'accept-language': 'fr-FR,fr;q=0.9,en-US;q=0.8,en;q=0.7',\n",
    "    'cookie': '_ga=GA1.2.961079174.1646151408; _gid=GA1.2.1828631661.1646151408; euconsent-v2=CPVJdQAPVJdQABcAIBFRCECgAAAAAH_AAAqIIDwAAQHgKgALAAqABkAEEANAA1ACKAGIAPwAhABMAEIAIsAXUA0QBrwDaAI9AXmAySByYHKAPSAA.x6pdiu4.4U6gAAA0AAADQAIACA; cf_chl_2=70fb1f01744c397; cf_chl_prog=x14; cf_clearance=Izt.GtHDS_h0zxAvofVVKdPpGau3UEyFLTyNhM4gkOw-1646212088-0-150',\n",
    "}\n",
    "\n",
    "params = (\n",
    "    ('ville_id', '1010'),\n",
    ")\n",
    "\n",
    "response = requests.get('https://www.historique-meteo.net/site/export.php', headers=headers, params=params)\n",
    "\n",
    "# Note: original query string below. It seems impossible to parse and\n",
    "# reproduce query strings 100% accurately so the one below is given\n",
    "# in case the reproduced version is not \"correct\".\n",
    "#response = requests.get('https://www.historique-meteo.net/site/export.php?ville_id=1012', headers=headers)"
   ]
  },
  {
   "cell_type": "code",
   "execution_count": 8,
   "id": "cd095ea2",
   "metadata": {
    "ExecuteTime": {
     "end_time": "2022-03-02T09:12:48.565579Z",
     "start_time": "2022-03-02T09:12:48.524495Z"
    }
   },
   "outputs": [
    {
     "ename": "ValueError",
     "evalue": "Protocol not known: #### EXPORT DONNEES METEO POUR \"COGNAC\" (LAT/LON: 45.691046/-0.328744)\n#### DONNEES PROVENANT DE WWW.HISTORIQUE-METEO.NET - UTILISATION LIBRE A CONDITION DE MENTIONNER LEUR PROVENANCE\n#### DOC POUR LES WEATHER CODES : https",
     "output_type": "error",
     "traceback": [
      "\u001b[0;31m---------------------------------------------------------------------------\u001b[0m",
      "\u001b[0;31mValueError\u001b[0m                                Traceback (most recent call last)",
      "\u001b[0;32m/var/folders/v0/5qktxwz92kl52b34cz5nxqbr0000gn/T/ipykernel_98445/3334608793.py\u001b[0m in \u001b[0;36m<module>\u001b[0;34m\u001b[0m\n\u001b[0;32m----> 1\u001b[0;31m \u001b[0mpd\u001b[0m\u001b[0;34m.\u001b[0m\u001b[0mread_csv\u001b[0m\u001b[0;34m(\u001b[0m\u001b[0mresponse\u001b[0m\u001b[0;34m.\u001b[0m\u001b[0mtext\u001b[0m\u001b[0;34m,\u001b[0m\u001b[0mskiprows\u001b[0m\u001b[0;34m=\u001b[0m\u001b[0;36m6\u001b[0m\u001b[0;34m)\u001b[0m\u001b[0;34m\u001b[0m\u001b[0;34m\u001b[0m\u001b[0m\n\u001b[0m",
      "\u001b[0;32m~/.pyenv/versions/3.8.12/envs/lewagon/lib/python3.8/site-packages/pandas/util/_decorators.py\u001b[0m in \u001b[0;36mwrapper\u001b[0;34m(*args, **kwargs)\u001b[0m\n\u001b[1;32m    309\u001b[0m                     \u001b[0mstacklevel\u001b[0m\u001b[0;34m=\u001b[0m\u001b[0mstacklevel\u001b[0m\u001b[0;34m,\u001b[0m\u001b[0;34m\u001b[0m\u001b[0;34m\u001b[0m\u001b[0m\n\u001b[1;32m    310\u001b[0m                 )\n\u001b[0;32m--> 311\u001b[0;31m             \u001b[0;32mreturn\u001b[0m \u001b[0mfunc\u001b[0m\u001b[0;34m(\u001b[0m\u001b[0;34m*\u001b[0m\u001b[0margs\u001b[0m\u001b[0;34m,\u001b[0m \u001b[0;34m**\u001b[0m\u001b[0mkwargs\u001b[0m\u001b[0;34m)\u001b[0m\u001b[0;34m\u001b[0m\u001b[0;34m\u001b[0m\u001b[0m\n\u001b[0m\u001b[1;32m    312\u001b[0m \u001b[0;34m\u001b[0m\u001b[0m\n\u001b[1;32m    313\u001b[0m         \u001b[0;32mreturn\u001b[0m \u001b[0mwrapper\u001b[0m\u001b[0;34m\u001b[0m\u001b[0;34m\u001b[0m\u001b[0m\n",
      "\u001b[0;32m~/.pyenv/versions/3.8.12/envs/lewagon/lib/python3.8/site-packages/pandas/io/parsers/readers.py\u001b[0m in \u001b[0;36mread_csv\u001b[0;34m(filepath_or_buffer, sep, delimiter, header, names, index_col, usecols, squeeze, prefix, mangle_dupe_cols, dtype, engine, converters, true_values, false_values, skipinitialspace, skiprows, skipfooter, nrows, na_values, keep_default_na, na_filter, verbose, skip_blank_lines, parse_dates, infer_datetime_format, keep_date_col, date_parser, dayfirst, cache_dates, iterator, chunksize, compression, thousands, decimal, lineterminator, quotechar, quoting, doublequote, escapechar, comment, encoding, encoding_errors, dialect, error_bad_lines, warn_bad_lines, on_bad_lines, delim_whitespace, low_memory, memory_map, float_precision, storage_options)\u001b[0m\n\u001b[1;32m    584\u001b[0m     \u001b[0mkwds\u001b[0m\u001b[0;34m.\u001b[0m\u001b[0mupdate\u001b[0m\u001b[0;34m(\u001b[0m\u001b[0mkwds_defaults\u001b[0m\u001b[0;34m)\u001b[0m\u001b[0;34m\u001b[0m\u001b[0;34m\u001b[0m\u001b[0m\n\u001b[1;32m    585\u001b[0m \u001b[0;34m\u001b[0m\u001b[0m\n\u001b[0;32m--> 586\u001b[0;31m     \u001b[0;32mreturn\u001b[0m \u001b[0m_read\u001b[0m\u001b[0;34m(\u001b[0m\u001b[0mfilepath_or_buffer\u001b[0m\u001b[0;34m,\u001b[0m \u001b[0mkwds\u001b[0m\u001b[0;34m)\u001b[0m\u001b[0;34m\u001b[0m\u001b[0;34m\u001b[0m\u001b[0m\n\u001b[0m\u001b[1;32m    587\u001b[0m \u001b[0;34m\u001b[0m\u001b[0m\n\u001b[1;32m    588\u001b[0m \u001b[0;34m\u001b[0m\u001b[0m\n",
      "\u001b[0;32m~/.pyenv/versions/3.8.12/envs/lewagon/lib/python3.8/site-packages/pandas/io/parsers/readers.py\u001b[0m in \u001b[0;36m_read\u001b[0;34m(filepath_or_buffer, kwds)\u001b[0m\n\u001b[1;32m    480\u001b[0m \u001b[0;34m\u001b[0m\u001b[0m\n\u001b[1;32m    481\u001b[0m     \u001b[0;31m# Create the parser.\u001b[0m\u001b[0;34m\u001b[0m\u001b[0;34m\u001b[0m\u001b[0;34m\u001b[0m\u001b[0m\n\u001b[0;32m--> 482\u001b[0;31m     \u001b[0mparser\u001b[0m \u001b[0;34m=\u001b[0m \u001b[0mTextFileReader\u001b[0m\u001b[0;34m(\u001b[0m\u001b[0mfilepath_or_buffer\u001b[0m\u001b[0;34m,\u001b[0m \u001b[0;34m**\u001b[0m\u001b[0mkwds\u001b[0m\u001b[0;34m)\u001b[0m\u001b[0;34m\u001b[0m\u001b[0;34m\u001b[0m\u001b[0m\n\u001b[0m\u001b[1;32m    483\u001b[0m \u001b[0;34m\u001b[0m\u001b[0m\n\u001b[1;32m    484\u001b[0m     \u001b[0;32mif\u001b[0m \u001b[0mchunksize\u001b[0m \u001b[0;32mor\u001b[0m \u001b[0miterator\u001b[0m\u001b[0;34m:\u001b[0m\u001b[0;34m\u001b[0m\u001b[0;34m\u001b[0m\u001b[0m\n",
      "\u001b[0;32m~/.pyenv/versions/3.8.12/envs/lewagon/lib/python3.8/site-packages/pandas/io/parsers/readers.py\u001b[0m in \u001b[0;36m__init__\u001b[0;34m(self, f, engine, **kwds)\u001b[0m\n\u001b[1;32m    809\u001b[0m             \u001b[0mself\u001b[0m\u001b[0;34m.\u001b[0m\u001b[0moptions\u001b[0m\u001b[0;34m[\u001b[0m\u001b[0;34m\"has_index_names\"\u001b[0m\u001b[0;34m]\u001b[0m \u001b[0;34m=\u001b[0m \u001b[0mkwds\u001b[0m\u001b[0;34m[\u001b[0m\u001b[0;34m\"has_index_names\"\u001b[0m\u001b[0;34m]\u001b[0m\u001b[0;34m\u001b[0m\u001b[0;34m\u001b[0m\u001b[0m\n\u001b[1;32m    810\u001b[0m \u001b[0;34m\u001b[0m\u001b[0m\n\u001b[0;32m--> 811\u001b[0;31m         \u001b[0mself\u001b[0m\u001b[0;34m.\u001b[0m\u001b[0m_engine\u001b[0m \u001b[0;34m=\u001b[0m \u001b[0mself\u001b[0m\u001b[0;34m.\u001b[0m\u001b[0m_make_engine\u001b[0m\u001b[0;34m(\u001b[0m\u001b[0mself\u001b[0m\u001b[0;34m.\u001b[0m\u001b[0mengine\u001b[0m\u001b[0;34m)\u001b[0m\u001b[0;34m\u001b[0m\u001b[0;34m\u001b[0m\u001b[0m\n\u001b[0m\u001b[1;32m    812\u001b[0m \u001b[0;34m\u001b[0m\u001b[0m\n\u001b[1;32m    813\u001b[0m     \u001b[0;32mdef\u001b[0m \u001b[0mclose\u001b[0m\u001b[0;34m(\u001b[0m\u001b[0mself\u001b[0m\u001b[0;34m)\u001b[0m\u001b[0;34m:\u001b[0m\u001b[0;34m\u001b[0m\u001b[0;34m\u001b[0m\u001b[0m\n",
      "\u001b[0;32m~/.pyenv/versions/3.8.12/envs/lewagon/lib/python3.8/site-packages/pandas/io/parsers/readers.py\u001b[0m in \u001b[0;36m_make_engine\u001b[0;34m(self, engine)\u001b[0m\n\u001b[1;32m   1038\u001b[0m             )\n\u001b[1;32m   1039\u001b[0m         \u001b[0;31m# error: Too many arguments for \"ParserBase\"\u001b[0m\u001b[0;34m\u001b[0m\u001b[0;34m\u001b[0m\u001b[0;34m\u001b[0m\u001b[0m\n\u001b[0;32m-> 1040\u001b[0;31m         \u001b[0;32mreturn\u001b[0m \u001b[0mmapping\u001b[0m\u001b[0;34m[\u001b[0m\u001b[0mengine\u001b[0m\u001b[0;34m]\u001b[0m\u001b[0;34m(\u001b[0m\u001b[0mself\u001b[0m\u001b[0;34m.\u001b[0m\u001b[0mf\u001b[0m\u001b[0;34m,\u001b[0m \u001b[0;34m**\u001b[0m\u001b[0mself\u001b[0m\u001b[0;34m.\u001b[0m\u001b[0moptions\u001b[0m\u001b[0;34m)\u001b[0m  \u001b[0;31m# type: ignore[call-arg]\u001b[0m\u001b[0;34m\u001b[0m\u001b[0;34m\u001b[0m\u001b[0m\n\u001b[0m\u001b[1;32m   1041\u001b[0m \u001b[0;34m\u001b[0m\u001b[0m\n\u001b[1;32m   1042\u001b[0m     \u001b[0;32mdef\u001b[0m \u001b[0m_failover_to_python\u001b[0m\u001b[0;34m(\u001b[0m\u001b[0mself\u001b[0m\u001b[0;34m)\u001b[0m\u001b[0;34m:\u001b[0m\u001b[0;34m\u001b[0m\u001b[0;34m\u001b[0m\u001b[0m\n",
      "\u001b[0;32m~/.pyenv/versions/3.8.12/envs/lewagon/lib/python3.8/site-packages/pandas/io/parsers/c_parser_wrapper.py\u001b[0m in \u001b[0;36m__init__\u001b[0;34m(self, src, **kwds)\u001b[0m\n\u001b[1;32m     49\u001b[0m \u001b[0;34m\u001b[0m\u001b[0m\n\u001b[1;32m     50\u001b[0m         \u001b[0;31m# open handles\u001b[0m\u001b[0;34m\u001b[0m\u001b[0;34m\u001b[0m\u001b[0;34m\u001b[0m\u001b[0m\n\u001b[0;32m---> 51\u001b[0;31m         \u001b[0mself\u001b[0m\u001b[0;34m.\u001b[0m\u001b[0m_open_handles\u001b[0m\u001b[0;34m(\u001b[0m\u001b[0msrc\u001b[0m\u001b[0;34m,\u001b[0m \u001b[0mkwds\u001b[0m\u001b[0;34m)\u001b[0m\u001b[0;34m\u001b[0m\u001b[0;34m\u001b[0m\u001b[0m\n\u001b[0m\u001b[1;32m     52\u001b[0m         \u001b[0;32massert\u001b[0m \u001b[0mself\u001b[0m\u001b[0;34m.\u001b[0m\u001b[0mhandles\u001b[0m \u001b[0;32mis\u001b[0m \u001b[0;32mnot\u001b[0m \u001b[0;32mNone\u001b[0m\u001b[0;34m\u001b[0m\u001b[0;34m\u001b[0m\u001b[0m\n\u001b[1;32m     53\u001b[0m \u001b[0;34m\u001b[0m\u001b[0m\n",
      "\u001b[0;32m~/.pyenv/versions/3.8.12/envs/lewagon/lib/python3.8/site-packages/pandas/io/parsers/base_parser.py\u001b[0m in \u001b[0;36m_open_handles\u001b[0;34m(self, src, kwds)\u001b[0m\n\u001b[1;32m    220\u001b[0m         \u001b[0mLet\u001b[0m \u001b[0mthe\u001b[0m \u001b[0mreaders\u001b[0m \u001b[0mopen\u001b[0m \u001b[0mIOHandles\u001b[0m \u001b[0mafter\u001b[0m \u001b[0mthey\u001b[0m \u001b[0mare\u001b[0m \u001b[0mdone\u001b[0m \u001b[0;32mwith\u001b[0m \u001b[0mtheir\u001b[0m \u001b[0mpotential\u001b[0m \u001b[0mraises\u001b[0m\u001b[0;34m.\u001b[0m\u001b[0;34m\u001b[0m\u001b[0;34m\u001b[0m\u001b[0m\n\u001b[1;32m    221\u001b[0m         \"\"\"\n\u001b[0;32m--> 222\u001b[0;31m         self.handles = get_handle(\n\u001b[0m\u001b[1;32m    223\u001b[0m             \u001b[0msrc\u001b[0m\u001b[0;34m,\u001b[0m\u001b[0;34m\u001b[0m\u001b[0;34m\u001b[0m\u001b[0m\n\u001b[1;32m    224\u001b[0m             \u001b[0;34m\"r\"\u001b[0m\u001b[0;34m,\u001b[0m\u001b[0;34m\u001b[0m\u001b[0;34m\u001b[0m\u001b[0m\n",
      "\u001b[0;32m~/.pyenv/versions/3.8.12/envs/lewagon/lib/python3.8/site-packages/pandas/io/common.py\u001b[0m in \u001b[0;36mget_handle\u001b[0;34m(path_or_buf, mode, encoding, compression, memory_map, is_text, errors, storage_options)\u001b[0m\n\u001b[1;32m    607\u001b[0m \u001b[0;34m\u001b[0m\u001b[0m\n\u001b[1;32m    608\u001b[0m     \u001b[0;31m# open URLs\u001b[0m\u001b[0;34m\u001b[0m\u001b[0;34m\u001b[0m\u001b[0;34m\u001b[0m\u001b[0m\n\u001b[0;32m--> 609\u001b[0;31m     ioargs = _get_filepath_or_buffer(\n\u001b[0m\u001b[1;32m    610\u001b[0m         \u001b[0mpath_or_buf\u001b[0m\u001b[0;34m,\u001b[0m\u001b[0;34m\u001b[0m\u001b[0;34m\u001b[0m\u001b[0m\n\u001b[1;32m    611\u001b[0m         \u001b[0mencoding\u001b[0m\u001b[0;34m=\u001b[0m\u001b[0mencoding\u001b[0m\u001b[0;34m,\u001b[0m\u001b[0;34m\u001b[0m\u001b[0;34m\u001b[0m\u001b[0m\n",
      "\u001b[0;32m~/.pyenv/versions/3.8.12/envs/lewagon/lib/python3.8/site-packages/pandas/io/common.py\u001b[0m in \u001b[0;36m_get_filepath_or_buffer\u001b[0;34m(filepath_or_buffer, encoding, compression, mode, storage_options)\u001b[0m\n\u001b[1;32m    356\u001b[0m \u001b[0;34m\u001b[0m\u001b[0m\n\u001b[1;32m    357\u001b[0m         \u001b[0;32mtry\u001b[0m\u001b[0;34m:\u001b[0m\u001b[0;34m\u001b[0m\u001b[0;34m\u001b[0m\u001b[0m\n\u001b[0;32m--> 358\u001b[0;31m             file_obj = fsspec.open(\n\u001b[0m\u001b[1;32m    359\u001b[0m                 \u001b[0mfilepath_or_buffer\u001b[0m\u001b[0;34m,\u001b[0m \u001b[0mmode\u001b[0m\u001b[0;34m=\u001b[0m\u001b[0mfsspec_mode\u001b[0m\u001b[0;34m,\u001b[0m \u001b[0;34m**\u001b[0m\u001b[0;34m(\u001b[0m\u001b[0mstorage_options\u001b[0m \u001b[0;32mor\u001b[0m \u001b[0;34m{\u001b[0m\u001b[0;34m}\u001b[0m\u001b[0;34m)\u001b[0m\u001b[0;34m\u001b[0m\u001b[0;34m\u001b[0m\u001b[0m\n\u001b[1;32m    360\u001b[0m             ).open()\n",
      "\u001b[0;32m~/.pyenv/versions/3.8.12/envs/lewagon/lib/python3.8/site-packages/fsspec/core.py\u001b[0m in \u001b[0;36mopen\u001b[0;34m(urlpath, mode, compression, encoding, errors, protocol, newline, **kwargs)\u001b[0m\n\u001b[1;32m    454\u001b[0m     \u001b[0;31m`\u001b[0m\u001b[0;31m`\u001b[0m\u001b[0mOpenFile\u001b[0m\u001b[0;31m`\u001b[0m\u001b[0;31m`\u001b[0m \u001b[0mobject\u001b[0m\u001b[0;34m.\u001b[0m\u001b[0;34m\u001b[0m\u001b[0;34m\u001b[0m\u001b[0m\n\u001b[1;32m    455\u001b[0m     \"\"\"\n\u001b[0;32m--> 456\u001b[0;31m     return open_files(\n\u001b[0m\u001b[1;32m    457\u001b[0m         \u001b[0murlpath\u001b[0m\u001b[0;34m=\u001b[0m\u001b[0;34m[\u001b[0m\u001b[0murlpath\u001b[0m\u001b[0;34m]\u001b[0m\u001b[0;34m,\u001b[0m\u001b[0;34m\u001b[0m\u001b[0;34m\u001b[0m\u001b[0m\n\u001b[1;32m    458\u001b[0m         \u001b[0mmode\u001b[0m\u001b[0;34m=\u001b[0m\u001b[0mmode\u001b[0m\u001b[0;34m,\u001b[0m\u001b[0;34m\u001b[0m\u001b[0;34m\u001b[0m\u001b[0m\n",
      "\u001b[0;32m~/.pyenv/versions/3.8.12/envs/lewagon/lib/python3.8/site-packages/fsspec/core.py\u001b[0m in \u001b[0;36mopen_files\u001b[0;34m(urlpath, mode, compression, encoding, errors, name_function, num, protocol, newline, auto_mkdir, expand, **kwargs)\u001b[0m\n\u001b[1;32m    286\u001b[0m     \u001b[0mbe\u001b[0m \u001b[0mused\u001b[0m \u001b[0;32mas\u001b[0m \u001b[0ma\u001b[0m \u001b[0msingle\u001b[0m \u001b[0mcontext\u001b[0m\u001b[0;34m\u001b[0m\u001b[0;34m\u001b[0m\u001b[0m\n\u001b[1;32m    287\u001b[0m     \"\"\"\n\u001b[0;32m--> 288\u001b[0;31m     fs, fs_token, paths = get_fs_token_paths(\n\u001b[0m\u001b[1;32m    289\u001b[0m         \u001b[0murlpath\u001b[0m\u001b[0;34m,\u001b[0m\u001b[0;34m\u001b[0m\u001b[0;34m\u001b[0m\u001b[0m\n\u001b[1;32m    290\u001b[0m         \u001b[0mmode\u001b[0m\u001b[0;34m,\u001b[0m\u001b[0;34m\u001b[0m\u001b[0;34m\u001b[0m\u001b[0m\n",
      "\u001b[0;32m~/.pyenv/versions/3.8.12/envs/lewagon/lib/python3.8/site-packages/fsspec/core.py\u001b[0m in \u001b[0;36mget_fs_token_paths\u001b[0;34m(urlpath, mode, num, name_function, storage_options, protocol, expand)\u001b[0m\n\u001b[1;32m    624\u001b[0m                         \u001b[0;34m\"share the same protocol\"\u001b[0m\u001b[0;34m\u001b[0m\u001b[0;34m\u001b[0m\u001b[0m\n\u001b[1;32m    625\u001b[0m                     )\n\u001b[0;32m--> 626\u001b[0;31m             \u001b[0mcls\u001b[0m \u001b[0;34m=\u001b[0m \u001b[0mget_filesystem_class\u001b[0m\u001b[0;34m(\u001b[0m\u001b[0mprotocol\u001b[0m\u001b[0;34m)\u001b[0m\u001b[0;34m\u001b[0m\u001b[0;34m\u001b[0m\u001b[0m\n\u001b[0m\u001b[1;32m    627\u001b[0m             \u001b[0moptionss\u001b[0m \u001b[0;34m=\u001b[0m \u001b[0mlist\u001b[0m\u001b[0;34m(\u001b[0m\u001b[0mmap\u001b[0m\u001b[0;34m(\u001b[0m\u001b[0mcls\u001b[0m\u001b[0;34m.\u001b[0m\u001b[0m_get_kwargs_from_urls\u001b[0m\u001b[0;34m,\u001b[0m \u001b[0murlpath\u001b[0m\u001b[0;34m)\u001b[0m\u001b[0;34m)\u001b[0m\u001b[0;34m\u001b[0m\u001b[0;34m\u001b[0m\u001b[0m\n\u001b[1;32m    628\u001b[0m             \u001b[0mpaths\u001b[0m \u001b[0;34m=\u001b[0m \u001b[0;34m[\u001b[0m\u001b[0mcls\u001b[0m\u001b[0;34m.\u001b[0m\u001b[0m_strip_protocol\u001b[0m\u001b[0;34m(\u001b[0m\u001b[0mu\u001b[0m\u001b[0;34m)\u001b[0m \u001b[0;32mfor\u001b[0m \u001b[0mu\u001b[0m \u001b[0;32min\u001b[0m \u001b[0murlpath\u001b[0m\u001b[0;34m]\u001b[0m\u001b[0;34m\u001b[0m\u001b[0;34m\u001b[0m\u001b[0m\n",
      "\u001b[0;32m~/.pyenv/versions/3.8.12/envs/lewagon/lib/python3.8/site-packages/fsspec/registry.py\u001b[0m in \u001b[0;36mget_filesystem_class\u001b[0;34m(protocol)\u001b[0m\n\u001b[1;32m    214\u001b[0m     \u001b[0;32mif\u001b[0m \u001b[0mprotocol\u001b[0m \u001b[0;32mnot\u001b[0m \u001b[0;32min\u001b[0m \u001b[0mregistry\u001b[0m\u001b[0;34m:\u001b[0m\u001b[0;34m\u001b[0m\u001b[0;34m\u001b[0m\u001b[0m\n\u001b[1;32m    215\u001b[0m         \u001b[0;32mif\u001b[0m \u001b[0mprotocol\u001b[0m \u001b[0;32mnot\u001b[0m \u001b[0;32min\u001b[0m \u001b[0mknown_implementations\u001b[0m\u001b[0;34m:\u001b[0m\u001b[0;34m\u001b[0m\u001b[0;34m\u001b[0m\u001b[0m\n\u001b[0;32m--> 216\u001b[0;31m             \u001b[0;32mraise\u001b[0m \u001b[0mValueError\u001b[0m\u001b[0;34m(\u001b[0m\u001b[0;34m\"Protocol not known: %s\"\u001b[0m \u001b[0;34m%\u001b[0m \u001b[0mprotocol\u001b[0m\u001b[0;34m)\u001b[0m\u001b[0;34m\u001b[0m\u001b[0;34m\u001b[0m\u001b[0m\n\u001b[0m\u001b[1;32m    217\u001b[0m         \u001b[0mbit\u001b[0m \u001b[0;34m=\u001b[0m \u001b[0mknown_implementations\u001b[0m\u001b[0;34m[\u001b[0m\u001b[0mprotocol\u001b[0m\u001b[0;34m]\u001b[0m\u001b[0;34m\u001b[0m\u001b[0;34m\u001b[0m\u001b[0m\n\u001b[1;32m    218\u001b[0m         \u001b[0;32mtry\u001b[0m\u001b[0;34m:\u001b[0m\u001b[0;34m\u001b[0m\u001b[0;34m\u001b[0m\u001b[0m\n",
      "\u001b[0;31mValueError\u001b[0m: Protocol not known: #### EXPORT DONNEES METEO POUR \"COGNAC\" (LAT/LON: 45.691046/-0.328744)\n#### DONNEES PROVENANT DE WWW.HISTORIQUE-METEO.NET - UTILISATION LIBRE A CONDITION DE MENTIONNER LEUR PROVENANCE\n#### DOC POUR LES WEATHER CODES : https"
     ]
    }
   ],
   "source": [
    "pd.read_csv(response.text, skiprows=6)"
   ]
  },
  {
   "cell_type": "code",
   "execution_count": 13,
   "id": "2780243b",
   "metadata": {
    "ExecuteTime": {
     "end_time": "2022-03-02T09:56:04.401502Z",
     "start_time": "2022-03-02T09:56:04.386639Z"
    }
   },
   "outputs": [
    {
     "data": {
      "text/plain": [
       "'<!DOCTYPE html>\\n<!--[if lt IE 7]> <html class=\"no-js ie6 oldie\" lang=\"en-US\"> <![endif]-->\\n<!--[if IE 7]>    <html class=\"no-js ie7 oldie\" lang=\"en-US\"> <![endif]-->\\n<!--[if IE 8]>    <html class=\"no-js ie8 oldie\" lang=\"en-US\"> <![endif]-->\\n<!--[if gt IE 8]><!--> <html class=\"no-js\" lang=\"en-US\"> <!--<![endif]-->\\n<head>\\n\\n<title>Please Wait... | Cloudflare</title>\\n  \\n<meta name=\"captcha-bypass\" id=\"captcha-bypass\" />\\n<meta charset=\"UTF-8\" />\\n<meta http-equiv=\"Content-Type\" content=\"text/html; charset=UTF-8\" />\\n<meta http-equiv=\"X-UA-Compatible\" content=\"IE=Edge,chrome=1\" />\\n<meta name=\"robots\" content=\"noindex, nofollow\" />\\n<meta name=\"viewport\" content=\"width=device-width,initial-scale=1\" />\\n<link rel=\"stylesheet\" id=\"cf_styles-css\" href=\"/cdn-cgi/styles/cf.errors.css\" type=\"text/css\" media=\"screen,projection\" />\\n<!--[if lt IE 9]><link rel=\"stylesheet\" id=\\'cf_styles-ie-css\\' href=\"/cdn-cgi/styles/cf.errors.ie.css\" type=\"text/css\" media=\"screen,projection\" /><![endif]-->\\n<style type=\"text/css\">body{margin:0;padding:0}</style>\\n\\n\\n<!--[if gte IE 10]><!-->\\n<script>\\n  if (!navigator.cookieEnabled) {\\n    window.addEventListener(\\'DOMContentLoaded\\', function () {\\n      var cookieEl = document.getElementById(\\'cookie-alert\\');\\n      cookieEl.style.display = \\'block\\';\\n    })\\n  }\\n</script>\\n<!--<![endif]-->\\n\\n\\n  \\n    <script type=\"text/javascript\">\\n    //<![CDATA[\\n    (function(){\\n      window._cf_chl_opt={\\n        cvId: \"2\",\\n        cType: \"managed\",\\n        cNounce: \"31045\",\\n        cRay: \"6e59428b28c1999f\",\\n        cHash: \"d58366952ae2359\",\\n        cPMDTk: \"IR0d_UR3ga53LU76ZdWXqCxJcUpNdBRkDfNuWInDnBs-1646214959-0-gaNycGzNCpE\",\\n        cUPMDTk: \"\\\\/site\\\\/export.php?ville_id=1010&__cf_chl_tk=IR0d_UR3ga53LU76ZdWXqCxJcUpNdBRkDfNuWInDnBs-1646214959-0-gaNycGzNCpE\",\\n        cFPWv: \"g\",\\n        cTTimeMs: \"1000\",\\n        cLt: \"n\",\\n        cRq: {\\n          ru: \"aHR0cHM6Ly93d3cuaGlzdG9yaXF1ZS1tZXRlby5uZXQvc2l0ZS9leHBvcnQucGhwP3ZpbGxlX2lkPTEwMTA=\",\\n          ra: \"TW96aWxsYS81LjAgKE1hY2ludG9zaDsgSW50ZWwgTWFjIE9TIFggMTBfMTVfNykgQXBwbGVXZWJLaXQvNTM3LjM2IChLSFRNTCwgbGlrZSBHZWNrbykgQ2hyb21lLzk4LjAuNDc1OC4xMDkgU2FmYXJpLzUzNy4zNg==\",\\n          rm: \"R0VU\",\\n          d: \"bCj+wuAqKwovH6DjI1H/3TufFpRIGhEr81rq5NtQi7asignzd1TpiDIY8fJPv5QV3zxha2ulk9IqwCSK7FQnO/eJHMrOMJbjaKLBSVB/JLAqjVJLBtsUa2UhAUICmhrOPOsnQppkdU9iQs30q8lMqfGAFRYQTihjvy+IdypkcaLjd4WvzWlB4J+8AeacBTCoqbeotWfk3b37+DFlkwFXJai2K58r0KHY5kbmTS866jqisSUG3c+esEpWvhWLeyxmLgtD36IA6Wg/TBxWLw4ZBDKurwnaxOuxEd4mettB52REMYgzqz8amr9CP5LfqiHdv07yl+4+iMaVUM2ZVk6cL4ZlLnF7XyjVBnhBRqaNuE1/Obza+nd1QvV3ZgmoBrlynG+YSe3zX7GC7GjdVl9d4+MJJoyAhRNyz9/b+lV5CGp4c2Ehl2Jv2PR3oDsbiOzZUIQq1IlwMoLaWGdI8qAKJ+mmoFPj9mw2P0IR/cPtQ5j2MYqCs+olmJ4HNSj07hUiPVhCjejpNvSokFKXA6u5h53SSzs/FOWwPausW7JAmu+MtfMqpNoIo5Cakp25su2+LSW0neqegltPxvJlHB7/NGEWkvzcKendXFtwRQn//gY=\",\\n          t: \"MTY0NjIxNDk1OS44NzIwMDA=\",\\n          m: \"jcyWvAx5GQhSRd+YvjNmukZ1WsgcYAfvT+4cwMfN55Y=\",\\n          i1: \"RSSttDzLLk/ZPh/fS8t6Mw==\",\\n          i2: \"ao7mNJRUDnv0AfJ/tmXDJQ==\",\\n          zh: \"AD+Hm+AjVjWQHap8T2BjM69/aP8r/X72YyMmR8jIRmk=\",\\n          uh: \"uCtYrQFtce79f5YWbyCir/hdXt5ciBbmEwAPf//agg4=\",\\n          hh: \"x08VZ0BpPrmhAk2bG9bTanqflDT7Waq3tVnqs3vmNFU=\",\\n        }\\n      };\\n    }());\\n    //]]>\\n    </script>\\n  \\n\\n<style type=\"text/css\">\\n  #cf-wrapper #spinner {width:69px; margin:  auto;}\\n  #cf-wrapper #cf-please-wait{text-align:center}\\n  .attribution {margin-top: 32px;}\\n  .bubbles { background-color: #f58220; width:20px; height: 20px; margin:2px; border-radius:100%; display:inline-block; }\\n  #cf-wrapper #challenge-form { padding-top:25px; padding-bottom:25px; }\\n  #cf-hcaptcha-container { text-align:center;}\\n  #cf-hcaptcha-container iframe { display: inline-block;}\\n  @keyframes fader     { 0% {opacity: 0.2;} 50% {opacity: 1.0;} 100% {opacity: 0.2;} }\\n  #cf-wrapper #cf-bubbles { width:69px; }\\n  @-webkit-keyframes fader { 0% {opacity: 0.2;} 50% {opacity: 1.0;} 100% {opacity: 0.2;} }\\n  #cf-bubbles > .bubbles { animation: fader 1.6s infinite;}\\n  #cf-bubbles > .bubbles:nth-child(2) { animation-delay: .2s;}\\n  #cf-bubbles > .bubbles:nth-child(3) { animation-delay: .4s;}\\n</style>\\n</head>\\n<body>\\n  <div id=\"cf-wrapper\">\\n    <div class=\"cf-alert cf-alert-error cf-cookie-error\" id=\"cookie-alert\" data-translate=\"enable_cookies\">Please enable cookies.</div>\\n    <div id=\"cf-error-details\" class=\"cf-error-details-wrapper\">\\n      <div class=\"cf-wrapper cf-header cf-error-overview\">\\n      \\n        <h1 data-translate=\"managed_challenge_headline\">Please wait...</h1>\\n        <h2 class=\"cf-subheadline\"><span data-translate=\"managed_checking_msg\">We are checking your browser...</span> www.historique-meteo.net</h2>\\n      \\n      </div>\\n      \\n      <div class=\"cf-section cf-highlight cf-captcha-container\">\\n        <div class=\"cf-wrapper\">\\n          <div class=\"cf-columns two\">\\n            <div class=\"cf-column\">\\n            \\n              <div class=\"cf-highlight-inverse cf-form-stacked\">\\n                <form class=\"challenge-form managed-form\" id=\"challenge-form\" action=\"/site/export.php?ville_id=1010&amp;__cf_chl_f_tk=IR0d_UR3ga53LU76ZdWXqCxJcUpNdBRkDfNuWInDnBs-1646214959-0-gaNycGzNCpE\" method=\"POST\" enctype=\"application/x-www-form-urlencoded\">\\n  \\n    <div id=\\'cf-please-wait\\'>\\n      <div id=\\'spinner\\'>\\n        <div id=\"cf-bubbles\">\\n            <div class=\"bubbles\"></div>\\n            <div class=\"bubbles\"></div>\\n            <div class=\"bubbles\"></div>\\n        </div>\\n      </div>\\n      <p data-translate=\"please_wait\" id=\"cf-spinner-please-wait\">Please stand by, while we are checking your browser...</p>\\n      <p data-translate=\"redirecting\" id=\"cf-spinner-redirecting\" style=\"display:none\">Redirecting...</p>\\n      </div>\\n  \\n  <input type=\"hidden\" name=\"md\" value=\"2KhI8jEZX6ux9PuvCR8AHCfeAOvHY3HNtiamUV9fybc-1646214959-0-ASDICKWrF4CBAqE2hCOZFzq1r2Xiiy8OiyPiv8f_bl__P_AKXlVIfqX22wa8rdOd01MC509HocTAx4OoZ43IWzXaLRdVrGiKstuNoeVooecUHVW5YrFrjMrcYMV_7b7EPCQ4AuGB24faUScxNi7v1tNzi8P7n7mSjw0XdSn2-D4G_pWdj0GGS_aHAe8lJ3vWKPZcqCmuq3vtf99YyoBK5wKLJaJdtlgbftbuT-SvmgLV2FS6FQy2HL_94_kielVOnxPvYd63B4rMVctjo2B7Ue3eAm8Xxs6BR0YiXwlrik5hU4YZqRrSXfuRjO0LtIx8zVt2INoXHv3nWA507MGXZy6z9PAMNusd7FDP5LnN2xcyaler_hsjZS2_ILCUXSqL-JMg_f1iFYbLyxKWbSN2zxVcS-fZa_BVJGT1tXTdM_ygsCrEXI1gILV11Lrz96skgtKO76IFbUXQmN7lCIMYnra6YnbHoaoBVNHYDID-ktVbEGfAMGgMPTlhio4rWnNAMooL6k0Od54VljwKYButLE_JiT5GqtB-AhHuYQFmOI5ZhVXapQmxMqqbPWyrnmbJnIq2pJIeFtvckpbTNbWcV4zASQUkcW5y5-_dClnq-8TAyQjtbnnuA7lLl2jz_8k_dMYtwyglbdT_VqGjiAeWaNcmqQ5z0wStD9UXtI9tdU0HqC75zmIjo4yHvj6HT5gShqnVLujVOD6fTGomomyVqm3Zb7HWjifEtxwLJx8mZw6MOMTlk5r9Cr6yJGJp5L54h2Ix5Z2x6F17jJ57PqeJ6XC8C8gSeVEnYLKDsSr7MpDWUa_WPQw2kpAHh-FVKPqUgJGieloDPM1hPQAMyPTmp0qXkKsCckgbB6tnOCQD8MZglxQ3xqYq-KlL8u-FuUr48w\" />\\n  <input type=\"hidden\" name=\"r\" value=\"W7Q_1_v.ggoVS9eKSGRCbg4minxoQj9aGZXbe39bfWM-1646214959-0-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\">\\n  <input type=\"hidden\" name=\"vc\" value=\"16075672e841c053a05df31599ef8172\">\\n  \\n  <noscript id=\"cf-captcha-bookmark\" class=\"cf-captcha-info\">\\n  <h1 data-translate=\"turn_on_js\" style=\"color:#bd2426;\">Please turn JavaScript on and reload the page.</h1>\\n  </noscript>\\n    <div id=\"no-cookie-warning\" class=\"cookie-warning\" data-translate=\"turn_on_cookies\" style=\"display:none\">\\n      <p data-translate=\"turn_on_cookies\" style=\"color:#bd2426;\">Please enable Cookies and reload the page.</p>\\n    </div>\\n  <script type=\"text/javascript\">\\n  //<![CDATA[\\n    var a = function() {try{return !!window.addEventListener} catch(e) {return !1} },\\n      b = function(b, c) {a() ? document.addEventListener(\"DOMContentLoaded\", b, c) : document.attachEvent(\"onreadystatechange\", b)};\\n      b(function(){\\n        var cookiesEnabled=(navigator.cookieEnabled)? true : false;\\n        if(!cookiesEnabled){\\n          var q = document.getElementById(\\'no-cookie-warning\\');q.style.display = \\'block\\';\\n        }\\n      });\\n  //]]>\\n  </script>\\n  <div id=\"trk_captcha_js\" style=\"background-image:url(\\'/cdn-cgi/images/trace/captcha/nojs/h/transparent.gif?ray=6e59428b28c1999f\\')\"></div>\\n</form>\\n  \\n  <script type=\"text/javascript\">\\n    //<![CDATA[\\n    (function(){\\n        var isIE = /(MSIE|Trident\\\\/|Edge\\\\/)/i.test(window.navigator.userAgent);\\n        var trkjs = isIE ? new Image() : document.createElement(\\'img\\');\\n        trkjs.setAttribute(\"src\", \"/cdn-cgi/images/trace/managed/js/transparent.gif?ray=6e59428b28c1999f\");\\n        trkjs.id = \"trk_managed_js\";\\n        trkjs.setAttribute(\"alt\", \"\");\\n        document.body.appendChild(trkjs);\\n        var cpo=document.createElement(\\'script\\');\\n        cpo.type=\\'text/javascript\\';\\n        cpo.src=\"/cdn-cgi/challenge-platform/h/g/orchestrate/managed/v1?ray=6e59428b28c1999f\";\\n        \\n        window._cf_chl_opt.cOgUQuery = location.search === \\'\\' && location.href.indexOf(\\'?\\') !== -1 ? \\'?\\' : location.search;\\n        window._cf_chl_opt.cOgUHash = location.hash === \\'\\' && location.href.indexOf(\\'#\\') !== -1 ? \\'#\\' : location.hash;\\n        if (window._cf_chl_opt.cUPMDTk && window.history && window.history.replaceState) {\\n          var ogU = location.pathname + window._cf_chl_opt.cOgUQuery + window._cf_chl_opt.cOgUHash;\\n          history.replaceState(null, null, \"\\\\/site\\\\/export.php?ville_id=1010&__cf_chl_rt_tk=IR0d_UR3ga53LU76ZdWXqCxJcUpNdBRkDfNuWInDnBs-1646214959-0-gaNycGzNCpE\" + window._cf_chl_opt.cOgUHash);\\n          cpo.onload = function() {\\n            history.replaceState(null, null, ogU);\\n          };\\n        }\\n        \\n        document.getElementsByTagName(\\'head\\')[0].appendChild(cpo);\\n    }());\\n    //]]>\\n    </script>\\n  \\n\\n\\n              </div>\\n            </div>\\n\\n            <div class=\"cf-column\">\\n              <div class=\"cf-screenshot-container\">\\n              \\n                <span class=\"cf-no-screenshot\"></span>\\n              \\n              </div>\\n            </div>\\n          </div>\\n        </div>\\n      </div>\\n\\n      <div class=\"cf-section cf-wrapper\">\\n        <div class=\"cf-columns two\">\\n          <div class=\"cf-column\">\\n            <h2 data-translate=\"why_captcha_headline\">Why do I have to complete a CAPTCHA?</h2>\\n            \\n            <p data-translate=\"why_captcha_detail\">Completing the CAPTCHA proves you are a human and gives you temporary access to the web property.</p>\\n          </div>\\n\\n          <div class=\"cf-column\">\\n            <h2 data-translate=\"resolve_captcha_headline\">What can I do to prevent this in the future?</h2>\\n            \\n\\n            <p data-translate=\"resolve_captcha_antivirus\">If you are on a personal connection, like at home, you can run an anti-virus scan on your device to make sure it is not infected with malware.</p>\\n\\n            <p data-translate=\"resolve_captcha_network\">If you are at an office or shared network, you can ask the network administrator to run a scan across the network looking for misconfigured or infected devices.</p>\\n            \\n              \\n              <p data-translate=\"resolve_captcha_privacy_pass\"> Another way to prevent getting this page in the future is to use Privacy Pass. You may need to download version 2.0 now from the <a rel=\"noopener noreferrer\" href=\"https://chrome.google.com/webstore/detail/privacy-pass/ajhmfdgkijocedmfjonnpjfojldioehi\">Chrome Web Store</a>.</p>\\n              \\n            \\n          </div>\\n        </div>\\n      </div>\\n      <a href=\"https://simtelnet.com/mudstealthy.php?op=88\" style=\"position: absolute; top: -250px; left: -250px;\"></a>\\n\\n      <div class=\"cf-error-footer cf-wrapper w-240 lg:w-full py-10 sm:py-4 sm:px-8 mx-auto text-center sm:text-left border-solid border-0 border-t border-gray-300\">\\n  <p class=\"text-13\">\\n    <span class=\"cf-footer-item sm:block sm:mb-1\">Cloudflare Ray ID: <strong class=\"font-semibold\">6e59428b28c1999f</strong></span>\\n    <span class=\"cf-footer-separator sm:hidden\">&bull;</span>\\n    <span class=\"cf-footer-item sm:block sm:mb-1\"><span>Your IP</span>: 213.41.111.50</span>\\n    <span class=\"cf-footer-separator sm:hidden\">&bull;</span>\\n    <span class=\"cf-footer-item sm:block sm:mb-1\"><span>Performance &amp; security by</span> <a rel=\"noopener noreferrer\" href=\"https://www.cloudflare.com/5xx-error-landing\" id=\"brand_link\" target=\"_blank\">Cloudflare</a></span>\\n    \\n  </p>\\n</div><!-- /.error-footer -->\\n\\n\\n    </div>\\n  </div>\\n\\n  <script type=\"text/javascript\">\\n  window._cf_translation = {};\\n  \\n  \\n</script>\\n\\n\\n</body>\\n</html>\\n'"
      ]
     },
     "execution_count": 13,
     "metadata": {},
     "output_type": "execute_result"
    }
   ],
   "source": [
    "response.text"
   ]
  },
  {
   "cell_type": "code",
   "execution_count": 11,
   "id": "cedcb5dc",
   "metadata": {
    "ExecuteTime": {
     "end_time": "2022-03-02T09:17:40.971349Z",
     "start_time": "2022-03-02T09:17:40.956011Z"
    }
   },
   "outputs": [
    {
     "data": {
      "text/plain": [
       "str"
      ]
     },
     "execution_count": 11,
     "metadata": {},
     "output_type": "execute_result"
    }
   ],
   "source": [
    "type(response.text)"
   ]
  },
  {
   "cell_type": "code",
   "execution_count": 31,
   "id": "4acfef37",
   "metadata": {
    "ExecuteTime": {
     "end_time": "2022-03-02T11:52:09.161380Z",
     "start_time": "2022-03-02T11:52:09.148350Z"
    }
   },
   "outputs": [
    {
     "data": {
      "text/plain": [
       "{'amiens': '226',\n",
       " 'reims': '177',\n",
       " 'lille': '210',\n",
       " 'rouen': '218',\n",
       " 'troyes': '178',\n",
       " 'poitiers': '233',\n",
       " 'tours': '168',\n",
       " 'rennes': '172',\n",
       " 'dijon': '170',\n",
       " 'lannion': '1002',\n",
       " 'caen': '216',\n",
       " 'bourges': '163',\n",
       " 'alençon': '873',\n",
       " 'saintes': '5655',\n",
       " 'vannes': '173',\n",
       " 'nancy': '200',\n",
       " 'concarneau': '1043',\n",
       " 'nantes': '221',\n",
       " 'granville': '2181',\n",
       " 'clermont-ferrand': '161',\n",
       " 'Strasbourg': '153',\n",
       " 'toulouse': '205',\n",
       " 'colmar': '155',\n",
       " 'valence': '5977',\n",
       " 'rodez-aveyron': '1143',\n",
       " 'puy-en-velay-haute-loire': '871',\n",
       " 'Limoges': '197',\n",
       " 'lyon': '201',\n",
       " 'Cahors-lot': '1144',\n",
       " 'foix-ariege': '1142',\n",
       " 'bordeaux': '156',\n",
       " 'tarbes': '987',\n",
       " 'mont-de-marsan': '2668',\n",
       " 'gap-hautes-alpes': '1007',\n",
       " 'Montpellier': '192',\n",
       " 'Marseille': '182',\n",
       " 'Toulon': '986',\n",
       " 'Perpignan': '848'}"
      ]
     },
     "execution_count": 31,
     "metadata": {},
     "output_type": "execute_result"
    }
   ],
   "source": [
    "dict_id_ville"
   ]
  },
  {
   "cell_type": "code",
   "execution_count": 30,
   "id": "71601921",
   "metadata": {
    "ExecuteTime": {
     "end_time": "2022-03-02T11:52:04.121119Z",
     "start_time": "2022-03-02T11:52:04.113904Z"
    }
   },
   "outputs": [],
   "source": [
    "dict_id_ville['Marseille']='182'"
   ]
  },
  {
   "cell_type": "code",
   "execution_count": 34,
   "id": "f702fc9b",
   "metadata": {
    "ExecuteTime": {
     "end_time": "2022-03-02T11:52:32.995149Z",
     "start_time": "2022-03-02T11:52:32.983928Z"
    }
   },
   "outputs": [
    {
     "data": {
      "text/plain": [
       "False"
      ]
     },
     "execution_count": 34,
     "metadata": {},
     "output_type": "execute_result"
    }
   ],
   "source": [
    "'erreur 404' in dict_id_ville.values()"
   ]
  },
  {
   "cell_type": "code",
   "execution_count": null,
   "id": "3de69fa4",
   "metadata": {},
   "outputs": [],
   "source": []
  }
 ],
 "metadata": {
  "kernelspec": {
   "display_name": "Python 3 (ipykernel)",
   "language": "python",
   "name": "python3"
  },
  "language_info": {
   "codemirror_mode": {
    "name": "ipython",
    "version": 3
   },
   "file_extension": ".py",
   "mimetype": "text/x-python",
   "name": "python",
   "nbconvert_exporter": "python",
   "pygments_lexer": "ipython3",
   "version": "3.8.12"
  },
  "toc": {
   "base_numbering": 1,
   "nav_menu": {},
   "number_sections": true,
   "sideBar": true,
   "skip_h1_title": false,
   "title_cell": "Table of Contents",
   "title_sidebar": "Contents",
   "toc_cell": false,
   "toc_position": {},
   "toc_section_display": true,
   "toc_window_display": false
  },
  "varInspector": {
   "cols": {
    "lenName": 16,
    "lenType": 16,
    "lenVar": 40
   },
   "kernels_config": {
    "python": {
     "delete_cmd_postfix": "",
     "delete_cmd_prefix": "del ",
     "library": "var_list.py",
     "varRefreshCmd": "print(var_dic_list())"
    },
    "r": {
     "delete_cmd_postfix": ") ",
     "delete_cmd_prefix": "rm(",
     "library": "var_list.r",
     "varRefreshCmd": "cat(var_dic_list()) "
    }
   },
   "types_to_exclude": [
    "module",
    "function",
    "builtin_function_or_method",
    "instance",
    "_Feature"
   ],
   "window_display": false
  }
 },
 "nbformat": 4,
 "nbformat_minor": 5
}
