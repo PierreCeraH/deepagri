{
 "cells": [
  {
   "cell_type": "markdown",
   "id": "d9d6d134",
   "metadata": {},
   "source": [
    "# Imports"
   ]
  },
  {
   "cell_type": "code",
   "execution_count": 1,
   "id": "dd04b129",
   "metadata": {
    "ExecuteTime": {
     "end_time": "2022-03-07T14:42:20.451339Z",
     "start_time": "2022-03-07T14:42:20.419400Z"
    }
   },
   "outputs": [
    {
     "data": {
      "text/html": [
       "<style>.container { width:90% !important; }</style>"
      ],
      "text/plain": [
       "<IPython.core.display.HTML object>"
      ]
     },
     "metadata": {},
     "output_type": "display_data"
    }
   ],
   "source": [
    "%load_ext autoreload\n",
    "%autoreload 2\n",
    "from IPython.display import display, HTML\n",
    "display(HTML(\"<style>.container { width:90% !important; }</style>\"))"
   ]
  },
  {
   "cell_type": "code",
   "execution_count": 254,
   "id": "5f7dcddb",
   "metadata": {
    "ExecuteTime": {
     "end_time": "2022-03-08T08:34:52.818169Z",
     "start_time": "2022-03-08T08:34:52.786465Z"
    }
   },
   "outputs": [],
   "source": [
    "from deepagri.data_full import get_df_full\n",
    "from deepagri.model import *\n",
    "from deepagri.data_pred import get_X_pred\n",
    "from deepagri.data_region_ohe import ohe_regions\n",
    "from sklearn.metrics import mean_absolute_error\n",
    "from sklearn import set_config; set_config(display='diagram')"
   ]
  },
  {
   "cell_type": "markdown",
   "id": "00b1dc2e",
   "metadata": {},
   "source": [
    "# Modèle XGBoost"
   ]
  },
  {
   "cell_type": "markdown",
   "id": "56af1424",
   "metadata": {},
   "source": [
    "## Modèle avec toutes les features"
   ]
  },
  {
   "cell_type": "code",
   "execution_count": 591,
   "id": "9497f900",
   "metadata": {
    "ExecuteTime": {
     "end_time": "2022-03-08T14:04:23.841318Z",
     "start_time": "2022-03-08T14:04:14.835468Z"
    }
   },
   "outputs": [
    {
     "name": "stderr",
     "output_type": "stream",
     "text": [
      "/Users/constantintalandier/code/Constantier/deepagri/deepagri/meteo_agg.py:127: FutureWarning: The behavior of indexing on a MultiIndex with a nested sequence of labels is deprecated and will change in a future version. `series.loc[label, sequence]` will raise if any members of 'sequence' or not present in the index's second level. To retain the old behavior, use `series.index.isin(sequence, level=1)`\n",
      "  df_agg.loc[:, idx[:,cols_to_shift]] = (df_agg.loc[:, idx[:,cols_to_shift]]\n",
      "/Users/constantintalandier/code/Constantier/deepagri/deepagri/meteo_agg.py:127: FutureWarning: The behavior of indexing on a MultiIndex with a nested sequence of labels is deprecated and will change in a future version. `series.loc[label, sequence]` will raise if any members of 'sequence' or not present in the index's second level. To retain the old behavior, use `series.index.isin(sequence, level=1)`\n",
      "  df_agg.loc[:, idx[:,cols_to_shift]] = (df_agg.loc[:, idx[:,cols_to_shift]]\n",
      "/Users/constantintalandier/.pyenv/versions/3.8.12/envs/deepagri/lib/python3.8/site-packages/pandas/core/indexes/base.py:6982: FutureWarning: In a future version, the Index constructor will not infer numeric dtypes when passed object-dtype sequences (matching Series behavior)\n",
      "  return Index(sequences[0], name=names)\n"
     ]
    }
   ],
   "source": [
    "full_df=get_df_full(agg_type='M')"
   ]
  },
  {
   "cell_type": "code",
   "execution_count": 592,
   "id": "0c708722",
   "metadata": {
    "ExecuteTime": {
     "end_time": "2022-03-08T14:04:24.926961Z",
     "start_time": "2022-03-08T14:04:24.899915Z"
    }
   },
   "outputs": [
    {
     "data": {
      "text/html": [
       "<div>\n",
       "<style scoped>\n",
       "    .dataframe tbody tr th:only-of-type {\n",
       "        vertical-align: middle;\n",
       "    }\n",
       "\n",
       "    .dataframe tbody tr th {\n",
       "        vertical-align: top;\n",
       "    }\n",
       "\n",
       "    .dataframe thead th {\n",
       "        text-align: right;\n",
       "    }\n",
       "</style>\n",
       "<table border=\"1\" class=\"dataframe\">\n",
       "  <thead>\n",
       "    <tr style=\"text-align: right;\">\n",
       "      <th></th>\n",
       "      <th>Agriculteur</th>\n",
       "      <th>Production</th>\n",
       "      <th>RatioSep</th>\n",
       "      <th>RatioOct</th>\n",
       "      <th>Prix_matos</th>\n",
       "      <th>Prod_n-1</th>\n",
       "      <th>tmax_c 01</th>\n",
       "      <th>tmax_c 02</th>\n",
       "      <th>tmax_c 03</th>\n",
       "      <th>tmax_c 04</th>\n",
       "      <th>...</th>\n",
       "      <th>dpt_86</th>\n",
       "      <th>dpt_87</th>\n",
       "      <th>dpt_88</th>\n",
       "      <th>dpt_89</th>\n",
       "      <th>dpt_9</th>\n",
       "      <th>dpt_90</th>\n",
       "      <th>dpt_91</th>\n",
       "      <th>dpt_93</th>\n",
       "      <th>dpt_94</th>\n",
       "      <th>dpt_95</th>\n",
       "    </tr>\n",
       "  </thead>\n",
       "  <tbody>\n",
       "    <tr>\n",
       "      <th>2010-1</th>\n",
       "      <td>2820.041792</td>\n",
       "      <td>239640.3</td>\n",
       "      <td>1.229426</td>\n",
       "      <td>1.255319</td>\n",
       "      <td>92.741667</td>\n",
       "      <td>189200.0</td>\n",
       "      <td>7.0</td>\n",
       "      <td>5.0</td>\n",
       "      <td>7.0</td>\n",
       "      <td>5.0</td>\n",
       "      <td>...</td>\n",
       "      <td>0</td>\n",
       "      <td>0</td>\n",
       "      <td>0</td>\n",
       "      <td>0</td>\n",
       "      <td>0</td>\n",
       "      <td>0</td>\n",
       "      <td>0</td>\n",
       "      <td>0</td>\n",
       "      <td>0</td>\n",
       "      <td>0</td>\n",
       "    </tr>\n",
       "    <tr>\n",
       "      <th>2010-2</th>\n",
       "      <td>3563.698886</td>\n",
       "      <td>1485134.7</td>\n",
       "      <td>1.229426</td>\n",
       "      <td>1.255319</td>\n",
       "      <td>92.741667</td>\n",
       "      <td>1562314.0</td>\n",
       "      <td>4.0</td>\n",
       "      <td>6.0</td>\n",
       "      <td>7.0</td>\n",
       "      <td>6.0</td>\n",
       "      <td>...</td>\n",
       "      <td>0</td>\n",
       "      <td>0</td>\n",
       "      <td>0</td>\n",
       "      <td>0</td>\n",
       "      <td>0</td>\n",
       "      <td>0</td>\n",
       "      <td>0</td>\n",
       "      <td>0</td>\n",
       "      <td>0</td>\n",
       "      <td>0</td>\n",
       "    </tr>\n",
       "    <tr>\n",
       "      <th>2010-3</th>\n",
       "      <td>4276.654443</td>\n",
       "      <td>307450.0</td>\n",
       "      <td>1.229426</td>\n",
       "      <td>1.255319</td>\n",
       "      <td>92.741667</td>\n",
       "      <td>290360.0</td>\n",
       "      <td>6.0</td>\n",
       "      <td>5.0</td>\n",
       "      <td>9.0</td>\n",
       "      <td>4.0</td>\n",
       "      <td>...</td>\n",
       "      <td>0</td>\n",
       "      <td>0</td>\n",
       "      <td>0</td>\n",
       "      <td>0</td>\n",
       "      <td>0</td>\n",
       "      <td>0</td>\n",
       "      <td>0</td>\n",
       "      <td>0</td>\n",
       "      <td>0</td>\n",
       "      <td>0</td>\n",
       "    </tr>\n",
       "    <tr>\n",
       "      <th>2010-4</th>\n",
       "      <td>1462.803043</td>\n",
       "      <td>6233.7</td>\n",
       "      <td>1.229426</td>\n",
       "      <td>1.255319</td>\n",
       "      <td>92.741667</td>\n",
       "      <td>7322.0</td>\n",
       "      <td>3.0</td>\n",
       "      <td>6.0</td>\n",
       "      <td>6.0</td>\n",
       "      <td>8.0</td>\n",
       "      <td>...</td>\n",
       "      <td>0</td>\n",
       "      <td>0</td>\n",
       "      <td>0</td>\n",
       "      <td>0</td>\n",
       "      <td>0</td>\n",
       "      <td>0</td>\n",
       "      <td>0</td>\n",
       "      <td>0</td>\n",
       "      <td>0</td>\n",
       "      <td>0</td>\n",
       "    </tr>\n",
       "    <tr>\n",
       "      <th>2010-5</th>\n",
       "      <td>1406.337173</td>\n",
       "      <td>9753.9</td>\n",
       "      <td>1.229426</td>\n",
       "      <td>1.255319</td>\n",
       "      <td>92.741667</td>\n",
       "      <td>10065.5</td>\n",
       "      <td>3.0</td>\n",
       "      <td>5.0</td>\n",
       "      <td>4.0</td>\n",
       "      <td>6.0</td>\n",
       "      <td>...</td>\n",
       "      <td>0</td>\n",
       "      <td>0</td>\n",
       "      <td>0</td>\n",
       "      <td>0</td>\n",
       "      <td>0</td>\n",
       "      <td>0</td>\n",
       "      <td>0</td>\n",
       "      <td>0</td>\n",
       "      <td>0</td>\n",
       "      <td>0</td>\n",
       "    </tr>\n",
       "    <tr>\n",
       "      <th>...</th>\n",
       "      <td>...</td>\n",
       "      <td>...</td>\n",
       "      <td>...</td>\n",
       "      <td>...</td>\n",
       "      <td>...</td>\n",
       "      <td>...</td>\n",
       "      <td>...</td>\n",
       "      <td>...</td>\n",
       "      <td>...</td>\n",
       "      <td>...</td>\n",
       "      <td>...</td>\n",
       "      <td>...</td>\n",
       "      <td>...</td>\n",
       "      <td>...</td>\n",
       "      <td>...</td>\n",
       "      <td>...</td>\n",
       "      <td>...</td>\n",
       "      <td>...</td>\n",
       "      <td>...</td>\n",
       "      <td>...</td>\n",
       "      <td>...</td>\n",
       "    </tr>\n",
       "    <tr>\n",
       "      <th>2021-91</th>\n",
       "      <td>422.282609</td>\n",
       "      <td>243243.0</td>\n",
       "      <td>1.104197</td>\n",
       "      <td>1.072703</td>\n",
       "      <td>89.891667</td>\n",
       "      <td>191952.0</td>\n",
       "      <td>6.0</td>\n",
       "      <td>4.0</td>\n",
       "      <td>4.0</td>\n",
       "      <td>4.0</td>\n",
       "      <td>...</td>\n",
       "      <td>0</td>\n",
       "      <td>0</td>\n",
       "      <td>0</td>\n",
       "      <td>0</td>\n",
       "      <td>0</td>\n",
       "      <td>0</td>\n",
       "      <td>1</td>\n",
       "      <td>0</td>\n",
       "      <td>0</td>\n",
       "      <td>0</td>\n",
       "    </tr>\n",
       "    <tr>\n",
       "      <th>2021-93</th>\n",
       "      <td>80.734902</td>\n",
       "      <td>2739.0</td>\n",
       "      <td>1.104197</td>\n",
       "      <td>1.072703</td>\n",
       "      <td>89.891667</td>\n",
       "      <td>2535.0</td>\n",
       "      <td>14.0</td>\n",
       "      <td>6.0</td>\n",
       "      <td>8.0</td>\n",
       "      <td>14.0</td>\n",
       "      <td>...</td>\n",
       "      <td>0</td>\n",
       "      <td>0</td>\n",
       "      <td>0</td>\n",
       "      <td>0</td>\n",
       "      <td>0</td>\n",
       "      <td>0</td>\n",
       "      <td>0</td>\n",
       "      <td>1</td>\n",
       "      <td>0</td>\n",
       "      <td>0</td>\n",
       "    </tr>\n",
       "    <tr>\n",
       "      <th>2021-94</th>\n",
       "      <td>65.237675</td>\n",
       "      <td>3483.0</td>\n",
       "      <td>1.104197</td>\n",
       "      <td>1.072703</td>\n",
       "      <td>89.891667</td>\n",
       "      <td>2052.0</td>\n",
       "      <td>5.0</td>\n",
       "      <td>4.0</td>\n",
       "      <td>4.0</td>\n",
       "      <td>4.0</td>\n",
       "      <td>...</td>\n",
       "      <td>0</td>\n",
       "      <td>0</td>\n",
       "      <td>0</td>\n",
       "      <td>0</td>\n",
       "      <td>0</td>\n",
       "      <td>0</td>\n",
       "      <td>0</td>\n",
       "      <td>0</td>\n",
       "      <td>1</td>\n",
       "      <td>0</td>\n",
       "    </tr>\n",
       "    <tr>\n",
       "      <th>2021-95</th>\n",
       "      <td>213.709486</td>\n",
       "      <td>198121.0</td>\n",
       "      <td>1.104197</td>\n",
       "      <td>1.072703</td>\n",
       "      <td>89.891667</td>\n",
       "      <td>165516.0</td>\n",
       "      <td>8.0</td>\n",
       "      <td>5.0</td>\n",
       "      <td>4.0</td>\n",
       "      <td>4.0</td>\n",
       "      <td>...</td>\n",
       "      <td>0</td>\n",
       "      <td>0</td>\n",
       "      <td>0</td>\n",
       "      <td>0</td>\n",
       "      <td>0</td>\n",
       "      <td>0</td>\n",
       "      <td>0</td>\n",
       "      <td>0</td>\n",
       "      <td>0</td>\n",
       "      <td>1</td>\n",
       "    </tr>\n",
       "    <tr>\n",
       "      <th>2021-20</th>\n",
       "      <td>1526.132188</td>\n",
       "      <td>297.5</td>\n",
       "      <td>1.104197</td>\n",
       "      <td>1.072703</td>\n",
       "      <td>89.891667</td>\n",
       "      <td>297.5</td>\n",
       "      <td>5.0</td>\n",
       "      <td>3.0</td>\n",
       "      <td>5.0</td>\n",
       "      <td>4.0</td>\n",
       "      <td>...</td>\n",
       "      <td>0</td>\n",
       "      <td>0</td>\n",
       "      <td>0</td>\n",
       "      <td>0</td>\n",
       "      <td>0</td>\n",
       "      <td>0</td>\n",
       "      <td>0</td>\n",
       "      <td>0</td>\n",
       "      <td>0</td>\n",
       "      <td>0</td>\n",
       "    </tr>\n",
       "  </tbody>\n",
       "</table>\n",
       "<p>1116 rows × 216 columns</p>\n",
       "</div>"
      ],
      "text/plain": [
       "         Agriculteur  Production  RatioSep  RatioOct  Prix_matos   Prod_n-1  \\\n",
       "2010-1   2820.041792    239640.3  1.229426  1.255319   92.741667   189200.0   \n",
       "2010-2   3563.698886   1485134.7  1.229426  1.255319   92.741667  1562314.0   \n",
       "2010-3   4276.654443    307450.0  1.229426  1.255319   92.741667   290360.0   \n",
       "2010-4   1462.803043      6233.7  1.229426  1.255319   92.741667     7322.0   \n",
       "2010-5   1406.337173      9753.9  1.229426  1.255319   92.741667    10065.5   \n",
       "...              ...         ...       ...       ...         ...        ...   \n",
       "2021-91   422.282609    243243.0  1.104197  1.072703   89.891667   191952.0   \n",
       "2021-93    80.734902      2739.0  1.104197  1.072703   89.891667     2535.0   \n",
       "2021-94    65.237675      3483.0  1.104197  1.072703   89.891667     2052.0   \n",
       "2021-95   213.709486    198121.0  1.104197  1.072703   89.891667   165516.0   \n",
       "2021-20  1526.132188       297.5  1.104197  1.072703   89.891667      297.5   \n",
       "\n",
       "         tmax_c 01  tmax_c 02  tmax_c 03  tmax_c 04  ...  dpt_86  dpt_87  \\\n",
       "2010-1         7.0        5.0        7.0        5.0  ...       0       0   \n",
       "2010-2         4.0        6.0        7.0        6.0  ...       0       0   \n",
       "2010-3         6.0        5.0        9.0        4.0  ...       0       0   \n",
       "2010-4         3.0        6.0        6.0        8.0  ...       0       0   \n",
       "2010-5         3.0        5.0        4.0        6.0  ...       0       0   \n",
       "...            ...        ...        ...        ...  ...     ...     ...   \n",
       "2021-91        6.0        4.0        4.0        4.0  ...       0       0   \n",
       "2021-93       14.0        6.0        8.0       14.0  ...       0       0   \n",
       "2021-94        5.0        4.0        4.0        4.0  ...       0       0   \n",
       "2021-95        8.0        5.0        4.0        4.0  ...       0       0   \n",
       "2021-20        5.0        3.0        5.0        4.0  ...       0       0   \n",
       "\n",
       "         dpt_88  dpt_89  dpt_9  dpt_90  dpt_91  dpt_93  dpt_94  dpt_95  \n",
       "2010-1        0       0      0       0       0       0       0       0  \n",
       "2010-2        0       0      0       0       0       0       0       0  \n",
       "2010-3        0       0      0       0       0       0       0       0  \n",
       "2010-4        0       0      0       0       0       0       0       0  \n",
       "2010-5        0       0      0       0       0       0       0       0  \n",
       "...         ...     ...    ...     ...     ...     ...     ...     ...  \n",
       "2021-91       0       0      0       0       1       0       0       0  \n",
       "2021-93       0       0      0       0       0       1       0       0  \n",
       "2021-94       0       0      0       0       0       0       1       0  \n",
       "2021-95       0       0      0       0       0       0       0       1  \n",
       "2021-20       0       0      0       0       0       0       0       0  \n",
       "\n",
       "[1116 rows x 216 columns]"
      ]
     },
     "execution_count": 592,
     "metadata": {},
     "output_type": "execute_result"
    }
   ],
   "source": [
    "full_df"
   ]
  },
  {
   "cell_type": "code",
   "execution_count": 593,
   "id": "7b967048",
   "metadata": {
    "ExecuteTime": {
     "end_time": "2022-03-08T14:04:51.952827Z",
     "start_time": "2022-03-08T14:04:51.788220Z"
    }
   },
   "outputs": [],
   "source": [
    "full_df.to_csv('df_full_au_mois.csv')"
   ]
  },
  {
   "cell_type": "code",
   "execution_count": 188,
   "id": "210badaa",
   "metadata": {
    "ExecuteTime": {
     "end_time": "2022-03-07T16:43:22.153214Z",
     "start_time": "2022-03-07T16:43:22.114648Z"
    }
   },
   "outputs": [],
   "source": [
    "X_test=full_df.iloc[-93:].drop(columns=['Production'])\n",
    "#X_test=full_df.iloc[-93:][['Surface_n-1','Agriculteur','windspeed_max sept-jan_n-1']]\n",
    "y_test=full_df.iloc[-93:]['Production']\n",
    "X_train=full_df.iloc[:-93].drop(columns=['Production'])\n",
    "#X_train=full_df.iloc[:-93][['Surface_n-1','Agriculteur','windspeed_max sept-jan_n-1']]\n",
    "y_train=full_df.iloc[:-93]['Production']"
   ]
  },
  {
   "cell_type": "code",
   "execution_count": 189,
   "id": "c455b63c",
   "metadata": {
    "ExecuteTime": {
     "end_time": "2022-03-07T16:43:23.267073Z",
     "start_time": "2022-03-07T16:43:22.509897Z"
    }
   },
   "outputs": [],
   "source": [
    "model=build_model(model=None)#None: renvoi un XGboost\n",
    "model=fit_model(model,X_train,y_train)"
   ]
  },
  {
   "cell_type": "code",
   "execution_count": 190,
   "id": "6a0e19f8",
   "metadata": {
    "ExecuteTime": {
     "end_time": "2022-03-07T16:43:23.656856Z",
     "start_time": "2022-03-07T16:43:23.635548Z"
    }
   },
   "outputs": [],
   "source": [
    "ypred=model.predict(X_test)"
   ]
  },
  {
   "cell_type": "code",
   "execution_count": 191,
   "id": "c29da005",
   "metadata": {
    "ExecuteTime": {
     "end_time": "2022-03-07T16:43:24.050071Z",
     "start_time": "2022-03-07T16:43:24.032435Z"
    }
   },
   "outputs": [
    {
     "data": {
      "text/plain": [
       "92730.18095604681"
      ]
     },
     "execution_count": 191,
     "metadata": {},
     "output_type": "execute_result"
    }
   ],
   "source": [
    "mean_absolute_error(y_test,ypred)"
   ]
  },
  {
   "cell_type": "markdown",
   "id": "3b8dcc9c",
   "metadata": {},
   "source": [
    "Score MAE de **92730** avec toutes les features"
   ]
  },
  {
   "cell_type": "markdown",
   "id": "1cc7352f",
   "metadata": {},
   "source": [
    "## Modèle avec juste OHE"
   ]
  },
  {
   "cell_type": "code",
   "execution_count": 178,
   "id": "552f9f14",
   "metadata": {
    "ExecuteTime": {
     "end_time": "2022-03-07T16:37:53.518615Z",
     "start_time": "2022-03-07T16:37:53.483631Z"
    }
   },
   "outputs": [],
   "source": [
    "df_ohe=full_df.iloc[:,124:]\n",
    "df_ohe['Production']=full_df['Production']"
   ]
  },
  {
   "cell_type": "code",
   "execution_count": 179,
   "id": "b15b71b5",
   "metadata": {
    "ExecuteTime": {
     "end_time": "2022-03-07T16:37:54.051755Z",
     "start_time": "2022-03-07T16:37:54.022678Z"
    }
   },
   "outputs": [],
   "source": [
    "X_test=df_ohe.iloc[-93:].drop(columns=['Production'])\n",
    "#X_test=df_ohe.iloc[-93:][['Surface_n-1','Agriculteur','windspeed_max sept-jan_n-1']]\n",
    "y_test=df_ohe.iloc[-93:]['Production']\n",
    "X_train=df_ohe.iloc[:-93].drop(columns=['Production'])\n",
    "#X_train=df_ohe.iloc[:-93][['Surface_n-1','Agriculteur','windspeed_max sept-jan_n-1']]\n",
    "y_train=df_ohe.iloc[:-93]['Production']"
   ]
  },
  {
   "cell_type": "code",
   "execution_count": 180,
   "id": "b7e0b675",
   "metadata": {
    "ExecuteTime": {
     "end_time": "2022-03-07T16:37:54.995227Z",
     "start_time": "2022-03-07T16:37:54.684606Z"
    }
   },
   "outputs": [],
   "source": [
    "model=build_model()\n",
    "model=fit_model(model,X_train,y_train)"
   ]
  },
  {
   "cell_type": "code",
   "execution_count": 181,
   "id": "d81e3ab2",
   "metadata": {
    "ExecuteTime": {
     "end_time": "2022-03-07T16:37:55.435489Z",
     "start_time": "2022-03-07T16:37:55.411825Z"
    }
   },
   "outputs": [],
   "source": [
    "ypred=model.predict(X_test)"
   ]
  },
  {
   "cell_type": "code",
   "execution_count": 182,
   "id": "69c711bc",
   "metadata": {
    "ExecuteTime": {
     "end_time": "2022-03-07T16:37:56.250707Z",
     "start_time": "2022-03-07T16:37:56.215280Z"
    }
   },
   "outputs": [
    {
     "data": {
      "text/plain": [
       "70474.02306787635"
      ]
     },
     "execution_count": 182,
     "metadata": {},
     "output_type": "execute_result"
    }
   ],
   "source": [
    "mean_absolute_error(y_test,ypred)"
   ]
  },
  {
   "cell_type": "markdown",
   "id": "927a2cf6",
   "metadata": {},
   "source": [
    "Score de **70474** juste avec le OHE"
   ]
  },
  {
   "cell_type": "markdown",
   "id": "41c585b3",
   "metadata": {},
   "source": [
    "# Modèle avec un LinearRegressor"
   ]
  },
  {
   "cell_type": "markdown",
   "id": "87e021a3",
   "metadata": {},
   "source": [
    "## Modèle avec toutes les features"
   ]
  },
  {
   "cell_type": "code",
   "execution_count": 192,
   "id": "69d7a688",
   "metadata": {
    "ExecuteTime": {
     "end_time": "2022-03-07T16:45:40.066142Z",
     "start_time": "2022-03-07T16:45:40.028435Z"
    }
   },
   "outputs": [],
   "source": [
    "X_test=full_df.iloc[-93:].drop(columns=['Production'])\n",
    "#X_test=full_df.iloc[-93:][['Surface_n-1','Agriculteur','windspeed_max sept-jan_n-1']]\n",
    "y_test=full_df.iloc[-93:]['Production']\n",
    "X_train=full_df.iloc[:-93].drop(columns=['Production'])\n",
    "#X_train=full_df.iloc[:-93][['Surface_n-1','Agriculteur','windspeed_max sept-jan_n-1']]\n",
    "y_train=full_df.iloc[:-93]['Production']"
   ]
  },
  {
   "cell_type": "code",
   "execution_count": 193,
   "id": "25958493",
   "metadata": {
    "ExecuteTime": {
     "end_time": "2022-03-07T16:45:46.780534Z",
     "start_time": "2022-03-07T16:45:46.597920Z"
    }
   },
   "outputs": [],
   "source": [
    "model=build_model(model='linear_reg')\n",
    "model=fit_model(model,X_train,y_train)"
   ]
  },
  {
   "cell_type": "code",
   "execution_count": 194,
   "id": "ac6cd884",
   "metadata": {
    "ExecuteTime": {
     "end_time": "2022-03-07T16:46:46.339897Z",
     "start_time": "2022-03-07T16:46:46.300561Z"
    }
   },
   "outputs": [
    {
     "data": {
      "text/plain": [
       "65564.64772331061"
      ]
     },
     "execution_count": 194,
     "metadata": {},
     "output_type": "execute_result"
    }
   ],
   "source": [
    "ypred=model.predict(X_test)\n",
    "mean_absolute_error(y_test,ypred)"
   ]
  },
  {
   "cell_type": "markdown",
   "id": "fcd81e8d",
   "metadata": {},
   "source": [
    "Score meilleur qu'avec le XGBoost"
   ]
  },
  {
   "cell_type": "markdown",
   "id": "5a2fb44e",
   "metadata": {},
   "source": [
    "## Modèle avec juste OHE"
   ]
  },
  {
   "cell_type": "code",
   "execution_count": 202,
   "id": "3dcbf439",
   "metadata": {
    "ExecuteTime": {
     "end_time": "2022-03-07T16:49:36.441097Z",
     "start_time": "2022-03-07T16:49:36.425058Z"
    }
   },
   "outputs": [],
   "source": [
    "df_ohe=full_df.iloc[:,124:]\n",
    "df_ohe['Production']=full_df['Production']"
   ]
  },
  {
   "cell_type": "code",
   "execution_count": 196,
   "id": "10f3ba97",
   "metadata": {
    "ExecuteTime": {
     "end_time": "2022-03-07T16:47:49.756073Z",
     "start_time": "2022-03-07T16:47:49.717507Z"
    }
   },
   "outputs": [],
   "source": [
    "X_test=df_ohe.iloc[-93:].drop(columns=['Production'])\n",
    "#X_test=df_ohe.iloc[-93:][['Surface_n-1','Agriculteur','windspeed_max sept-jan_n-1']]\n",
    "y_test=df_ohe.iloc[-93:]['Production']\n",
    "X_train=df_ohe.iloc[:-93].drop(columns=['Production'])\n",
    "#X_train=df_ohe.iloc[:-93][['Surface_n-1','Agriculteur','windspeed_max sept-jan_n-1']]\n",
    "y_train=df_ohe.iloc[:-93]['Production']"
   ]
  },
  {
   "cell_type": "code",
   "execution_count": 197,
   "id": "5ddb5907",
   "metadata": {
    "ExecuteTime": {
     "end_time": "2022-03-07T16:48:03.807688Z",
     "start_time": "2022-03-07T16:48:03.736099Z"
    }
   },
   "outputs": [],
   "source": [
    "model=build_model(model='linear_reg')\n",
    "model=fit_model(model,X_train,y_train)"
   ]
  },
  {
   "cell_type": "code",
   "execution_count": 198,
   "id": "62576683",
   "metadata": {
    "ExecuteTime": {
     "end_time": "2022-03-07T16:48:08.758404Z",
     "start_time": "2022-03-07T16:48:08.722353Z"
    }
   },
   "outputs": [
    {
     "data": {
      "text/plain": [
       "22110.467644183747"
      ]
     },
     "execution_count": 198,
     "metadata": {},
     "output_type": "execute_result"
    }
   ],
   "source": [
    "ypred=model.predict(X_test)\n",
    "mean_absolute_error(y_test,ypred)"
   ]
  },
  {
   "cell_type": "markdown",
   "id": "57885ca0",
   "metadata": {},
   "source": [
    "Très bon score par rapport à avec toutes les features"
   ]
  },
  {
   "cell_type": "markdown",
   "id": "c397e7fc",
   "metadata": {},
   "source": [
    "# Finding best features"
   ]
  },
  {
   "cell_type": "markdown",
   "id": "c33b5797",
   "metadata": {},
   "source": [
    "## Avec un maintient des features qui améliorent"
   ]
  },
  {
   "cell_type": "code",
   "execution_count": 223,
   "id": "c70fffb3",
   "metadata": {
    "ExecuteTime": {
     "end_time": "2022-03-07T17:00:50.984349Z",
     "start_time": "2022-03-07T17:00:50.945275Z"
    }
   },
   "outputs": [],
   "source": [
    "df_ohe=full_df.iloc[:,124:] #Reset du df_ohe\n",
    "df_ohe['Production']=full_df['Production']"
   ]
  },
  {
   "cell_type": "code",
   "execution_count": 224,
   "id": "b3ca478d",
   "metadata": {
    "ExecuteTime": {
     "end_time": "2022-03-07T17:00:57.805760Z",
     "start_time": "2022-03-07T17:00:51.322271Z"
    },
    "scrolled": true
   },
   "outputs": [
    {
     "name": "stdout",
     "output_type": "stream",
     "text": [
      "Test de Agriculteur\n",
      "Test de Production\n",
      "Test de RatioSep\n",
      "22083.504102819847 RatioSep\n",
      "Test de RatioOct\n",
      "Test de Prix_matos\n",
      "Test de Prod_n-1\n",
      "Test de tmax_c 01\n",
      "Test de tmax_c 02\n",
      "Test de tmax_c 03\n",
      "Test de tmax_c 04\n",
      "Test de tmax_c 05\n",
      "Test de tmax_c 09_n-1\n",
      "22063.724038757307 tmax_c 09_n-1\n",
      "Test de tmax_c 10_n-1\n",
      "Test de tmax_c 11_n-1\n",
      "Test de tmax_c 12_n-1\n",
      "Test de tmin_c 01\n",
      "Test de tmin_c 02\n",
      "Test de tmin_c 03\n",
      "Test de tmin_c 04\n",
      "Test de tmin_c 05\n",
      "Test de tmin_c 09_n-1\n",
      "Test de tmin_c 10_n-1\n",
      "Test de tmin_c 11_n-1\n",
      "22045.959126394886 tmin_c 11_n-1\n",
      "Test de tmin_c 12_n-1\n",
      "Test de windspeed_max 01\n",
      "Test de windspeed_max 02\n",
      "Test de windspeed_max 03\n",
      "Test de windspeed_max 04\n",
      "Test de windspeed_max 05\n",
      "Test de windspeed_max 09_n-1\n",
      "Test de windspeed_max 10_n-1\n",
      "Test de windspeed_max 11_n-1\n",
      "Test de windspeed_max 12_n-1\n",
      "Test de rain_mm 01\n",
      "Test de rain_mm 02\n",
      "Test de rain_mm 03\n",
      "Test de rain_mm 04\n",
      "Test de rain_mm 05\n",
      "Test de rain_mm 09_n-1\n",
      "Test de rain_mm 10_n-1\n",
      "Test de rain_mm 11_n-1\n",
      "Test de rain_mm 12_n-1\n",
      "Test de humidity_pct 01\n",
      "Test de humidity_pct 02\n",
      "Test de humidity_pct 03\n",
      "22042.47457924657 humidity_pct 03\n",
      "Test de humidity_pct 04\n",
      "Test de humidity_pct 05\n",
      "Test de humidity_pct 09_n-1\n",
      "Test de humidity_pct 10_n-1\n",
      "Test de humidity_pct 11_n-1\n",
      "Test de humidity_pct 12_n-1\n",
      "Test de pressuremax_mb 01\n",
      "Test de pressuremax_mb 02\n",
      "Test de pressuremax_mb 03\n",
      "Test de pressuremax_mb 04\n",
      "Test de pressuremax_mb 05\n",
      "Test de pressuremax_mb 09_n-1\n",
      "Test de pressuremax_mb 10_n-1\n",
      "Test de pressuremax_mb 11_n-1\n",
      "Test de pressuremax_mb 12_n-1\n",
      "Test de cloudcov_avg_pct 01\n",
      "Test de cloudcov_avg_pct 02\n",
      "Test de cloudcov_avg_pct 03\n",
      "Test de cloudcov_avg_pct 04\n",
      "Test de cloudcov_avg_pct 05\n",
      "Test de cloudcov_avg_pct 09_n-1\n",
      "Test de cloudcov_avg_pct 10_n-1\n",
      "Test de cloudcov_avg_pct 11_n-1\n",
      "Test de cloudcov_avg_pct 12_n-1\n",
      "Test de dewmax_c 01\n",
      "Test de dewmax_c 02\n",
      "Test de dewmax_c 03\n",
      "Test de dewmax_c 04\n",
      "Test de dewmax_c 05\n",
      "Test de dewmax_c 09_n-1\n",
      "Test de dewmax_c 10_n-1\n",
      "Test de dewmax_c 11_n-1\n",
      "Test de dewmax_c 12_n-1\n",
      "Test de snow_mm 01\n",
      "Test de snow_mm 02\n",
      "Test de snow_mm 03\n",
      "Test de snow_mm 04\n",
      "22013.59991153237 snow_mm 04\n",
      "Test de snow_mm 05\n",
      "Test de snow_mm 09_n-1\n",
      "22013.599911532234 snow_mm 09_n-1\n",
      "Test de snow_mm 10_n-1\n",
      "22001.461622767652 snow_mm 10_n-1\n",
      "Test de snow_mm 11_n-1\n",
      "Test de snow_mm 12_n-1\n",
      "Test de uv_idx 01\n",
      "Test de uv_idx 02\n",
      "Test de uv_idx 03\n",
      "Test de uv_idx 04\n",
      "Test de uv_idx 05\n",
      "Test de uv_idx 09_n-1\n",
      "Test de uv_idx 10_n-1\n",
      "Test de uv_idx 11_n-1\n",
      "Test de uv_idx 12_n-1\n",
      "Test de sunhour 01\n",
      "Test de sunhour 02\n",
      "Test de sunhour 03\n",
      "Test de sunhour 04\n",
      "Test de sunhour 05\n",
      "Test de sunhour 09_n-1\n",
      "Test de sunhour 10_n-1\n",
      "Test de sunhour 11_n-1\n",
      "Test de sunhour 12_n-1\n",
      "Test de tmax_deg 01\n",
      "Test de tmax_deg 02\n",
      "Test de tmax_deg 03\n",
      "Test de tmax_deg 04\n",
      "21930.300744241034 tmax_deg 04\n",
      "Test de tmax_deg 05\n",
      "Test de tmax_deg 09_n-1\n",
      "Test de tmax_deg 10_n-1\n",
      "Test de tmax_deg 11_n-1\n",
      "Test de tmax_deg 12_n-1\n",
      "Test de tmin_deg 01\n",
      "Test de tmin_deg 02\n",
      "Test de tmin_deg 03\n",
      "Test de tmin_deg 04\n",
      "Test de tmin_deg 05\n",
      "Test de tmin_deg 09_n-1\n",
      "Test de tmin_deg 10_n-1\n",
      "21820.414711512556 tmin_deg 10_n-1\n",
      "Test de tmin_deg 11_n-1\n",
      "Test de tmin_deg 12_n-1\n",
      "Test de dpt_1\n",
      "Test de dpt_10\n",
      "Test de dpt_11\n",
      "Test de dpt_12\n",
      "Test de dpt_13\n",
      "Test de dpt_14\n",
      "Test de dpt_15\n",
      "Test de dpt_16\n",
      "Test de dpt_17\n",
      "Test de dpt_18\n",
      "Test de dpt_19\n",
      "Test de dpt_2\n",
      "Test de dpt_20\n",
      "Test de dpt_21\n",
      "Test de dpt_22\n",
      "Test de dpt_23\n",
      "Test de dpt_24\n",
      "Test de dpt_25\n",
      "Test de dpt_26\n",
      "Test de dpt_27\n",
      "Test de dpt_28\n",
      "Test de dpt_29\n",
      "Test de dpt_3\n",
      "Test de dpt_30\n",
      "Test de dpt_31\n",
      "Test de dpt_32\n",
      "Test de dpt_33\n",
      "Test de dpt_34\n",
      "Test de dpt_35\n",
      "Test de dpt_36\n",
      "Test de dpt_37\n",
      "Test de dpt_38\n",
      "Test de dpt_39\n",
      "Test de dpt_4\n",
      "Test de dpt_40\n",
      "Test de dpt_41\n",
      "Test de dpt_42\n",
      "Test de dpt_43\n",
      "Test de dpt_44\n",
      "Test de dpt_45\n",
      "Test de dpt_46\n",
      "Test de dpt_47\n",
      "Test de dpt_48\n",
      "Test de dpt_49\n",
      "Test de dpt_5\n",
      "Test de dpt_50\n",
      "Test de dpt_51\n",
      "Test de dpt_52\n",
      "Test de dpt_53\n",
      "Test de dpt_54\n",
      "Test de dpt_55\n",
      "Test de dpt_56\n",
      "Test de dpt_57\n",
      "Test de dpt_58\n",
      "Test de dpt_59\n",
      "Test de dpt_6\n",
      "Test de dpt_60\n",
      "Test de dpt_61\n",
      "Test de dpt_62\n",
      "Test de dpt_63\n",
      "Test de dpt_64\n",
      "Test de dpt_65\n",
      "Test de dpt_66\n",
      "Test de dpt_67\n",
      "Test de dpt_68\n",
      "Test de dpt_69\n",
      "Test de dpt_7\n",
      "Test de dpt_70\n",
      "Test de dpt_71\n",
      "Test de dpt_72\n",
      "Test de dpt_73\n",
      "Test de dpt_74\n",
      "Test de dpt_76\n",
      "Test de dpt_77\n",
      "Test de dpt_78\n",
      "Test de dpt_79\n",
      "Test de dpt_8\n",
      "Test de dpt_80\n",
      "Test de dpt_81\n",
      "Test de dpt_82\n",
      "Test de dpt_83\n",
      "Test de dpt_84\n",
      "Test de dpt_85\n",
      "Test de dpt_86\n",
      "Test de dpt_87\n",
      "Test de dpt_88\n",
      "Test de dpt_89\n",
      "Test de dpt_9\n",
      "Test de dpt_90\n",
      "Test de dpt_91\n",
      "Test de dpt_93\n",
      "Test de dpt_94\n",
      "Test de dpt_95\n"
     ]
    }
   ],
   "source": [
    "best_score=22110\n",
    "for name in full_df.columns:\n",
    "    print('Test de ' + name)\n",
    "    if name in df_ohe.columns:\n",
    "        pass\n",
    "    else :\n",
    "        df_ohe[name]=full_df[name]\n",
    "        \n",
    "        X=df_ohe[:-93].drop(columns=['Production'])\n",
    "        X_test=df_ohe.iloc[-93:].drop(columns=['Production'])\n",
    "        y=df_ohe[:-93]['Production']\n",
    "        y_test=df_ohe.iloc[-93:]['Production']\n",
    "        \n",
    "        model=build_model(model='linear_reg')\n",
    "        model=fit_model(model,X,y)\n",
    "        score_pred=mean_absolute_error(y_test,model.predict(X_test))\n",
    "        if score_pred<best_score:\n",
    "            best_score=score_pred\n",
    "            print(best_score,name)\n",
    "        else :\n",
    "            df_ohe=df_ohe.drop(columns=[name])"
   ]
  },
  {
   "cell_type": "code",
   "execution_count": 225,
   "id": "eea7381d",
   "metadata": {
    "ExecuteTime": {
     "end_time": "2022-03-07T17:00:58.194780Z",
     "start_time": "2022-03-07T17:00:58.178726Z"
    }
   },
   "outputs": [
    {
     "data": {
      "text/plain": [
       "21820.414711512556"
      ]
     },
     "execution_count": 225,
     "metadata": {},
     "output_type": "execute_result"
    }
   ],
   "source": [
    "best_score"
   ]
  },
  {
   "cell_type": "markdown",
   "id": "d7bcd525",
   "metadata": {},
   "source": [
    "Petite amélioration du score en gardant les features suivantes (Production sert pour construire le y):"
   ]
  },
  {
   "cell_type": "code",
   "execution_count": 226,
   "id": "6c0d7b8f",
   "metadata": {
    "ExecuteTime": {
     "end_time": "2022-03-07T17:01:05.546308Z",
     "start_time": "2022-03-07T17:01:05.510969Z"
    },
    "scrolled": true
   },
   "outputs": [],
   "source": [
    "best_features=list(df_ohe.columns)"
   ]
  },
  {
   "cell_type": "code",
   "execution_count": 227,
   "id": "0e4c1de3",
   "metadata": {
    "ExecuteTime": {
     "end_time": "2022-03-07T17:01:10.291190Z",
     "start_time": "2022-03-07T17:01:10.257440Z"
    },
    "scrolled": true
   },
   "outputs": [
    {
     "data": {
      "text/plain": [
       "['dpt_10',\n",
       " 'dpt_11',\n",
       " 'dpt_12',\n",
       " 'dpt_13',\n",
       " 'dpt_14',\n",
       " 'dpt_15',\n",
       " 'dpt_16',\n",
       " 'dpt_17',\n",
       " 'dpt_18',\n",
       " 'dpt_19',\n",
       " 'dpt_2',\n",
       " 'dpt_20',\n",
       " 'dpt_21',\n",
       " 'dpt_22',\n",
       " 'dpt_23',\n",
       " 'dpt_24',\n",
       " 'dpt_25',\n",
       " 'dpt_26',\n",
       " 'dpt_27',\n",
       " 'dpt_28',\n",
       " 'dpt_29',\n",
       " 'dpt_3',\n",
       " 'dpt_30',\n",
       " 'dpt_31',\n",
       " 'dpt_32',\n",
       " 'dpt_33',\n",
       " 'dpt_34',\n",
       " 'dpt_35',\n",
       " 'dpt_36',\n",
       " 'dpt_37',\n",
       " 'dpt_38',\n",
       " 'dpt_39',\n",
       " 'dpt_4',\n",
       " 'dpt_40',\n",
       " 'dpt_41',\n",
       " 'dpt_42',\n",
       " 'dpt_43',\n",
       " 'dpt_44',\n",
       " 'dpt_45',\n",
       " 'dpt_46',\n",
       " 'dpt_47',\n",
       " 'dpt_48',\n",
       " 'dpt_49',\n",
       " 'dpt_5',\n",
       " 'dpt_50',\n",
       " 'dpt_51',\n",
       " 'dpt_52',\n",
       " 'dpt_53',\n",
       " 'dpt_54',\n",
       " 'dpt_55',\n",
       " 'dpt_56',\n",
       " 'dpt_57',\n",
       " 'dpt_58',\n",
       " 'dpt_59',\n",
       " 'dpt_6',\n",
       " 'dpt_60',\n",
       " 'dpt_61',\n",
       " 'dpt_62',\n",
       " 'dpt_63',\n",
       " 'dpt_64',\n",
       " 'dpt_65',\n",
       " 'dpt_66',\n",
       " 'dpt_67',\n",
       " 'dpt_68',\n",
       " 'dpt_69',\n",
       " 'dpt_7',\n",
       " 'dpt_70',\n",
       " 'dpt_71',\n",
       " 'dpt_72',\n",
       " 'dpt_73',\n",
       " 'dpt_74',\n",
       " 'dpt_76',\n",
       " 'dpt_77',\n",
       " 'dpt_78',\n",
       " 'dpt_79',\n",
       " 'dpt_8',\n",
       " 'dpt_80',\n",
       " 'dpt_81',\n",
       " 'dpt_82',\n",
       " 'dpt_83',\n",
       " 'dpt_84',\n",
       " 'dpt_85',\n",
       " 'dpt_86',\n",
       " 'dpt_87',\n",
       " 'dpt_88',\n",
       " 'dpt_89',\n",
       " 'dpt_9',\n",
       " 'dpt_90',\n",
       " 'dpt_91',\n",
       " 'dpt_93',\n",
       " 'dpt_94',\n",
       " 'dpt_95',\n",
       " 'Production',\n",
       " 'RatioSep',\n",
       " 'tmax_c 09_n-1',\n",
       " 'tmin_c 11_n-1',\n",
       " 'humidity_pct 03',\n",
       " 'snow_mm 04',\n",
       " 'snow_mm 09_n-1',\n",
       " 'snow_mm 10_n-1',\n",
       " 'tmax_deg 04',\n",
       " 'tmin_deg 10_n-1']"
      ]
     },
     "execution_count": 227,
     "metadata": {},
     "output_type": "execute_result"
    }
   ],
   "source": [
    "best_features"
   ]
  },
  {
   "cell_type": "markdown",
   "id": "6deb9543",
   "metadata": {},
   "source": [
    "## Sans maintient des features"
   ]
  },
  {
   "cell_type": "code",
   "execution_count": 210,
   "id": "d9ed0571",
   "metadata": {
    "ExecuteTime": {
     "end_time": "2022-03-07T16:55:01.178969Z",
     "start_time": "2022-03-07T16:55:01.144344Z"
    }
   },
   "outputs": [],
   "source": [
    "df_ohe=full_df.iloc[:,124:]\n",
    "df_ohe['Production']=full_df['Production']"
   ]
  },
  {
   "cell_type": "code",
   "execution_count": 211,
   "id": "25fae4bb",
   "metadata": {
    "ExecuteTime": {
     "end_time": "2022-03-07T16:55:08.647458Z",
     "start_time": "2022-03-07T16:55:02.947653Z"
    },
    "scrolled": true
   },
   "outputs": [
    {
     "name": "stdout",
     "output_type": "stream",
     "text": [
      "Test de Agriculteur\n",
      "Test de Production\n",
      "Test de RatioSep\n",
      "22083.504102819847 RatioSep\n",
      "Test de RatioOct\n",
      "Test de Prix_matos\n",
      "Test de Prod_n-1\n",
      "Test de tmax_c 01\n",
      "Test de tmax_c 02\n",
      "Test de tmax_c 03\n",
      "Test de tmax_c 04\n",
      "Test de tmax_c 05\n",
      "Test de tmax_c 09_n-1\n",
      "Test de tmax_c 10_n-1\n",
      "Test de tmax_c 11_n-1\n",
      "Test de tmax_c 12_n-1\n",
      "Test de tmin_c 01\n",
      "Test de tmin_c 02\n",
      "Test de tmin_c 03\n",
      "Test de tmin_c 04\n",
      "Test de tmin_c 05\n",
      "Test de tmin_c 09_n-1\n",
      "Test de tmin_c 10_n-1\n",
      "Test de tmin_c 11_n-1\n",
      "Test de tmin_c 12_n-1\n",
      "Test de windspeed_max 01\n",
      "Test de windspeed_max 02\n",
      "Test de windspeed_max 03\n",
      "Test de windspeed_max 04\n",
      "Test de windspeed_max 05\n",
      "Test de windspeed_max 09_n-1\n",
      "Test de windspeed_max 10_n-1\n",
      "Test de windspeed_max 11_n-1\n",
      "Test de windspeed_max 12_n-1\n",
      "Test de rain_mm 01\n",
      "Test de rain_mm 02\n",
      "Test de rain_mm 03\n",
      "Test de rain_mm 04\n",
      "Test de rain_mm 05\n",
      "Test de rain_mm 09_n-1\n",
      "Test de rain_mm 10_n-1\n",
      "Test de rain_mm 11_n-1\n",
      "Test de rain_mm 12_n-1\n",
      "Test de humidity_pct 01\n",
      "Test de humidity_pct 02\n",
      "Test de humidity_pct 03\n",
      "Test de humidity_pct 04\n",
      "Test de humidity_pct 05\n",
      "Test de humidity_pct 09_n-1\n",
      "Test de humidity_pct 10_n-1\n",
      "Test de humidity_pct 11_n-1\n",
      "Test de humidity_pct 12_n-1\n",
      "Test de pressuremax_mb 01\n",
      "Test de pressuremax_mb 02\n",
      "22074.917174142676 pressuremax_mb 02\n",
      "Test de pressuremax_mb 03\n",
      "Test de pressuremax_mb 04\n",
      "Test de pressuremax_mb 05\n",
      "Test de pressuremax_mb 09_n-1\n",
      "Test de pressuremax_mb 10_n-1\n",
      "22048.193336379587 pressuremax_mb 10_n-1\n",
      "Test de pressuremax_mb 11_n-1\n",
      "Test de pressuremax_mb 12_n-1\n",
      "Test de cloudcov_avg_pct 01\n",
      "Test de cloudcov_avg_pct 02\n",
      "Test de cloudcov_avg_pct 03\n",
      "Test de cloudcov_avg_pct 04\n",
      "Test de cloudcov_avg_pct 05\n",
      "Test de cloudcov_avg_pct 09_n-1\n",
      "Test de cloudcov_avg_pct 10_n-1\n",
      "Test de cloudcov_avg_pct 11_n-1\n",
      "Test de cloudcov_avg_pct 12_n-1\n",
      "Test de dewmax_c 01\n",
      "Test de dewmax_c 02\n",
      "Test de dewmax_c 03\n",
      "Test de dewmax_c 04\n",
      "Test de dewmax_c 05\n",
      "Test de dewmax_c 09_n-1\n",
      "Test de dewmax_c 10_n-1\n",
      "Test de dewmax_c 11_n-1\n",
      "Test de dewmax_c 12_n-1\n",
      "Test de snow_mm 01\n",
      "Test de snow_mm 02\n",
      "Test de snow_mm 03\n",
      "Test de snow_mm 04\n",
      "Test de snow_mm 05\n",
      "Test de snow_mm 09_n-1\n",
      "Test de snow_mm 10_n-1\n",
      "Test de snow_mm 11_n-1\n",
      "Test de snow_mm 12_n-1\n",
      "Test de uv_idx 01\n",
      "Test de uv_idx 02\n",
      "Test de uv_idx 03\n",
      "Test de uv_idx 04\n",
      "Test de uv_idx 05\n",
      "Test de uv_idx 09_n-1\n",
      "Test de uv_idx 10_n-1\n",
      "Test de uv_idx 11_n-1\n",
      "Test de uv_idx 12_n-1\n",
      "Test de sunhour 01\n",
      "Test de sunhour 02\n",
      "Test de sunhour 03\n",
      "Test de sunhour 04\n",
      "Test de sunhour 05\n",
      "Test de sunhour 09_n-1\n",
      "Test de sunhour 10_n-1\n",
      "Test de sunhour 11_n-1\n",
      "Test de sunhour 12_n-1\n",
      "Test de tmax_deg 01\n",
      "Test de tmax_deg 02\n",
      "21994.952215901194 tmax_deg 02\n",
      "Test de tmax_deg 03\n",
      "Test de tmax_deg 04\n",
      "Test de tmax_deg 05\n",
      "Test de tmax_deg 09_n-1\n",
      "Test de tmax_deg 10_n-1\n",
      "Test de tmax_deg 11_n-1\n",
      "Test de tmax_deg 12_n-1\n",
      "Test de tmin_deg 01\n",
      "Test de tmin_deg 02\n",
      "Test de tmin_deg 03\n",
      "Test de tmin_deg 04\n",
      "Test de tmin_deg 05\n",
      "Test de tmin_deg 09_n-1\n",
      "Test de tmin_deg 10_n-1\n",
      "Test de tmin_deg 11_n-1\n",
      "Test de tmin_deg 12_n-1\n",
      "Test de dpt_1\n",
      "Test de dpt_10\n",
      "Test de dpt_11\n",
      "Test de dpt_12\n",
      "Test de dpt_13\n",
      "Test de dpt_14\n",
      "Test de dpt_15\n",
      "Test de dpt_16\n",
      "Test de dpt_17\n",
      "Test de dpt_18\n",
      "Test de dpt_19\n",
      "Test de dpt_2\n",
      "Test de dpt_20\n",
      "Test de dpt_21\n",
      "Test de dpt_22\n",
      "Test de dpt_23\n",
      "Test de dpt_24\n",
      "Test de dpt_25\n",
      "Test de dpt_26\n",
      "Test de dpt_27\n",
      "Test de dpt_28\n",
      "Test de dpt_29\n",
      "Test de dpt_3\n",
      "Test de dpt_30\n",
      "Test de dpt_31\n",
      "Test de dpt_32\n",
      "Test de dpt_33\n",
      "Test de dpt_34\n",
      "Test de dpt_35\n",
      "Test de dpt_36\n",
      "Test de dpt_37\n",
      "Test de dpt_38\n",
      "Test de dpt_39\n",
      "Test de dpt_4\n",
      "Test de dpt_40\n",
      "Test de dpt_41\n",
      "Test de dpt_42\n",
      "Test de dpt_43\n",
      "Test de dpt_44\n",
      "Test de dpt_45\n",
      "Test de dpt_46\n",
      "Test de dpt_47\n",
      "Test de dpt_48\n",
      "Test de dpt_49\n",
      "Test de dpt_5\n",
      "Test de dpt_50\n",
      "Test de dpt_51\n",
      "Test de dpt_52\n",
      "Test de dpt_53\n",
      "Test de dpt_54\n",
      "Test de dpt_55\n",
      "Test de dpt_56\n",
      "Test de dpt_57\n",
      "Test de dpt_58\n",
      "Test de dpt_59\n",
      "Test de dpt_6\n",
      "Test de dpt_60\n",
      "Test de dpt_61\n",
      "Test de dpt_62\n",
      "Test de dpt_63\n",
      "Test de dpt_64\n",
      "Test de dpt_65\n",
      "Test de dpt_66\n",
      "Test de dpt_67\n",
      "Test de dpt_68\n",
      "Test de dpt_69\n",
      "Test de dpt_7\n",
      "Test de dpt_70\n",
      "Test de dpt_71\n",
      "Test de dpt_72\n",
      "Test de dpt_73\n",
      "Test de dpt_74\n",
      "Test de dpt_76\n",
      "Test de dpt_77\n",
      "Test de dpt_78\n",
      "Test de dpt_79\n",
      "Test de dpt_8\n",
      "Test de dpt_80\n",
      "Test de dpt_81\n",
      "Test de dpt_82\n",
      "Test de dpt_83\n",
      "Test de dpt_84\n",
      "Test de dpt_85\n",
      "Test de dpt_86\n",
      "Test de dpt_87\n",
      "Test de dpt_88\n",
      "Test de dpt_89\n",
      "Test de dpt_9\n",
      "Test de dpt_90\n",
      "Test de dpt_91\n",
      "Test de dpt_93\n",
      "Test de dpt_94\n",
      "Test de dpt_95\n"
     ]
    }
   ],
   "source": [
    "best_score=22110\n",
    "features=[]\n",
    "for name in full_df.columns:\n",
    "    print('Test de ' + name)\n",
    "    if name in df_ohe.columns:\n",
    "        pass\n",
    "    else :\n",
    "        df_ohe[name]=full_df[name]\n",
    "        \n",
    "        X=df_ohe[:-93].drop(columns=['Production'])\n",
    "        X_test=df_ohe.iloc[-93:].drop(columns=['Production'])\n",
    "        y=df_ohe[:-93]['Production']\n",
    "        y_test=df_ohe.iloc[-93:]['Production']\n",
    "        \n",
    "        model=build_model(model='linear_reg')\n",
    "        model=fit_model(model,X,y)\n",
    "        score_pred=mean_absolute_error(y_test,model.predict(X_test))\n",
    "        if score_pred<best_score:\n",
    "            best_score=score_pred\n",
    "            print(best_score,name)\n",
    "            features.append(name)\n",
    "        df_ohe=df_ohe.drop(columns=[name])"
   ]
  },
  {
   "cell_type": "markdown",
   "id": "0589bde8",
   "metadata": {},
   "source": [
    "On garde donc :"
   ]
  },
  {
   "cell_type": "code",
   "execution_count": 212,
   "id": "1f8dcc6c",
   "metadata": {
    "ExecuteTime": {
     "end_time": "2022-03-07T16:55:52.613697Z",
     "start_time": "2022-03-07T16:55:52.580561Z"
    }
   },
   "outputs": [
    {
     "data": {
      "text/plain": [
       "['RatioSep', 'pressuremax_mb 02', 'pressuremax_mb 10_n-1', 'tmax_deg 02']"
      ]
     },
     "execution_count": 212,
     "metadata": {},
     "output_type": "execute_result"
    }
   ],
   "source": [
    "features"
   ]
  },
  {
   "cell_type": "markdown",
   "id": "0e24c8c1",
   "metadata": {},
   "source": [
    "Reconstrution du df avec toutes les features selectionnées:"
   ]
  },
  {
   "cell_type": "code",
   "execution_count": 219,
   "id": "94369d85",
   "metadata": {
    "ExecuteTime": {
     "end_time": "2022-03-07T16:58:36.190222Z",
     "start_time": "2022-03-07T16:58:36.152963Z"
    }
   },
   "outputs": [],
   "source": [
    "df_ohe=pd.concat([df_ohe,full_df[features]],axis=1)"
   ]
  },
  {
   "cell_type": "code",
   "execution_count": 220,
   "id": "3aa4ea96",
   "metadata": {
    "ExecuteTime": {
     "end_time": "2022-03-07T16:59:05.391664Z",
     "start_time": "2022-03-07T16:59:05.353890Z"
    }
   },
   "outputs": [],
   "source": [
    "X_test=df_ohe.iloc[-93:].drop(columns=['Production'])\n",
    "#X_test=df_ohe.iloc[-93:][['Surface_n-1','Agriculteur','windspeed_max sept-jan_n-1']]\n",
    "y_test=df_ohe.iloc[-93:]['Production']\n",
    "X_train=df_ohe.iloc[:-93].drop(columns=['Production'])\n",
    "#X_train=df_ohe.iloc[:-93][['Surface_n-1','Agriculteur','windspeed_max sept-jan_n-1']]\n",
    "y_train=df_ohe.iloc[:-93]['Production']"
   ]
  },
  {
   "cell_type": "code",
   "execution_count": 221,
   "id": "7ad69208",
   "metadata": {
    "ExecuteTime": {
     "end_time": "2022-03-07T16:59:18.419400Z",
     "start_time": "2022-03-07T16:59:18.335579Z"
    }
   },
   "outputs": [],
   "source": [
    "model=build_model(model='linear_reg')\n",
    "model=fit_model(model,X_train,y_train)"
   ]
  },
  {
   "cell_type": "code",
   "execution_count": 222,
   "id": "908e9d87",
   "metadata": {
    "ExecuteTime": {
     "end_time": "2022-03-07T16:59:28.146986Z",
     "start_time": "2022-03-07T16:59:28.109729Z"
    }
   },
   "outputs": [
    {
     "data": {
      "text/plain": [
       "22290.917601779896"
      ]
     },
     "execution_count": 222,
     "metadata": {},
     "output_type": "execute_result"
    }
   ],
   "source": [
    "ypred=model.predict(X_test)\n",
    "mean_absolute_error(y_test,ypred)"
   ]
  },
  {
   "cell_type": "markdown",
   "id": "a2a2b88c",
   "metadata": {},
   "source": [
    "Pas d'amélioration"
   ]
  },
  {
   "cell_type": "markdown",
   "id": "3cebe80e",
   "metadata": {},
   "source": [
    "# Stacking"
   ]
  },
  {
   "cell_type": "markdown",
   "id": "12f97b47",
   "metadata": {},
   "source": [
    "## Avec toutes les features"
   ]
  },
  {
   "cell_type": "code",
   "execution_count": 239,
   "id": "a4a492f3",
   "metadata": {
    "ExecuteTime": {
     "end_time": "2022-03-08T08:28:47.731667Z",
     "start_time": "2022-03-08T08:28:47.686021Z"
    }
   },
   "outputs": [],
   "source": [
    "from sklearn.ensemble import StackingRegressor"
   ]
  },
  {
   "cell_type": "code",
   "execution_count": 349,
   "id": "b5eec68f",
   "metadata": {
    "ExecuteTime": {
     "end_time": "2022-03-08T09:25:19.027056Z",
     "start_time": "2022-03-08T09:25:18.994155Z"
    }
   },
   "outputs": [],
   "source": [
    "ensemble = StackingRegressor(\n",
    "    estimators = [\n",
    "                (\"LineReg\", LinearRegression()),\n",
    "                  (\"XGB\", XGBRegressor())],\n",
    "    final_estimator = LinearRegression())\n",
    "pipe=Pipeline([('Scaler',RobustScaler()),\n",
    "     ('Stacking',ensemble)])"
   ]
  },
  {
   "cell_type": "code",
   "execution_count": 350,
   "id": "f6d83a82",
   "metadata": {
    "ExecuteTime": {
     "end_time": "2022-03-08T09:25:19.789120Z",
     "start_time": "2022-03-08T09:25:19.771577Z"
    }
   },
   "outputs": [],
   "source": [
    "X_test=full_df.iloc[-93:].drop(columns=['Production'])\n",
    "#X_test=full_df.iloc[-93:][['Surface_n-1','Agriculteur','windspeed_max sept-jan_n-1']]\n",
    "y_test=full_df.iloc[-93:]['Production']\n",
    "X_train=full_df.iloc[:-93].drop(columns=['Production'])\n",
    "#X_train=full_df.iloc[:-93][['Surface_n-1','Agriculteur','windspeed_max sept-jan_n-1']]\n",
    "y_train=full_df.iloc[:-93]['Production']"
   ]
  },
  {
   "cell_type": "code",
   "execution_count": 351,
   "id": "27eaa203",
   "metadata": {
    "ExecuteTime": {
     "end_time": "2022-03-08T09:25:23.405135Z",
     "start_time": "2022-03-08T09:25:20.526607Z"
    },
    "scrolled": true
   },
   "outputs": [
    {
     "data": {
      "text/html": [
       "<style>#sk-109eb18a-d345-4a03-8ebd-8db72e30c31b {color: black;background-color: white;}#sk-109eb18a-d345-4a03-8ebd-8db72e30c31b pre{padding: 0;}#sk-109eb18a-d345-4a03-8ebd-8db72e30c31b div.sk-toggleable {background-color: white;}#sk-109eb18a-d345-4a03-8ebd-8db72e30c31b label.sk-toggleable__label {cursor: pointer;display: block;width: 100%;margin-bottom: 0;padding: 0.3em;box-sizing: border-box;text-align: center;}#sk-109eb18a-d345-4a03-8ebd-8db72e30c31b label.sk-toggleable__label-arrow:before {content: \"▸\";float: left;margin-right: 0.25em;color: #696969;}#sk-109eb18a-d345-4a03-8ebd-8db72e30c31b label.sk-toggleable__label-arrow:hover:before {color: black;}#sk-109eb18a-d345-4a03-8ebd-8db72e30c31b div.sk-estimator:hover label.sk-toggleable__label-arrow:before {color: black;}#sk-109eb18a-d345-4a03-8ebd-8db72e30c31b div.sk-toggleable__content {max-height: 0;max-width: 0;overflow: hidden;text-align: left;background-color: #f0f8ff;}#sk-109eb18a-d345-4a03-8ebd-8db72e30c31b div.sk-toggleable__content pre {margin: 0.2em;color: black;border-radius: 0.25em;background-color: #f0f8ff;}#sk-109eb18a-d345-4a03-8ebd-8db72e30c31b input.sk-toggleable__control:checked~div.sk-toggleable__content {max-height: 200px;max-width: 100%;overflow: auto;}#sk-109eb18a-d345-4a03-8ebd-8db72e30c31b input.sk-toggleable__control:checked~label.sk-toggleable__label-arrow:before {content: \"▾\";}#sk-109eb18a-d345-4a03-8ebd-8db72e30c31b div.sk-estimator input.sk-toggleable__control:checked~label.sk-toggleable__label {background-color: #d4ebff;}#sk-109eb18a-d345-4a03-8ebd-8db72e30c31b div.sk-label input.sk-toggleable__control:checked~label.sk-toggleable__label {background-color: #d4ebff;}#sk-109eb18a-d345-4a03-8ebd-8db72e30c31b input.sk-hidden--visually {border: 0;clip: rect(1px 1px 1px 1px);clip: rect(1px, 1px, 1px, 1px);height: 1px;margin: -1px;overflow: hidden;padding: 0;position: absolute;width: 1px;}#sk-109eb18a-d345-4a03-8ebd-8db72e30c31b div.sk-estimator {font-family: monospace;background-color: #f0f8ff;border: 1px dotted black;border-radius: 0.25em;box-sizing: border-box;margin-bottom: 0.5em;}#sk-109eb18a-d345-4a03-8ebd-8db72e30c31b div.sk-estimator:hover {background-color: #d4ebff;}#sk-109eb18a-d345-4a03-8ebd-8db72e30c31b div.sk-parallel-item::after {content: \"\";width: 100%;border-bottom: 1px solid gray;flex-grow: 1;}#sk-109eb18a-d345-4a03-8ebd-8db72e30c31b div.sk-label:hover label.sk-toggleable__label {background-color: #d4ebff;}#sk-109eb18a-d345-4a03-8ebd-8db72e30c31b div.sk-serial::before {content: \"\";position: absolute;border-left: 1px solid gray;box-sizing: border-box;top: 2em;bottom: 0;left: 50%;}#sk-109eb18a-d345-4a03-8ebd-8db72e30c31b div.sk-serial {display: flex;flex-direction: column;align-items: center;background-color: white;padding-right: 0.2em;padding-left: 0.2em;}#sk-109eb18a-d345-4a03-8ebd-8db72e30c31b div.sk-item {z-index: 1;}#sk-109eb18a-d345-4a03-8ebd-8db72e30c31b div.sk-parallel {display: flex;align-items: stretch;justify-content: center;background-color: white;}#sk-109eb18a-d345-4a03-8ebd-8db72e30c31b div.sk-parallel::before {content: \"\";position: absolute;border-left: 1px solid gray;box-sizing: border-box;top: 2em;bottom: 0;left: 50%;}#sk-109eb18a-d345-4a03-8ebd-8db72e30c31b div.sk-parallel-item {display: flex;flex-direction: column;position: relative;background-color: white;}#sk-109eb18a-d345-4a03-8ebd-8db72e30c31b div.sk-parallel-item:first-child::after {align-self: flex-end;width: 50%;}#sk-109eb18a-d345-4a03-8ebd-8db72e30c31b div.sk-parallel-item:last-child::after {align-self: flex-start;width: 50%;}#sk-109eb18a-d345-4a03-8ebd-8db72e30c31b div.sk-parallel-item:only-child::after {width: 0;}#sk-109eb18a-d345-4a03-8ebd-8db72e30c31b div.sk-dashed-wrapped {border: 1px dashed gray;margin: 0 0.4em 0.5em 0.4em;box-sizing: border-box;padding-bottom: 0.4em;background-color: white;position: relative;}#sk-109eb18a-d345-4a03-8ebd-8db72e30c31b div.sk-label label {font-family: monospace;font-weight: bold;background-color: white;display: inline-block;line-height: 1.2em;}#sk-109eb18a-d345-4a03-8ebd-8db72e30c31b div.sk-label-container {position: relative;z-index: 2;text-align: center;}#sk-109eb18a-d345-4a03-8ebd-8db72e30c31b div.sk-container {/* jupyter's `normalize.less` sets `[hidden] { display: none; }` but bootstrap.min.css set `[hidden] { display: none !important; }` so we also need the `!important` here to be able to override the default hidden behavior on the sphinx rendered scikit-learn.org. See: https://github.com/scikit-learn/scikit-learn/issues/21755 */display: inline-block !important;position: relative;}#sk-109eb18a-d345-4a03-8ebd-8db72e30c31b div.sk-text-repr-fallback {display: none;}</style><div id=\"sk-109eb18a-d345-4a03-8ebd-8db72e30c31b\" class=\"sk-top-container\"><div class=\"sk-text-repr-fallback\"><pre>Pipeline(steps=[(&#x27;Scaler&#x27;, RobustScaler()),\n",
       "                (&#x27;Stacking&#x27;,\n",
       "                 StackingRegressor(estimators=[(&#x27;LineReg&#x27;, LinearRegression()),\n",
       "                                               (&#x27;XGB&#x27;,\n",
       "                                                XGBRegressor(base_score=None,\n",
       "                                                             booster=None,\n",
       "                                                             colsample_bylevel=None,\n",
       "                                                             colsample_bynode=None,\n",
       "                                                             colsample_bytree=None,\n",
       "                                                             enable_categorical=False,\n",
       "                                                             gamma=None,\n",
       "                                                             gpu_id=None,\n",
       "                                                             importance_type=None,\n",
       "                                                             interaction_constraints=None,\n",
       "                                                             learning_rate=None,\n",
       "                                                             max_delta_step=None,\n",
       "                                                             max_depth=None,\n",
       "                                                             min_child_weight=None,\n",
       "                                                             missing=nan,\n",
       "                                                             monotone_constraints=None,\n",
       "                                                             n_estimators=100,\n",
       "                                                             n_jobs=None,\n",
       "                                                             num_parallel_tree=None,\n",
       "                                                             predictor=None,\n",
       "                                                             random_state=None,\n",
       "                                                             reg_alpha=None,\n",
       "                                                             reg_lambda=None,\n",
       "                                                             scale_pos_weight=None,\n",
       "                                                             subsample=None,\n",
       "                                                             tree_method=None,\n",
       "                                                             validate_parameters=None,\n",
       "                                                             verbosity=None))],\n",
       "                                   final_estimator=LinearRegression()))])</pre><b>Please rerun this cell to show the HTML repr or trust the notebook.</b></div><div class=\"sk-container\" hidden><div class=\"sk-item sk-dashed-wrapped\"><div class=\"sk-label-container\"><div class=\"sk-label sk-toggleable\"><input class=\"sk-toggleable__control sk-hidden--visually\" id=\"8f5e48e0-044a-4dac-8c27-7f16109d2707\" type=\"checkbox\" ><label for=\"8f5e48e0-044a-4dac-8c27-7f16109d2707\" class=\"sk-toggleable__label sk-toggleable__label-arrow\">Pipeline</label><div class=\"sk-toggleable__content\"><pre>Pipeline(steps=[(&#x27;Scaler&#x27;, RobustScaler()),\n",
       "                (&#x27;Stacking&#x27;,\n",
       "                 StackingRegressor(estimators=[(&#x27;LineReg&#x27;, LinearRegression()),\n",
       "                                               (&#x27;XGB&#x27;,\n",
       "                                                XGBRegressor(base_score=None,\n",
       "                                                             booster=None,\n",
       "                                                             colsample_bylevel=None,\n",
       "                                                             colsample_bynode=None,\n",
       "                                                             colsample_bytree=None,\n",
       "                                                             enable_categorical=False,\n",
       "                                                             gamma=None,\n",
       "                                                             gpu_id=None,\n",
       "                                                             importance_type=None,\n",
       "                                                             interaction_constraints=None,\n",
       "                                                             learning_rate=None,\n",
       "                                                             max_delta_step=None,\n",
       "                                                             max_depth=None,\n",
       "                                                             min_child_weight=None,\n",
       "                                                             missing=nan,\n",
       "                                                             monotone_constraints=None,\n",
       "                                                             n_estimators=100,\n",
       "                                                             n_jobs=None,\n",
       "                                                             num_parallel_tree=None,\n",
       "                                                             predictor=None,\n",
       "                                                             random_state=None,\n",
       "                                                             reg_alpha=None,\n",
       "                                                             reg_lambda=None,\n",
       "                                                             scale_pos_weight=None,\n",
       "                                                             subsample=None,\n",
       "                                                             tree_method=None,\n",
       "                                                             validate_parameters=None,\n",
       "                                                             verbosity=None))],\n",
       "                                   final_estimator=LinearRegression()))])</pre></div></div></div><div class=\"sk-serial\"><div class=\"sk-item\"><div class=\"sk-estimator sk-toggleable\"><input class=\"sk-toggleable__control sk-hidden--visually\" id=\"05e2b03d-2ca4-47bb-95c5-8d4a10c68460\" type=\"checkbox\" ><label for=\"05e2b03d-2ca4-47bb-95c5-8d4a10c68460\" class=\"sk-toggleable__label sk-toggleable__label-arrow\">RobustScaler</label><div class=\"sk-toggleable__content\"><pre>RobustScaler()</pre></div></div></div><div class=\"sk-item\"><div class=\"sk-label-container\"><div class=\"sk-label sk-toggleable\"><input class=\"sk-toggleable__control sk-hidden--visually\" id=\"d0f0ba7e-3f3c-4538-ae99-4818aa7c9dda\" type=\"checkbox\" ><label for=\"d0f0ba7e-3f3c-4538-ae99-4818aa7c9dda\" class=\"sk-toggleable__label sk-toggleable__label-arrow\">Stacking: StackingRegressor</label><div class=\"sk-toggleable__content\"><pre>StackingRegressor(estimators=[(&#x27;LineReg&#x27;, LinearRegression()),\n",
       "                              (&#x27;XGB&#x27;,\n",
       "                               XGBRegressor(base_score=None, booster=None,\n",
       "                                            colsample_bylevel=None,\n",
       "                                            colsample_bynode=None,\n",
       "                                            colsample_bytree=None,\n",
       "                                            enable_categorical=False,\n",
       "                                            gamma=None, gpu_id=None,\n",
       "                                            importance_type=None,\n",
       "                                            interaction_constraints=None,\n",
       "                                            learning_rate=None,\n",
       "                                            max_delta_step=None, max_depth=None,\n",
       "                                            min_child_weight=None, missing=nan,\n",
       "                                            monotone_constraints=None,\n",
       "                                            n_estimators=100, n_jobs=None,\n",
       "                                            num_parallel_tree=None,\n",
       "                                            predictor=None, random_state=None,\n",
       "                                            reg_alpha=None, reg_lambda=None,\n",
       "                                            scale_pos_weight=None,\n",
       "                                            subsample=None, tree_method=None,\n",
       "                                            validate_parameters=None,\n",
       "                                            verbosity=None))],\n",
       "                  final_estimator=LinearRegression())</pre></div></div></div><div class=\"sk-serial\"><div class=\"sk-item\"><div class=\"sk-parallel\"><div class=\"sk-parallel-item\"><div class=\"sk-item\"><div class=\"sk-label-container\"><div class=\"sk-label sk-toggleable\"><label>LineReg</label></div></div><div class=\"sk-serial\"><div class=\"sk-item\"><div class=\"sk-estimator sk-toggleable\"><input class=\"sk-toggleable__control sk-hidden--visually\" id=\"e4575d59-82c3-4935-b3ca-4ac34e0e2a9a\" type=\"checkbox\" ><label for=\"e4575d59-82c3-4935-b3ca-4ac34e0e2a9a\" class=\"sk-toggleable__label sk-toggleable__label-arrow\">LinearRegression</label><div class=\"sk-toggleable__content\"><pre>LinearRegression()</pre></div></div></div></div></div></div><div class=\"sk-parallel-item\"><div class=\"sk-item\"><div class=\"sk-label-container\"><div class=\"sk-label sk-toggleable\"><label>XGB</label></div></div><div class=\"sk-serial\"><div class=\"sk-item\"><div class=\"sk-estimator sk-toggleable\"><input class=\"sk-toggleable__control sk-hidden--visually\" id=\"195ecefe-d04e-4365-a605-07a89e780e25\" type=\"checkbox\" ><label for=\"195ecefe-d04e-4365-a605-07a89e780e25\" class=\"sk-toggleable__label sk-toggleable__label-arrow\">XGBRegressor</label><div class=\"sk-toggleable__content\"><pre>XGBRegressor(base_score=None, booster=None, colsample_bylevel=None,\n",
       "             colsample_bynode=None, colsample_bytree=None,\n",
       "             enable_categorical=False, gamma=None, gpu_id=None,\n",
       "             importance_type=None, interaction_constraints=None,\n",
       "             learning_rate=None, max_delta_step=None, max_depth=None,\n",
       "             min_child_weight=None, missing=nan, monotone_constraints=None,\n",
       "             n_estimators=100, n_jobs=None, num_parallel_tree=None,\n",
       "             predictor=None, random_state=None, reg_alpha=None, reg_lambda=None,\n",
       "             scale_pos_weight=None, subsample=None, tree_method=None,\n",
       "             validate_parameters=None, verbosity=None)</pre></div></div></div></div></div></div></div></div><div class=\"sk-item\"><div class=\"sk-parallel\"><div class=\"sk-parallel-item\"><div class=\"sk-item\"><div class=\"sk-label-container\"><div class=\"sk-label sk-toggleable\"><label>final_estimator</label></div></div><div class=\"sk-serial\"><div class=\"sk-item\"><div class=\"sk-estimator sk-toggleable\"><input class=\"sk-toggleable__control sk-hidden--visually\" id=\"a31681da-6324-458d-9e84-56b3f899589d\" type=\"checkbox\" ><label for=\"a31681da-6324-458d-9e84-56b3f899589d\" class=\"sk-toggleable__label sk-toggleable__label-arrow\">LinearRegression</label><div class=\"sk-toggleable__content\"><pre>LinearRegression()</pre></div></div></div></div></div></div></div></div></div></div></div></div></div></div>"
      ],
      "text/plain": [
       "Pipeline(steps=[('Scaler', RobustScaler()),\n",
       "                ('Stacking',\n",
       "                 StackingRegressor(estimators=[('LineReg', LinearRegression()),\n",
       "                                               ('XGB',\n",
       "                                                XGBRegressor(base_score=None,\n",
       "                                                             booster=None,\n",
       "                                                             colsample_bylevel=None,\n",
       "                                                             colsample_bynode=None,\n",
       "                                                             colsample_bytree=None,\n",
       "                                                             enable_categorical=False,\n",
       "                                                             gamma=None,\n",
       "                                                             gpu_id=None,\n",
       "                                                             importance_type=None,\n",
       "                                                             interaction_constraints=None,\n",
       "                                                             learning_rate=None,\n",
       "                                                             max_delta_step=None,\n",
       "                                                             max_depth=None,\n",
       "                                                             min_child_weight=None,\n",
       "                                                             missing=nan,\n",
       "                                                             monotone_constraints=None,\n",
       "                                                             n_estimators=100,\n",
       "                                                             n_jobs=None,\n",
       "                                                             num_parallel_tree=None,\n",
       "                                                             predictor=None,\n",
       "                                                             random_state=None,\n",
       "                                                             reg_alpha=None,\n",
       "                                                             reg_lambda=None,\n",
       "                                                             scale_pos_weight=None,\n",
       "                                                             subsample=None,\n",
       "                                                             tree_method=None,\n",
       "                                                             validate_parameters=None,\n",
       "                                                             verbosity=None))],\n",
       "                                   final_estimator=LinearRegression()))])"
      ]
     },
     "execution_count": 351,
     "metadata": {},
     "output_type": "execute_result"
    }
   ],
   "source": [
    "pipe.fit(X_train, y_train)"
   ]
  },
  {
   "cell_type": "code",
   "execution_count": 352,
   "id": "4f17a1ea",
   "metadata": {
    "ExecuteTime": {
     "end_time": "2022-03-08T09:25:24.179012Z",
     "start_time": "2022-03-08T09:25:24.159019Z"
    }
   },
   "outputs": [
    {
     "data": {
      "text/plain": [
       "53336.32355497118"
      ]
     },
     "execution_count": 352,
     "metadata": {},
     "output_type": "execute_result"
    }
   ],
   "source": [
    "mean_absolute_error(y_test,pipe.predict(X_test))"
   ]
  },
  {
   "cell_type": "code",
   "execution_count": 282,
   "id": "cff7925c",
   "metadata": {
    "ExecuteTime": {
     "end_time": "2022-03-08T08:44:39.444637Z",
     "start_time": "2022-03-08T08:44:39.407996Z"
    },
    "scrolled": true
   },
   "outputs": [
    {
     "data": {
      "text/plain": [
       "['dpt_10',\n",
       " 'dpt_11',\n",
       " 'dpt_12',\n",
       " 'dpt_13',\n",
       " 'dpt_14',\n",
       " 'dpt_15',\n",
       " 'dpt_16',\n",
       " 'dpt_17',\n",
       " 'dpt_18',\n",
       " 'dpt_19',\n",
       " 'dpt_2',\n",
       " 'dpt_20',\n",
       " 'dpt_21',\n",
       " 'dpt_22',\n",
       " 'dpt_23',\n",
       " 'dpt_24',\n",
       " 'dpt_25',\n",
       " 'dpt_26',\n",
       " 'dpt_27',\n",
       " 'dpt_28',\n",
       " 'dpt_29',\n",
       " 'dpt_3',\n",
       " 'dpt_30',\n",
       " 'dpt_31',\n",
       " 'dpt_32',\n",
       " 'dpt_33',\n",
       " 'dpt_34',\n",
       " 'dpt_35',\n",
       " 'dpt_36',\n",
       " 'dpt_37',\n",
       " 'dpt_38',\n",
       " 'dpt_39',\n",
       " 'dpt_4',\n",
       " 'dpt_40',\n",
       " 'dpt_41',\n",
       " 'dpt_42',\n",
       " 'dpt_43',\n",
       " 'dpt_44',\n",
       " 'dpt_45',\n",
       " 'dpt_46',\n",
       " 'dpt_47',\n",
       " 'dpt_48',\n",
       " 'dpt_49',\n",
       " 'dpt_5',\n",
       " 'dpt_50',\n",
       " 'dpt_51',\n",
       " 'dpt_52',\n",
       " 'dpt_53',\n",
       " 'dpt_54',\n",
       " 'dpt_55',\n",
       " 'dpt_56',\n",
       " 'dpt_57',\n",
       " 'dpt_58',\n",
       " 'dpt_59',\n",
       " 'dpt_6',\n",
       " 'dpt_60',\n",
       " 'dpt_61',\n",
       " 'dpt_62',\n",
       " 'dpt_63',\n",
       " 'dpt_64',\n",
       " 'dpt_65',\n",
       " 'dpt_66',\n",
       " 'dpt_67',\n",
       " 'dpt_68',\n",
       " 'dpt_69',\n",
       " 'dpt_7',\n",
       " 'dpt_70',\n",
       " 'dpt_71',\n",
       " 'dpt_72',\n",
       " 'dpt_73',\n",
       " 'dpt_74',\n",
       " 'dpt_76',\n",
       " 'dpt_77',\n",
       " 'dpt_78',\n",
       " 'dpt_79',\n",
       " 'dpt_8',\n",
       " 'dpt_80',\n",
       " 'dpt_81',\n",
       " 'dpt_82',\n",
       " 'dpt_83',\n",
       " 'dpt_84',\n",
       " 'dpt_85',\n",
       " 'dpt_86',\n",
       " 'dpt_87',\n",
       " 'dpt_88',\n",
       " 'dpt_89',\n",
       " 'dpt_9',\n",
       " 'dpt_90',\n",
       " 'dpt_91',\n",
       " 'dpt_93',\n",
       " 'dpt_94',\n",
       " 'dpt_95',\n",
       " 'Production',\n",
       " 'RatioSep',\n",
       " 'tmax_c 09_n-1',\n",
       " 'tmin_c 11_n-1',\n",
       " 'humidity_pct 03',\n",
       " 'snow_mm 04',\n",
       " 'snow_mm 09_n-1',\n",
       " 'snow_mm 10_n-1',\n",
       " 'tmax_deg 04',\n",
       " 'tmin_deg 10_n-1']"
      ]
     },
     "execution_count": 282,
     "metadata": {},
     "output_type": "execute_result"
    }
   ],
   "source": [
    "best_features"
   ]
  },
  {
   "cell_type": "markdown",
   "id": "b4c385be",
   "metadata": {},
   "source": [
    "## Avec juste les best features"
   ]
  },
  {
   "cell_type": "code",
   "execution_count": 287,
   "id": "e89045ab",
   "metadata": {
    "ExecuteTime": {
     "end_time": "2022-03-08T08:48:14.409961Z",
     "start_time": "2022-03-08T08:48:14.381392Z"
    }
   },
   "outputs": [],
   "source": [
    "ensemble = StackingRegressor(\n",
    "    estimators = [\n",
    "                (\"Line\", LinearRegression()),\n",
    "                  (\"XGB\", XGBRegressor())],\n",
    "    final_estimator = LinearRegression())\n",
    "pipe=Pipeline([('Scaler',RobustScaler()),\n",
    "     ('Stacking',ensemble)])"
   ]
  },
  {
   "cell_type": "code",
   "execution_count": 288,
   "id": "a6deb78d",
   "metadata": {
    "ExecuteTime": {
     "end_time": "2022-03-08T08:48:15.119246Z",
     "start_time": "2022-03-08T08:48:15.100332Z"
    }
   },
   "outputs": [],
   "source": [
    "X_test=full_df[best_features].iloc[-93:].drop(columns=['Production'])\n",
    "#X_test=full_df[best_features].iloc[-93:][['Surface_n-1','Agriculteur','windspeed_max sept-jan_n-1']]\n",
    "y_test=full_df[best_features].iloc[-93:]['Production']\n",
    "X_train=full_df[best_features].iloc[:-93].drop(columns=['Production'])\n",
    "#X_train=full_df[best_features].iloc[:-93][['Surface_n-1','Agriculteur','windspeed_max sept-jan_n-1']]\n",
    "y_train=full_df[best_features].iloc[:-93]['Production']"
   ]
  },
  {
   "cell_type": "code",
   "execution_count": 289,
   "id": "e1afae70",
   "metadata": {
    "ExecuteTime": {
     "end_time": "2022-03-08T08:48:17.683813Z",
     "start_time": "2022-03-08T08:48:15.819784Z"
    }
   },
   "outputs": [
    {
     "data": {
      "text/html": [
       "<style>#sk-f0038600-9664-4dd4-aa62-1fad33ba5eb5 {color: black;background-color: white;}#sk-f0038600-9664-4dd4-aa62-1fad33ba5eb5 pre{padding: 0;}#sk-f0038600-9664-4dd4-aa62-1fad33ba5eb5 div.sk-toggleable {background-color: white;}#sk-f0038600-9664-4dd4-aa62-1fad33ba5eb5 label.sk-toggleable__label {cursor: pointer;display: block;width: 100%;margin-bottom: 0;padding: 0.3em;box-sizing: border-box;text-align: center;}#sk-f0038600-9664-4dd4-aa62-1fad33ba5eb5 label.sk-toggleable__label-arrow:before {content: \"▸\";float: left;margin-right: 0.25em;color: #696969;}#sk-f0038600-9664-4dd4-aa62-1fad33ba5eb5 label.sk-toggleable__label-arrow:hover:before {color: black;}#sk-f0038600-9664-4dd4-aa62-1fad33ba5eb5 div.sk-estimator:hover label.sk-toggleable__label-arrow:before {color: black;}#sk-f0038600-9664-4dd4-aa62-1fad33ba5eb5 div.sk-toggleable__content {max-height: 0;max-width: 0;overflow: hidden;text-align: left;background-color: #f0f8ff;}#sk-f0038600-9664-4dd4-aa62-1fad33ba5eb5 div.sk-toggleable__content pre {margin: 0.2em;color: black;border-radius: 0.25em;background-color: #f0f8ff;}#sk-f0038600-9664-4dd4-aa62-1fad33ba5eb5 input.sk-toggleable__control:checked~div.sk-toggleable__content {max-height: 200px;max-width: 100%;overflow: auto;}#sk-f0038600-9664-4dd4-aa62-1fad33ba5eb5 input.sk-toggleable__control:checked~label.sk-toggleable__label-arrow:before {content: \"▾\";}#sk-f0038600-9664-4dd4-aa62-1fad33ba5eb5 div.sk-estimator input.sk-toggleable__control:checked~label.sk-toggleable__label {background-color: #d4ebff;}#sk-f0038600-9664-4dd4-aa62-1fad33ba5eb5 div.sk-label input.sk-toggleable__control:checked~label.sk-toggleable__label {background-color: #d4ebff;}#sk-f0038600-9664-4dd4-aa62-1fad33ba5eb5 input.sk-hidden--visually {border: 0;clip: rect(1px 1px 1px 1px);clip: rect(1px, 1px, 1px, 1px);height: 1px;margin: -1px;overflow: hidden;padding: 0;position: absolute;width: 1px;}#sk-f0038600-9664-4dd4-aa62-1fad33ba5eb5 div.sk-estimator {font-family: monospace;background-color: #f0f8ff;border: 1px dotted black;border-radius: 0.25em;box-sizing: border-box;margin-bottom: 0.5em;}#sk-f0038600-9664-4dd4-aa62-1fad33ba5eb5 div.sk-estimator:hover {background-color: #d4ebff;}#sk-f0038600-9664-4dd4-aa62-1fad33ba5eb5 div.sk-parallel-item::after {content: \"\";width: 100%;border-bottom: 1px solid gray;flex-grow: 1;}#sk-f0038600-9664-4dd4-aa62-1fad33ba5eb5 div.sk-label:hover label.sk-toggleable__label {background-color: #d4ebff;}#sk-f0038600-9664-4dd4-aa62-1fad33ba5eb5 div.sk-serial::before {content: \"\";position: absolute;border-left: 1px solid gray;box-sizing: border-box;top: 2em;bottom: 0;left: 50%;}#sk-f0038600-9664-4dd4-aa62-1fad33ba5eb5 div.sk-serial {display: flex;flex-direction: column;align-items: center;background-color: white;padding-right: 0.2em;padding-left: 0.2em;}#sk-f0038600-9664-4dd4-aa62-1fad33ba5eb5 div.sk-item {z-index: 1;}#sk-f0038600-9664-4dd4-aa62-1fad33ba5eb5 div.sk-parallel {display: flex;align-items: stretch;justify-content: center;background-color: white;}#sk-f0038600-9664-4dd4-aa62-1fad33ba5eb5 div.sk-parallel::before {content: \"\";position: absolute;border-left: 1px solid gray;box-sizing: border-box;top: 2em;bottom: 0;left: 50%;}#sk-f0038600-9664-4dd4-aa62-1fad33ba5eb5 div.sk-parallel-item {display: flex;flex-direction: column;position: relative;background-color: white;}#sk-f0038600-9664-4dd4-aa62-1fad33ba5eb5 div.sk-parallel-item:first-child::after {align-self: flex-end;width: 50%;}#sk-f0038600-9664-4dd4-aa62-1fad33ba5eb5 div.sk-parallel-item:last-child::after {align-self: flex-start;width: 50%;}#sk-f0038600-9664-4dd4-aa62-1fad33ba5eb5 div.sk-parallel-item:only-child::after {width: 0;}#sk-f0038600-9664-4dd4-aa62-1fad33ba5eb5 div.sk-dashed-wrapped {border: 1px dashed gray;margin: 0 0.4em 0.5em 0.4em;box-sizing: border-box;padding-bottom: 0.4em;background-color: white;position: relative;}#sk-f0038600-9664-4dd4-aa62-1fad33ba5eb5 div.sk-label label {font-family: monospace;font-weight: bold;background-color: white;display: inline-block;line-height: 1.2em;}#sk-f0038600-9664-4dd4-aa62-1fad33ba5eb5 div.sk-label-container {position: relative;z-index: 2;text-align: center;}#sk-f0038600-9664-4dd4-aa62-1fad33ba5eb5 div.sk-container {/* jupyter's `normalize.less` sets `[hidden] { display: none; }` but bootstrap.min.css set `[hidden] { display: none !important; }` so we also need the `!important` here to be able to override the default hidden behavior on the sphinx rendered scikit-learn.org. See: https://github.com/scikit-learn/scikit-learn/issues/21755 */display: inline-block !important;position: relative;}#sk-f0038600-9664-4dd4-aa62-1fad33ba5eb5 div.sk-text-repr-fallback {display: none;}</style><div id=\"sk-f0038600-9664-4dd4-aa62-1fad33ba5eb5\" class=\"sk-top-container\"><div class=\"sk-text-repr-fallback\"><pre>Pipeline(steps=[(&#x27;Scaler&#x27;, RobustScaler()),\n",
       "                (&#x27;Stacking&#x27;,\n",
       "                 StackingRegressor(estimators=[(&#x27;Line&#x27;, LinearRegression()),\n",
       "                                               (&#x27;XGB&#x27;,\n",
       "                                                XGBRegressor(base_score=None,\n",
       "                                                             booster=None,\n",
       "                                                             colsample_bylevel=None,\n",
       "                                                             colsample_bynode=None,\n",
       "                                                             colsample_bytree=None,\n",
       "                                                             enable_categorical=False,\n",
       "                                                             gamma=None,\n",
       "                                                             gpu_id=None,\n",
       "                                                             importance_type=None,\n",
       "                                                             interaction_constraints=None,\n",
       "                                                             learning_rate=None,\n",
       "                                                             max_delta_step=None,\n",
       "                                                             max_depth=None,\n",
       "                                                             min_child_weight=None,\n",
       "                                                             missing=nan,\n",
       "                                                             monotone_constraints=None,\n",
       "                                                             n_estimators=100,\n",
       "                                                             n_jobs=None,\n",
       "                                                             num_parallel_tree=None,\n",
       "                                                             predictor=None,\n",
       "                                                             random_state=None,\n",
       "                                                             reg_alpha=None,\n",
       "                                                             reg_lambda=None,\n",
       "                                                             scale_pos_weight=None,\n",
       "                                                             subsample=None,\n",
       "                                                             tree_method=None,\n",
       "                                                             validate_parameters=None,\n",
       "                                                             verbosity=None))],\n",
       "                                   final_estimator=LinearRegression()))])</pre><b>Please rerun this cell to show the HTML repr or trust the notebook.</b></div><div class=\"sk-container\" hidden><div class=\"sk-item sk-dashed-wrapped\"><div class=\"sk-label-container\"><div class=\"sk-label sk-toggleable\"><input class=\"sk-toggleable__control sk-hidden--visually\" id=\"bb03404c-207e-4bbd-ab00-b43106c4fa10\" type=\"checkbox\" ><label for=\"bb03404c-207e-4bbd-ab00-b43106c4fa10\" class=\"sk-toggleable__label sk-toggleable__label-arrow\">Pipeline</label><div class=\"sk-toggleable__content\"><pre>Pipeline(steps=[(&#x27;Scaler&#x27;, RobustScaler()),\n",
       "                (&#x27;Stacking&#x27;,\n",
       "                 StackingRegressor(estimators=[(&#x27;Line&#x27;, LinearRegression()),\n",
       "                                               (&#x27;XGB&#x27;,\n",
       "                                                XGBRegressor(base_score=None,\n",
       "                                                             booster=None,\n",
       "                                                             colsample_bylevel=None,\n",
       "                                                             colsample_bynode=None,\n",
       "                                                             colsample_bytree=None,\n",
       "                                                             enable_categorical=False,\n",
       "                                                             gamma=None,\n",
       "                                                             gpu_id=None,\n",
       "                                                             importance_type=None,\n",
       "                                                             interaction_constraints=None,\n",
       "                                                             learning_rate=None,\n",
       "                                                             max_delta_step=None,\n",
       "                                                             max_depth=None,\n",
       "                                                             min_child_weight=None,\n",
       "                                                             missing=nan,\n",
       "                                                             monotone_constraints=None,\n",
       "                                                             n_estimators=100,\n",
       "                                                             n_jobs=None,\n",
       "                                                             num_parallel_tree=None,\n",
       "                                                             predictor=None,\n",
       "                                                             random_state=None,\n",
       "                                                             reg_alpha=None,\n",
       "                                                             reg_lambda=None,\n",
       "                                                             scale_pos_weight=None,\n",
       "                                                             subsample=None,\n",
       "                                                             tree_method=None,\n",
       "                                                             validate_parameters=None,\n",
       "                                                             verbosity=None))],\n",
       "                                   final_estimator=LinearRegression()))])</pre></div></div></div><div class=\"sk-serial\"><div class=\"sk-item\"><div class=\"sk-estimator sk-toggleable\"><input class=\"sk-toggleable__control sk-hidden--visually\" id=\"7d9f59fb-92e3-43d0-8f27-b54bf573768e\" type=\"checkbox\" ><label for=\"7d9f59fb-92e3-43d0-8f27-b54bf573768e\" class=\"sk-toggleable__label sk-toggleable__label-arrow\">RobustScaler</label><div class=\"sk-toggleable__content\"><pre>RobustScaler()</pre></div></div></div><div class=\"sk-item\"><div class=\"sk-label-container\"><div class=\"sk-label sk-toggleable\"><input class=\"sk-toggleable__control sk-hidden--visually\" id=\"023909e1-93b2-450a-a7e8-876004fe362b\" type=\"checkbox\" ><label for=\"023909e1-93b2-450a-a7e8-876004fe362b\" class=\"sk-toggleable__label sk-toggleable__label-arrow\">Stacking: StackingRegressor</label><div class=\"sk-toggleable__content\"><pre>StackingRegressor(estimators=[(&#x27;Line&#x27;, LinearRegression()),\n",
       "                              (&#x27;XGB&#x27;,\n",
       "                               XGBRegressor(base_score=None, booster=None,\n",
       "                                            colsample_bylevel=None,\n",
       "                                            colsample_bynode=None,\n",
       "                                            colsample_bytree=None,\n",
       "                                            enable_categorical=False,\n",
       "                                            gamma=None, gpu_id=None,\n",
       "                                            importance_type=None,\n",
       "                                            interaction_constraints=None,\n",
       "                                            learning_rate=None,\n",
       "                                            max_delta_step=None, max_depth=None,\n",
       "                                            min_child_weight=None, missing=nan,\n",
       "                                            monotone_constraints=None,\n",
       "                                            n_estimators=100, n_jobs=None,\n",
       "                                            num_parallel_tree=None,\n",
       "                                            predictor=None, random_state=None,\n",
       "                                            reg_alpha=None, reg_lambda=None,\n",
       "                                            scale_pos_weight=None,\n",
       "                                            subsample=None, tree_method=None,\n",
       "                                            validate_parameters=None,\n",
       "                                            verbosity=None))],\n",
       "                  final_estimator=LinearRegression())</pre></div></div></div><div class=\"sk-serial\"><div class=\"sk-item\"><div class=\"sk-parallel\"><div class=\"sk-parallel-item\"><div class=\"sk-item\"><div class=\"sk-label-container\"><div class=\"sk-label sk-toggleable\"><label>Line</label></div></div><div class=\"sk-serial\"><div class=\"sk-item\"><div class=\"sk-estimator sk-toggleable\"><input class=\"sk-toggleable__control sk-hidden--visually\" id=\"cc043850-af4c-4812-ab9c-48b14cf3960f\" type=\"checkbox\" ><label for=\"cc043850-af4c-4812-ab9c-48b14cf3960f\" class=\"sk-toggleable__label sk-toggleable__label-arrow\">LinearRegression</label><div class=\"sk-toggleable__content\"><pre>LinearRegression()</pre></div></div></div></div></div></div><div class=\"sk-parallel-item\"><div class=\"sk-item\"><div class=\"sk-label-container\"><div class=\"sk-label sk-toggleable\"><label>XGB</label></div></div><div class=\"sk-serial\"><div class=\"sk-item\"><div class=\"sk-estimator sk-toggleable\"><input class=\"sk-toggleable__control sk-hidden--visually\" id=\"b67fd616-c43c-4b6a-b435-e6399f8ddd80\" type=\"checkbox\" ><label for=\"b67fd616-c43c-4b6a-b435-e6399f8ddd80\" class=\"sk-toggleable__label sk-toggleable__label-arrow\">XGBRegressor</label><div class=\"sk-toggleable__content\"><pre>XGBRegressor(base_score=None, booster=None, colsample_bylevel=None,\n",
       "             colsample_bynode=None, colsample_bytree=None,\n",
       "             enable_categorical=False, gamma=None, gpu_id=None,\n",
       "             importance_type=None, interaction_constraints=None,\n",
       "             learning_rate=None, max_delta_step=None, max_depth=None,\n",
       "             min_child_weight=None, missing=nan, monotone_constraints=None,\n",
       "             n_estimators=100, n_jobs=None, num_parallel_tree=None,\n",
       "             predictor=None, random_state=None, reg_alpha=None, reg_lambda=None,\n",
       "             scale_pos_weight=None, subsample=None, tree_method=None,\n",
       "             validate_parameters=None, verbosity=None)</pre></div></div></div></div></div></div></div></div><div class=\"sk-item\"><div class=\"sk-parallel\"><div class=\"sk-parallel-item\"><div class=\"sk-item\"><div class=\"sk-label-container\"><div class=\"sk-label sk-toggleable\"><label>final_estimator</label></div></div><div class=\"sk-serial\"><div class=\"sk-item\"><div class=\"sk-estimator sk-toggleable\"><input class=\"sk-toggleable__control sk-hidden--visually\" id=\"1fab47c4-c272-475f-ad84-afa1649630a0\" type=\"checkbox\" ><label for=\"1fab47c4-c272-475f-ad84-afa1649630a0\" class=\"sk-toggleable__label sk-toggleable__label-arrow\">LinearRegression</label><div class=\"sk-toggleable__content\"><pre>LinearRegression()</pre></div></div></div></div></div></div></div></div></div></div></div></div></div></div>"
      ],
      "text/plain": [
       "Pipeline(steps=[('Scaler', RobustScaler()),\n",
       "                ('Stacking',\n",
       "                 StackingRegressor(estimators=[('Line', LinearRegression()),\n",
       "                                               ('XGB',\n",
       "                                                XGBRegressor(base_score=None,\n",
       "                                                             booster=None,\n",
       "                                                             colsample_bylevel=None,\n",
       "                                                             colsample_bynode=None,\n",
       "                                                             colsample_bytree=None,\n",
       "                                                             enable_categorical=False,\n",
       "                                                             gamma=None,\n",
       "                                                             gpu_id=None,\n",
       "                                                             importance_type=None,\n",
       "                                                             interaction_constraints=None,\n",
       "                                                             learning_rate=None,\n",
       "                                                             max_delta_step=None,\n",
       "                                                             max_depth=None,\n",
       "                                                             min_child_weight=None,\n",
       "                                                             missing=nan,\n",
       "                                                             monotone_constraints=None,\n",
       "                                                             n_estimators=100,\n",
       "                                                             n_jobs=None,\n",
       "                                                             num_parallel_tree=None,\n",
       "                                                             predictor=None,\n",
       "                                                             random_state=None,\n",
       "                                                             reg_alpha=None,\n",
       "                                                             reg_lambda=None,\n",
       "                                                             scale_pos_weight=None,\n",
       "                                                             subsample=None,\n",
       "                                                             tree_method=None,\n",
       "                                                             validate_parameters=None,\n",
       "                                                             verbosity=None))],\n",
       "                                   final_estimator=LinearRegression()))])"
      ]
     },
     "execution_count": 289,
     "metadata": {},
     "output_type": "execute_result"
    }
   ],
   "source": [
    "pipe.fit(X_train,y_train)"
   ]
  },
  {
   "cell_type": "code",
   "execution_count": 290,
   "id": "98aecc54",
   "metadata": {
    "ExecuteTime": {
     "end_time": "2022-03-08T08:48:18.403365Z",
     "start_time": "2022-03-08T08:48:18.382132Z"
    }
   },
   "outputs": [
    {
     "data": {
      "text/plain": [
       "23091.814148154685"
      ]
     },
     "execution_count": 290,
     "metadata": {},
     "output_type": "execute_result"
    }
   ],
   "source": [
    "mean_absolute_error(y_test,pipe.predict(X_test))"
   ]
  },
  {
   "cell_type": "markdown",
   "id": "d141287b",
   "metadata": {},
   "source": [
    "## Juste OHE"
   ]
  },
  {
   "cell_type": "code",
   "execution_count": 514,
   "id": "9386f87b",
   "metadata": {
    "ExecuteTime": {
     "end_time": "2022-03-08T13:05:51.120265Z",
     "start_time": "2022-03-08T13:05:51.088284Z"
    }
   },
   "outputs": [],
   "source": [
    "df_ohe=full_df.iloc[:,124:]\n",
    "df_ohe['Production']=full_df['Production']"
   ]
  },
  {
   "cell_type": "code",
   "execution_count": 515,
   "id": "9c90e607",
   "metadata": {
    "ExecuteTime": {
     "end_time": "2022-03-08T13:05:52.226553Z",
     "start_time": "2022-03-08T13:05:52.210106Z"
    }
   },
   "outputs": [],
   "source": [
    "ensemble = StackingRegressor(\n",
    "    estimators = [\n",
    "                (\"Line\", LinearRegression()),\n",
    "                  (\"XGB\", XGBRegressor())],\n",
    "    final_estimator = LinearRegression())\n",
    "pipe=Pipeline([('Scaler',RobustScaler()),\n",
    "     ('Stacking',ensemble)])"
   ]
  },
  {
   "cell_type": "code",
   "execution_count": 516,
   "id": "308a49c5",
   "metadata": {
    "ExecuteTime": {
     "end_time": "2022-03-08T13:05:53.292672Z",
     "start_time": "2022-03-08T13:05:53.276722Z"
    }
   },
   "outputs": [],
   "source": [
    "X_test=df_ohe.iloc[-93:].drop(columns=['Production'])\n",
    "#X_test=df_ohe.iloc[-93:][['Surface_n-1','Agriculteur','windspeed_max sept-jan_n-1']]\n",
    "y_test=df_ohe.iloc[-93:]['Production']\n",
    "X_train=df_ohe.iloc[:-93].drop(columns=['Production'])\n",
    "#X_train=df_ohe.iloc[:-93][['Surface_n-1','Agriculteur','windspeed_max sept-jan_n-1']]\n",
    "y_train=df_ohe.iloc[:-93]['Production']"
   ]
  },
  {
   "cell_type": "code",
   "execution_count": 517,
   "id": "800d4d20",
   "metadata": {
    "ExecuteTime": {
     "end_time": "2022-03-08T13:05:56.094858Z",
     "start_time": "2022-03-08T13:05:54.331893Z"
    }
   },
   "outputs": [
    {
     "data": {
      "text/html": [
       "<style>#sk-515a6b16-fd03-4d40-b9c0-d879ef583850 {color: black;background-color: white;}#sk-515a6b16-fd03-4d40-b9c0-d879ef583850 pre{padding: 0;}#sk-515a6b16-fd03-4d40-b9c0-d879ef583850 div.sk-toggleable {background-color: white;}#sk-515a6b16-fd03-4d40-b9c0-d879ef583850 label.sk-toggleable__label {cursor: pointer;display: block;width: 100%;margin-bottom: 0;padding: 0.3em;box-sizing: border-box;text-align: center;}#sk-515a6b16-fd03-4d40-b9c0-d879ef583850 label.sk-toggleable__label-arrow:before {content: \"▸\";float: left;margin-right: 0.25em;color: #696969;}#sk-515a6b16-fd03-4d40-b9c0-d879ef583850 label.sk-toggleable__label-arrow:hover:before {color: black;}#sk-515a6b16-fd03-4d40-b9c0-d879ef583850 div.sk-estimator:hover label.sk-toggleable__label-arrow:before {color: black;}#sk-515a6b16-fd03-4d40-b9c0-d879ef583850 div.sk-toggleable__content {max-height: 0;max-width: 0;overflow: hidden;text-align: left;background-color: #f0f8ff;}#sk-515a6b16-fd03-4d40-b9c0-d879ef583850 div.sk-toggleable__content pre {margin: 0.2em;color: black;border-radius: 0.25em;background-color: #f0f8ff;}#sk-515a6b16-fd03-4d40-b9c0-d879ef583850 input.sk-toggleable__control:checked~div.sk-toggleable__content {max-height: 200px;max-width: 100%;overflow: auto;}#sk-515a6b16-fd03-4d40-b9c0-d879ef583850 input.sk-toggleable__control:checked~label.sk-toggleable__label-arrow:before {content: \"▾\";}#sk-515a6b16-fd03-4d40-b9c0-d879ef583850 div.sk-estimator input.sk-toggleable__control:checked~label.sk-toggleable__label {background-color: #d4ebff;}#sk-515a6b16-fd03-4d40-b9c0-d879ef583850 div.sk-label input.sk-toggleable__control:checked~label.sk-toggleable__label {background-color: #d4ebff;}#sk-515a6b16-fd03-4d40-b9c0-d879ef583850 input.sk-hidden--visually {border: 0;clip: rect(1px 1px 1px 1px);clip: rect(1px, 1px, 1px, 1px);height: 1px;margin: -1px;overflow: hidden;padding: 0;position: absolute;width: 1px;}#sk-515a6b16-fd03-4d40-b9c0-d879ef583850 div.sk-estimator {font-family: monospace;background-color: #f0f8ff;border: 1px dotted black;border-radius: 0.25em;box-sizing: border-box;margin-bottom: 0.5em;}#sk-515a6b16-fd03-4d40-b9c0-d879ef583850 div.sk-estimator:hover {background-color: #d4ebff;}#sk-515a6b16-fd03-4d40-b9c0-d879ef583850 div.sk-parallel-item::after {content: \"\";width: 100%;border-bottom: 1px solid gray;flex-grow: 1;}#sk-515a6b16-fd03-4d40-b9c0-d879ef583850 div.sk-label:hover label.sk-toggleable__label {background-color: #d4ebff;}#sk-515a6b16-fd03-4d40-b9c0-d879ef583850 div.sk-serial::before {content: \"\";position: absolute;border-left: 1px solid gray;box-sizing: border-box;top: 2em;bottom: 0;left: 50%;}#sk-515a6b16-fd03-4d40-b9c0-d879ef583850 div.sk-serial {display: flex;flex-direction: column;align-items: center;background-color: white;padding-right: 0.2em;padding-left: 0.2em;}#sk-515a6b16-fd03-4d40-b9c0-d879ef583850 div.sk-item {z-index: 1;}#sk-515a6b16-fd03-4d40-b9c0-d879ef583850 div.sk-parallel {display: flex;align-items: stretch;justify-content: center;background-color: white;}#sk-515a6b16-fd03-4d40-b9c0-d879ef583850 div.sk-parallel::before {content: \"\";position: absolute;border-left: 1px solid gray;box-sizing: border-box;top: 2em;bottom: 0;left: 50%;}#sk-515a6b16-fd03-4d40-b9c0-d879ef583850 div.sk-parallel-item {display: flex;flex-direction: column;position: relative;background-color: white;}#sk-515a6b16-fd03-4d40-b9c0-d879ef583850 div.sk-parallel-item:first-child::after {align-self: flex-end;width: 50%;}#sk-515a6b16-fd03-4d40-b9c0-d879ef583850 div.sk-parallel-item:last-child::after {align-self: flex-start;width: 50%;}#sk-515a6b16-fd03-4d40-b9c0-d879ef583850 div.sk-parallel-item:only-child::after {width: 0;}#sk-515a6b16-fd03-4d40-b9c0-d879ef583850 div.sk-dashed-wrapped {border: 1px dashed gray;margin: 0 0.4em 0.5em 0.4em;box-sizing: border-box;padding-bottom: 0.4em;background-color: white;position: relative;}#sk-515a6b16-fd03-4d40-b9c0-d879ef583850 div.sk-label label {font-family: monospace;font-weight: bold;background-color: white;display: inline-block;line-height: 1.2em;}#sk-515a6b16-fd03-4d40-b9c0-d879ef583850 div.sk-label-container {position: relative;z-index: 2;text-align: center;}#sk-515a6b16-fd03-4d40-b9c0-d879ef583850 div.sk-container {/* jupyter's `normalize.less` sets `[hidden] { display: none; }` but bootstrap.min.css set `[hidden] { display: none !important; }` so we also need the `!important` here to be able to override the default hidden behavior on the sphinx rendered scikit-learn.org. See: https://github.com/scikit-learn/scikit-learn/issues/21755 */display: inline-block !important;position: relative;}#sk-515a6b16-fd03-4d40-b9c0-d879ef583850 div.sk-text-repr-fallback {display: none;}</style><div id=\"sk-515a6b16-fd03-4d40-b9c0-d879ef583850\" class=\"sk-top-container\"><div class=\"sk-text-repr-fallback\"><pre>Pipeline(steps=[(&#x27;Scaler&#x27;, RobustScaler()),\n",
       "                (&#x27;Stacking&#x27;,\n",
       "                 StackingRegressor(estimators=[(&#x27;Line&#x27;, LinearRegression()),\n",
       "                                               (&#x27;XGB&#x27;,\n",
       "                                                XGBRegressor(base_score=None,\n",
       "                                                             booster=None,\n",
       "                                                             colsample_bylevel=None,\n",
       "                                                             colsample_bynode=None,\n",
       "                                                             colsample_bytree=None,\n",
       "                                                             enable_categorical=False,\n",
       "                                                             gamma=None,\n",
       "                                                             gpu_id=None,\n",
       "                                                             importance_type=None,\n",
       "                                                             interaction_constraints=None,\n",
       "                                                             learning_rate=None,\n",
       "                                                             max_delta_step=None,\n",
       "                                                             max_depth=None,\n",
       "                                                             min_child_weight=None,\n",
       "                                                             missing=nan,\n",
       "                                                             monotone_constraints=None,\n",
       "                                                             n_estimators=100,\n",
       "                                                             n_jobs=None,\n",
       "                                                             num_parallel_tree=None,\n",
       "                                                             predictor=None,\n",
       "                                                             random_state=None,\n",
       "                                                             reg_alpha=None,\n",
       "                                                             reg_lambda=None,\n",
       "                                                             scale_pos_weight=None,\n",
       "                                                             subsample=None,\n",
       "                                                             tree_method=None,\n",
       "                                                             validate_parameters=None,\n",
       "                                                             verbosity=None))],\n",
       "                                   final_estimator=LinearRegression()))])</pre><b>Please rerun this cell to show the HTML repr or trust the notebook.</b></div><div class=\"sk-container\" hidden><div class=\"sk-item sk-dashed-wrapped\"><div class=\"sk-label-container\"><div class=\"sk-label sk-toggleable\"><input class=\"sk-toggleable__control sk-hidden--visually\" id=\"abfcb333-005b-4125-adf3-5c78cf476364\" type=\"checkbox\" ><label for=\"abfcb333-005b-4125-adf3-5c78cf476364\" class=\"sk-toggleable__label sk-toggleable__label-arrow\">Pipeline</label><div class=\"sk-toggleable__content\"><pre>Pipeline(steps=[(&#x27;Scaler&#x27;, RobustScaler()),\n",
       "                (&#x27;Stacking&#x27;,\n",
       "                 StackingRegressor(estimators=[(&#x27;Line&#x27;, LinearRegression()),\n",
       "                                               (&#x27;XGB&#x27;,\n",
       "                                                XGBRegressor(base_score=None,\n",
       "                                                             booster=None,\n",
       "                                                             colsample_bylevel=None,\n",
       "                                                             colsample_bynode=None,\n",
       "                                                             colsample_bytree=None,\n",
       "                                                             enable_categorical=False,\n",
       "                                                             gamma=None,\n",
       "                                                             gpu_id=None,\n",
       "                                                             importance_type=None,\n",
       "                                                             interaction_constraints=None,\n",
       "                                                             learning_rate=None,\n",
       "                                                             max_delta_step=None,\n",
       "                                                             max_depth=None,\n",
       "                                                             min_child_weight=None,\n",
       "                                                             missing=nan,\n",
       "                                                             monotone_constraints=None,\n",
       "                                                             n_estimators=100,\n",
       "                                                             n_jobs=None,\n",
       "                                                             num_parallel_tree=None,\n",
       "                                                             predictor=None,\n",
       "                                                             random_state=None,\n",
       "                                                             reg_alpha=None,\n",
       "                                                             reg_lambda=None,\n",
       "                                                             scale_pos_weight=None,\n",
       "                                                             subsample=None,\n",
       "                                                             tree_method=None,\n",
       "                                                             validate_parameters=None,\n",
       "                                                             verbosity=None))],\n",
       "                                   final_estimator=LinearRegression()))])</pre></div></div></div><div class=\"sk-serial\"><div class=\"sk-item\"><div class=\"sk-estimator sk-toggleable\"><input class=\"sk-toggleable__control sk-hidden--visually\" id=\"6e4841fc-dce6-454c-90ec-4291bea02641\" type=\"checkbox\" ><label for=\"6e4841fc-dce6-454c-90ec-4291bea02641\" class=\"sk-toggleable__label sk-toggleable__label-arrow\">RobustScaler</label><div class=\"sk-toggleable__content\"><pre>RobustScaler()</pre></div></div></div><div class=\"sk-item\"><div class=\"sk-label-container\"><div class=\"sk-label sk-toggleable\"><input class=\"sk-toggleable__control sk-hidden--visually\" id=\"d3310d9f-fceb-47c4-8918-4b5d9f5e0f1f\" type=\"checkbox\" ><label for=\"d3310d9f-fceb-47c4-8918-4b5d9f5e0f1f\" class=\"sk-toggleable__label sk-toggleable__label-arrow\">Stacking: StackingRegressor</label><div class=\"sk-toggleable__content\"><pre>StackingRegressor(estimators=[(&#x27;Line&#x27;, LinearRegression()),\n",
       "                              (&#x27;XGB&#x27;,\n",
       "                               XGBRegressor(base_score=None, booster=None,\n",
       "                                            colsample_bylevel=None,\n",
       "                                            colsample_bynode=None,\n",
       "                                            colsample_bytree=None,\n",
       "                                            enable_categorical=False,\n",
       "                                            gamma=None, gpu_id=None,\n",
       "                                            importance_type=None,\n",
       "                                            interaction_constraints=None,\n",
       "                                            learning_rate=None,\n",
       "                                            max_delta_step=None, max_depth=None,\n",
       "                                            min_child_weight=None, missing=nan,\n",
       "                                            monotone_constraints=None,\n",
       "                                            n_estimators=100, n_jobs=None,\n",
       "                                            num_parallel_tree=None,\n",
       "                                            predictor=None, random_state=None,\n",
       "                                            reg_alpha=None, reg_lambda=None,\n",
       "                                            scale_pos_weight=None,\n",
       "                                            subsample=None, tree_method=None,\n",
       "                                            validate_parameters=None,\n",
       "                                            verbosity=None))],\n",
       "                  final_estimator=LinearRegression())</pre></div></div></div><div class=\"sk-serial\"><div class=\"sk-item\"><div class=\"sk-parallel\"><div class=\"sk-parallel-item\"><div class=\"sk-item\"><div class=\"sk-label-container\"><div class=\"sk-label sk-toggleable\"><label>Line</label></div></div><div class=\"sk-serial\"><div class=\"sk-item\"><div class=\"sk-estimator sk-toggleable\"><input class=\"sk-toggleable__control sk-hidden--visually\" id=\"9ef4a3c9-b58d-49cc-8451-1556d3c231b5\" type=\"checkbox\" ><label for=\"9ef4a3c9-b58d-49cc-8451-1556d3c231b5\" class=\"sk-toggleable__label sk-toggleable__label-arrow\">LinearRegression</label><div class=\"sk-toggleable__content\"><pre>LinearRegression()</pre></div></div></div></div></div></div><div class=\"sk-parallel-item\"><div class=\"sk-item\"><div class=\"sk-label-container\"><div class=\"sk-label sk-toggleable\"><label>XGB</label></div></div><div class=\"sk-serial\"><div class=\"sk-item\"><div class=\"sk-estimator sk-toggleable\"><input class=\"sk-toggleable__control sk-hidden--visually\" id=\"79a69a60-2821-47fb-8fdb-ab4b616a74fa\" type=\"checkbox\" ><label for=\"79a69a60-2821-47fb-8fdb-ab4b616a74fa\" class=\"sk-toggleable__label sk-toggleable__label-arrow\">XGBRegressor</label><div class=\"sk-toggleable__content\"><pre>XGBRegressor(base_score=None, booster=None, colsample_bylevel=None,\n",
       "             colsample_bynode=None, colsample_bytree=None,\n",
       "             enable_categorical=False, gamma=None, gpu_id=None,\n",
       "             importance_type=None, interaction_constraints=None,\n",
       "             learning_rate=None, max_delta_step=None, max_depth=None,\n",
       "             min_child_weight=None, missing=nan, monotone_constraints=None,\n",
       "             n_estimators=100, n_jobs=None, num_parallel_tree=None,\n",
       "             predictor=None, random_state=None, reg_alpha=None, reg_lambda=None,\n",
       "             scale_pos_weight=None, subsample=None, tree_method=None,\n",
       "             validate_parameters=None, verbosity=None)</pre></div></div></div></div></div></div></div></div><div class=\"sk-item\"><div class=\"sk-parallel\"><div class=\"sk-parallel-item\"><div class=\"sk-item\"><div class=\"sk-label-container\"><div class=\"sk-label sk-toggleable\"><label>final_estimator</label></div></div><div class=\"sk-serial\"><div class=\"sk-item\"><div class=\"sk-estimator sk-toggleable\"><input class=\"sk-toggleable__control sk-hidden--visually\" id=\"f59f8a2a-fa54-4efd-9359-470df4df77c0\" type=\"checkbox\" ><label for=\"f59f8a2a-fa54-4efd-9359-470df4df77c0\" class=\"sk-toggleable__label sk-toggleable__label-arrow\">LinearRegression</label><div class=\"sk-toggleable__content\"><pre>LinearRegression()</pre></div></div></div></div></div></div></div></div></div></div></div></div></div></div>"
      ],
      "text/plain": [
       "Pipeline(steps=[('Scaler', RobustScaler()),\n",
       "                ('Stacking',\n",
       "                 StackingRegressor(estimators=[('Line', LinearRegression()),\n",
       "                                               ('XGB',\n",
       "                                                XGBRegressor(base_score=None,\n",
       "                                                             booster=None,\n",
       "                                                             colsample_bylevel=None,\n",
       "                                                             colsample_bynode=None,\n",
       "                                                             colsample_bytree=None,\n",
       "                                                             enable_categorical=False,\n",
       "                                                             gamma=None,\n",
       "                                                             gpu_id=None,\n",
       "                                                             importance_type=None,\n",
       "                                                             interaction_constraints=None,\n",
       "                                                             learning_rate=None,\n",
       "                                                             max_delta_step=None,\n",
       "                                                             max_depth=None,\n",
       "                                                             min_child_weight=None,\n",
       "                                                             missing=nan,\n",
       "                                                             monotone_constraints=None,\n",
       "                                                             n_estimators=100,\n",
       "                                                             n_jobs=None,\n",
       "                                                             num_parallel_tree=None,\n",
       "                                                             predictor=None,\n",
       "                                                             random_state=None,\n",
       "                                                             reg_alpha=None,\n",
       "                                                             reg_lambda=None,\n",
       "                                                             scale_pos_weight=None,\n",
       "                                                             subsample=None,\n",
       "                                                             tree_method=None,\n",
       "                                                             validate_parameters=None,\n",
       "                                                             verbosity=None))],\n",
       "                                   final_estimator=LinearRegression()))])"
      ]
     },
     "execution_count": 517,
     "metadata": {},
     "output_type": "execute_result"
    }
   ],
   "source": [
    "pipe.fit(X_train,y_train)"
   ]
  },
  {
   "cell_type": "code",
   "execution_count": 518,
   "id": "676ac6ff",
   "metadata": {
    "ExecuteTime": {
     "end_time": "2022-03-08T13:05:57.203340Z",
     "start_time": "2022-03-08T13:05:57.183743Z"
    }
   },
   "outputs": [
    {
     "data": {
      "text/plain": [
       "22163.81271399624"
      ]
     },
     "execution_count": 518,
     "metadata": {},
     "output_type": "execute_result"
    }
   ],
   "source": [
    "mean_absolute_error(y_test,pipe.predict(X_test))"
   ]
  },
  {
   "cell_type": "markdown",
   "id": "febf598b",
   "metadata": {},
   "source": [
    "# Rerun best features finding with stacking"
   ]
  },
  {
   "cell_type": "code",
   "execution_count": 519,
   "id": "12116f21",
   "metadata": {
    "ExecuteTime": {
     "end_time": "2022-03-08T13:06:03.525399Z",
     "start_time": "2022-03-08T13:06:03.491100Z"
    }
   },
   "outputs": [],
   "source": [
    "df_ohe=full_df.iloc[:,124:] #Reset du df_ohe\n",
    "df_ohe['Production']=full_df['Production']"
   ]
  },
  {
   "cell_type": "code",
   "execution_count": 520,
   "id": "c657a929",
   "metadata": {
    "ExecuteTime": {
     "end_time": "2022-03-08T13:10:23.785393Z",
     "start_time": "2022-03-08T13:06:04.619243Z"
    },
    "scrolled": true
   },
   "outputs": [
    {
     "name": "stdout",
     "output_type": "stream",
     "text": [
      "Test de Agriculteur\n",
      "Test de Production\n",
      "Test de RatioSep\n",
      "Test de RatioOct\n",
      "Test de Prix_matos\n",
      "Test de Prod_n-1\n",
      "Test de tmax_c 01\n",
      "Test de tmax_c 02\n",
      "Test de tmax_c 03\n",
      "Test de tmax_c 04\n",
      "Test de tmax_c 05\n",
      "Test de tmax_c 09_n-1\n",
      "Test de tmax_c 10_n-1\n",
      "22100.966097696222 tmax_c 10_n-1\n",
      "Test de tmax_c 11_n-1\n",
      "Test de tmax_c 12_n-1\n",
      "Test de tmin_c 01\n",
      "Test de tmin_c 02\n",
      "Test de tmin_c 03\n",
      "Test de tmin_c 04\n",
      "Test de tmin_c 05\n",
      "22024.561079978906 tmin_c 05\n",
      "Test de tmin_c 09_n-1\n",
      "Test de tmin_c 10_n-1\n",
      "Test de tmin_c 11_n-1\n",
      "Test de tmin_c 12_n-1\n",
      "Test de windspeed_max 01\n",
      "Test de windspeed_max 02\n",
      "Test de windspeed_max 03\n",
      "Test de windspeed_max 04\n",
      "Test de windspeed_max 05\n",
      "Test de windspeed_max 09_n-1\n",
      "Test de windspeed_max 10_n-1\n",
      "Test de windspeed_max 11_n-1\n",
      "Test de windspeed_max 12_n-1\n",
      "Test de rain_mm 01\n",
      "Test de rain_mm 02\n",
      "Test de rain_mm 03\n",
      "Test de rain_mm 04\n",
      "Test de rain_mm 05\n",
      "Test de rain_mm 09_n-1\n",
      "Test de rain_mm 10_n-1\n",
      "Test de rain_mm 11_n-1\n",
      "Test de rain_mm 12_n-1\n",
      "Test de humidity_pct 01\n",
      "Test de humidity_pct 02\n",
      "Test de humidity_pct 03\n",
      "Test de humidity_pct 04\n",
      "Test de humidity_pct 05\n",
      "Test de humidity_pct 09_n-1\n",
      "Test de humidity_pct 10_n-1\n",
      "Test de humidity_pct 11_n-1\n",
      "Test de humidity_pct 12_n-1\n",
      "Test de pressuremax_mb 01\n",
      "Test de pressuremax_mb 02\n",
      "Test de pressuremax_mb 03\n",
      "Test de pressuremax_mb 04\n",
      "Test de pressuremax_mb 05\n",
      "Test de pressuremax_mb 09_n-1\n",
      "Test de pressuremax_mb 10_n-1\n",
      "21768.205099976767 pressuremax_mb 10_n-1\n",
      "Test de pressuremax_mb 11_n-1\n",
      "Test de pressuremax_mb 12_n-1\n",
      "Test de cloudcov_avg_pct 01\n",
      "Test de cloudcov_avg_pct 02\n",
      "Test de cloudcov_avg_pct 03\n",
      "Test de cloudcov_avg_pct 04\n",
      "Test de cloudcov_avg_pct 05\n",
      "Test de cloudcov_avg_pct 09_n-1\n",
      "Test de cloudcov_avg_pct 10_n-1\n",
      "Test de cloudcov_avg_pct 11_n-1\n",
      "Test de cloudcov_avg_pct 12_n-1\n",
      "Test de dewmax_c 01\n",
      "Test de dewmax_c 02\n",
      "Test de dewmax_c 03\n",
      "Test de dewmax_c 04\n",
      "Test de dewmax_c 05\n",
      "Test de dewmax_c 09_n-1\n",
      "Test de dewmax_c 10_n-1\n",
      "Test de dewmax_c 11_n-1\n",
      "Test de dewmax_c 12_n-1\n",
      "Test de snow_mm 01\n",
      "Test de snow_mm 02\n",
      "Test de snow_mm 03\n",
      "Test de snow_mm 04\n",
      "21415.942200380992 snow_mm 04\n",
      "Test de snow_mm 05\n",
      "21301.537169836534 snow_mm 05\n",
      "Test de snow_mm 09_n-1\n",
      "Test de snow_mm 10_n-1\n",
      "Test de snow_mm 11_n-1\n",
      "21162.189256972237 snow_mm 11_n-1\n",
      "Test de snow_mm 12_n-1\n",
      "Test de uv_idx 01\n",
      "Test de uv_idx 02\n",
      "Test de uv_idx 03\n",
      "Test de uv_idx 04\n",
      "Test de uv_idx 05\n",
      "Test de uv_idx 09_n-1\n",
      "Test de uv_idx 10_n-1\n",
      "Test de uv_idx 11_n-1\n",
      "Test de uv_idx 12_n-1\n",
      "Test de sunhour 01\n",
      "Test de sunhour 02\n",
      "Test de sunhour 03\n",
      "Test de sunhour 04\n",
      "Test de sunhour 05\n",
      "Test de sunhour 09_n-1\n",
      "Test de sunhour 10_n-1\n",
      "Test de sunhour 11_n-1\n",
      "Test de sunhour 12_n-1\n",
      "Test de tmax_deg 01\n",
      "Test de tmax_deg 02\n",
      "Test de tmax_deg 03\n",
      "Test de tmax_deg 04\n",
      "Test de tmax_deg 05\n",
      "Test de tmax_deg 09_n-1\n",
      "Test de tmax_deg 10_n-1\n",
      "Test de tmax_deg 11_n-1\n",
      "Test de tmax_deg 12_n-1\n",
      "Test de tmin_deg 01\n",
      "Test de tmin_deg 02\n",
      "Test de tmin_deg 03\n",
      "Test de tmin_deg 04\n",
      "Test de tmin_deg 05\n",
      "Test de tmin_deg 09_n-1\n",
      "Test de tmin_deg 10_n-1\n",
      "Test de tmin_deg 11_n-1\n",
      "Test de tmin_deg 12_n-1\n",
      "Test de dpt_1\n",
      "Test de dpt_10\n",
      "Test de dpt_11\n",
      "Test de dpt_12\n",
      "Test de dpt_13\n",
      "Test de dpt_14\n",
      "Test de dpt_15\n",
      "Test de dpt_16\n",
      "Test de dpt_17\n",
      "Test de dpt_18\n",
      "Test de dpt_19\n",
      "Test de dpt_2\n",
      "Test de dpt_20\n",
      "Test de dpt_21\n",
      "Test de dpt_22\n",
      "Test de dpt_23\n",
      "Test de dpt_24\n",
      "Test de dpt_25\n",
      "Test de dpt_26\n",
      "Test de dpt_27\n",
      "Test de dpt_28\n",
      "Test de dpt_29\n",
      "Test de dpt_3\n",
      "Test de dpt_30\n",
      "Test de dpt_31\n",
      "Test de dpt_32\n",
      "Test de dpt_33\n",
      "Test de dpt_34\n",
      "Test de dpt_35\n",
      "Test de dpt_36\n",
      "Test de dpt_37\n",
      "Test de dpt_38\n",
      "Test de dpt_39\n",
      "Test de dpt_4\n",
      "Test de dpt_40\n",
      "Test de dpt_41\n",
      "Test de dpt_42\n",
      "Test de dpt_43\n",
      "Test de dpt_44\n",
      "Test de dpt_45\n",
      "Test de dpt_46\n",
      "Test de dpt_47\n",
      "Test de dpt_48\n",
      "Test de dpt_49\n",
      "Test de dpt_5\n",
      "Test de dpt_50\n",
      "Test de dpt_51\n",
      "Test de dpt_52\n",
      "Test de dpt_53\n",
      "Test de dpt_54\n",
      "Test de dpt_55\n",
      "Test de dpt_56\n",
      "Test de dpt_57\n",
      "Test de dpt_58\n",
      "Test de dpt_59\n",
      "Test de dpt_6\n",
      "Test de dpt_60\n",
      "Test de dpt_61\n",
      "Test de dpt_62\n",
      "Test de dpt_63\n",
      "Test de dpt_64\n",
      "Test de dpt_65\n",
      "Test de dpt_66\n",
      "Test de dpt_67\n",
      "Test de dpt_68\n",
      "Test de dpt_69\n",
      "Test de dpt_7\n",
      "Test de dpt_70\n",
      "Test de dpt_71\n",
      "Test de dpt_72\n",
      "Test de dpt_73\n",
      "Test de dpt_74\n",
      "Test de dpt_76\n",
      "Test de dpt_77\n",
      "Test de dpt_78\n",
      "Test de dpt_79\n",
      "Test de dpt_8\n",
      "Test de dpt_80\n",
      "Test de dpt_81\n",
      "Test de dpt_82\n",
      "Test de dpt_83\n",
      "Test de dpt_84\n",
      "Test de dpt_85\n",
      "Test de dpt_86\n",
      "Test de dpt_87\n",
      "Test de dpt_88\n",
      "Test de dpt_89\n",
      "Test de dpt_9\n",
      "Test de dpt_90\n",
      "Test de dpt_91\n",
      "Test de dpt_93\n",
      "Test de dpt_94\n",
      "Test de dpt_95\n"
     ]
    }
   ],
   "source": [
    "best_score=22163.81271399624\n",
    "for name in full_df.columns:\n",
    "    print('Test de ' + name)\n",
    "    if name in df_ohe.columns:\n",
    "        pass\n",
    "    else :\n",
    "        df_ohe[name]=full_df[name]\n",
    "        \n",
    "        X=df_ohe[:-93].drop(columns=['Production'])\n",
    "        X_test=df_ohe.iloc[-93:].drop(columns=['Production'])\n",
    "        y=df_ohe[:-93]['Production']\n",
    "        y_test=df_ohe.iloc[-93:]['Production']\n",
    "        \n",
    "        \n",
    "        ensemble = StackingRegressor(\n",
    "            estimators = [\n",
    "                        (\"LineReg\", LinearRegression()),\n",
    "                          (\"XGB\", XGBRegressor())],\n",
    "            final_estimator = LinearRegression())\n",
    "        pipe=Pipeline([('Scaler',RobustScaler()),\n",
    "             ('Stacking',ensemble)])\n",
    "        pipe.fit(X,y)\n",
    "        score_pred=mean_absolute_error(y_test,pipe.predict(X_test))\n",
    "        if score_pred<best_score:\n",
    "            best_score=score_pred\n",
    "            print(best_score,name)\n",
    "        else :\n",
    "            df_ohe=df_ohe.drop(columns=[name])"
   ]
  },
  {
   "cell_type": "code",
   "execution_count": 522,
   "id": "c5aa1f62",
   "metadata": {
    "ExecuteTime": {
     "end_time": "2022-03-08T13:10:46.669367Z",
     "start_time": "2022-03-08T13:10:46.637413Z"
    }
   },
   "outputs": [
    {
     "data": {
      "text/plain": [
       "21162.189256972237"
      ]
     },
     "execution_count": 522,
     "metadata": {},
     "output_type": "execute_result"
    }
   ],
   "source": [
    "best_score"
   ]
  },
  {
   "cell_type": "code",
   "execution_count": 523,
   "id": "24de069b",
   "metadata": {
    "ExecuteTime": {
     "end_time": "2022-03-08T13:10:48.299058Z",
     "start_time": "2022-03-08T13:10:48.264903Z"
    },
    "scrolled": true
   },
   "outputs": [
    {
     "data": {
      "text/plain": [
       "['dpt_10',\n",
       " 'dpt_11',\n",
       " 'dpt_12',\n",
       " 'dpt_13',\n",
       " 'dpt_14',\n",
       " 'dpt_15',\n",
       " 'dpt_16',\n",
       " 'dpt_17',\n",
       " 'dpt_18',\n",
       " 'dpt_19',\n",
       " 'dpt_2',\n",
       " 'dpt_20',\n",
       " 'dpt_21',\n",
       " 'dpt_22',\n",
       " 'dpt_23',\n",
       " 'dpt_24',\n",
       " 'dpt_25',\n",
       " 'dpt_26',\n",
       " 'dpt_27',\n",
       " 'dpt_28',\n",
       " 'dpt_29',\n",
       " 'dpt_3',\n",
       " 'dpt_30',\n",
       " 'dpt_31',\n",
       " 'dpt_32',\n",
       " 'dpt_33',\n",
       " 'dpt_34',\n",
       " 'dpt_35',\n",
       " 'dpt_36',\n",
       " 'dpt_37',\n",
       " 'dpt_38',\n",
       " 'dpt_39',\n",
       " 'dpt_4',\n",
       " 'dpt_40',\n",
       " 'dpt_41',\n",
       " 'dpt_42',\n",
       " 'dpt_43',\n",
       " 'dpt_44',\n",
       " 'dpt_45',\n",
       " 'dpt_46',\n",
       " 'dpt_47',\n",
       " 'dpt_48',\n",
       " 'dpt_49',\n",
       " 'dpt_5',\n",
       " 'dpt_50',\n",
       " 'dpt_51',\n",
       " 'dpt_52',\n",
       " 'dpt_53',\n",
       " 'dpt_54',\n",
       " 'dpt_55',\n",
       " 'dpt_56',\n",
       " 'dpt_57',\n",
       " 'dpt_58',\n",
       " 'dpt_59',\n",
       " 'dpt_6',\n",
       " 'dpt_60',\n",
       " 'dpt_61',\n",
       " 'dpt_62',\n",
       " 'dpt_63',\n",
       " 'dpt_64',\n",
       " 'dpt_65',\n",
       " 'dpt_66',\n",
       " 'dpt_67',\n",
       " 'dpt_68',\n",
       " 'dpt_69',\n",
       " 'dpt_7',\n",
       " 'dpt_70',\n",
       " 'dpt_71',\n",
       " 'dpt_72',\n",
       " 'dpt_73',\n",
       " 'dpt_74',\n",
       " 'dpt_76',\n",
       " 'dpt_77',\n",
       " 'dpt_78',\n",
       " 'dpt_79',\n",
       " 'dpt_8',\n",
       " 'dpt_80',\n",
       " 'dpt_81',\n",
       " 'dpt_82',\n",
       " 'dpt_83',\n",
       " 'dpt_84',\n",
       " 'dpt_85',\n",
       " 'dpt_86',\n",
       " 'dpt_87',\n",
       " 'dpt_88',\n",
       " 'dpt_89',\n",
       " 'dpt_9',\n",
       " 'dpt_90',\n",
       " 'dpt_91',\n",
       " 'dpt_93',\n",
       " 'dpt_94',\n",
       " 'dpt_95',\n",
       " 'Production',\n",
       " 'tmax_c 10_n-1',\n",
       " 'tmin_c 05',\n",
       " 'pressuremax_mb 10_n-1',\n",
       " 'snow_mm 04',\n",
       " 'snow_mm 05',\n",
       " 'snow_mm 11_n-1']"
      ]
     },
     "execution_count": 523,
     "metadata": {},
     "output_type": "execute_result"
    }
   ],
   "source": [
    "list(df_ohe.columns)"
   ]
  },
  {
   "cell_type": "code",
   "execution_count": 524,
   "id": "391033e3",
   "metadata": {
    "ExecuteTime": {
     "end_time": "2022-03-08T13:11:11.025144Z",
     "start_time": "2022-03-08T13:11:10.988276Z"
    }
   },
   "outputs": [],
   "source": [
    "X_pred=X_pred[df_ohe.drop(columns=['Production']).columns]"
   ]
  },
  {
   "cell_type": "code",
   "execution_count": 525,
   "id": "fb689e6c",
   "metadata": {
    "ExecuteTime": {
     "end_time": "2022-03-08T13:11:12.590732Z",
     "start_time": "2022-03-08T13:11:12.555537Z"
    }
   },
   "outputs": [],
   "source": [
    "X=df_ohe[:-93].drop(columns=['Production'])\n",
    "X_test=df_ohe.iloc[-93:].drop(columns=['Production'])\n",
    "y=df_ohe[:-93]['Production']\n",
    "y_test=df_ohe.iloc[-93:]['Production']"
   ]
  },
  {
   "cell_type": "code",
   "execution_count": 526,
   "id": "1936fe67",
   "metadata": {
    "ExecuteTime": {
     "end_time": "2022-03-08T13:11:18.880811Z",
     "start_time": "2022-03-08T13:11:16.684477Z"
    },
    "scrolled": true
   },
   "outputs": [
    {
     "data": {
      "text/html": [
       "<style>#sk-9112d60a-e755-41f1-95d8-1e1771587e6d {color: black;background-color: white;}#sk-9112d60a-e755-41f1-95d8-1e1771587e6d pre{padding: 0;}#sk-9112d60a-e755-41f1-95d8-1e1771587e6d div.sk-toggleable {background-color: white;}#sk-9112d60a-e755-41f1-95d8-1e1771587e6d label.sk-toggleable__label {cursor: pointer;display: block;width: 100%;margin-bottom: 0;padding: 0.3em;box-sizing: border-box;text-align: center;}#sk-9112d60a-e755-41f1-95d8-1e1771587e6d label.sk-toggleable__label-arrow:before {content: \"▸\";float: left;margin-right: 0.25em;color: #696969;}#sk-9112d60a-e755-41f1-95d8-1e1771587e6d label.sk-toggleable__label-arrow:hover:before {color: black;}#sk-9112d60a-e755-41f1-95d8-1e1771587e6d div.sk-estimator:hover label.sk-toggleable__label-arrow:before {color: black;}#sk-9112d60a-e755-41f1-95d8-1e1771587e6d div.sk-toggleable__content {max-height: 0;max-width: 0;overflow: hidden;text-align: left;background-color: #f0f8ff;}#sk-9112d60a-e755-41f1-95d8-1e1771587e6d div.sk-toggleable__content pre {margin: 0.2em;color: black;border-radius: 0.25em;background-color: #f0f8ff;}#sk-9112d60a-e755-41f1-95d8-1e1771587e6d input.sk-toggleable__control:checked~div.sk-toggleable__content {max-height: 200px;max-width: 100%;overflow: auto;}#sk-9112d60a-e755-41f1-95d8-1e1771587e6d input.sk-toggleable__control:checked~label.sk-toggleable__label-arrow:before {content: \"▾\";}#sk-9112d60a-e755-41f1-95d8-1e1771587e6d div.sk-estimator input.sk-toggleable__control:checked~label.sk-toggleable__label {background-color: #d4ebff;}#sk-9112d60a-e755-41f1-95d8-1e1771587e6d div.sk-label input.sk-toggleable__control:checked~label.sk-toggleable__label {background-color: #d4ebff;}#sk-9112d60a-e755-41f1-95d8-1e1771587e6d input.sk-hidden--visually {border: 0;clip: rect(1px 1px 1px 1px);clip: rect(1px, 1px, 1px, 1px);height: 1px;margin: -1px;overflow: hidden;padding: 0;position: absolute;width: 1px;}#sk-9112d60a-e755-41f1-95d8-1e1771587e6d div.sk-estimator {font-family: monospace;background-color: #f0f8ff;border: 1px dotted black;border-radius: 0.25em;box-sizing: border-box;margin-bottom: 0.5em;}#sk-9112d60a-e755-41f1-95d8-1e1771587e6d div.sk-estimator:hover {background-color: #d4ebff;}#sk-9112d60a-e755-41f1-95d8-1e1771587e6d div.sk-parallel-item::after {content: \"\";width: 100%;border-bottom: 1px solid gray;flex-grow: 1;}#sk-9112d60a-e755-41f1-95d8-1e1771587e6d div.sk-label:hover label.sk-toggleable__label {background-color: #d4ebff;}#sk-9112d60a-e755-41f1-95d8-1e1771587e6d div.sk-serial::before {content: \"\";position: absolute;border-left: 1px solid gray;box-sizing: border-box;top: 2em;bottom: 0;left: 50%;}#sk-9112d60a-e755-41f1-95d8-1e1771587e6d div.sk-serial {display: flex;flex-direction: column;align-items: center;background-color: white;padding-right: 0.2em;padding-left: 0.2em;}#sk-9112d60a-e755-41f1-95d8-1e1771587e6d div.sk-item {z-index: 1;}#sk-9112d60a-e755-41f1-95d8-1e1771587e6d div.sk-parallel {display: flex;align-items: stretch;justify-content: center;background-color: white;}#sk-9112d60a-e755-41f1-95d8-1e1771587e6d div.sk-parallel::before {content: \"\";position: absolute;border-left: 1px solid gray;box-sizing: border-box;top: 2em;bottom: 0;left: 50%;}#sk-9112d60a-e755-41f1-95d8-1e1771587e6d div.sk-parallel-item {display: flex;flex-direction: column;position: relative;background-color: white;}#sk-9112d60a-e755-41f1-95d8-1e1771587e6d div.sk-parallel-item:first-child::after {align-self: flex-end;width: 50%;}#sk-9112d60a-e755-41f1-95d8-1e1771587e6d div.sk-parallel-item:last-child::after {align-self: flex-start;width: 50%;}#sk-9112d60a-e755-41f1-95d8-1e1771587e6d div.sk-parallel-item:only-child::after {width: 0;}#sk-9112d60a-e755-41f1-95d8-1e1771587e6d div.sk-dashed-wrapped {border: 1px dashed gray;margin: 0 0.4em 0.5em 0.4em;box-sizing: border-box;padding-bottom: 0.4em;background-color: white;position: relative;}#sk-9112d60a-e755-41f1-95d8-1e1771587e6d div.sk-label label {font-family: monospace;font-weight: bold;background-color: white;display: inline-block;line-height: 1.2em;}#sk-9112d60a-e755-41f1-95d8-1e1771587e6d div.sk-label-container {position: relative;z-index: 2;text-align: center;}#sk-9112d60a-e755-41f1-95d8-1e1771587e6d div.sk-container {/* jupyter's `normalize.less` sets `[hidden] { display: none; }` but bootstrap.min.css set `[hidden] { display: none !important; }` so we also need the `!important` here to be able to override the default hidden behavior on the sphinx rendered scikit-learn.org. See: https://github.com/scikit-learn/scikit-learn/issues/21755 */display: inline-block !important;position: relative;}#sk-9112d60a-e755-41f1-95d8-1e1771587e6d div.sk-text-repr-fallback {display: none;}</style><div id=\"sk-9112d60a-e755-41f1-95d8-1e1771587e6d\" class=\"sk-top-container\"><div class=\"sk-text-repr-fallback\"><pre>Pipeline(steps=[(&#x27;Scaler&#x27;, RobustScaler()),\n",
       "                (&#x27;Stacking&#x27;,\n",
       "                 StackingRegressor(estimators=[(&#x27;LineReg&#x27;, LinearRegression()),\n",
       "                                               (&#x27;XGB&#x27;,\n",
       "                                                XGBRegressor(base_score=None,\n",
       "                                                             booster=None,\n",
       "                                                             colsample_bylevel=None,\n",
       "                                                             colsample_bynode=None,\n",
       "                                                             colsample_bytree=None,\n",
       "                                                             enable_categorical=False,\n",
       "                                                             gamma=None,\n",
       "                                                             gpu_id=None,\n",
       "                                                             importance_type=None,\n",
       "                                                             interaction_constraints=None,\n",
       "                                                             learning_rate=None,\n",
       "                                                             max_delta_step=None,\n",
       "                                                             max_depth=None,\n",
       "                                                             min_child_weight=None,\n",
       "                                                             missing=nan,\n",
       "                                                             monotone_constraints=None,\n",
       "                                                             n_estimators=100,\n",
       "                                                             n_jobs=None,\n",
       "                                                             num_parallel_tree=None,\n",
       "                                                             predictor=None,\n",
       "                                                             random_state=None,\n",
       "                                                             reg_alpha=None,\n",
       "                                                             reg_lambda=None,\n",
       "                                                             scale_pos_weight=None,\n",
       "                                                             subsample=None,\n",
       "                                                             tree_method=None,\n",
       "                                                             validate_parameters=None,\n",
       "                                                             verbosity=None))],\n",
       "                                   final_estimator=LinearRegression()))])</pre><b>Please rerun this cell to show the HTML repr or trust the notebook.</b></div><div class=\"sk-container\" hidden><div class=\"sk-item sk-dashed-wrapped\"><div class=\"sk-label-container\"><div class=\"sk-label sk-toggleable\"><input class=\"sk-toggleable__control sk-hidden--visually\" id=\"de371e79-a785-4a0d-be3a-7d0e2dbb91a0\" type=\"checkbox\" ><label for=\"de371e79-a785-4a0d-be3a-7d0e2dbb91a0\" class=\"sk-toggleable__label sk-toggleable__label-arrow\">Pipeline</label><div class=\"sk-toggleable__content\"><pre>Pipeline(steps=[(&#x27;Scaler&#x27;, RobustScaler()),\n",
       "                (&#x27;Stacking&#x27;,\n",
       "                 StackingRegressor(estimators=[(&#x27;LineReg&#x27;, LinearRegression()),\n",
       "                                               (&#x27;XGB&#x27;,\n",
       "                                                XGBRegressor(base_score=None,\n",
       "                                                             booster=None,\n",
       "                                                             colsample_bylevel=None,\n",
       "                                                             colsample_bynode=None,\n",
       "                                                             colsample_bytree=None,\n",
       "                                                             enable_categorical=False,\n",
       "                                                             gamma=None,\n",
       "                                                             gpu_id=None,\n",
       "                                                             importance_type=None,\n",
       "                                                             interaction_constraints=None,\n",
       "                                                             learning_rate=None,\n",
       "                                                             max_delta_step=None,\n",
       "                                                             max_depth=None,\n",
       "                                                             min_child_weight=None,\n",
       "                                                             missing=nan,\n",
       "                                                             monotone_constraints=None,\n",
       "                                                             n_estimators=100,\n",
       "                                                             n_jobs=None,\n",
       "                                                             num_parallel_tree=None,\n",
       "                                                             predictor=None,\n",
       "                                                             random_state=None,\n",
       "                                                             reg_alpha=None,\n",
       "                                                             reg_lambda=None,\n",
       "                                                             scale_pos_weight=None,\n",
       "                                                             subsample=None,\n",
       "                                                             tree_method=None,\n",
       "                                                             validate_parameters=None,\n",
       "                                                             verbosity=None))],\n",
       "                                   final_estimator=LinearRegression()))])</pre></div></div></div><div class=\"sk-serial\"><div class=\"sk-item\"><div class=\"sk-estimator sk-toggleable\"><input class=\"sk-toggleable__control sk-hidden--visually\" id=\"88380ce9-5bbb-4c53-81d7-eed453a413cc\" type=\"checkbox\" ><label for=\"88380ce9-5bbb-4c53-81d7-eed453a413cc\" class=\"sk-toggleable__label sk-toggleable__label-arrow\">RobustScaler</label><div class=\"sk-toggleable__content\"><pre>RobustScaler()</pre></div></div></div><div class=\"sk-item\"><div class=\"sk-label-container\"><div class=\"sk-label sk-toggleable\"><input class=\"sk-toggleable__control sk-hidden--visually\" id=\"8a294f0e-6604-4a2b-bf02-f3a2fdd0e9a4\" type=\"checkbox\" ><label for=\"8a294f0e-6604-4a2b-bf02-f3a2fdd0e9a4\" class=\"sk-toggleable__label sk-toggleable__label-arrow\">Stacking: StackingRegressor</label><div class=\"sk-toggleable__content\"><pre>StackingRegressor(estimators=[(&#x27;LineReg&#x27;, LinearRegression()),\n",
       "                              (&#x27;XGB&#x27;,\n",
       "                               XGBRegressor(base_score=None, booster=None,\n",
       "                                            colsample_bylevel=None,\n",
       "                                            colsample_bynode=None,\n",
       "                                            colsample_bytree=None,\n",
       "                                            enable_categorical=False,\n",
       "                                            gamma=None, gpu_id=None,\n",
       "                                            importance_type=None,\n",
       "                                            interaction_constraints=None,\n",
       "                                            learning_rate=None,\n",
       "                                            max_delta_step=None, max_depth=None,\n",
       "                                            min_child_weight=None, missing=nan,\n",
       "                                            monotone_constraints=None,\n",
       "                                            n_estimators=100, n_jobs=None,\n",
       "                                            num_parallel_tree=None,\n",
       "                                            predictor=None, random_state=None,\n",
       "                                            reg_alpha=None, reg_lambda=None,\n",
       "                                            scale_pos_weight=None,\n",
       "                                            subsample=None, tree_method=None,\n",
       "                                            validate_parameters=None,\n",
       "                                            verbosity=None))],\n",
       "                  final_estimator=LinearRegression())</pre></div></div></div><div class=\"sk-serial\"><div class=\"sk-item\"><div class=\"sk-parallel\"><div class=\"sk-parallel-item\"><div class=\"sk-item\"><div class=\"sk-label-container\"><div class=\"sk-label sk-toggleable\"><label>LineReg</label></div></div><div class=\"sk-serial\"><div class=\"sk-item\"><div class=\"sk-estimator sk-toggleable\"><input class=\"sk-toggleable__control sk-hidden--visually\" id=\"83087e44-409d-45ed-8501-b7d2bd5c5133\" type=\"checkbox\" ><label for=\"83087e44-409d-45ed-8501-b7d2bd5c5133\" class=\"sk-toggleable__label sk-toggleable__label-arrow\">LinearRegression</label><div class=\"sk-toggleable__content\"><pre>LinearRegression()</pre></div></div></div></div></div></div><div class=\"sk-parallel-item\"><div class=\"sk-item\"><div class=\"sk-label-container\"><div class=\"sk-label sk-toggleable\"><label>XGB</label></div></div><div class=\"sk-serial\"><div class=\"sk-item\"><div class=\"sk-estimator sk-toggleable\"><input class=\"sk-toggleable__control sk-hidden--visually\" id=\"dfcb6f6c-051c-4389-bbbf-dd081ddb79b2\" type=\"checkbox\" ><label for=\"dfcb6f6c-051c-4389-bbbf-dd081ddb79b2\" class=\"sk-toggleable__label sk-toggleable__label-arrow\">XGBRegressor</label><div class=\"sk-toggleable__content\"><pre>XGBRegressor(base_score=None, booster=None, colsample_bylevel=None,\n",
       "             colsample_bynode=None, colsample_bytree=None,\n",
       "             enable_categorical=False, gamma=None, gpu_id=None,\n",
       "             importance_type=None, interaction_constraints=None,\n",
       "             learning_rate=None, max_delta_step=None, max_depth=None,\n",
       "             min_child_weight=None, missing=nan, monotone_constraints=None,\n",
       "             n_estimators=100, n_jobs=None, num_parallel_tree=None,\n",
       "             predictor=None, random_state=None, reg_alpha=None, reg_lambda=None,\n",
       "             scale_pos_weight=None, subsample=None, tree_method=None,\n",
       "             validate_parameters=None, verbosity=None)</pre></div></div></div></div></div></div></div></div><div class=\"sk-item\"><div class=\"sk-parallel\"><div class=\"sk-parallel-item\"><div class=\"sk-item\"><div class=\"sk-label-container\"><div class=\"sk-label sk-toggleable\"><label>final_estimator</label></div></div><div class=\"sk-serial\"><div class=\"sk-item\"><div class=\"sk-estimator sk-toggleable\"><input class=\"sk-toggleable__control sk-hidden--visually\" id=\"0cd660ae-a167-45e2-8d33-a1fceaa377bd\" type=\"checkbox\" ><label for=\"0cd660ae-a167-45e2-8d33-a1fceaa377bd\" class=\"sk-toggleable__label sk-toggleable__label-arrow\">LinearRegression</label><div class=\"sk-toggleable__content\"><pre>LinearRegression()</pre></div></div></div></div></div></div></div></div></div></div></div></div></div></div>"
      ],
      "text/plain": [
       "Pipeline(steps=[('Scaler', RobustScaler()),\n",
       "                ('Stacking',\n",
       "                 StackingRegressor(estimators=[('LineReg', LinearRegression()),\n",
       "                                               ('XGB',\n",
       "                                                XGBRegressor(base_score=None,\n",
       "                                                             booster=None,\n",
       "                                                             colsample_bylevel=None,\n",
       "                                                             colsample_bynode=None,\n",
       "                                                             colsample_bytree=None,\n",
       "                                                             enable_categorical=False,\n",
       "                                                             gamma=None,\n",
       "                                                             gpu_id=None,\n",
       "                                                             importance_type=None,\n",
       "                                                             interaction_constraints=None,\n",
       "                                                             learning_rate=None,\n",
       "                                                             max_delta_step=None,\n",
       "                                                             max_depth=None,\n",
       "                                                             min_child_weight=None,\n",
       "                                                             missing=nan,\n",
       "                                                             monotone_constraints=None,\n",
       "                                                             n_estimators=100,\n",
       "                                                             n_jobs=None,\n",
       "                                                             num_parallel_tree=None,\n",
       "                                                             predictor=None,\n",
       "                                                             random_state=None,\n",
       "                                                             reg_alpha=None,\n",
       "                                                             reg_lambda=None,\n",
       "                                                             scale_pos_weight=None,\n",
       "                                                             subsample=None,\n",
       "                                                             tree_method=None,\n",
       "                                                             validate_parameters=None,\n",
       "                                                             verbosity=None))],\n",
       "                                   final_estimator=LinearRegression()))])"
      ]
     },
     "execution_count": 526,
     "metadata": {},
     "output_type": "execute_result"
    }
   ],
   "source": [
    "pipe.fit(X,y)"
   ]
  },
  {
   "cell_type": "code",
   "execution_count": 527,
   "id": "d70290ca",
   "metadata": {
    "ExecuteTime": {
     "end_time": "2022-03-08T13:11:20.016067Z",
     "start_time": "2022-03-08T13:11:19.991405Z"
    }
   },
   "outputs": [
    {
     "data": {
      "text/html": [
       "<div>\n",
       "<style scoped>\n",
       "    .dataframe tbody tr th:only-of-type {\n",
       "        vertical-align: middle;\n",
       "    }\n",
       "\n",
       "    .dataframe tbody tr th {\n",
       "        vertical-align: top;\n",
       "    }\n",
       "\n",
       "    .dataframe thead th {\n",
       "        text-align: right;\n",
       "    }\n",
       "</style>\n",
       "<table border=\"1\" class=\"dataframe\">\n",
       "  <thead>\n",
       "    <tr style=\"text-align: right;\">\n",
       "      <th></th>\n",
       "      <th>dpt_10</th>\n",
       "      <th>dpt_11</th>\n",
       "      <th>dpt_12</th>\n",
       "      <th>dpt_13</th>\n",
       "      <th>dpt_14</th>\n",
       "      <th>dpt_15</th>\n",
       "      <th>dpt_16</th>\n",
       "      <th>dpt_17</th>\n",
       "      <th>dpt_18</th>\n",
       "      <th>dpt_19</th>\n",
       "      <th>...</th>\n",
       "      <th>dpt_91</th>\n",
       "      <th>dpt_93</th>\n",
       "      <th>dpt_94</th>\n",
       "      <th>dpt_95</th>\n",
       "      <th>tmax_c 10_n-1</th>\n",
       "      <th>tmin_c 05</th>\n",
       "      <th>pressuremax_mb 10_n-1</th>\n",
       "      <th>snow_mm 04</th>\n",
       "      <th>snow_mm 05</th>\n",
       "      <th>snow_mm 11_n-1</th>\n",
       "    </tr>\n",
       "  </thead>\n",
       "  <tbody>\n",
       "    <tr>\n",
       "      <th>2022-1</th>\n",
       "      <td>0</td>\n",
       "      <td>0</td>\n",
       "      <td>0</td>\n",
       "      <td>0</td>\n",
       "      <td>0</td>\n",
       "      <td>0</td>\n",
       "      <td>0</td>\n",
       "      <td>0</td>\n",
       "      <td>0</td>\n",
       "      <td>0</td>\n",
       "      <td>...</td>\n",
       "      <td>0</td>\n",
       "      <td>0</td>\n",
       "      <td>0</td>\n",
       "      <td>0</td>\n",
       "      <td>7.0</td>\n",
       "      <td>26.0</td>\n",
       "      <td>1018.290323</td>\n",
       "      <td>4.4</td>\n",
       "      <td>0.0</td>\n",
       "      <td>0.0</td>\n",
       "    </tr>\n",
       "    <tr>\n",
       "      <th>2022-10</th>\n",
       "      <td>1</td>\n",
       "      <td>0</td>\n",
       "      <td>0</td>\n",
       "      <td>0</td>\n",
       "      <td>0</td>\n",
       "      <td>0</td>\n",
       "      <td>0</td>\n",
       "      <td>0</td>\n",
       "      <td>0</td>\n",
       "      <td>0</td>\n",
       "      <td>...</td>\n",
       "      <td>0</td>\n",
       "      <td>0</td>\n",
       "      <td>0</td>\n",
       "      <td>0</td>\n",
       "      <td>4.0</td>\n",
       "      <td>29.0</td>\n",
       "      <td>1016.129032</td>\n",
       "      <td>0.7</td>\n",
       "      <td>0.0</td>\n",
       "      <td>0.0</td>\n",
       "    </tr>\n",
       "    <tr>\n",
       "      <th>2022-11</th>\n",
       "      <td>0</td>\n",
       "      <td>1</td>\n",
       "      <td>0</td>\n",
       "      <td>0</td>\n",
       "      <td>0</td>\n",
       "      <td>0</td>\n",
       "      <td>0</td>\n",
       "      <td>0</td>\n",
       "      <td>0</td>\n",
       "      <td>0</td>\n",
       "      <td>...</td>\n",
       "      <td>0</td>\n",
       "      <td>0</td>\n",
       "      <td>0</td>\n",
       "      <td>0</td>\n",
       "      <td>3.0</td>\n",
       "      <td>25.0</td>\n",
       "      <td>1018.774194</td>\n",
       "      <td>0.0</td>\n",
       "      <td>0.0</td>\n",
       "      <td>0.0</td>\n",
       "    </tr>\n",
       "    <tr>\n",
       "      <th>2022-12</th>\n",
       "      <td>0</td>\n",
       "      <td>0</td>\n",
       "      <td>1</td>\n",
       "      <td>0</td>\n",
       "      <td>0</td>\n",
       "      <td>0</td>\n",
       "      <td>0</td>\n",
       "      <td>0</td>\n",
       "      <td>0</td>\n",
       "      <td>0</td>\n",
       "      <td>...</td>\n",
       "      <td>0</td>\n",
       "      <td>0</td>\n",
       "      <td>0</td>\n",
       "      <td>0</td>\n",
       "      <td>5.0</td>\n",
       "      <td>26.0</td>\n",
       "      <td>1018.806452</td>\n",
       "      <td>0.1</td>\n",
       "      <td>0.0</td>\n",
       "      <td>0.0</td>\n",
       "    </tr>\n",
       "    <tr>\n",
       "      <th>2022-13</th>\n",
       "      <td>0</td>\n",
       "      <td>0</td>\n",
       "      <td>0</td>\n",
       "      <td>1</td>\n",
       "      <td>0</td>\n",
       "      <td>0</td>\n",
       "      <td>0</td>\n",
       "      <td>0</td>\n",
       "      <td>0</td>\n",
       "      <td>0</td>\n",
       "      <td>...</td>\n",
       "      <td>0</td>\n",
       "      <td>0</td>\n",
       "      <td>0</td>\n",
       "      <td>0</td>\n",
       "      <td>8.0</td>\n",
       "      <td>26.0</td>\n",
       "      <td>1017.193548</td>\n",
       "      <td>0.0</td>\n",
       "      <td>0.0</td>\n",
       "      <td>0.0</td>\n",
       "    </tr>\n",
       "    <tr>\n",
       "      <th>...</th>\n",
       "      <td>...</td>\n",
       "      <td>...</td>\n",
       "      <td>...</td>\n",
       "      <td>...</td>\n",
       "      <td>...</td>\n",
       "      <td>...</td>\n",
       "      <td>...</td>\n",
       "      <td>...</td>\n",
       "      <td>...</td>\n",
       "      <td>...</td>\n",
       "      <td>...</td>\n",
       "      <td>...</td>\n",
       "      <td>...</td>\n",
       "      <td>...</td>\n",
       "      <td>...</td>\n",
       "      <td>...</td>\n",
       "      <td>...</td>\n",
       "      <td>...</td>\n",
       "      <td>...</td>\n",
       "      <td>...</td>\n",
       "      <td>...</td>\n",
       "    </tr>\n",
       "    <tr>\n",
       "      <th>2022-90</th>\n",
       "      <td>0</td>\n",
       "      <td>0</td>\n",
       "      <td>0</td>\n",
       "      <td>0</td>\n",
       "      <td>0</td>\n",
       "      <td>0</td>\n",
       "      <td>0</td>\n",
       "      <td>0</td>\n",
       "      <td>0</td>\n",
       "      <td>0</td>\n",
       "      <td>...</td>\n",
       "      <td>0</td>\n",
       "      <td>0</td>\n",
       "      <td>0</td>\n",
       "      <td>0</td>\n",
       "      <td>4.0</td>\n",
       "      <td>26.0</td>\n",
       "      <td>1017.838710</td>\n",
       "      <td>13.9</td>\n",
       "      <td>0.0</td>\n",
       "      <td>0.1</td>\n",
       "    </tr>\n",
       "    <tr>\n",
       "      <th>2022-91</th>\n",
       "      <td>0</td>\n",
       "      <td>0</td>\n",
       "      <td>0</td>\n",
       "      <td>0</td>\n",
       "      <td>0</td>\n",
       "      <td>0</td>\n",
       "      <td>0</td>\n",
       "      <td>0</td>\n",
       "      <td>0</td>\n",
       "      <td>0</td>\n",
       "      <td>...</td>\n",
       "      <td>1</td>\n",
       "      <td>0</td>\n",
       "      <td>0</td>\n",
       "      <td>0</td>\n",
       "      <td>5.0</td>\n",
       "      <td>24.0</td>\n",
       "      <td>1015.225806</td>\n",
       "      <td>0.3</td>\n",
       "      <td>0.0</td>\n",
       "      <td>0.0</td>\n",
       "    </tr>\n",
       "    <tr>\n",
       "      <th>2022-93</th>\n",
       "      <td>0</td>\n",
       "      <td>0</td>\n",
       "      <td>0</td>\n",
       "      <td>0</td>\n",
       "      <td>0</td>\n",
       "      <td>0</td>\n",
       "      <td>0</td>\n",
       "      <td>0</td>\n",
       "      <td>0</td>\n",
       "      <td>0</td>\n",
       "      <td>...</td>\n",
       "      <td>0</td>\n",
       "      <td>1</td>\n",
       "      <td>0</td>\n",
       "      <td>0</td>\n",
       "      <td>8.0</td>\n",
       "      <td>54.0</td>\n",
       "      <td>1016.903226</td>\n",
       "      <td>0.0</td>\n",
       "      <td>0.0</td>\n",
       "      <td>0.0</td>\n",
       "    </tr>\n",
       "    <tr>\n",
       "      <th>2022-94</th>\n",
       "      <td>0</td>\n",
       "      <td>0</td>\n",
       "      <td>0</td>\n",
       "      <td>0</td>\n",
       "      <td>0</td>\n",
       "      <td>0</td>\n",
       "      <td>0</td>\n",
       "      <td>0</td>\n",
       "      <td>0</td>\n",
       "      <td>0</td>\n",
       "      <td>...</td>\n",
       "      <td>0</td>\n",
       "      <td>0</td>\n",
       "      <td>1</td>\n",
       "      <td>0</td>\n",
       "      <td>5.0</td>\n",
       "      <td>26.0</td>\n",
       "      <td>1015.000000</td>\n",
       "      <td>0.7</td>\n",
       "      <td>0.0</td>\n",
       "      <td>0.0</td>\n",
       "    </tr>\n",
       "    <tr>\n",
       "      <th>2022-95</th>\n",
       "      <td>0</td>\n",
       "      <td>0</td>\n",
       "      <td>0</td>\n",
       "      <td>0</td>\n",
       "      <td>0</td>\n",
       "      <td>0</td>\n",
       "      <td>0</td>\n",
       "      <td>0</td>\n",
       "      <td>0</td>\n",
       "      <td>0</td>\n",
       "      <td>...</td>\n",
       "      <td>0</td>\n",
       "      <td>0</td>\n",
       "      <td>0</td>\n",
       "      <td>1</td>\n",
       "      <td>7.0</td>\n",
       "      <td>27.0</td>\n",
       "      <td>1014.677419</td>\n",
       "      <td>2.8</td>\n",
       "      <td>0.0</td>\n",
       "      <td>0.0</td>\n",
       "    </tr>\n",
       "  </tbody>\n",
       "</table>\n",
       "<p>93 rows × 98 columns</p>\n",
       "</div>"
      ],
      "text/plain": [
       "         dpt_10  dpt_11  dpt_12  dpt_13  dpt_14  dpt_15  dpt_16  dpt_17  \\\n",
       "2022-1        0       0       0       0       0       0       0       0   \n",
       "2022-10       1       0       0       0       0       0       0       0   \n",
       "2022-11       0       1       0       0       0       0       0       0   \n",
       "2022-12       0       0       1       0       0       0       0       0   \n",
       "2022-13       0       0       0       1       0       0       0       0   \n",
       "...         ...     ...     ...     ...     ...     ...     ...     ...   \n",
       "2022-90       0       0       0       0       0       0       0       0   \n",
       "2022-91       0       0       0       0       0       0       0       0   \n",
       "2022-93       0       0       0       0       0       0       0       0   \n",
       "2022-94       0       0       0       0       0       0       0       0   \n",
       "2022-95       0       0       0       0       0       0       0       0   \n",
       "\n",
       "         dpt_18  dpt_19  ...  dpt_91  dpt_93  dpt_94  dpt_95  tmax_c 10_n-1  \\\n",
       "2022-1        0       0  ...       0       0       0       0            7.0   \n",
       "2022-10       0       0  ...       0       0       0       0            4.0   \n",
       "2022-11       0       0  ...       0       0       0       0            3.0   \n",
       "2022-12       0       0  ...       0       0       0       0            5.0   \n",
       "2022-13       0       0  ...       0       0       0       0            8.0   \n",
       "...         ...     ...  ...     ...     ...     ...     ...            ...   \n",
       "2022-90       0       0  ...       0       0       0       0            4.0   \n",
       "2022-91       0       0  ...       1       0       0       0            5.0   \n",
       "2022-93       0       0  ...       0       1       0       0            8.0   \n",
       "2022-94       0       0  ...       0       0       1       0            5.0   \n",
       "2022-95       0       0  ...       0       0       0       1            7.0   \n",
       "\n",
       "         tmin_c 05  pressuremax_mb 10_n-1  snow_mm 04  snow_mm 05  \\\n",
       "2022-1        26.0            1018.290323         4.4         0.0   \n",
       "2022-10       29.0            1016.129032         0.7         0.0   \n",
       "2022-11       25.0            1018.774194         0.0         0.0   \n",
       "2022-12       26.0            1018.806452         0.1         0.0   \n",
       "2022-13       26.0            1017.193548         0.0         0.0   \n",
       "...            ...                    ...         ...         ...   \n",
       "2022-90       26.0            1017.838710        13.9         0.0   \n",
       "2022-91       24.0            1015.225806         0.3         0.0   \n",
       "2022-93       54.0            1016.903226         0.0         0.0   \n",
       "2022-94       26.0            1015.000000         0.7         0.0   \n",
       "2022-95       27.0            1014.677419         2.8         0.0   \n",
       "\n",
       "         snow_mm 11_n-1  \n",
       "2022-1              0.0  \n",
       "2022-10             0.0  \n",
       "2022-11             0.0  \n",
       "2022-12             0.0  \n",
       "2022-13             0.0  \n",
       "...                 ...  \n",
       "2022-90             0.1  \n",
       "2022-91             0.0  \n",
       "2022-93             0.0  \n",
       "2022-94             0.0  \n",
       "2022-95             0.0  \n",
       "\n",
       "[93 rows x 98 columns]"
      ]
     },
     "execution_count": 527,
     "metadata": {},
     "output_type": "execute_result"
    }
   ],
   "source": [
    "X_pred"
   ]
  },
  {
   "cell_type": "code",
   "execution_count": 561,
   "id": "e3af4436",
   "metadata": {
    "ExecuteTime": {
     "end_time": "2022-03-08T13:24:13.441032Z",
     "start_time": "2022-03-08T13:24:13.395196Z"
    }
   },
   "outputs": [],
   "source": [
    "pred_2022=pd.DataFrame(pipe.predict(X_pred),index=X_pred.index.str[5:])\n",
    "pred_2015=pd.DataFrame(pipe.predict(df_2015[df_ohe.drop(columns=['Production']).columns]),index=df_2015.index.str[5:])\n",
    "pred_2016=pd.DataFrame(pipe.predict(df_2016[df_ohe.drop(columns=['Production']).columns]),index=df_2016.index.str[5:])\n",
    "\n",
    "pred_2022=pred_2022.rename(columns={0:'2022'})\n",
    "pred_2015=pred_2015.rename(columns={0:'2015'})\n",
    "pred_2016=pred_2016.rename(columns={0:'2016'})"
   ]
  },
  {
   "cell_type": "code",
   "execution_count": 562,
   "id": "40462800",
   "metadata": {
    "ExecuteTime": {
     "end_time": "2022-03-08T13:24:14.583987Z",
     "start_time": "2022-03-08T13:24:14.568640Z"
    }
   },
   "outputs": [],
   "source": [
    "pred_comp=pred_2022"
   ]
  },
  {
   "cell_type": "code",
   "execution_count": 563,
   "id": "658e3693",
   "metadata": {
    "ExecuteTime": {
     "end_time": "2022-03-08T13:24:15.682310Z",
     "start_time": "2022-03-08T13:24:15.666060Z"
    }
   },
   "outputs": [],
   "source": [
    "pred_comp=pred_comp.merge(pred_2015,left_index=True,right_index=True)\n",
    "pred_comp=pred_comp.merge(pred_2016,left_index=True,right_index=True)"
   ]
  },
  {
   "cell_type": "code",
   "execution_count": 566,
   "id": "1a1427f2",
   "metadata": {
    "ExecuteTime": {
     "end_time": "2022-03-08T13:28:06.894251Z",
     "start_time": "2022-03-08T13:28:06.859437Z"
    }
   },
   "outputs": [
    {
     "data": {
      "text/html": [
       "<div>\n",
       "<style scoped>\n",
       "    .dataframe tbody tr th:only-of-type {\n",
       "        vertical-align: middle;\n",
       "    }\n",
       "\n",
       "    .dataframe tbody tr th {\n",
       "        vertical-align: top;\n",
       "    }\n",
       "\n",
       "    .dataframe thead th {\n",
       "        text-align: right;\n",
       "    }\n",
       "</style>\n",
       "<table border=\"1\" class=\"dataframe\">\n",
       "  <thead>\n",
       "    <tr style=\"text-align: right;\">\n",
       "      <th></th>\n",
       "      <th>2022</th>\n",
       "      <th>2015</th>\n",
       "      <th>2016</th>\n",
       "    </tr>\n",
       "  </thead>\n",
       "  <tbody>\n",
       "    <tr>\n",
       "      <th>77</th>\n",
       "      <td>1.044876e+06</td>\n",
       "      <td>1.045359e+06</td>\n",
       "      <td>1.110741e+06</td>\n",
       "    </tr>\n",
       "    <tr>\n",
       "      <th>78</th>\n",
       "      <td>2.649569e+05</td>\n",
       "      <td>2.698061e+05</td>\n",
       "      <td>2.712477e+05</td>\n",
       "    </tr>\n",
       "    <tr>\n",
       "      <th>79</th>\n",
       "      <td>6.568331e+05</td>\n",
       "      <td>6.495921e+05</td>\n",
       "      <td>6.639420e+05</td>\n",
       "    </tr>\n",
       "    <tr>\n",
       "      <th>8</th>\n",
       "      <td>4.946913e+05</td>\n",
       "      <td>4.991734e+05</td>\n",
       "      <td>5.052960e+05</td>\n",
       "    </tr>\n",
       "    <tr>\n",
       "      <th>80</th>\n",
       "      <td>1.663322e+06</td>\n",
       "      <td>1.646083e+06</td>\n",
       "      <td>1.702770e+06</td>\n",
       "    </tr>\n",
       "    <tr>\n",
       "      <th>81</th>\n",
       "      <td>2.136837e+05</td>\n",
       "      <td>2.205049e+05</td>\n",
       "      <td>2.239874e+05</td>\n",
       "    </tr>\n",
       "    <tr>\n",
       "      <th>82</th>\n",
       "      <td>2.219188e+05</td>\n",
       "      <td>2.195720e+05</td>\n",
       "      <td>2.263666e+05</td>\n",
       "    </tr>\n",
       "    <tr>\n",
       "      <th>83</th>\n",
       "      <td>1.376461e+04</td>\n",
       "      <td>1.359094e+04</td>\n",
       "      <td>2.394708e+04</td>\n",
       "    </tr>\n",
       "    <tr>\n",
       "      <th>84</th>\n",
       "      <td>1.077197e+03</td>\n",
       "      <td>1.012506e+04</td>\n",
       "      <td>8.295407e+03</td>\n",
       "    </tr>\n",
       "    <tr>\n",
       "      <th>85</th>\n",
       "      <td>5.144902e+05</td>\n",
       "      <td>5.045422e+05</td>\n",
       "      <td>5.026296e+05</td>\n",
       "    </tr>\n",
       "    <tr>\n",
       "      <th>86</th>\n",
       "      <td>8.344273e+05</td>\n",
       "      <td>8.102574e+05</td>\n",
       "      <td>8.337512e+05</td>\n",
       "    </tr>\n",
       "    <tr>\n",
       "      <th>87</th>\n",
       "      <td>5.879516e+04</td>\n",
       "      <td>5.915313e+04</td>\n",
       "      <td>6.311140e+04</td>\n",
       "    </tr>\n",
       "    <tr>\n",
       "      <th>88</th>\n",
       "      <td>1.556149e+05</td>\n",
       "      <td>1.443248e+05</td>\n",
       "      <td>1.559152e+05</td>\n",
       "    </tr>\n",
       "    <tr>\n",
       "      <th>89</th>\n",
       "      <td>8.143422e+05</td>\n",
       "      <td>7.895130e+05</td>\n",
       "      <td>8.215657e+05</td>\n",
       "    </tr>\n",
       "    <tr>\n",
       "      <th>9</th>\n",
       "      <td>4.122326e+04</td>\n",
       "      <td>2.648934e+04</td>\n",
       "      <td>4.958719e+04</td>\n",
       "    </tr>\n",
       "    <tr>\n",
       "      <th>90</th>\n",
       "      <td>1.741217e+04</td>\n",
       "      <td>2.493488e+04</td>\n",
       "      <td>3.242784e+04</td>\n",
       "    </tr>\n",
       "    <tr>\n",
       "      <th>91</th>\n",
       "      <td>2.425577e+05</td>\n",
       "      <td>2.439040e+05</td>\n",
       "      <td>2.418591e+05</td>\n",
       "    </tr>\n",
       "    <tr>\n",
       "      <th>93</th>\n",
       "      <td>1.557275e+04</td>\n",
       "      <td>1.539908e+04</td>\n",
       "      <td>2.575522e+04</td>\n",
       "    </tr>\n",
       "    <tr>\n",
       "      <th>94</th>\n",
       "      <td>-4.022633e+03</td>\n",
       "      <td>6.489628e+03</td>\n",
       "      <td>6.385217e+02</td>\n",
       "    </tr>\n",
       "    <tr>\n",
       "      <th>95</th>\n",
       "      <td>1.876617e+05</td>\n",
       "      <td>1.860458e+05</td>\n",
       "      <td>1.890190e+05</td>\n",
       "    </tr>\n",
       "  </tbody>\n",
       "</table>\n",
       "</div>"
      ],
      "text/plain": [
       "            2022          2015          2016\n",
       "77  1.044876e+06  1.045359e+06  1.110741e+06\n",
       "78  2.649569e+05  2.698061e+05  2.712477e+05\n",
       "79  6.568331e+05  6.495921e+05  6.639420e+05\n",
       "8   4.946913e+05  4.991734e+05  5.052960e+05\n",
       "80  1.663322e+06  1.646083e+06  1.702770e+06\n",
       "81  2.136837e+05  2.205049e+05  2.239874e+05\n",
       "82  2.219188e+05  2.195720e+05  2.263666e+05\n",
       "83  1.376461e+04  1.359094e+04  2.394708e+04\n",
       "84  1.077197e+03  1.012506e+04  8.295407e+03\n",
       "85  5.144902e+05  5.045422e+05  5.026296e+05\n",
       "86  8.344273e+05  8.102574e+05  8.337512e+05\n",
       "87  5.879516e+04  5.915313e+04  6.311140e+04\n",
       "88  1.556149e+05  1.443248e+05  1.559152e+05\n",
       "89  8.143422e+05  7.895130e+05  8.215657e+05\n",
       "9   4.122326e+04  2.648934e+04  4.958719e+04\n",
       "90  1.741217e+04  2.493488e+04  3.242784e+04\n",
       "91  2.425577e+05  2.439040e+05  2.418591e+05\n",
       "93  1.557275e+04  1.539908e+04  2.575522e+04\n",
       "94 -4.022633e+03  6.489628e+03  6.385217e+02\n",
       "95  1.876617e+05  1.860458e+05  1.890190e+05"
      ]
     },
     "execution_count": 566,
     "metadata": {},
     "output_type": "execute_result"
    }
   ],
   "source": [
    "pred_comp.tail(20)"
   ]
  },
  {
   "cell_type": "code",
   "execution_count": 569,
   "id": "d827a90c",
   "metadata": {
    "ExecuteTime": {
     "end_time": "2022-03-08T13:30:37.478314Z",
     "start_time": "2022-03-08T13:30:37.441814Z"
    }
   },
   "outputs": [
    {
     "data": {
      "text/plain": [
       "2015-76    1140150.0\n",
       "2015-77    1261975.5\n",
       "2015-78     325771.5\n",
       "2015-79     762900.0\n",
       "2015-80    2006548.2\n",
       "2015-81     242453.0\n",
       "2015-82     253575.0\n",
       "2015-83       1211.0\n",
       "2015-84       9885.6\n",
       "2015-85     603367.2\n",
       "2015-86     951896.0\n",
       "2015-87      80100.0\n",
       "2015-88     189468.7\n",
       "2015-89     956300.0\n",
       "2015-90      19428.5\n",
       "2015-91     286184.0\n",
       "2015-93       3094.0\n",
       "2015-94       4191.5\n",
       "2015-95     229547.5\n",
       "2015-20        367.5\n",
       "Name: Production, dtype: float64"
      ]
     },
     "execution_count": 569,
     "metadata": {},
     "output_type": "execute_result"
    }
   ],
   "source": [
    "df_2015['Production'].tail(20)"
   ]
  },
  {
   "cell_type": "code",
   "execution_count": 570,
   "id": "376a9d77",
   "metadata": {
    "ExecuteTime": {
     "end_time": "2022-03-08T13:30:52.024227Z",
     "start_time": "2022-03-08T13:30:51.991822Z"
    }
   },
   "outputs": [
    {
     "data": {
      "text/plain": [
       "2016-76     754850.0\n",
       "2016-77     559980.0\n",
       "2016-78     183100.0\n",
       "2016-79     603060.0\n",
       "2016-80    1158140.0\n",
       "2016-81     217749.0\n",
       "2016-82     237376.0\n",
       "2016-83       1681.0\n",
       "2016-84       9468.0\n",
       "2016-85     510691.4\n",
       "2016-86     678786.0\n",
       "2016-87      56745.0\n",
       "2016-88     112609.0\n",
       "2016-89     480366.0\n",
       "2016-90      14827.5\n",
       "2016-91     150885.0\n",
       "2016-93       1950.0\n",
       "2016-94       2092.5\n",
       "2016-95     123550.0\n",
       "2016-20        234.0\n",
       "Name: Production, dtype: float64"
      ]
     },
     "execution_count": 570,
     "metadata": {},
     "output_type": "execute_result"
    }
   ],
   "source": [
    "df_2016['Production'].tail(20)"
   ]
  },
  {
   "cell_type": "code",
   "execution_count": 572,
   "id": "14cc9672",
   "metadata": {
    "ExecuteTime": {
     "end_time": "2022-03-08T13:31:53.442546Z",
     "start_time": "2022-03-08T13:31:52.812763Z"
    }
   },
   "outputs": [],
   "source": [
    "import seaborn as sns"
   ]
  },
  {
   "cell_type": "code",
   "execution_count": null,
   "id": "046cedd3",
   "metadata": {},
   "outputs": [],
   "source": []
  },
  {
   "cell_type": "code",
   "execution_count": 574,
   "id": "2b0a455f",
   "metadata": {
    "ExecuteTime": {
     "end_time": "2022-03-08T13:32:26.745486Z",
     "start_time": "2022-03-08T13:32:26.711977Z"
    },
    "scrolled": true
   },
   "outputs": [
    {
     "data": {
      "text/plain": [
       "2010-80    1627936.5\n",
       "2011-80    1655618.0\n",
       "2012-80    1685247.0\n",
       "2013-80    1836605.0\n",
       "2014-80    1815050.0\n",
       "2015-80    2006548.2\n",
       "2016-80    1158140.0\n",
       "2017-80    1686669.0\n",
       "2018-80    1593900.0\n",
       "2019-80    1831125.0\n",
       "2020-80    1678514.0\n",
       "Name: Production, dtype: float64"
      ]
     },
     "execution_count": 574,
     "metadata": {},
     "output_type": "execute_result"
    }
   ],
   "source": [
    "y_train[y_train.index.str[5:]=='80']"
   ]
  },
  {
   "cell_type": "code",
   "execution_count": 573,
   "id": "231d26cc",
   "metadata": {
    "ExecuteTime": {
     "end_time": "2022-03-08T13:32:03.374878Z",
     "start_time": "2022-03-08T13:32:03.236163Z"
    },
    "scrolled": true
   },
   "outputs": [
    {
     "data": {
      "text/plain": [
       "<AxesSubplot:xlabel='Production', ylabel='Count'>"
      ]
     },
     "execution_count": 573,
     "metadata": {},
     "output_type": "execute_result"
    },
    {
     "data": {
      "image/png": "[encoded data removed]",
      "text/plain": [
       "<Figure size 432x288 with 1 Axes>"
      ]
     },
     "metadata": {
      "needs_background": "light"
     },
     "output_type": "display_data"
    }
   ],
   "source": [
    "sns.histplot(y_train[y_train.index.str[5:]=='80'])"
   ]
  },
  {
   "cell_type": "markdown",
   "id": "85983e95",
   "metadata": {},
   "source": [
    "# Essai de prediction d'une année pourrie"
   ]
  },
  {
   "cell_type": "code",
   "execution_count": 353,
   "id": "a33a103f",
   "metadata": {
    "ExecuteTime": {
     "end_time": "2022-03-08T09:28:56.896186Z",
     "start_time": "2022-03-08T09:28:56.866331Z"
    }
   },
   "outputs": [],
   "source": [
    "full_df['year'] = full_df.index.astype(str).str[:4]"
   ]
  },
  {
   "cell_type": "code",
   "execution_count": 354,
   "id": "667799a0",
   "metadata": {
    "ExecuteTime": {
     "end_time": "2022-03-08T09:29:07.485302Z",
     "start_time": "2022-03-08T09:29:07.453771Z"
    }
   },
   "outputs": [],
   "source": [
    "df_2016=full_df[full_df['year']=='2016']"
   ]
  },
  {
   "cell_type": "code",
   "execution_count": 500,
   "id": "96776374",
   "metadata": {
    "ExecuteTime": {
     "end_time": "2022-03-08T11:45:24.836850Z",
     "start_time": "2022-03-08T11:45:24.790003Z"
    }
   },
   "outputs": [
    {
     "data": {
      "text/html": [
       "<div>\n",
       "<style scoped>\n",
       "    .dataframe tbody tr th:only-of-type {\n",
       "        vertical-align: middle;\n",
       "    }\n",
       "\n",
       "    .dataframe tbody tr th {\n",
       "        vertical-align: top;\n",
       "    }\n",
       "\n",
       "    .dataframe thead th {\n",
       "        text-align: right;\n",
       "    }\n",
       "</style>\n",
       "<table border=\"1\" class=\"dataframe\">\n",
       "  <thead>\n",
       "    <tr style=\"text-align: right;\">\n",
       "      <th></th>\n",
       "      <th>Agriculteur</th>\n",
       "      <th>Production</th>\n",
       "      <th>RatioSep</th>\n",
       "      <th>RatioOct</th>\n",
       "      <th>Prix_matos</th>\n",
       "      <th>Prod_n-1</th>\n",
       "      <th>tmax_c 01</th>\n",
       "      <th>tmax_c 02</th>\n",
       "      <th>tmax_c 03</th>\n",
       "      <th>tmax_c 04</th>\n",
       "      <th>...</th>\n",
       "      <th>dpt_86</th>\n",
       "      <th>dpt_87</th>\n",
       "      <th>dpt_88</th>\n",
       "      <th>dpt_89</th>\n",
       "      <th>dpt_9</th>\n",
       "      <th>dpt_90</th>\n",
       "      <th>dpt_91</th>\n",
       "      <th>dpt_93</th>\n",
       "      <th>dpt_94</th>\n",
       "      <th>dpt_95</th>\n",
       "    </tr>\n",
       "  </thead>\n",
       "  <tbody>\n",
       "    <tr>\n",
       "      <th>2016-1</th>\n",
       "      <td>2293.504834</td>\n",
       "      <td>206530.0</td>\n",
       "      <td>1.02</td>\n",
       "      <td>1.03681</td>\n",
       "      <td>96.525</td>\n",
       "      <td>242910.0</td>\n",
       "      <td>7.0</td>\n",
       "      <td>5.0</td>\n",
       "      <td>4.0</td>\n",
       "      <td>4.0</td>\n",
       "      <td>...</td>\n",
       "      <td>0</td>\n",
       "      <td>0</td>\n",
       "      <td>0</td>\n",
       "      <td>0</td>\n",
       "      <td>0</td>\n",
       "      <td>0</td>\n",
       "      <td>0</td>\n",
       "      <td>0</td>\n",
       "      <td>0</td>\n",
       "      <td>0</td>\n",
       "    </tr>\n",
       "    <tr>\n",
       "      <th>2016-2</th>\n",
       "      <td>2840.275814</td>\n",
       "      <td>984250.0</td>\n",
       "      <td>1.02</td>\n",
       "      <td>1.03681</td>\n",
       "      <td>96.525</td>\n",
       "      <td>1793629.5</td>\n",
       "      <td>6.0</td>\n",
       "      <td>6.0</td>\n",
       "      <td>4.0</td>\n",
       "      <td>3.0</td>\n",
       "      <td>...</td>\n",
       "      <td>0</td>\n",
       "      <td>0</td>\n",
       "      <td>0</td>\n",
       "      <td>0</td>\n",
       "      <td>0</td>\n",
       "      <td>0</td>\n",
       "      <td>0</td>\n",
       "      <td>0</td>\n",
       "      <td>0</td>\n",
       "      <td>0</td>\n",
       "    </tr>\n",
       "    <tr>\n",
       "      <th>2016-3</th>\n",
       "      <td>3432.712261</td>\n",
       "      <td>283560.0</td>\n",
       "      <td>1.02</td>\n",
       "      <td>1.03681</td>\n",
       "      <td>96.525</td>\n",
       "      <td>306460.0</td>\n",
       "      <td>4.0</td>\n",
       "      <td>3.0</td>\n",
       "      <td>4.0</td>\n",
       "      <td>5.0</td>\n",
       "      <td>...</td>\n",
       "      <td>0</td>\n",
       "      <td>0</td>\n",
       "      <td>0</td>\n",
       "      <td>0</td>\n",
       "      <td>0</td>\n",
       "      <td>0</td>\n",
       "      <td>0</td>\n",
       "      <td>0</td>\n",
       "      <td>0</td>\n",
       "      <td>0</td>\n",
       "    </tr>\n",
       "    <tr>\n",
       "      <th>2016-4</th>\n",
       "      <td>1348.743951</td>\n",
       "      <td>9424.7</td>\n",
       "      <td>1.02</td>\n",
       "      <td>1.03681</td>\n",
       "      <td>96.525</td>\n",
       "      <td>9727.0</td>\n",
       "      <td>6.0</td>\n",
       "      <td>5.0</td>\n",
       "      <td>5.0</td>\n",
       "      <td>5.0</td>\n",
       "      <td>...</td>\n",
       "      <td>0</td>\n",
       "      <td>0</td>\n",
       "      <td>0</td>\n",
       "      <td>0</td>\n",
       "      <td>0</td>\n",
       "      <td>0</td>\n",
       "      <td>0</td>\n",
       "      <td>0</td>\n",
       "      <td>0</td>\n",
       "      <td>0</td>\n",
       "    </tr>\n",
       "    <tr>\n",
       "      <th>2016-5</th>\n",
       "      <td>1188.331678</td>\n",
       "      <td>14586.1</td>\n",
       "      <td>1.02</td>\n",
       "      <td>1.03681</td>\n",
       "      <td>96.525</td>\n",
       "      <td>15085.7</td>\n",
       "      <td>4.0</td>\n",
       "      <td>4.0</td>\n",
       "      <td>5.0</td>\n",
       "      <td>7.0</td>\n",
       "      <td>...</td>\n",
       "      <td>0</td>\n",
       "      <td>0</td>\n",
       "      <td>0</td>\n",
       "      <td>0</td>\n",
       "      <td>0</td>\n",
       "      <td>0</td>\n",
       "      <td>0</td>\n",
       "      <td>0</td>\n",
       "      <td>0</td>\n",
       "      <td>0</td>\n",
       "    </tr>\n",
       "    <tr>\n",
       "      <th>...</th>\n",
       "      <td>...</td>\n",
       "      <td>...</td>\n",
       "      <td>...</td>\n",
       "      <td>...</td>\n",
       "      <td>...</td>\n",
       "      <td>...</td>\n",
       "      <td>...</td>\n",
       "      <td>...</td>\n",
       "      <td>...</td>\n",
       "      <td>...</td>\n",
       "      <td>...</td>\n",
       "      <td>...</td>\n",
       "      <td>...</td>\n",
       "      <td>...</td>\n",
       "      <td>...</td>\n",
       "      <td>...</td>\n",
       "      <td>...</td>\n",
       "      <td>...</td>\n",
       "      <td>...</td>\n",
       "      <td>...</td>\n",
       "      <td>...</td>\n",
       "    </tr>\n",
       "    <tr>\n",
       "      <th>2016-91</th>\n",
       "      <td>478.649154</td>\n",
       "      <td>150885.0</td>\n",
       "      <td>1.02</td>\n",
       "      <td>1.03681</td>\n",
       "      <td>96.525</td>\n",
       "      <td>286184.0</td>\n",
       "      <td>5.0</td>\n",
       "      <td>3.0</td>\n",
       "      <td>7.0</td>\n",
       "      <td>3.0</td>\n",
       "      <td>...</td>\n",
       "      <td>0</td>\n",
       "      <td>0</td>\n",
       "      <td>0</td>\n",
       "      <td>0</td>\n",
       "      <td>0</td>\n",
       "      <td>0</td>\n",
       "      <td>1</td>\n",
       "      <td>0</td>\n",
       "      <td>0</td>\n",
       "      <td>0</td>\n",
       "    </tr>\n",
       "    <tr>\n",
       "      <th>2016-93</th>\n",
       "      <td>63.923775</td>\n",
       "      <td>1950.0</td>\n",
       "      <td>1.02</td>\n",
       "      <td>1.03681</td>\n",
       "      <td>96.525</td>\n",
       "      <td>3094.0</td>\n",
       "      <td>6.0</td>\n",
       "      <td>10.0</td>\n",
       "      <td>8.0</td>\n",
       "      <td>8.0</td>\n",
       "      <td>...</td>\n",
       "      <td>0</td>\n",
       "      <td>0</td>\n",
       "      <td>0</td>\n",
       "      <td>0</td>\n",
       "      <td>0</td>\n",
       "      <td>0</td>\n",
       "      <td>0</td>\n",
       "      <td>1</td>\n",
       "      <td>0</td>\n",
       "      <td>0</td>\n",
       "    </tr>\n",
       "    <tr>\n",
       "      <th>2016-94</th>\n",
       "      <td>57.523212</td>\n",
       "      <td>2092.5</td>\n",
       "      <td>1.02</td>\n",
       "      <td>1.03681</td>\n",
       "      <td>96.525</td>\n",
       "      <td>4191.5</td>\n",
       "      <td>5.0</td>\n",
       "      <td>8.0</td>\n",
       "      <td>7.0</td>\n",
       "      <td>3.0</td>\n",
       "      <td>...</td>\n",
       "      <td>0</td>\n",
       "      <td>0</td>\n",
       "      <td>0</td>\n",
       "      <td>0</td>\n",
       "      <td>0</td>\n",
       "      <td>0</td>\n",
       "      <td>0</td>\n",
       "      <td>0</td>\n",
       "      <td>1</td>\n",
       "      <td>0</td>\n",
       "    </tr>\n",
       "    <tr>\n",
       "      <th>2016-95</th>\n",
       "      <td>312.441936</td>\n",
       "      <td>123550.0</td>\n",
       "      <td>1.02</td>\n",
       "      <td>1.03681</td>\n",
       "      <td>96.525</td>\n",
       "      <td>229547.5</td>\n",
       "      <td>4.0</td>\n",
       "      <td>7.0</td>\n",
       "      <td>4.0</td>\n",
       "      <td>4.0</td>\n",
       "      <td>...</td>\n",
       "      <td>0</td>\n",
       "      <td>0</td>\n",
       "      <td>0</td>\n",
       "      <td>0</td>\n",
       "      <td>0</td>\n",
       "      <td>0</td>\n",
       "      <td>0</td>\n",
       "      <td>0</td>\n",
       "      <td>0</td>\n",
       "      <td>1</td>\n",
       "    </tr>\n",
       "    <tr>\n",
       "      <th>2016-20</th>\n",
       "      <td>1656.156739</td>\n",
       "      <td>234.0</td>\n",
       "      <td>1.02</td>\n",
       "      <td>1.03681</td>\n",
       "      <td>96.525</td>\n",
       "      <td>367.5</td>\n",
       "      <td>8.0</td>\n",
       "      <td>6.0</td>\n",
       "      <td>4.0</td>\n",
       "      <td>7.0</td>\n",
       "      <td>...</td>\n",
       "      <td>0</td>\n",
       "      <td>0</td>\n",
       "      <td>0</td>\n",
       "      <td>0</td>\n",
       "      <td>0</td>\n",
       "      <td>0</td>\n",
       "      <td>0</td>\n",
       "      <td>0</td>\n",
       "      <td>0</td>\n",
       "      <td>0</td>\n",
       "    </tr>\n",
       "  </tbody>\n",
       "</table>\n",
       "<p>93 rows × 216 columns</p>\n",
       "</div>"
      ],
      "text/plain": [
       "         Agriculteur  Production  RatioSep  RatioOct  Prix_matos   Prod_n-1  \\\n",
       "2016-1   2293.504834    206530.0      1.02   1.03681      96.525   242910.0   \n",
       "2016-2   2840.275814    984250.0      1.02   1.03681      96.525  1793629.5   \n",
       "2016-3   3432.712261    283560.0      1.02   1.03681      96.525   306460.0   \n",
       "2016-4   1348.743951      9424.7      1.02   1.03681      96.525     9727.0   \n",
       "2016-5   1188.331678     14586.1      1.02   1.03681      96.525    15085.7   \n",
       "...              ...         ...       ...       ...         ...        ...   \n",
       "2016-91   478.649154    150885.0      1.02   1.03681      96.525   286184.0   \n",
       "2016-93    63.923775      1950.0      1.02   1.03681      96.525     3094.0   \n",
       "2016-94    57.523212      2092.5      1.02   1.03681      96.525     4191.5   \n",
       "2016-95   312.441936    123550.0      1.02   1.03681      96.525   229547.5   \n",
       "2016-20  1656.156739       234.0      1.02   1.03681      96.525      367.5   \n",
       "\n",
       "         tmax_c 01  tmax_c 02  tmax_c 03  tmax_c 04  ...  dpt_86  dpt_87  \\\n",
       "2016-1         7.0        5.0        4.0        4.0  ...       0       0   \n",
       "2016-2         6.0        6.0        4.0        3.0  ...       0       0   \n",
       "2016-3         4.0        3.0        4.0        5.0  ...       0       0   \n",
       "2016-4         6.0        5.0        5.0        5.0  ...       0       0   \n",
       "2016-5         4.0        4.0        5.0        7.0  ...       0       0   \n",
       "...            ...        ...        ...        ...  ...     ...     ...   \n",
       "2016-91        5.0        3.0        7.0        3.0  ...       0       0   \n",
       "2016-93        6.0       10.0        8.0        8.0  ...       0       0   \n",
       "2016-94        5.0        8.0        7.0        3.0  ...       0       0   \n",
       "2016-95        4.0        7.0        4.0        4.0  ...       0       0   \n",
       "2016-20        8.0        6.0        4.0        7.0  ...       0       0   \n",
       "\n",
       "         dpt_88  dpt_89  dpt_9  dpt_90  dpt_91  dpt_93  dpt_94  dpt_95  \n",
       "2016-1        0       0      0       0       0       0       0       0  \n",
       "2016-2        0       0      0       0       0       0       0       0  \n",
       "2016-3        0       0      0       0       0       0       0       0  \n",
       "2016-4        0       0      0       0       0       0       0       0  \n",
       "2016-5        0       0      0       0       0       0       0       0  \n",
       "...         ...     ...    ...     ...     ...     ...     ...     ...  \n",
       "2016-91       0       0      0       0       1       0       0       0  \n",
       "2016-93       0       0      0       0       0       1       0       0  \n",
       "2016-94       0       0      0       0       0       0       1       0  \n",
       "2016-95       0       0      0       0       0       0       0       1  \n",
       "2016-20       0       0      0       0       0       0       0       0  \n",
       "\n",
       "[93 rows x 216 columns]"
      ]
     },
     "execution_count": 500,
     "metadata": {},
     "output_type": "execute_result"
    }
   ],
   "source": [
    "df_2016"
   ]
  },
  {
   "cell_type": "code",
   "execution_count": 356,
   "id": "268293e7",
   "metadata": {
    "ExecuteTime": {
     "end_time": "2022-03-08T09:29:40.115149Z",
     "start_time": "2022-03-08T09:29:40.081552Z"
    }
   },
   "outputs": [],
   "source": [
    "df_2016=df_2016.drop(columns=['Production','year'])\n",
    "full_df=full_df.drop(columns=['year'])"
   ]
  },
  {
   "cell_type": "code",
   "execution_count": 360,
   "id": "3fd66cb0",
   "metadata": {
    "ExecuteTime": {
     "end_time": "2022-03-08T09:31:29.399542Z",
     "start_time": "2022-03-08T09:31:29.359556Z"
    }
   },
   "outputs": [
    {
     "data": {
      "text/plain": [
       "28421922.195501875"
      ]
     },
     "execution_count": 360,
     "metadata": {},
     "output_type": "execute_result"
    }
   ],
   "source": [
    "pipe.predict(df_2016).sum()"
   ]
  },
  {
   "cell_type": "markdown",
   "id": "1d52379d",
   "metadata": {},
   "source": [
    "La prod de l'année 2016 n'est retrouvé qu'avec un modèle qui prend toutes les features. Il faut pouvoir cross valider nos données. On va essayer la meme chose avec 'Prod_n-1' en moins pour ne pas dataleak"
   ]
  },
  {
   "cell_type": "code",
   "execution_count": 391,
   "id": "a75932c9",
   "metadata": {
    "ExecuteTime": {
     "end_time": "2022-03-08T09:47:56.949572Z",
     "start_time": "2022-03-08T09:47:56.915002Z"
    }
   },
   "outputs": [],
   "source": [
    "ensemble = StackingRegressor(\n",
    "    estimators = [\n",
    "                (\"LineReg\", LinearRegression()),\n",
    "                  (\"XGB\", XGBRegressor())],\n",
    "    final_estimator = LinearRegression())\n",
    "pipe=Pipeline([('Scaler',RobustScaler()),\n",
    "     ('model',LinearRegression())])"
   ]
  },
  {
   "cell_type": "code",
   "execution_count": 392,
   "id": "58c8ef8e",
   "metadata": {
    "ExecuteTime": {
     "end_time": "2022-03-08T09:48:06.219303Z",
     "start_time": "2022-03-08T09:48:06.184264Z"
    }
   },
   "outputs": [],
   "source": [
    "X_test=full_df.drop(columns=['Production','Prod_n-1'])\n",
    "#X_test=full_df[['Surface_n-1','Agriculteur','windspeed_max sept-jan_n-1']]\n",
    "y_test=full_df['Production']\n",
    "X_train=full_df.drop(columns=['Production','Prod_n-1'])\n",
    "#X_train=full_df[['Surface_n-1','Agriculteur','windspeed_max sept-jan_n-1']]\n",
    "y_train=full_df['Production']"
   ]
  },
  {
   "cell_type": "code",
   "execution_count": 393,
   "id": "fb37bb18",
   "metadata": {
    "ExecuteTime": {
     "end_time": "2022-03-08T09:48:07.048570Z",
     "start_time": "2022-03-08T09:48:06.918865Z"
    }
   },
   "outputs": [
    {
     "data": {
      "text/html": [
       "<style>#sk-22e28a97-80a7-479c-b03b-29c9475c2f04 {color: black;background-color: white;}#sk-22e28a97-80a7-479c-b03b-29c9475c2f04 pre{padding: 0;}#sk-22e28a97-80a7-479c-b03b-29c9475c2f04 div.sk-toggleable {background-color: white;}#sk-22e28a97-80a7-479c-b03b-29c9475c2f04 label.sk-toggleable__label {cursor: pointer;display: block;width: 100%;margin-bottom: 0;padding: 0.3em;box-sizing: border-box;text-align: center;}#sk-22e28a97-80a7-479c-b03b-29c9475c2f04 label.sk-toggleable__label-arrow:before {content: \"▸\";float: left;margin-right: 0.25em;color: #696969;}#sk-22e28a97-80a7-479c-b03b-29c9475c2f04 label.sk-toggleable__label-arrow:hover:before {color: black;}#sk-22e28a97-80a7-479c-b03b-29c9475c2f04 div.sk-estimator:hover label.sk-toggleable__label-arrow:before {color: black;}#sk-22e28a97-80a7-479c-b03b-29c9475c2f04 div.sk-toggleable__content {max-height: 0;max-width: 0;overflow: hidden;text-align: left;background-color: #f0f8ff;}#sk-22e28a97-80a7-479c-b03b-29c9475c2f04 div.sk-toggleable__content pre {margin: 0.2em;color: black;border-radius: 0.25em;background-color: #f0f8ff;}#sk-22e28a97-80a7-479c-b03b-29c9475c2f04 input.sk-toggleable__control:checked~div.sk-toggleable__content {max-height: 200px;max-width: 100%;overflow: auto;}#sk-22e28a97-80a7-479c-b03b-29c9475c2f04 input.sk-toggleable__control:checked~label.sk-toggleable__label-arrow:before {content: \"▾\";}#sk-22e28a97-80a7-479c-b03b-29c9475c2f04 div.sk-estimator input.sk-toggleable__control:checked~label.sk-toggleable__label {background-color: #d4ebff;}#sk-22e28a97-80a7-479c-b03b-29c9475c2f04 div.sk-label input.sk-toggleable__control:checked~label.sk-toggleable__label {background-color: #d4ebff;}#sk-22e28a97-80a7-479c-b03b-29c9475c2f04 input.sk-hidden--visually {border: 0;clip: rect(1px 1px 1px 1px);clip: rect(1px, 1px, 1px, 1px);height: 1px;margin: -1px;overflow: hidden;padding: 0;position: absolute;width: 1px;}#sk-22e28a97-80a7-479c-b03b-29c9475c2f04 div.sk-estimator {font-family: monospace;background-color: #f0f8ff;border: 1px dotted black;border-radius: 0.25em;box-sizing: border-box;margin-bottom: 0.5em;}#sk-22e28a97-80a7-479c-b03b-29c9475c2f04 div.sk-estimator:hover {background-color: #d4ebff;}#sk-22e28a97-80a7-479c-b03b-29c9475c2f04 div.sk-parallel-item::after {content: \"\";width: 100%;border-bottom: 1px solid gray;flex-grow: 1;}#sk-22e28a97-80a7-479c-b03b-29c9475c2f04 div.sk-label:hover label.sk-toggleable__label {background-color: #d4ebff;}#sk-22e28a97-80a7-479c-b03b-29c9475c2f04 div.sk-serial::before {content: \"\";position: absolute;border-left: 1px solid gray;box-sizing: border-box;top: 2em;bottom: 0;left: 50%;}#sk-22e28a97-80a7-479c-b03b-29c9475c2f04 div.sk-serial {display: flex;flex-direction: column;align-items: center;background-color: white;padding-right: 0.2em;padding-left: 0.2em;}#sk-22e28a97-80a7-479c-b03b-29c9475c2f04 div.sk-item {z-index: 1;}#sk-22e28a97-80a7-479c-b03b-29c9475c2f04 div.sk-parallel {display: flex;align-items: stretch;justify-content: center;background-color: white;}#sk-22e28a97-80a7-479c-b03b-29c9475c2f04 div.sk-parallel::before {content: \"\";position: absolute;border-left: 1px solid gray;box-sizing: border-box;top: 2em;bottom: 0;left: 50%;}#sk-22e28a97-80a7-479c-b03b-29c9475c2f04 div.sk-parallel-item {display: flex;flex-direction: column;position: relative;background-color: white;}#sk-22e28a97-80a7-479c-b03b-29c9475c2f04 div.sk-parallel-item:first-child::after {align-self: flex-end;width: 50%;}#sk-22e28a97-80a7-479c-b03b-29c9475c2f04 div.sk-parallel-item:last-child::after {align-self: flex-start;width: 50%;}#sk-22e28a97-80a7-479c-b03b-29c9475c2f04 div.sk-parallel-item:only-child::after {width: 0;}#sk-22e28a97-80a7-479c-b03b-29c9475c2f04 div.sk-dashed-wrapped {border: 1px dashed gray;margin: 0 0.4em 0.5em 0.4em;box-sizing: border-box;padding-bottom: 0.4em;background-color: white;position: relative;}#sk-22e28a97-80a7-479c-b03b-29c9475c2f04 div.sk-label label {font-family: monospace;font-weight: bold;background-color: white;display: inline-block;line-height: 1.2em;}#sk-22e28a97-80a7-479c-b03b-29c9475c2f04 div.sk-label-container {position: relative;z-index: 2;text-align: center;}#sk-22e28a97-80a7-479c-b03b-29c9475c2f04 div.sk-container {/* jupyter's `normalize.less` sets `[hidden] { display: none; }` but bootstrap.min.css set `[hidden] { display: none !important; }` so we also need the `!important` here to be able to override the default hidden behavior on the sphinx rendered scikit-learn.org. See: https://github.com/scikit-learn/scikit-learn/issues/21755 */display: inline-block !important;position: relative;}#sk-22e28a97-80a7-479c-b03b-29c9475c2f04 div.sk-text-repr-fallback {display: none;}</style><div id=\"sk-22e28a97-80a7-479c-b03b-29c9475c2f04\" class=\"sk-top-container\"><div class=\"sk-text-repr-fallback\"><pre>Pipeline(steps=[(&#x27;Scaler&#x27;, RobustScaler()), (&#x27;model&#x27;, LinearRegression())])</pre><b>Please rerun this cell to show the HTML repr or trust the notebook.</b></div><div class=\"sk-container\" hidden><div class=\"sk-item sk-dashed-wrapped\"><div class=\"sk-label-container\"><div class=\"sk-label sk-toggleable\"><input class=\"sk-toggleable__control sk-hidden--visually\" id=\"16cd9fe7-772e-43dc-8734-fea9a3222f2c\" type=\"checkbox\" ><label for=\"16cd9fe7-772e-43dc-8734-fea9a3222f2c\" class=\"sk-toggleable__label sk-toggleable__label-arrow\">Pipeline</label><div class=\"sk-toggleable__content\"><pre>Pipeline(steps=[(&#x27;Scaler&#x27;, RobustScaler()), (&#x27;model&#x27;, LinearRegression())])</pre></div></div></div><div class=\"sk-serial\"><div class=\"sk-item\"><div class=\"sk-estimator sk-toggleable\"><input class=\"sk-toggleable__control sk-hidden--visually\" id=\"90a00ac3-1694-4bbc-8f76-d7d6d4ac7367\" type=\"checkbox\" ><label for=\"90a00ac3-1694-4bbc-8f76-d7d6d4ac7367\" class=\"sk-toggleable__label sk-toggleable__label-arrow\">RobustScaler</label><div class=\"sk-toggleable__content\"><pre>RobustScaler()</pre></div></div></div><div class=\"sk-item\"><div class=\"sk-estimator sk-toggleable\"><input class=\"sk-toggleable__control sk-hidden--visually\" id=\"a35a06a2-2836-4e96-a194-13fd613abed6\" type=\"checkbox\" ><label for=\"a35a06a2-2836-4e96-a194-13fd613abed6\" class=\"sk-toggleable__label sk-toggleable__label-arrow\">LinearRegression</label><div class=\"sk-toggleable__content\"><pre>LinearRegression()</pre></div></div></div></div></div></div></div>"
      ],
      "text/plain": [
       "Pipeline(steps=[('Scaler', RobustScaler()), ('model', LinearRegression())])"
      ]
     },
     "execution_count": 393,
     "metadata": {},
     "output_type": "execute_result"
    }
   ],
   "source": [
    "pipe.fit(X_train,y_train)"
   ]
  },
  {
   "cell_type": "code",
   "execution_count": 394,
   "id": "a4b33cd7",
   "metadata": {
    "ExecuteTime": {
     "end_time": "2022-03-08T09:48:07.758030Z",
     "start_time": "2022-03-08T09:48:07.740154Z"
    }
   },
   "outputs": [
    {
     "data": {
      "text/plain": [
       "34730.96242450755"
      ]
     },
     "execution_count": 394,
     "metadata": {},
     "output_type": "execute_result"
    }
   ],
   "source": [
    "mean_absolute_error(y_test,pipe.predict(X_test))"
   ]
  },
  {
   "cell_type": "code",
   "execution_count": 395,
   "id": "1e1c5052",
   "metadata": {
    "ExecuteTime": {
     "end_time": "2022-03-08T09:48:08.464228Z",
     "start_time": "2022-03-08T09:48:08.446088Z"
    }
   },
   "outputs": [
    {
     "data": {
      "text/plain": [
       "27978566.96977174"
      ]
     },
     "execution_count": 395,
     "metadata": {},
     "output_type": "execute_result"
    }
   ],
   "source": [
    "pipe.predict(df_2016.drop(columns=['Prod_n-1'])).sum()"
   ]
  },
  {
   "cell_type": "markdown",
   "id": "d4c6e092",
   "metadata": {},
   "source": [
    "Tentative de crossval"
   ]
  },
  {
   "cell_type": "code",
   "execution_count": 396,
   "id": "44272015",
   "metadata": {
    "ExecuteTime": {
     "end_time": "2022-03-08T09:48:16.021859Z",
     "start_time": "2022-03-08T09:48:15.989161Z"
    }
   },
   "outputs": [],
   "source": [
    "from sklearn.model_selection import cross_validate"
   ]
  },
  {
   "cell_type": "code",
   "execution_count": 405,
   "id": "312165d7",
   "metadata": {
    "ExecuteTime": {
     "end_time": "2022-03-08T09:50:21.677353Z",
     "start_time": "2022-03-08T09:50:20.936005Z"
    }
   },
   "outputs": [
    {
     "data": {
      "text/plain": [
       "-92092.80207687189"
      ]
     },
     "execution_count": 405,
     "metadata": {},
     "output_type": "execute_result"
    }
   ],
   "source": [
    "cross_validate(pipe,full_df.drop(columns=['Production','Prod_n-1']),full_df['Production'],scoring='neg_mean_absolute_error',cv=5)['test_score'].mean()"
   ]
  },
  {
   "cell_type": "code",
   "execution_count": 407,
   "id": "7c430f26",
   "metadata": {
    "ExecuteTime": {
     "end_time": "2022-03-08T09:50:51.492768Z",
     "start_time": "2022-03-08T09:50:51.461430Z"
    }
   },
   "outputs": [
    {
     "data": {
      "text/plain": [
       "-99827.389709034"
      ]
     },
     "execution_count": 407,
     "metadata": {},
     "output_type": "execute_result"
    }
   ],
   "source": [
    "np.mean([ -72296.8126435 ,  -80213.40739272, -108754.32674369,\n",
    "         -89806.27696637, -148066.12479889])"
   ]
  },
  {
   "cell_type": "code",
   "execution_count": 408,
   "id": "6bb26a98",
   "metadata": {
    "ExecuteTime": {
     "end_time": "2022-03-08T09:51:16.494384Z",
     "start_time": "2022-03-08T09:51:16.461141Z"
    }
   },
   "outputs": [],
   "source": [
    "pipe=Pipeline([('Scaler',RobustScaler()),\n",
    "     ('model',LinearRegression())])"
   ]
  },
  {
   "cell_type": "code",
   "execution_count": 410,
   "id": "ddc3ae59",
   "metadata": {
    "ExecuteTime": {
     "end_time": "2022-03-08T09:51:39.144313Z",
     "start_time": "2022-03-08T09:51:38.980739Z"
    }
   },
   "outputs": [
    {
     "data": {
      "text/html": [
       "<style>#sk-74967a1c-f3a4-4190-b34e-063da397467f {color: black;background-color: white;}#sk-74967a1c-f3a4-4190-b34e-063da397467f pre{padding: 0;}#sk-74967a1c-f3a4-4190-b34e-063da397467f div.sk-toggleable {background-color: white;}#sk-74967a1c-f3a4-4190-b34e-063da397467f label.sk-toggleable__label {cursor: pointer;display: block;width: 100%;margin-bottom: 0;padding: 0.3em;box-sizing: border-box;text-align: center;}#sk-74967a1c-f3a4-4190-b34e-063da397467f label.sk-toggleable__label-arrow:before {content: \"▸\";float: left;margin-right: 0.25em;color: #696969;}#sk-74967a1c-f3a4-4190-b34e-063da397467f label.sk-toggleable__label-arrow:hover:before {color: black;}#sk-74967a1c-f3a4-4190-b34e-063da397467f div.sk-estimator:hover label.sk-toggleable__label-arrow:before {color: black;}#sk-74967a1c-f3a4-4190-b34e-063da397467f div.sk-toggleable__content {max-height: 0;max-width: 0;overflow: hidden;text-align: left;background-color: #f0f8ff;}#sk-74967a1c-f3a4-4190-b34e-063da397467f div.sk-toggleable__content pre {margin: 0.2em;color: black;border-radius: 0.25em;background-color: #f0f8ff;}#sk-74967a1c-f3a4-4190-b34e-063da397467f input.sk-toggleable__control:checked~div.sk-toggleable__content {max-height: 200px;max-width: 100%;overflow: auto;}#sk-74967a1c-f3a4-4190-b34e-063da397467f input.sk-toggleable__control:checked~label.sk-toggleable__label-arrow:before {content: \"▾\";}#sk-74967a1c-f3a4-4190-b34e-063da397467f div.sk-estimator input.sk-toggleable__control:checked~label.sk-toggleable__label {background-color: #d4ebff;}#sk-74967a1c-f3a4-4190-b34e-063da397467f div.sk-label input.sk-toggleable__control:checked~label.sk-toggleable__label {background-color: #d4ebff;}#sk-74967a1c-f3a4-4190-b34e-063da397467f input.sk-hidden--visually {border: 0;clip: rect(1px 1px 1px 1px);clip: rect(1px, 1px, 1px, 1px);height: 1px;margin: -1px;overflow: hidden;padding: 0;position: absolute;width: 1px;}#sk-74967a1c-f3a4-4190-b34e-063da397467f div.sk-estimator {font-family: monospace;background-color: #f0f8ff;border: 1px dotted black;border-radius: 0.25em;box-sizing: border-box;margin-bottom: 0.5em;}#sk-74967a1c-f3a4-4190-b34e-063da397467f div.sk-estimator:hover {background-color: #d4ebff;}#sk-74967a1c-f3a4-4190-b34e-063da397467f div.sk-parallel-item::after {content: \"\";width: 100%;border-bottom: 1px solid gray;flex-grow: 1;}#sk-74967a1c-f3a4-4190-b34e-063da397467f div.sk-label:hover label.sk-toggleable__label {background-color: #d4ebff;}#sk-74967a1c-f3a4-4190-b34e-063da397467f div.sk-serial::before {content: \"\";position: absolute;border-left: 1px solid gray;box-sizing: border-box;top: 2em;bottom: 0;left: 50%;}#sk-74967a1c-f3a4-4190-b34e-063da397467f div.sk-serial {display: flex;flex-direction: column;align-items: center;background-color: white;padding-right: 0.2em;padding-left: 0.2em;}#sk-74967a1c-f3a4-4190-b34e-063da397467f div.sk-item {z-index: 1;}#sk-74967a1c-f3a4-4190-b34e-063da397467f div.sk-parallel {display: flex;align-items: stretch;justify-content: center;background-color: white;}#sk-74967a1c-f3a4-4190-b34e-063da397467f div.sk-parallel::before {content: \"\";position: absolute;border-left: 1px solid gray;box-sizing: border-box;top: 2em;bottom: 0;left: 50%;}#sk-74967a1c-f3a4-4190-b34e-063da397467f div.sk-parallel-item {display: flex;flex-direction: column;position: relative;background-color: white;}#sk-74967a1c-f3a4-4190-b34e-063da397467f div.sk-parallel-item:first-child::after {align-self: flex-end;width: 50%;}#sk-74967a1c-f3a4-4190-b34e-063da397467f div.sk-parallel-item:last-child::after {align-self: flex-start;width: 50%;}#sk-74967a1c-f3a4-4190-b34e-063da397467f div.sk-parallel-item:only-child::after {width: 0;}#sk-74967a1c-f3a4-4190-b34e-063da397467f div.sk-dashed-wrapped {border: 1px dashed gray;margin: 0 0.4em 0.5em 0.4em;box-sizing: border-box;padding-bottom: 0.4em;background-color: white;position: relative;}#sk-74967a1c-f3a4-4190-b34e-063da397467f div.sk-label label {font-family: monospace;font-weight: bold;background-color: white;display: inline-block;line-height: 1.2em;}#sk-74967a1c-f3a4-4190-b34e-063da397467f div.sk-label-container {position: relative;z-index: 2;text-align: center;}#sk-74967a1c-f3a4-4190-b34e-063da397467f div.sk-container {/* jupyter's `normalize.less` sets `[hidden] { display: none; }` but bootstrap.min.css set `[hidden] { display: none !important; }` so we also need the `!important` here to be able to override the default hidden behavior on the sphinx rendered scikit-learn.org. See: https://github.com/scikit-learn/scikit-learn/issues/21755 */display: inline-block !important;position: relative;}#sk-74967a1c-f3a4-4190-b34e-063da397467f div.sk-text-repr-fallback {display: none;}</style><div id=\"sk-74967a1c-f3a4-4190-b34e-063da397467f\" class=\"sk-top-container\"><div class=\"sk-text-repr-fallback\"><pre>Pipeline(steps=[(&#x27;Scaler&#x27;, RobustScaler()), (&#x27;model&#x27;, LinearRegression())])</pre><b>Please rerun this cell to show the HTML repr or trust the notebook.</b></div><div class=\"sk-container\" hidden><div class=\"sk-item sk-dashed-wrapped\"><div class=\"sk-label-container\"><div class=\"sk-label sk-toggleable\"><input class=\"sk-toggleable__control sk-hidden--visually\" id=\"e04ff3e4-9d4b-414c-87b3-16979bdbdd53\" type=\"checkbox\" ><label for=\"e04ff3e4-9d4b-414c-87b3-16979bdbdd53\" class=\"sk-toggleable__label sk-toggleable__label-arrow\">Pipeline</label><div class=\"sk-toggleable__content\"><pre>Pipeline(steps=[(&#x27;Scaler&#x27;, RobustScaler()), (&#x27;model&#x27;, LinearRegression())])</pre></div></div></div><div class=\"sk-serial\"><div class=\"sk-item\"><div class=\"sk-estimator sk-toggleable\"><input class=\"sk-toggleable__control sk-hidden--visually\" id=\"16fda3f1-9874-4121-93e4-e696764cc104\" type=\"checkbox\" ><label for=\"16fda3f1-9874-4121-93e4-e696764cc104\" class=\"sk-toggleable__label sk-toggleable__label-arrow\">RobustScaler</label><div class=\"sk-toggleable__content\"><pre>RobustScaler()</pre></div></div></div><div class=\"sk-item\"><div class=\"sk-estimator sk-toggleable\"><input class=\"sk-toggleable__control sk-hidden--visually\" id=\"fdccb64f-03d2-444a-8093-882a94965210\" type=\"checkbox\" ><label for=\"fdccb64f-03d2-444a-8093-882a94965210\" class=\"sk-toggleable__label sk-toggleable__label-arrow\">LinearRegression</label><div class=\"sk-toggleable__content\"><pre>LinearRegression()</pre></div></div></div></div></div></div></div>"
      ],
      "text/plain": [
       "Pipeline(steps=[('Scaler', RobustScaler()), ('model', LinearRegression())])"
      ]
     },
     "execution_count": 410,
     "metadata": {},
     "output_type": "execute_result"
    }
   ],
   "source": [
    "pipe.fit(full_df.drop(columns=['Production','Prod_n-1']),full_df['Production'])"
   ]
  },
  {
   "cell_type": "code",
   "execution_count": 418,
   "id": "8f992edc",
   "metadata": {
    "ExecuteTime": {
     "end_time": "2022-03-08T09:53:56.825047Z",
     "start_time": "2022-03-08T09:53:56.789935Z"
    }
   },
   "outputs": [],
   "source": [
    "X_pred=X_pred[full_df.drop(columns=['Production']).columns]\n",
    "X_pred=X_pred.drop(columns=['Prod_n-1'])"
   ]
  },
  {
   "cell_type": "code",
   "execution_count": 419,
   "id": "d25df4f6",
   "metadata": {
    "ExecuteTime": {
     "end_time": "2022-03-08T09:53:57.556752Z",
     "start_time": "2022-03-08T09:53:57.537852Z"
    }
   },
   "outputs": [
    {
     "data": {
      "text/plain": [
       "43556722.10126713"
      ]
     },
     "execution_count": 419,
     "metadata": {},
     "output_type": "execute_result"
    }
   ],
   "source": [
    "pipe.predict(X_pred).sum()"
   ]
  },
  {
   "cell_type": "markdown",
   "id": "34a38e3e",
   "metadata": {},
   "source": [
    "# Recherche des best features avec cross val"
   ]
  },
  {
   "cell_type": "code",
   "execution_count": 431,
   "id": "fbaaee4a",
   "metadata": {
    "ExecuteTime": {
     "end_time": "2022-03-08T10:51:13.384865Z",
     "start_time": "2022-03-08T10:51:13.350728Z"
    }
   },
   "outputs": [],
   "source": [
    "df_ohe=full_df.iloc[:,124:] #Reset du df_ohe\n",
    "df_ohe['Production']=full_df['Production']"
   ]
  },
  {
   "cell_type": "code",
   "execution_count": 575,
   "id": "2cd190cc",
   "metadata": {
    "ExecuteTime": {
     "end_time": "2022-03-08T13:50:09.569000Z",
     "start_time": "2022-03-08T13:50:09.532495Z"
    }
   },
   "outputs": [],
   "source": [
    "pipe=build_model('linear_reg')"
   ]
  },
  {
   "cell_type": "code",
   "execution_count": 433,
   "id": "46b9de75",
   "metadata": {
    "ExecuteTime": {
     "end_time": "2022-03-08T10:51:15.898919Z",
     "start_time": "2022-03-08T10:51:15.664796Z"
    }
   },
   "outputs": [
    {
     "data": {
      "text/plain": [
       "-41722.330230407824"
      ]
     },
     "execution_count": 433,
     "metadata": {},
     "output_type": "execute_result"
    }
   ],
   "source": [
    "cross_validate(pipe,df_ohe.drop(columns=['Production']),df_ohe['Production'],scoring='neg_mean_absolute_error',cv=5)['test_score'].mean()"
   ]
  },
  {
   "cell_type": "code",
   "execution_count": 587,
   "id": "bfde50e2",
   "metadata": {
    "ExecuteTime": {
     "end_time": "2022-03-08T13:55:20.854346Z",
     "start_time": "2022-03-08T13:55:14.286461Z"
    }
   },
   "outputs": [
    {
     "name": "stdout",
     "output_type": "stream",
     "text": [
      "-92092.80207687189\n",
      "-121650.2046007887\n",
      "-74289.48554067363\n",
      "-82081.28766628997\n",
      "-76008.2536800311\n",
      "-59063.16865318599\n"
     ]
    }
   ],
   "source": [
    "for i in range(5,11):\n",
    "    print(cross_validate(pipe,full_df.drop(columns=['Production','Prod_n-1']),full_df['Production'],scoring='neg_mean_absolute_error',cv=i)['test_score'].mean())"
   ]
  },
  {
   "cell_type": "code",
   "execution_count": 588,
   "id": "e03ed51c",
   "metadata": {
    "ExecuteTime": {
     "end_time": "2022-03-08T13:55:48.845723Z",
     "start_time": "2022-03-08T13:55:48.798399Z"
    }
   },
   "outputs": [
    {
     "data": {
      "text/html": [
       "<div>\n",
       "<style scoped>\n",
       "    .dataframe tbody tr th:only-of-type {\n",
       "        vertical-align: middle;\n",
       "    }\n",
       "\n",
       "    .dataframe tbody tr th {\n",
       "        vertical-align: top;\n",
       "    }\n",
       "\n",
       "    .dataframe thead th {\n",
       "        text-align: right;\n",
       "    }\n",
       "</style>\n",
       "<table border=\"1\" class=\"dataframe\">\n",
       "  <thead>\n",
       "    <tr style=\"text-align: right;\">\n",
       "      <th></th>\n",
       "      <th>Agriculteur</th>\n",
       "      <th>Production</th>\n",
       "      <th>RatioSep</th>\n",
       "      <th>RatioOct</th>\n",
       "      <th>Prix_matos</th>\n",
       "      <th>Prod_n-1</th>\n",
       "      <th>tmax_c 01</th>\n",
       "      <th>tmax_c 02</th>\n",
       "      <th>tmax_c 03</th>\n",
       "      <th>tmax_c 04</th>\n",
       "      <th>...</th>\n",
       "      <th>dpt_86</th>\n",
       "      <th>dpt_87</th>\n",
       "      <th>dpt_88</th>\n",
       "      <th>dpt_89</th>\n",
       "      <th>dpt_9</th>\n",
       "      <th>dpt_90</th>\n",
       "      <th>dpt_91</th>\n",
       "      <th>dpt_93</th>\n",
       "      <th>dpt_94</th>\n",
       "      <th>dpt_95</th>\n",
       "    </tr>\n",
       "  </thead>\n",
       "  <tbody>\n",
       "    <tr>\n",
       "      <th>2010-1</th>\n",
       "      <td>2820.041792</td>\n",
       "      <td>239640.3</td>\n",
       "      <td>1.229426</td>\n",
       "      <td>1.255319</td>\n",
       "      <td>92.741667</td>\n",
       "      <td>189200.0</td>\n",
       "      <td>7.0</td>\n",
       "      <td>5.0</td>\n",
       "      <td>7.0</td>\n",
       "      <td>5.0</td>\n",
       "      <td>...</td>\n",
       "      <td>0</td>\n",
       "      <td>0</td>\n",
       "      <td>0</td>\n",
       "      <td>0</td>\n",
       "      <td>0</td>\n",
       "      <td>0</td>\n",
       "      <td>0</td>\n",
       "      <td>0</td>\n",
       "      <td>0</td>\n",
       "      <td>0</td>\n",
       "    </tr>\n",
       "    <tr>\n",
       "      <th>2010-2</th>\n",
       "      <td>3563.698886</td>\n",
       "      <td>1485134.7</td>\n",
       "      <td>1.229426</td>\n",
       "      <td>1.255319</td>\n",
       "      <td>92.741667</td>\n",
       "      <td>1562314.0</td>\n",
       "      <td>4.0</td>\n",
       "      <td>6.0</td>\n",
       "      <td>7.0</td>\n",
       "      <td>6.0</td>\n",
       "      <td>...</td>\n",
       "      <td>0</td>\n",
       "      <td>0</td>\n",
       "      <td>0</td>\n",
       "      <td>0</td>\n",
       "      <td>0</td>\n",
       "      <td>0</td>\n",
       "      <td>0</td>\n",
       "      <td>0</td>\n",
       "      <td>0</td>\n",
       "      <td>0</td>\n",
       "    </tr>\n",
       "    <tr>\n",
       "      <th>2010-3</th>\n",
       "      <td>4276.654443</td>\n",
       "      <td>307450.0</td>\n",
       "      <td>1.229426</td>\n",
       "      <td>1.255319</td>\n",
       "      <td>92.741667</td>\n",
       "      <td>290360.0</td>\n",
       "      <td>6.0</td>\n",
       "      <td>5.0</td>\n",
       "      <td>9.0</td>\n",
       "      <td>4.0</td>\n",
       "      <td>...</td>\n",
       "      <td>0</td>\n",
       "      <td>0</td>\n",
       "      <td>0</td>\n",
       "      <td>0</td>\n",
       "      <td>0</td>\n",
       "      <td>0</td>\n",
       "      <td>0</td>\n",
       "      <td>0</td>\n",
       "      <td>0</td>\n",
       "      <td>0</td>\n",
       "    </tr>\n",
       "    <tr>\n",
       "      <th>2010-4</th>\n",
       "      <td>1462.803043</td>\n",
       "      <td>6233.7</td>\n",
       "      <td>1.229426</td>\n",
       "      <td>1.255319</td>\n",
       "      <td>92.741667</td>\n",
       "      <td>7322.0</td>\n",
       "      <td>3.0</td>\n",
       "      <td>6.0</td>\n",
       "      <td>6.0</td>\n",
       "      <td>8.0</td>\n",
       "      <td>...</td>\n",
       "      <td>0</td>\n",
       "      <td>0</td>\n",
       "      <td>0</td>\n",
       "      <td>0</td>\n",
       "      <td>0</td>\n",
       "      <td>0</td>\n",
       "      <td>0</td>\n",
       "      <td>0</td>\n",
       "      <td>0</td>\n",
       "      <td>0</td>\n",
       "    </tr>\n",
       "    <tr>\n",
       "      <th>2010-5</th>\n",
       "      <td>1406.337173</td>\n",
       "      <td>9753.9</td>\n",
       "      <td>1.229426</td>\n",
       "      <td>1.255319</td>\n",
       "      <td>92.741667</td>\n",
       "      <td>10065.5</td>\n",
       "      <td>3.0</td>\n",
       "      <td>5.0</td>\n",
       "      <td>4.0</td>\n",
       "      <td>6.0</td>\n",
       "      <td>...</td>\n",
       "      <td>0</td>\n",
       "      <td>0</td>\n",
       "      <td>0</td>\n",
       "      <td>0</td>\n",
       "      <td>0</td>\n",
       "      <td>0</td>\n",
       "      <td>0</td>\n",
       "      <td>0</td>\n",
       "      <td>0</td>\n",
       "      <td>0</td>\n",
       "    </tr>\n",
       "    <tr>\n",
       "      <th>...</th>\n",
       "      <td>...</td>\n",
       "      <td>...</td>\n",
       "      <td>...</td>\n",
       "      <td>...</td>\n",
       "      <td>...</td>\n",
       "      <td>...</td>\n",
       "      <td>...</td>\n",
       "      <td>...</td>\n",
       "      <td>...</td>\n",
       "      <td>...</td>\n",
       "      <td>...</td>\n",
       "      <td>...</td>\n",
       "      <td>...</td>\n",
       "      <td>...</td>\n",
       "      <td>...</td>\n",
       "      <td>...</td>\n",
       "      <td>...</td>\n",
       "      <td>...</td>\n",
       "      <td>...</td>\n",
       "      <td>...</td>\n",
       "      <td>...</td>\n",
       "    </tr>\n",
       "    <tr>\n",
       "      <th>2021-91</th>\n",
       "      <td>422.282609</td>\n",
       "      <td>243243.0</td>\n",
       "      <td>1.104197</td>\n",
       "      <td>1.072703</td>\n",
       "      <td>89.891667</td>\n",
       "      <td>191952.0</td>\n",
       "      <td>6.0</td>\n",
       "      <td>4.0</td>\n",
       "      <td>4.0</td>\n",
       "      <td>4.0</td>\n",
       "      <td>...</td>\n",
       "      <td>0</td>\n",
       "      <td>0</td>\n",
       "      <td>0</td>\n",
       "      <td>0</td>\n",
       "      <td>0</td>\n",
       "      <td>0</td>\n",
       "      <td>1</td>\n",
       "      <td>0</td>\n",
       "      <td>0</td>\n",
       "      <td>0</td>\n",
       "    </tr>\n",
       "    <tr>\n",
       "      <th>2021-93</th>\n",
       "      <td>80.734902</td>\n",
       "      <td>2739.0</td>\n",
       "      <td>1.104197</td>\n",
       "      <td>1.072703</td>\n",
       "      <td>89.891667</td>\n",
       "      <td>2535.0</td>\n",
       "      <td>14.0</td>\n",
       "      <td>6.0</td>\n",
       "      <td>8.0</td>\n",
       "      <td>14.0</td>\n",
       "      <td>...</td>\n",
       "      <td>0</td>\n",
       "      <td>0</td>\n",
       "      <td>0</td>\n",
       "      <td>0</td>\n",
       "      <td>0</td>\n",
       "      <td>0</td>\n",
       "      <td>0</td>\n",
       "      <td>1</td>\n",
       "      <td>0</td>\n",
       "      <td>0</td>\n",
       "    </tr>\n",
       "    <tr>\n",
       "      <th>2021-94</th>\n",
       "      <td>65.237675</td>\n",
       "      <td>3483.0</td>\n",
       "      <td>1.104197</td>\n",
       "      <td>1.072703</td>\n",
       "      <td>89.891667</td>\n",
       "      <td>2052.0</td>\n",
       "      <td>5.0</td>\n",
       "      <td>4.0</td>\n",
       "      <td>4.0</td>\n",
       "      <td>4.0</td>\n",
       "      <td>...</td>\n",
       "      <td>0</td>\n",
       "      <td>0</td>\n",
       "      <td>0</td>\n",
       "      <td>0</td>\n",
       "      <td>0</td>\n",
       "      <td>0</td>\n",
       "      <td>0</td>\n",
       "      <td>0</td>\n",
       "      <td>1</td>\n",
       "      <td>0</td>\n",
       "    </tr>\n",
       "    <tr>\n",
       "      <th>2021-95</th>\n",
       "      <td>213.709486</td>\n",
       "      <td>198121.0</td>\n",
       "      <td>1.104197</td>\n",
       "      <td>1.072703</td>\n",
       "      <td>89.891667</td>\n",
       "      <td>165516.0</td>\n",
       "      <td>8.0</td>\n",
       "      <td>5.0</td>\n",
       "      <td>4.0</td>\n",
       "      <td>4.0</td>\n",
       "      <td>...</td>\n",
       "      <td>0</td>\n",
       "      <td>0</td>\n",
       "      <td>0</td>\n",
       "      <td>0</td>\n",
       "      <td>0</td>\n",
       "      <td>0</td>\n",
       "      <td>0</td>\n",
       "      <td>0</td>\n",
       "      <td>0</td>\n",
       "      <td>1</td>\n",
       "    </tr>\n",
       "    <tr>\n",
       "      <th>2021-20</th>\n",
       "      <td>1526.132188</td>\n",
       "      <td>297.5</td>\n",
       "      <td>1.104197</td>\n",
       "      <td>1.072703</td>\n",
       "      <td>89.891667</td>\n",
       "      <td>297.5</td>\n",
       "      <td>5.0</td>\n",
       "      <td>3.0</td>\n",
       "      <td>5.0</td>\n",
       "      <td>4.0</td>\n",
       "      <td>...</td>\n",
       "      <td>0</td>\n",
       "      <td>0</td>\n",
       "      <td>0</td>\n",
       "      <td>0</td>\n",
       "      <td>0</td>\n",
       "      <td>0</td>\n",
       "      <td>0</td>\n",
       "      <td>0</td>\n",
       "      <td>0</td>\n",
       "      <td>0</td>\n",
       "    </tr>\n",
       "  </tbody>\n",
       "</table>\n",
       "<p>1116 rows × 216 columns</p>\n",
       "</div>"
      ],
      "text/plain": [
       "         Agriculteur  Production  RatioSep  RatioOct  Prix_matos   Prod_n-1  \\\n",
       "2010-1   2820.041792    239640.3  1.229426  1.255319   92.741667   189200.0   \n",
       "2010-2   3563.698886   1485134.7  1.229426  1.255319   92.741667  1562314.0   \n",
       "2010-3   4276.654443    307450.0  1.229426  1.255319   92.741667   290360.0   \n",
       "2010-4   1462.803043      6233.7  1.229426  1.255319   92.741667     7322.0   \n",
       "2010-5   1406.337173      9753.9  1.229426  1.255319   92.741667    10065.5   \n",
       "...              ...         ...       ...       ...         ...        ...   \n",
       "2021-91   422.282609    243243.0  1.104197  1.072703   89.891667   191952.0   \n",
       "2021-93    80.734902      2739.0  1.104197  1.072703   89.891667     2535.0   \n",
       "2021-94    65.237675      3483.0  1.104197  1.072703   89.891667     2052.0   \n",
       "2021-95   213.709486    198121.0  1.104197  1.072703   89.891667   165516.0   \n",
       "2021-20  1526.132188       297.5  1.104197  1.072703   89.891667      297.5   \n",
       "\n",
       "         tmax_c 01  tmax_c 02  tmax_c 03  tmax_c 04  ...  dpt_86  dpt_87  \\\n",
       "2010-1         7.0        5.0        7.0        5.0  ...       0       0   \n",
       "2010-2         4.0        6.0        7.0        6.0  ...       0       0   \n",
       "2010-3         6.0        5.0        9.0        4.0  ...       0       0   \n",
       "2010-4         3.0        6.0        6.0        8.0  ...       0       0   \n",
       "2010-5         3.0        5.0        4.0        6.0  ...       0       0   \n",
       "...            ...        ...        ...        ...  ...     ...     ...   \n",
       "2021-91        6.0        4.0        4.0        4.0  ...       0       0   \n",
       "2021-93       14.0        6.0        8.0       14.0  ...       0       0   \n",
       "2021-94        5.0        4.0        4.0        4.0  ...       0       0   \n",
       "2021-95        8.0        5.0        4.0        4.0  ...       0       0   \n",
       "2021-20        5.0        3.0        5.0        4.0  ...       0       0   \n",
       "\n",
       "         dpt_88  dpt_89  dpt_9  dpt_90  dpt_91  dpt_93  dpt_94  dpt_95  \n",
       "2010-1        0       0      0       0       0       0       0       0  \n",
       "2010-2        0       0      0       0       0       0       0       0  \n",
       "2010-3        0       0      0       0       0       0       0       0  \n",
       "2010-4        0       0      0       0       0       0       0       0  \n",
       "2010-5        0       0      0       0       0       0       0       0  \n",
       "...         ...     ...    ...     ...     ...     ...     ...     ...  \n",
       "2021-91       0       0      0       0       1       0       0       0  \n",
       "2021-93       0       0      0       0       0       1       0       0  \n",
       "2021-94       0       0      0       0       0       0       1       0  \n",
       "2021-95       0       0      0       0       0       0       0       1  \n",
       "2021-20       0       0      0       0       0       0       0       0  \n",
       "\n",
       "[1116 rows x 216 columns]"
      ]
     },
     "execution_count": 588,
     "metadata": {},
     "output_type": "execute_result"
    }
   ],
   "source": [
    "full_df"
   ]
  },
  {
   "cell_type": "code",
   "execution_count": 434,
   "id": "940aaf4d",
   "metadata": {
    "ExecuteTime": {
     "end_time": "2022-03-08T10:52:02.088981Z",
     "start_time": "2022-03-08T10:51:21.990709Z"
    },
    "scrolled": true
   },
   "outputs": [
    {
     "name": "stdout",
     "output_type": "stream",
     "text": [
      "Test de Agriculteur\n",
      "Test de Production\n",
      "Test de RatioSep\n",
      "Test de RatioOct\n",
      "Test de Prix_matos\n",
      "Test de Prod_n-1\n",
      "Test de tmax_c 01\n",
      "Test de tmax_c 02\n",
      "Test de tmax_c 03\n",
      "Test de tmax_c 04\n",
      "Test de tmax_c 05\n",
      "Test de tmax_c 09_n-1\n",
      "Test de tmax_c 10_n-1\n",
      "Test de tmax_c 11_n-1\n",
      "Test de tmax_c 12_n-1\n",
      "Test de tmin_c 01\n",
      "Test de tmin_c 02\n",
      "Test de tmin_c 03\n",
      "Test de tmin_c 04\n",
      "Test de tmin_c 05\n",
      "Test de tmin_c 09_n-1\n",
      "Test de tmin_c 10_n-1\n",
      "Test de tmin_c 11_n-1\n",
      "Test de tmin_c 12_n-1\n",
      "Test de windspeed_max 01\n",
      "Test de windspeed_max 02\n",
      "Test de windspeed_max 03\n",
      "Test de windspeed_max 04\n",
      "Test de windspeed_max 05\n",
      "Test de windspeed_max 09_n-1\n",
      "Test de windspeed_max 10_n-1\n",
      "Test de windspeed_max 11_n-1\n",
      "Test de windspeed_max 12_n-1\n",
      "Test de rain_mm 01\n",
      "Test de rain_mm 02\n",
      "Test de rain_mm 03\n",
      "Test de rain_mm 04\n",
      "Test de rain_mm 05\n",
      "Test de rain_mm 09_n-1\n",
      "Test de rain_mm 10_n-1\n",
      "Test de rain_mm 11_n-1\n",
      "Test de rain_mm 12_n-1\n",
      "Test de humidity_pct 01\n",
      "Test de humidity_pct 02\n",
      "Test de humidity_pct 03\n",
      "Test de humidity_pct 04\n",
      "Test de humidity_pct 05\n",
      "Test de humidity_pct 09_n-1\n",
      "Test de humidity_pct 10_n-1\n",
      "Test de humidity_pct 11_n-1\n",
      "Test de humidity_pct 12_n-1\n",
      "Test de pressuremax_mb 01\n",
      "Test de pressuremax_mb 02\n",
      "Test de pressuremax_mb 03\n",
      "Test de pressuremax_mb 04\n",
      "Test de pressuremax_mb 05\n",
      "Test de pressuremax_mb 09_n-1\n",
      "Test de pressuremax_mb 10_n-1\n",
      "Test de pressuremax_mb 11_n-1\n",
      "Test de pressuremax_mb 12_n-1\n",
      "Test de cloudcov_avg_pct 01\n",
      "Test de cloudcov_avg_pct 02\n",
      "Test de cloudcov_avg_pct 03\n",
      "Test de cloudcov_avg_pct 04\n",
      "Test de cloudcov_avg_pct 05\n",
      "Test de cloudcov_avg_pct 09_n-1\n",
      "Test de cloudcov_avg_pct 10_n-1\n",
      "Test de cloudcov_avg_pct 11_n-1\n",
      "Test de cloudcov_avg_pct 12_n-1\n",
      "Test de dewmax_c 01\n",
      "Test de dewmax_c 02\n",
      "Test de dewmax_c 03\n",
      "Test de dewmax_c 04\n",
      "Test de dewmax_c 05\n",
      "Test de dewmax_c 09_n-1\n",
      "Test de dewmax_c 10_n-1\n",
      "Test de dewmax_c 11_n-1\n",
      "Test de dewmax_c 12_n-1\n",
      "Test de snow_mm 01\n",
      "Test de snow_mm 02\n",
      "Test de snow_mm 03\n",
      "Test de snow_mm 04\n",
      "Test de snow_mm 05\n",
      "Test de snow_mm 09_n-1\n",
      "Test de snow_mm 10_n-1\n",
      "Test de snow_mm 11_n-1\n",
      "-41719.99672937598 snow_mm 11_n-1\n",
      "Test de snow_mm 12_n-1\n",
      "Test de uv_idx 01\n",
      "Test de uv_idx 02\n",
      "Test de uv_idx 03\n",
      "Test de uv_idx 04\n",
      "Test de uv_idx 05\n",
      "Test de uv_idx 09_n-1\n",
      "Test de uv_idx 10_n-1\n",
      "Test de uv_idx 11_n-1\n",
      "Test de uv_idx 12_n-1\n",
      "Test de sunhour 01\n",
      "Test de sunhour 02\n",
      "Test de sunhour 03\n",
      "Test de sunhour 04\n",
      "Test de sunhour 05\n",
      "Test de sunhour 09_n-1\n",
      "Test de sunhour 10_n-1\n",
      "Test de sunhour 11_n-1\n",
      "Test de sunhour 12_n-1\n",
      "Test de tmax_deg 01\n",
      "Test de tmax_deg 02\n",
      "Test de tmax_deg 03\n",
      "Test de tmax_deg 04\n",
      "Test de tmax_deg 05\n",
      "Test de tmax_deg 09_n-1\n",
      "Test de tmax_deg 10_n-1\n",
      "Test de tmax_deg 11_n-1\n",
      "Test de tmax_deg 12_n-1\n",
      "Test de tmin_deg 01\n",
      "Test de tmin_deg 02\n",
      "Test de tmin_deg 03\n",
      "Test de tmin_deg 04\n",
      "Test de tmin_deg 05\n",
      "Test de tmin_deg 09_n-1\n",
      "Test de tmin_deg 10_n-1\n",
      "Test de tmin_deg 11_n-1\n",
      "Test de tmin_deg 12_n-1\n",
      "Test de dpt_1\n",
      "-41719.996729373655 dpt_1\n",
      "Test de dpt_10\n",
      "Test de dpt_11\n",
      "Test de dpt_12\n",
      "Test de dpt_13\n",
      "Test de dpt_14\n",
      "Test de dpt_15\n",
      "Test de dpt_16\n",
      "Test de dpt_17\n",
      "Test de dpt_18\n",
      "Test de dpt_19\n",
      "Test de dpt_2\n",
      "Test de dpt_20\n",
      "Test de dpt_21\n",
      "Test de dpt_22\n",
      "Test de dpt_23\n",
      "Test de dpt_24\n",
      "Test de dpt_25\n",
      "Test de dpt_26\n",
      "Test de dpt_27\n",
      "Test de dpt_28\n",
      "Test de dpt_29\n",
      "Test de dpt_3\n",
      "Test de dpt_30\n",
      "Test de dpt_31\n",
      "Test de dpt_32\n",
      "Test de dpt_33\n",
      "Test de dpt_34\n",
      "Test de dpt_35\n",
      "Test de dpt_36\n",
      "Test de dpt_37\n",
      "Test de dpt_38\n",
      "Test de dpt_39\n",
      "Test de dpt_4\n",
      "Test de dpt_40\n",
      "Test de dpt_41\n",
      "Test de dpt_42\n",
      "Test de dpt_43\n",
      "Test de dpt_44\n",
      "Test de dpt_45\n",
      "Test de dpt_46\n",
      "Test de dpt_47\n",
      "Test de dpt_48\n",
      "Test de dpt_49\n",
      "Test de dpt_5\n",
      "Test de dpt_50\n",
      "Test de dpt_51\n",
      "Test de dpt_52\n",
      "Test de dpt_53\n",
      "Test de dpt_54\n",
      "Test de dpt_55\n",
      "Test de dpt_56\n",
      "Test de dpt_57\n",
      "Test de dpt_58\n",
      "Test de dpt_59\n",
      "Test de dpt_6\n",
      "Test de dpt_60\n",
      "Test de dpt_61\n",
      "Test de dpt_62\n",
      "Test de dpt_63\n",
      "Test de dpt_64\n",
      "Test de dpt_65\n",
      "Test de dpt_66\n",
      "Test de dpt_67\n",
      "Test de dpt_68\n",
      "Test de dpt_69\n",
      "Test de dpt_7\n",
      "Test de dpt_70\n",
      "Test de dpt_71\n",
      "Test de dpt_72\n",
      "Test de dpt_73\n",
      "Test de dpt_74\n",
      "Test de dpt_76\n",
      "Test de dpt_77\n",
      "Test de dpt_78\n",
      "Test de dpt_79\n",
      "Test de dpt_8\n",
      "Test de dpt_80\n",
      "Test de dpt_81\n",
      "Test de dpt_82\n",
      "Test de dpt_83\n",
      "Test de dpt_84\n",
      "Test de dpt_85\n",
      "Test de dpt_86\n",
      "Test de dpt_87\n",
      "Test de dpt_88\n",
      "Test de dpt_89\n",
      "Test de dpt_9\n",
      "Test de dpt_90\n",
      "Test de dpt_91\n",
      "Test de dpt_93\n",
      "Test de dpt_94\n",
      "Test de dpt_95\n"
     ]
    }
   ],
   "source": [
    "best_score=-41722.330230407824\n",
    "for name in full_df.columns:\n",
    "    print('Test de ' + name)\n",
    "    if name in df_ohe.columns:\n",
    "        pass\n",
    "    else :\n",
    "        df_ohe[name]=full_df[name]\n",
    "    \n",
    "        pipe=build_model('linear_reg')\n",
    "        pipe.fit(X,y)\n",
    "        score_pred=cross_validate(pipe,df_ohe.drop(columns=['Production']),df_ohe['Production'],scoring='neg_mean_absolute_error',cv=5)['test_score'].mean()\n",
    "        if score_pred>best_score:\n",
    "            best_score=score_pred\n",
    "            print(best_score,name)\n",
    "        else :\n",
    "            df_ohe=df_ohe.drop(columns=[name])\n",
    "        print(best_score)"
   ]
  },
  {
   "cell_type": "code",
   "execution_count": 435,
   "id": "14441463",
   "metadata": {
    "ExecuteTime": {
     "end_time": "2022-03-08T10:52:04.314407Z",
     "start_time": "2022-03-08T10:52:04.281970Z"
    }
   },
   "outputs": [
    {
     "data": {
      "text/plain": [
       "-41719.996729373655"
      ]
     },
     "execution_count": 435,
     "metadata": {},
     "output_type": "execute_result"
    }
   ],
   "source": [
    "best_score"
   ]
  },
  {
   "cell_type": "code",
   "execution_count": 437,
   "id": "242f40c6",
   "metadata": {
    "ExecuteTime": {
     "end_time": "2022-03-08T10:52:24.138983Z",
     "start_time": "2022-03-08T10:52:24.104643Z"
    },
    "scrolled": true
   },
   "outputs": [
    {
     "data": {
      "text/plain": [
       "['dpt_10',\n",
       " 'dpt_11',\n",
       " 'dpt_12',\n",
       " 'dpt_13',\n",
       " 'dpt_14',\n",
       " 'dpt_15',\n",
       " 'dpt_16',\n",
       " 'dpt_17',\n",
       " 'dpt_18',\n",
       " 'dpt_19',\n",
       " 'dpt_2',\n",
       " 'dpt_20',\n",
       " 'dpt_21',\n",
       " 'dpt_22',\n",
       " 'dpt_23',\n",
       " 'dpt_24',\n",
       " 'dpt_25',\n",
       " 'dpt_26',\n",
       " 'dpt_27',\n",
       " 'dpt_28',\n",
       " 'dpt_29',\n",
       " 'dpt_3',\n",
       " 'dpt_30',\n",
       " 'dpt_31',\n",
       " 'dpt_32',\n",
       " 'dpt_33',\n",
       " 'dpt_34',\n",
       " 'dpt_35',\n",
       " 'dpt_36',\n",
       " 'dpt_37',\n",
       " 'dpt_38',\n",
       " 'dpt_39',\n",
       " 'dpt_4',\n",
       " 'dpt_40',\n",
       " 'dpt_41',\n",
       " 'dpt_42',\n",
       " 'dpt_43',\n",
       " 'dpt_44',\n",
       " 'dpt_45',\n",
       " 'dpt_46',\n",
       " 'dpt_47',\n",
       " 'dpt_48',\n",
       " 'dpt_49',\n",
       " 'dpt_5',\n",
       " 'dpt_50',\n",
       " 'dpt_51',\n",
       " 'dpt_52',\n",
       " 'dpt_53',\n",
       " 'dpt_54',\n",
       " 'dpt_55',\n",
       " 'dpt_56',\n",
       " 'dpt_57',\n",
       " 'dpt_58',\n",
       " 'dpt_59',\n",
       " 'dpt_6',\n",
       " 'dpt_60',\n",
       " 'dpt_61',\n",
       " 'dpt_62',\n",
       " 'dpt_63',\n",
       " 'dpt_64',\n",
       " 'dpt_65',\n",
       " 'dpt_66',\n",
       " 'dpt_67',\n",
       " 'dpt_68',\n",
       " 'dpt_69',\n",
       " 'dpt_7',\n",
       " 'dpt_70',\n",
       " 'dpt_71',\n",
       " 'dpt_72',\n",
       " 'dpt_73',\n",
       " 'dpt_74',\n",
       " 'dpt_76',\n",
       " 'dpt_77',\n",
       " 'dpt_78',\n",
       " 'dpt_79',\n",
       " 'dpt_8',\n",
       " 'dpt_80',\n",
       " 'dpt_81',\n",
       " 'dpt_82',\n",
       " 'dpt_83',\n",
       " 'dpt_84',\n",
       " 'dpt_85',\n",
       " 'dpt_86',\n",
       " 'dpt_87',\n",
       " 'dpt_88',\n",
       " 'dpt_89',\n",
       " 'dpt_9',\n",
       " 'dpt_90',\n",
       " 'dpt_91',\n",
       " 'dpt_93',\n",
       " 'dpt_94',\n",
       " 'dpt_95',\n",
       " 'Production',\n",
       " 'snow_mm 11_n-1',\n",
       " 'dpt_1']"
      ]
     },
     "execution_count": 437,
     "metadata": {},
     "output_type": "execute_result"
    }
   ],
   "source": [
    "list(df_ohe.columns)"
   ]
  },
  {
   "cell_type": "markdown",
   "id": "b8f91414",
   "metadata": {},
   "source": [
    "# Test de Maitre Zhou"
   ]
  },
  {
   "cell_type": "code",
   "execution_count": 438,
   "id": "672ec6a5",
   "metadata": {
    "ExecuteTime": {
     "end_time": "2022-03-08T10:59:11.427117Z",
     "start_time": "2022-03-08T10:59:11.391781Z"
    }
   },
   "outputs": [],
   "source": [
    "feature_zhou=['dpt_10','dpt_11','dpt_12','dpt_13','dpt_14','dpt_15','dpt_16','dpt_17','dpt_18','dpt_19','dpt_2','dpt_20','dpt_21','dpt_22','dpt_23',\n",
    "              'dpt_24','dpt_25','dpt_26','dpt_27','dpt_28','dpt_29','dpt_3','dpt_30','dpt_31','dpt_32','dpt_33','dpt_34','dpt_35','dpt_36','dpt_37',\n",
    "              'dpt_38','dpt_39','dpt_4','dpt_40','dpt_41','dpt_42','dpt_43','dpt_44','dpt_45','dpt_46','dpt_47','dpt_48','dpt_49','dpt_5','dpt_50',\n",
    "              'dpt_51','dpt_52','dpt_53','dpt_54','dpt_55','dpt_56','dpt_57','dpt_58','dpt_59','dpt_6','dpt_60','dpt_61','dpt_62','dpt_63','dpt_64',\n",
    "              'dpt_65','dpt_66','dpt_67','dpt_68','dpt_69','dpt_7','dpt_70','dpt_71','dpt_72','dpt_73','dpt_74','dpt_76','dpt_77','dpt_78','dpt_79',\n",
    "              'dpt_8','dpt_80','dpt_81','dpt_82','dpt_83','dpt_84','dpt_85','dpt_86','dpt_87','dpt_88','dpt_89','dpt_9','dpt_90','dpt_91','dpt_93',\n",
    "              'dpt_94','dpt_95','Production','tmax_c 10_n-1','tmin_c 05','pressuremax_mb 10_n-1','snow_mm 04','snow_mm 05','snow_mm 11_n-1',\n",
    "             'RatioSep','Prix_matos','windspeed_max 04', 'rain_mm 04', 'humidity_pct 03', 'humidity_pct 10_n-1', 'pressuremax_mb 04', 'pressuremax_mb 09_n-1',\n",
    "              'cloudcov_avg_pct 04', 'cloudcov_avg_pct 10_n-1', 'snow_mm 10_n-1', 'snow_mm 12_n-1', 'uv_idx 02', 'uv_idx 05', 'sunhour 03', 'tmax_deg 10_n-1']\n",
    "df_zhou=full_df[feature_zhou].copy()"
   ]
  },
  {
   "cell_type": "code",
   "execution_count": 439,
   "id": "f540554a",
   "metadata": {
    "ExecuteTime": {
     "end_time": "2022-03-08T10:59:18.587677Z",
     "start_time": "2022-03-08T10:59:18.540549Z"
    }
   },
   "outputs": [
    {
     "data": {
      "text/html": [
       "<div>\n",
       "<style scoped>\n",
       "    .dataframe tbody tr th:only-of-type {\n",
       "        vertical-align: middle;\n",
       "    }\n",
       "\n",
       "    .dataframe tbody tr th {\n",
       "        vertical-align: top;\n",
       "    }\n",
       "\n",
       "    .dataframe thead th {\n",
       "        text-align: right;\n",
       "    }\n",
       "</style>\n",
       "<table border=\"1\" class=\"dataframe\">\n",
       "  <thead>\n",
       "    <tr style=\"text-align: right;\">\n",
       "      <th></th>\n",
       "      <th>dpt_10</th>\n",
       "      <th>dpt_11</th>\n",
       "      <th>dpt_12</th>\n",
       "      <th>dpt_13</th>\n",
       "      <th>dpt_14</th>\n",
       "      <th>dpt_15</th>\n",
       "      <th>dpt_16</th>\n",
       "      <th>dpt_17</th>\n",
       "      <th>dpt_18</th>\n",
       "      <th>dpt_19</th>\n",
       "      <th>...</th>\n",
       "      <th>pressuremax_mb 04</th>\n",
       "      <th>pressuremax_mb 09_n-1</th>\n",
       "      <th>cloudcov_avg_pct 04</th>\n",
       "      <th>cloudcov_avg_pct 10_n-1</th>\n",
       "      <th>snow_mm 10_n-1</th>\n",
       "      <th>snow_mm 12_n-1</th>\n",
       "      <th>uv_idx 02</th>\n",
       "      <th>uv_idx 05</th>\n",
       "      <th>sunhour 03</th>\n",
       "      <th>tmax_deg 10_n-1</th>\n",
       "    </tr>\n",
       "  </thead>\n",
       "  <tbody>\n",
       "    <tr>\n",
       "      <th>2010-1</th>\n",
       "      <td>0</td>\n",
       "      <td>0</td>\n",
       "      <td>0</td>\n",
       "      <td>0</td>\n",
       "      <td>0</td>\n",
       "      <td>0</td>\n",
       "      <td>0</td>\n",
       "      <td>0</td>\n",
       "      <td>0</td>\n",
       "      <td>0</td>\n",
       "      <td>...</td>\n",
       "      <td>1020.666667</td>\n",
       "      <td>1021.733333</td>\n",
       "      <td>32.812500</td>\n",
       "      <td>33.612903</td>\n",
       "      <td>0.0</td>\n",
       "      <td>16.6</td>\n",
       "      <td>1.428571</td>\n",
       "      <td>3.451613</td>\n",
       "      <td>9.532258</td>\n",
       "      <td>26.0</td>\n",
       "    </tr>\n",
       "    <tr>\n",
       "      <th>2010-2</th>\n",
       "      <td>0</td>\n",
       "      <td>0</td>\n",
       "      <td>0</td>\n",
       "      <td>0</td>\n",
       "      <td>0</td>\n",
       "      <td>0</td>\n",
       "      <td>0</td>\n",
       "      <td>0</td>\n",
       "      <td>0</td>\n",
       "      <td>0</td>\n",
       "      <td>...</td>\n",
       "      <td>1021.900000</td>\n",
       "      <td>1023.000000</td>\n",
       "      <td>30.708333</td>\n",
       "      <td>47.395161</td>\n",
       "      <td>0.0</td>\n",
       "      <td>9.9</td>\n",
       "      <td>1.642857</td>\n",
       "      <td>3.419355</td>\n",
       "      <td>9.467742</td>\n",
       "      <td>20.0</td>\n",
       "    </tr>\n",
       "    <tr>\n",
       "      <th>2010-3</th>\n",
       "      <td>0</td>\n",
       "      <td>0</td>\n",
       "      <td>0</td>\n",
       "      <td>0</td>\n",
       "      <td>0</td>\n",
       "      <td>0</td>\n",
       "      <td>0</td>\n",
       "      <td>0</td>\n",
       "      <td>0</td>\n",
       "      <td>0</td>\n",
       "      <td>...</td>\n",
       "      <td>1021.100000</td>\n",
       "      <td>1022.033333</td>\n",
       "      <td>32.979167</td>\n",
       "      <td>29.895161</td>\n",
       "      <td>0.0</td>\n",
       "      <td>15.2</td>\n",
       "      <td>1.678571</td>\n",
       "      <td>3.483871</td>\n",
       "      <td>9.741935</td>\n",
       "      <td>29.0</td>\n",
       "    </tr>\n",
       "    <tr>\n",
       "      <th>2010-4</th>\n",
       "      <td>0</td>\n",
       "      <td>0</td>\n",
       "      <td>0</td>\n",
       "      <td>0</td>\n",
       "      <td>0</td>\n",
       "      <td>0</td>\n",
       "      <td>0</td>\n",
       "      <td>0</td>\n",
       "      <td>0</td>\n",
       "      <td>0</td>\n",
       "      <td>...</td>\n",
       "      <td>1018.966667</td>\n",
       "      <td>1019.433333</td>\n",
       "      <td>27.291667</td>\n",
       "      <td>17.552419</td>\n",
       "      <td>0.0</td>\n",
       "      <td>5.5</td>\n",
       "      <td>1.500000</td>\n",
       "      <td>3.483871</td>\n",
       "      <td>10.506452</td>\n",
       "      <td>23.0</td>\n",
       "    </tr>\n",
       "    <tr>\n",
       "      <th>2010-5</th>\n",
       "      <td>0</td>\n",
       "      <td>0</td>\n",
       "      <td>0</td>\n",
       "      <td>0</td>\n",
       "      <td>0</td>\n",
       "      <td>0</td>\n",
       "      <td>0</td>\n",
       "      <td>0</td>\n",
       "      <td>0</td>\n",
       "      <td>0</td>\n",
       "      <td>...</td>\n",
       "      <td>1019.333333</td>\n",
       "      <td>1020.033333</td>\n",
       "      <td>33.029167</td>\n",
       "      <td>18.475806</td>\n",
       "      <td>0.5</td>\n",
       "      <td>17.5</td>\n",
       "      <td>1.285714</td>\n",
       "      <td>2.870968</td>\n",
       "      <td>9.777419</td>\n",
       "      <td>23.0</td>\n",
       "    </tr>\n",
       "    <tr>\n",
       "      <th>...</th>\n",
       "      <td>...</td>\n",
       "      <td>...</td>\n",
       "      <td>...</td>\n",
       "      <td>...</td>\n",
       "      <td>...</td>\n",
       "      <td>...</td>\n",
       "      <td>...</td>\n",
       "      <td>...</td>\n",
       "      <td>...</td>\n",
       "      <td>...</td>\n",
       "      <td>...</td>\n",
       "      <td>...</td>\n",
       "      <td>...</td>\n",
       "      <td>...</td>\n",
       "      <td>...</td>\n",
       "      <td>...</td>\n",
       "      <td>...</td>\n",
       "      <td>...</td>\n",
       "      <td>...</td>\n",
       "      <td>...</td>\n",
       "      <td>...</td>\n",
       "    </tr>\n",
       "    <tr>\n",
       "      <th>2021-91</th>\n",
       "      <td>0</td>\n",
       "      <td>0</td>\n",
       "      <td>0</td>\n",
       "      <td>0</td>\n",
       "      <td>0</td>\n",
       "      <td>0</td>\n",
       "      <td>0</td>\n",
       "      <td>0</td>\n",
       "      <td>0</td>\n",
       "      <td>0</td>\n",
       "      <td>...</td>\n",
       "      <td>1022.400000</td>\n",
       "      <td>1018.300000</td>\n",
       "      <td>37.116667</td>\n",
       "      <td>68.814516</td>\n",
       "      <td>0.0</td>\n",
       "      <td>3.5</td>\n",
       "      <td>2.678571</td>\n",
       "      <td>3.548387</td>\n",
       "      <td>9.254839</td>\n",
       "      <td>21.0</td>\n",
       "    </tr>\n",
       "    <tr>\n",
       "      <th>2021-93</th>\n",
       "      <td>0</td>\n",
       "      <td>0</td>\n",
       "      <td>0</td>\n",
       "      <td>0</td>\n",
       "      <td>0</td>\n",
       "      <td>0</td>\n",
       "      <td>0</td>\n",
       "      <td>0</td>\n",
       "      <td>0</td>\n",
       "      <td>0</td>\n",
       "      <td>...</td>\n",
       "      <td>1017.000000</td>\n",
       "      <td>1017.066667</td>\n",
       "      <td>42.283333</td>\n",
       "      <td>28.858871</td>\n",
       "      <td>0.0</td>\n",
       "      <td>0.0</td>\n",
       "      <td>3.500000</td>\n",
       "      <td>4.806452</td>\n",
       "      <td>10.883871</td>\n",
       "      <td>21.0</td>\n",
       "    </tr>\n",
       "    <tr>\n",
       "      <th>2021-94</th>\n",
       "      <td>0</td>\n",
       "      <td>0</td>\n",
       "      <td>0</td>\n",
       "      <td>0</td>\n",
       "      <td>0</td>\n",
       "      <td>0</td>\n",
       "      <td>0</td>\n",
       "      <td>0</td>\n",
       "      <td>0</td>\n",
       "      <td>0</td>\n",
       "      <td>...</td>\n",
       "      <td>1022.500000</td>\n",
       "      <td>1018.333333</td>\n",
       "      <td>38.179167</td>\n",
       "      <td>69.169355</td>\n",
       "      <td>0.0</td>\n",
       "      <td>4.7</td>\n",
       "      <td>2.607143</td>\n",
       "      <td>3.548387</td>\n",
       "      <td>9.080645</td>\n",
       "      <td>21.0</td>\n",
       "    </tr>\n",
       "    <tr>\n",
       "      <th>2021-95</th>\n",
       "      <td>0</td>\n",
       "      <td>0</td>\n",
       "      <td>0</td>\n",
       "      <td>0</td>\n",
       "      <td>0</td>\n",
       "      <td>0</td>\n",
       "      <td>0</td>\n",
       "      <td>0</td>\n",
       "      <td>0</td>\n",
       "      <td>0</td>\n",
       "      <td>...</td>\n",
       "      <td>1023.000000</td>\n",
       "      <td>1018.333333</td>\n",
       "      <td>38.662500</td>\n",
       "      <td>72.717742</td>\n",
       "      <td>0.0</td>\n",
       "      <td>2.0</td>\n",
       "      <td>2.607143</td>\n",
       "      <td>3.612903</td>\n",
       "      <td>8.925806</td>\n",
       "      <td>19.0</td>\n",
       "    </tr>\n",
       "    <tr>\n",
       "      <th>2021-20</th>\n",
       "      <td>0</td>\n",
       "      <td>0</td>\n",
       "      <td>0</td>\n",
       "      <td>0</td>\n",
       "      <td>0</td>\n",
       "      <td>0</td>\n",
       "      <td>0</td>\n",
       "      <td>0</td>\n",
       "      <td>0</td>\n",
       "      <td>0</td>\n",
       "      <td>...</td>\n",
       "      <td>1017.266667</td>\n",
       "      <td>1016.266667</td>\n",
       "      <td>40.920833</td>\n",
       "      <td>42.685484</td>\n",
       "      <td>0.0</td>\n",
       "      <td>0.0</td>\n",
       "      <td>3.428571</td>\n",
       "      <td>4.612903</td>\n",
       "      <td>10.274194</td>\n",
       "      <td>22.0</td>\n",
       "    </tr>\n",
       "  </tbody>\n",
       "</table>\n",
       "<p>1116 rows × 115 columns</p>\n",
       "</div>"
      ],
      "text/plain": [
       "         dpt_10  dpt_11  dpt_12  dpt_13  dpt_14  dpt_15  dpt_16  dpt_17  \\\n",
       "2010-1        0       0       0       0       0       0       0       0   \n",
       "2010-2        0       0       0       0       0       0       0       0   \n",
       "2010-3        0       0       0       0       0       0       0       0   \n",
       "2010-4        0       0       0       0       0       0       0       0   \n",
       "2010-5        0       0       0       0       0       0       0       0   \n",
       "...         ...     ...     ...     ...     ...     ...     ...     ...   \n",
       "2021-91       0       0       0       0       0       0       0       0   \n",
       "2021-93       0       0       0       0       0       0       0       0   \n",
       "2021-94       0       0       0       0       0       0       0       0   \n",
       "2021-95       0       0       0       0       0       0       0       0   \n",
       "2021-20       0       0       0       0       0       0       0       0   \n",
       "\n",
       "         dpt_18  dpt_19  ...  pressuremax_mb 04  pressuremax_mb 09_n-1  \\\n",
       "2010-1        0       0  ...        1020.666667            1021.733333   \n",
       "2010-2        0       0  ...        1021.900000            1023.000000   \n",
       "2010-3        0       0  ...        1021.100000            1022.033333   \n",
       "2010-4        0       0  ...        1018.966667            1019.433333   \n",
       "2010-5        0       0  ...        1019.333333            1020.033333   \n",
       "...         ...     ...  ...                ...                    ...   \n",
       "2021-91       0       0  ...        1022.400000            1018.300000   \n",
       "2021-93       0       0  ...        1017.000000            1017.066667   \n",
       "2021-94       0       0  ...        1022.500000            1018.333333   \n",
       "2021-95       0       0  ...        1023.000000            1018.333333   \n",
       "2021-20       0       0  ...        1017.266667            1016.266667   \n",
       "\n",
       "         cloudcov_avg_pct 04  cloudcov_avg_pct 10_n-1  snow_mm 10_n-1  \\\n",
       "2010-1             32.812500                33.612903             0.0   \n",
       "2010-2             30.708333                47.395161             0.0   \n",
       "2010-3             32.979167                29.895161             0.0   \n",
       "2010-4             27.291667                17.552419             0.0   \n",
       "2010-5             33.029167                18.475806             0.5   \n",
       "...                      ...                      ...             ...   \n",
       "2021-91            37.116667                68.814516             0.0   \n",
       "2021-93            42.283333                28.858871             0.0   \n",
       "2021-94            38.179167                69.169355             0.0   \n",
       "2021-95            38.662500                72.717742             0.0   \n",
       "2021-20            40.920833                42.685484             0.0   \n",
       "\n",
       "         snow_mm 12_n-1  uv_idx 02  uv_idx 05  sunhour 03  tmax_deg 10_n-1  \n",
       "2010-1             16.6   1.428571   3.451613    9.532258             26.0  \n",
       "2010-2              9.9   1.642857   3.419355    9.467742             20.0  \n",
       "2010-3             15.2   1.678571   3.483871    9.741935             29.0  \n",
       "2010-4              5.5   1.500000   3.483871   10.506452             23.0  \n",
       "2010-5             17.5   1.285714   2.870968    9.777419             23.0  \n",
       "...                 ...        ...        ...         ...              ...  \n",
       "2021-91             3.5   2.678571   3.548387    9.254839             21.0  \n",
       "2021-93             0.0   3.500000   4.806452   10.883871             21.0  \n",
       "2021-94             4.7   2.607143   3.548387    9.080645             21.0  \n",
       "2021-95             2.0   2.607143   3.612903    8.925806             19.0  \n",
       "2021-20             0.0   3.428571   4.612903   10.274194             22.0  \n",
       "\n",
       "[1116 rows x 115 columns]"
      ]
     },
     "execution_count": 439,
     "metadata": {},
     "output_type": "execute_result"
    }
   ],
   "source": [
    "df_zhou"
   ]
  },
  {
   "cell_type": "code",
   "execution_count": 440,
   "id": "dbf5a55f",
   "metadata": {
    "ExecuteTime": {
     "end_time": "2022-03-08T11:00:27.910060Z",
     "start_time": "2022-03-08T11:00:24.714526Z"
    }
   },
   "outputs": [
    {
     "data": {
      "text/html": [
       "<style>#sk-ad594a15-b12b-4de0-a9a3-225510184fec {color: black;background-color: white;}#sk-ad594a15-b12b-4de0-a9a3-225510184fec pre{padding: 0;}#sk-ad594a15-b12b-4de0-a9a3-225510184fec div.sk-toggleable {background-color: white;}#sk-ad594a15-b12b-4de0-a9a3-225510184fec label.sk-toggleable__label {cursor: pointer;display: block;width: 100%;margin-bottom: 0;padding: 0.3em;box-sizing: border-box;text-align: center;}#sk-ad594a15-b12b-4de0-a9a3-225510184fec label.sk-toggleable__label-arrow:before {content: \"▸\";float: left;margin-right: 0.25em;color: #696969;}#sk-ad594a15-b12b-4de0-a9a3-225510184fec label.sk-toggleable__label-arrow:hover:before {color: black;}#sk-ad594a15-b12b-4de0-a9a3-225510184fec div.sk-estimator:hover label.sk-toggleable__label-arrow:before {color: black;}#sk-ad594a15-b12b-4de0-a9a3-225510184fec div.sk-toggleable__content {max-height: 0;max-width: 0;overflow: hidden;text-align: left;background-color: #f0f8ff;}#sk-ad594a15-b12b-4de0-a9a3-225510184fec div.sk-toggleable__content pre {margin: 0.2em;color: black;border-radius: 0.25em;background-color: #f0f8ff;}#sk-ad594a15-b12b-4de0-a9a3-225510184fec input.sk-toggleable__control:checked~div.sk-toggleable__content {max-height: 200px;max-width: 100%;overflow: auto;}#sk-ad594a15-b12b-4de0-a9a3-225510184fec input.sk-toggleable__control:checked~label.sk-toggleable__label-arrow:before {content: \"▾\";}#sk-ad594a15-b12b-4de0-a9a3-225510184fec div.sk-estimator input.sk-toggleable__control:checked~label.sk-toggleable__label {background-color: #d4ebff;}#sk-ad594a15-b12b-4de0-a9a3-225510184fec div.sk-label input.sk-toggleable__control:checked~label.sk-toggleable__label {background-color: #d4ebff;}#sk-ad594a15-b12b-4de0-a9a3-225510184fec input.sk-hidden--visually {border: 0;clip: rect(1px 1px 1px 1px);clip: rect(1px, 1px, 1px, 1px);height: 1px;margin: -1px;overflow: hidden;padding: 0;position: absolute;width: 1px;}#sk-ad594a15-b12b-4de0-a9a3-225510184fec div.sk-estimator {font-family: monospace;background-color: #f0f8ff;border: 1px dotted black;border-radius: 0.25em;box-sizing: border-box;margin-bottom: 0.5em;}#sk-ad594a15-b12b-4de0-a9a3-225510184fec div.sk-estimator:hover {background-color: #d4ebff;}#sk-ad594a15-b12b-4de0-a9a3-225510184fec div.sk-parallel-item::after {content: \"\";width: 100%;border-bottom: 1px solid gray;flex-grow: 1;}#sk-ad594a15-b12b-4de0-a9a3-225510184fec div.sk-label:hover label.sk-toggleable__label {background-color: #d4ebff;}#sk-ad594a15-b12b-4de0-a9a3-225510184fec div.sk-serial::before {content: \"\";position: absolute;border-left: 1px solid gray;box-sizing: border-box;top: 2em;bottom: 0;left: 50%;}#sk-ad594a15-b12b-4de0-a9a3-225510184fec div.sk-serial {display: flex;flex-direction: column;align-items: center;background-color: white;padding-right: 0.2em;padding-left: 0.2em;}#sk-ad594a15-b12b-4de0-a9a3-225510184fec div.sk-item {z-index: 1;}#sk-ad594a15-b12b-4de0-a9a3-225510184fec div.sk-parallel {display: flex;align-items: stretch;justify-content: center;background-color: white;}#sk-ad594a15-b12b-4de0-a9a3-225510184fec div.sk-parallel::before {content: \"\";position: absolute;border-left: 1px solid gray;box-sizing: border-box;top: 2em;bottom: 0;left: 50%;}#sk-ad594a15-b12b-4de0-a9a3-225510184fec div.sk-parallel-item {display: flex;flex-direction: column;position: relative;background-color: white;}#sk-ad594a15-b12b-4de0-a9a3-225510184fec div.sk-parallel-item:first-child::after {align-self: flex-end;width: 50%;}#sk-ad594a15-b12b-4de0-a9a3-225510184fec div.sk-parallel-item:last-child::after {align-self: flex-start;width: 50%;}#sk-ad594a15-b12b-4de0-a9a3-225510184fec div.sk-parallel-item:only-child::after {width: 0;}#sk-ad594a15-b12b-4de0-a9a3-225510184fec div.sk-dashed-wrapped {border: 1px dashed gray;margin: 0 0.4em 0.5em 0.4em;box-sizing: border-box;padding-bottom: 0.4em;background-color: white;position: relative;}#sk-ad594a15-b12b-4de0-a9a3-225510184fec div.sk-label label {font-family: monospace;font-weight: bold;background-color: white;display: inline-block;line-height: 1.2em;}#sk-ad594a15-b12b-4de0-a9a3-225510184fec div.sk-label-container {position: relative;z-index: 2;text-align: center;}#sk-ad594a15-b12b-4de0-a9a3-225510184fec div.sk-container {/* jupyter's `normalize.less` sets `[hidden] { display: none; }` but bootstrap.min.css set `[hidden] { display: none !important; }` so we also need the `!important` here to be able to override the default hidden behavior on the sphinx rendered scikit-learn.org. See: https://github.com/scikit-learn/scikit-learn/issues/21755 */display: inline-block !important;position: relative;}#sk-ad594a15-b12b-4de0-a9a3-225510184fec div.sk-text-repr-fallback {display: none;}</style><div id=\"sk-ad594a15-b12b-4de0-a9a3-225510184fec\" class=\"sk-top-container\"><div class=\"sk-text-repr-fallback\"><pre>Pipeline(steps=[(&#x27;Scaler&#x27;, RobustScaler()),\n",
       "                (&#x27;Stacking&#x27;,\n",
       "                 StackingRegressor(estimators=[(&#x27;LineReg&#x27;, LinearRegression()),\n",
       "                                               (&#x27;XGB&#x27;,\n",
       "                                                XGBRegressor(base_score=None,\n",
       "                                                             booster=None,\n",
       "                                                             colsample_bylevel=None,\n",
       "                                                             colsample_bynode=None,\n",
       "                                                             colsample_bytree=None,\n",
       "                                                             enable_categorical=False,\n",
       "                                                             gamma=None,\n",
       "                                                             gpu_id=None,\n",
       "                                                             importance_type=None,\n",
       "                                                             interaction_constraints=None,\n",
       "                                                             learning_rate=None,\n",
       "                                                             max_delta_step=None,\n",
       "                                                             max_depth=None,\n",
       "                                                             min_child_weight=None,\n",
       "                                                             missing=nan,\n",
       "                                                             monotone_constraints=None,\n",
       "                                                             n_estimators=100,\n",
       "                                                             n_jobs=None,\n",
       "                                                             num_parallel_tree=None,\n",
       "                                                             predictor=None,\n",
       "                                                             random_state=None,\n",
       "                                                             reg_alpha=None,\n",
       "                                                             reg_lambda=None,\n",
       "                                                             scale_pos_weight=None,\n",
       "                                                             subsample=None,\n",
       "                                                             tree_method=None,\n",
       "                                                             validate_parameters=None,\n",
       "                                                             verbosity=None))],\n",
       "                                   final_estimator=LinearRegression()))])</pre><b>Please rerun this cell to show the HTML repr or trust the notebook.</b></div><div class=\"sk-container\" hidden><div class=\"sk-item sk-dashed-wrapped\"><div class=\"sk-label-container\"><div class=\"sk-label sk-toggleable\"><input class=\"sk-toggleable__control sk-hidden--visually\" id=\"55d21b83-930d-4e0b-a213-7e06ce645e69\" type=\"checkbox\" ><label for=\"55d21b83-930d-4e0b-a213-7e06ce645e69\" class=\"sk-toggleable__label sk-toggleable__label-arrow\">Pipeline</label><div class=\"sk-toggleable__content\"><pre>Pipeline(steps=[(&#x27;Scaler&#x27;, RobustScaler()),\n",
       "                (&#x27;Stacking&#x27;,\n",
       "                 StackingRegressor(estimators=[(&#x27;LineReg&#x27;, LinearRegression()),\n",
       "                                               (&#x27;XGB&#x27;,\n",
       "                                                XGBRegressor(base_score=None,\n",
       "                                                             booster=None,\n",
       "                                                             colsample_bylevel=None,\n",
       "                                                             colsample_bynode=None,\n",
       "                                                             colsample_bytree=None,\n",
       "                                                             enable_categorical=False,\n",
       "                                                             gamma=None,\n",
       "                                                             gpu_id=None,\n",
       "                                                             importance_type=None,\n",
       "                                                             interaction_constraints=None,\n",
       "                                                             learning_rate=None,\n",
       "                                                             max_delta_step=None,\n",
       "                                                             max_depth=None,\n",
       "                                                             min_child_weight=None,\n",
       "                                                             missing=nan,\n",
       "                                                             monotone_constraints=None,\n",
       "                                                             n_estimators=100,\n",
       "                                                             n_jobs=None,\n",
       "                                                             num_parallel_tree=None,\n",
       "                                                             predictor=None,\n",
       "                                                             random_state=None,\n",
       "                                                             reg_alpha=None,\n",
       "                                                             reg_lambda=None,\n",
       "                                                             scale_pos_weight=None,\n",
       "                                                             subsample=None,\n",
       "                                                             tree_method=None,\n",
       "                                                             validate_parameters=None,\n",
       "                                                             verbosity=None))],\n",
       "                                   final_estimator=LinearRegression()))])</pre></div></div></div><div class=\"sk-serial\"><div class=\"sk-item\"><div class=\"sk-estimator sk-toggleable\"><input class=\"sk-toggleable__control sk-hidden--visually\" id=\"3344c1c3-15b1-4a8a-a346-32b7a1bf02dd\" type=\"checkbox\" ><label for=\"3344c1c3-15b1-4a8a-a346-32b7a1bf02dd\" class=\"sk-toggleable__label sk-toggleable__label-arrow\">RobustScaler</label><div class=\"sk-toggleable__content\"><pre>RobustScaler()</pre></div></div></div><div class=\"sk-item\"><div class=\"sk-label-container\"><div class=\"sk-label sk-toggleable\"><input class=\"sk-toggleable__control sk-hidden--visually\" id=\"4ea86624-852b-4e54-ba7f-5130153906df\" type=\"checkbox\" ><label for=\"4ea86624-852b-4e54-ba7f-5130153906df\" class=\"sk-toggleable__label sk-toggleable__label-arrow\">Stacking: StackingRegressor</label><div class=\"sk-toggleable__content\"><pre>StackingRegressor(estimators=[(&#x27;LineReg&#x27;, LinearRegression()),\n",
       "                              (&#x27;XGB&#x27;,\n",
       "                               XGBRegressor(base_score=None, booster=None,\n",
       "                                            colsample_bylevel=None,\n",
       "                                            colsample_bynode=None,\n",
       "                                            colsample_bytree=None,\n",
       "                                            enable_categorical=False,\n",
       "                                            gamma=None, gpu_id=None,\n",
       "                                            importance_type=None,\n",
       "                                            interaction_constraints=None,\n",
       "                                            learning_rate=None,\n",
       "                                            max_delta_step=None, max_depth=None,\n",
       "                                            min_child_weight=None, missing=nan,\n",
       "                                            monotone_constraints=None,\n",
       "                                            n_estimators=100, n_jobs=None,\n",
       "                                            num_parallel_tree=None,\n",
       "                                            predictor=None, random_state=None,\n",
       "                                            reg_alpha=None, reg_lambda=None,\n",
       "                                            scale_pos_weight=None,\n",
       "                                            subsample=None, tree_method=None,\n",
       "                                            validate_parameters=None,\n",
       "                                            verbosity=None))],\n",
       "                  final_estimator=LinearRegression())</pre></div></div></div><div class=\"sk-serial\"><div class=\"sk-item\"><div class=\"sk-parallel\"><div class=\"sk-parallel-item\"><div class=\"sk-item\"><div class=\"sk-label-container\"><div class=\"sk-label sk-toggleable\"><label>LineReg</label></div></div><div class=\"sk-serial\"><div class=\"sk-item\"><div class=\"sk-estimator sk-toggleable\"><input class=\"sk-toggleable__control sk-hidden--visually\" id=\"f325393f-9a78-4265-bcd4-6fcd77f2ae8d\" type=\"checkbox\" ><label for=\"f325393f-9a78-4265-bcd4-6fcd77f2ae8d\" class=\"sk-toggleable__label sk-toggleable__label-arrow\">LinearRegression</label><div class=\"sk-toggleable__content\"><pre>LinearRegression()</pre></div></div></div></div></div></div><div class=\"sk-parallel-item\"><div class=\"sk-item\"><div class=\"sk-label-container\"><div class=\"sk-label sk-toggleable\"><label>XGB</label></div></div><div class=\"sk-serial\"><div class=\"sk-item\"><div class=\"sk-estimator sk-toggleable\"><input class=\"sk-toggleable__control sk-hidden--visually\" id=\"66f736a5-6ffa-4c31-92dc-08be9da81f52\" type=\"checkbox\" ><label for=\"66f736a5-6ffa-4c31-92dc-08be9da81f52\" class=\"sk-toggleable__label sk-toggleable__label-arrow\">XGBRegressor</label><div class=\"sk-toggleable__content\"><pre>XGBRegressor(base_score=None, booster=None, colsample_bylevel=None,\n",
       "             colsample_bynode=None, colsample_bytree=None,\n",
       "             enable_categorical=False, gamma=None, gpu_id=None,\n",
       "             importance_type=None, interaction_constraints=None,\n",
       "             learning_rate=None, max_delta_step=None, max_depth=None,\n",
       "             min_child_weight=None, missing=nan, monotone_constraints=None,\n",
       "             n_estimators=100, n_jobs=None, num_parallel_tree=None,\n",
       "             predictor=None, random_state=None, reg_alpha=None, reg_lambda=None,\n",
       "             scale_pos_weight=None, subsample=None, tree_method=None,\n",
       "             validate_parameters=None, verbosity=None)</pre></div></div></div></div></div></div></div></div><div class=\"sk-item\"><div class=\"sk-parallel\"><div class=\"sk-parallel-item\"><div class=\"sk-item\"><div class=\"sk-label-container\"><div class=\"sk-label sk-toggleable\"><label>final_estimator</label></div></div><div class=\"sk-serial\"><div class=\"sk-item\"><div class=\"sk-estimator sk-toggleable\"><input class=\"sk-toggleable__control sk-hidden--visually\" id=\"f5b904d5-871b-4fb5-98fc-ed787167b1db\" type=\"checkbox\" ><label for=\"f5b904d5-871b-4fb5-98fc-ed787167b1db\" class=\"sk-toggleable__label sk-toggleable__label-arrow\">LinearRegression</label><div class=\"sk-toggleable__content\"><pre>LinearRegression()</pre></div></div></div></div></div></div></div></div></div></div></div></div></div></div>"
      ],
      "text/plain": [
       "Pipeline(steps=[('Scaler', RobustScaler()),\n",
       "                ('Stacking',\n",
       "                 StackingRegressor(estimators=[('LineReg', LinearRegression()),\n",
       "                                               ('XGB',\n",
       "                                                XGBRegressor(base_score=None,\n",
       "                                                             booster=None,\n",
       "                                                             colsample_bylevel=None,\n",
       "                                                             colsample_bynode=None,\n",
       "                                                             colsample_bytree=None,\n",
       "                                                             enable_categorical=False,\n",
       "                                                             gamma=None,\n",
       "                                                             gpu_id=None,\n",
       "                                                             importance_type=None,\n",
       "                                                             interaction_constraints=None,\n",
       "                                                             learning_rate=None,\n",
       "                                                             max_delta_step=None,\n",
       "                                                             max_depth=None,\n",
       "                                                             min_child_weight=None,\n",
       "                                                             missing=nan,\n",
       "                                                             monotone_constraints=None,\n",
       "                                                             n_estimators=100,\n",
       "                                                             n_jobs=None,\n",
       "                                                             num_parallel_tree=None,\n",
       "                                                             predictor=None,\n",
       "                                                             random_state=None,\n",
       "                                                             reg_alpha=None,\n",
       "                                                             reg_lambda=None,\n",
       "                                                             scale_pos_weight=None,\n",
       "                                                             subsample=None,\n",
       "                                                             tree_method=None,\n",
       "                                                             validate_parameters=None,\n",
       "                                                             verbosity=None))],\n",
       "                                   final_estimator=LinearRegression()))])"
      ]
     },
     "execution_count": 440,
     "metadata": {},
     "output_type": "execute_result"
    }
   ],
   "source": [
    "X=df_zhou[:-93].drop(columns=['Production'])\n",
    "X_test=df_zhou.iloc[-93:].drop(columns=['Production'])\n",
    "y=df_zhou[:-93]['Production']\n",
    "y_test=df_zhou.iloc[-93:]['Production']\n",
    "\n",
    "\n",
    "ensemble = StackingRegressor(\n",
    "    estimators = [\n",
    "                (\"LineReg\", LinearRegression()),\n",
    "                  (\"XGB\", XGBRegressor())],\n",
    "    final_estimator = LinearRegression())\n",
    "pipe=Pipeline([('Scaler',RobustScaler()),\n",
    "     ('Stacking',ensemble)])\n",
    "pipe.fit(X,y)"
   ]
  },
  {
   "cell_type": "code",
   "execution_count": 441,
   "id": "fc355f47",
   "metadata": {
    "ExecuteTime": {
     "end_time": "2022-03-08T11:00:42.000854Z",
     "start_time": "2022-03-08T11:00:41.962019Z"
    }
   },
   "outputs": [
    {
     "data": {
      "text/plain": [
       "58319.061431052214"
      ]
     },
     "execution_count": 441,
     "metadata": {},
     "output_type": "execute_result"
    }
   ],
   "source": [
    "mean_absolute_error(y_test,pipe.predict(X_test))"
   ]
  },
  {
   "cell_type": "markdown",
   "id": "7205766d",
   "metadata": {},
   "source": [
    "# Essai de holdout de 2015 et 2016 qui sont la meilleure année et la pire "
   ]
  },
  {
   "cell_type": "code",
   "execution_count": 447,
   "id": "d9c4f461",
   "metadata": {
    "ExecuteTime": {
     "end_time": "2022-03-08T11:07:36.520444Z",
     "start_time": "2022-03-08T11:07:36.489971Z"
    }
   },
   "outputs": [],
   "source": [
    "full_df['year']=full_df.index.str[:4]"
   ]
  },
  {
   "cell_type": "code",
   "execution_count": 457,
   "id": "36b83389",
   "metadata": {
    "ExecuteTime": {
     "end_time": "2022-03-08T11:14:35.681783Z",
     "start_time": "2022-03-08T11:14:35.642542Z"
    }
   },
   "outputs": [],
   "source": [
    "df_2015=full_df[full_df['year']=='2015']\n",
    "df_2016=full_df[full_df['year']=='2016']\n",
    "df_train=full_df[full_df['year']!='2015']\n",
    "df_train=df_train[df_train['year']!='2016']\n",
    "df_train=df_train.drop(columns=['year'])\n",
    "df_2015=df_2015.drop(columns=['year'])\n",
    "df_2016=df_2016.drop(columns=['year'])"
   ]
  },
  {
   "cell_type": "code",
   "execution_count": 471,
   "id": "e9af8c9c",
   "metadata": {
    "ExecuteTime": {
     "end_time": "2022-03-08T11:22:29.060851Z",
     "start_time": "2022-03-08T11:22:25.817083Z"
    }
   },
   "outputs": [
    {
     "data": {
      "text/html": [
       "<style>#sk-9cd4daa2-ea25-452e-b798-d468dbbe2817 {color: black;background-color: white;}#sk-9cd4daa2-ea25-452e-b798-d468dbbe2817 pre{padding: 0;}#sk-9cd4daa2-ea25-452e-b798-d468dbbe2817 div.sk-toggleable {background-color: white;}#sk-9cd4daa2-ea25-452e-b798-d468dbbe2817 label.sk-toggleable__label {cursor: pointer;display: block;width: 100%;margin-bottom: 0;padding: 0.3em;box-sizing: border-box;text-align: center;}#sk-9cd4daa2-ea25-452e-b798-d468dbbe2817 label.sk-toggleable__label-arrow:before {content: \"▸\";float: left;margin-right: 0.25em;color: #696969;}#sk-9cd4daa2-ea25-452e-b798-d468dbbe2817 label.sk-toggleable__label-arrow:hover:before {color: black;}#sk-9cd4daa2-ea25-452e-b798-d468dbbe2817 div.sk-estimator:hover label.sk-toggleable__label-arrow:before {color: black;}#sk-9cd4daa2-ea25-452e-b798-d468dbbe2817 div.sk-toggleable__content {max-height: 0;max-width: 0;overflow: hidden;text-align: left;background-color: #f0f8ff;}#sk-9cd4daa2-ea25-452e-b798-d468dbbe2817 div.sk-toggleable__content pre {margin: 0.2em;color: black;border-radius: 0.25em;background-color: #f0f8ff;}#sk-9cd4daa2-ea25-452e-b798-d468dbbe2817 input.sk-toggleable__control:checked~div.sk-toggleable__content {max-height: 200px;max-width: 100%;overflow: auto;}#sk-9cd4daa2-ea25-452e-b798-d468dbbe2817 input.sk-toggleable__control:checked~label.sk-toggleable__label-arrow:before {content: \"▾\";}#sk-9cd4daa2-ea25-452e-b798-d468dbbe2817 div.sk-estimator input.sk-toggleable__control:checked~label.sk-toggleable__label {background-color: #d4ebff;}#sk-9cd4daa2-ea25-452e-b798-d468dbbe2817 div.sk-label input.sk-toggleable__control:checked~label.sk-toggleable__label {background-color: #d4ebff;}#sk-9cd4daa2-ea25-452e-b798-d468dbbe2817 input.sk-hidden--visually {border: 0;clip: rect(1px 1px 1px 1px);clip: rect(1px, 1px, 1px, 1px);height: 1px;margin: -1px;overflow: hidden;padding: 0;position: absolute;width: 1px;}#sk-9cd4daa2-ea25-452e-b798-d468dbbe2817 div.sk-estimator {font-family: monospace;background-color: #f0f8ff;border: 1px dotted black;border-radius: 0.25em;box-sizing: border-box;margin-bottom: 0.5em;}#sk-9cd4daa2-ea25-452e-b798-d468dbbe2817 div.sk-estimator:hover {background-color: #d4ebff;}#sk-9cd4daa2-ea25-452e-b798-d468dbbe2817 div.sk-parallel-item::after {content: \"\";width: 100%;border-bottom: 1px solid gray;flex-grow: 1;}#sk-9cd4daa2-ea25-452e-b798-d468dbbe2817 div.sk-label:hover label.sk-toggleable__label {background-color: #d4ebff;}#sk-9cd4daa2-ea25-452e-b798-d468dbbe2817 div.sk-serial::before {content: \"\";position: absolute;border-left: 1px solid gray;box-sizing: border-box;top: 2em;bottom: 0;left: 50%;}#sk-9cd4daa2-ea25-452e-b798-d468dbbe2817 div.sk-serial {display: flex;flex-direction: column;align-items: center;background-color: white;padding-right: 0.2em;padding-left: 0.2em;}#sk-9cd4daa2-ea25-452e-b798-d468dbbe2817 div.sk-item {z-index: 1;}#sk-9cd4daa2-ea25-452e-b798-d468dbbe2817 div.sk-parallel {display: flex;align-items: stretch;justify-content: center;background-color: white;}#sk-9cd4daa2-ea25-452e-b798-d468dbbe2817 div.sk-parallel::before {content: \"\";position: absolute;border-left: 1px solid gray;box-sizing: border-box;top: 2em;bottom: 0;left: 50%;}#sk-9cd4daa2-ea25-452e-b798-d468dbbe2817 div.sk-parallel-item {display: flex;flex-direction: column;position: relative;background-color: white;}#sk-9cd4daa2-ea25-452e-b798-d468dbbe2817 div.sk-parallel-item:first-child::after {align-self: flex-end;width: 50%;}#sk-9cd4daa2-ea25-452e-b798-d468dbbe2817 div.sk-parallel-item:last-child::after {align-self: flex-start;width: 50%;}#sk-9cd4daa2-ea25-452e-b798-d468dbbe2817 div.sk-parallel-item:only-child::after {width: 0;}#sk-9cd4daa2-ea25-452e-b798-d468dbbe2817 div.sk-dashed-wrapped {border: 1px dashed gray;margin: 0 0.4em 0.5em 0.4em;box-sizing: border-box;padding-bottom: 0.4em;background-color: white;position: relative;}#sk-9cd4daa2-ea25-452e-b798-d468dbbe2817 div.sk-label label {font-family: monospace;font-weight: bold;background-color: white;display: inline-block;line-height: 1.2em;}#sk-9cd4daa2-ea25-452e-b798-d468dbbe2817 div.sk-label-container {position: relative;z-index: 2;text-align: center;}#sk-9cd4daa2-ea25-452e-b798-d468dbbe2817 div.sk-container {/* jupyter's `normalize.less` sets `[hidden] { display: none; }` but bootstrap.min.css set `[hidden] { display: none !important; }` so we also need the `!important` here to be able to override the default hidden behavior on the sphinx rendered scikit-learn.org. See: https://github.com/scikit-learn/scikit-learn/issues/21755 */display: inline-block !important;position: relative;}#sk-9cd4daa2-ea25-452e-b798-d468dbbe2817 div.sk-text-repr-fallback {display: none;}</style><div id=\"sk-9cd4daa2-ea25-452e-b798-d468dbbe2817\" class=\"sk-top-container\"><div class=\"sk-text-repr-fallback\"><pre>Pipeline(steps=[(&#x27;Scaler&#x27;, RobustScaler()),\n",
       "                (&#x27;Stacking&#x27;,\n",
       "                 StackingRegressor(estimators=[(&#x27;LineReg&#x27;, LinearRegression()),\n",
       "                                               (&#x27;XGB&#x27;,\n",
       "                                                XGBRegressor(base_score=None,\n",
       "                                                             booster=None,\n",
       "                                                             colsample_bylevel=None,\n",
       "                                                             colsample_bynode=None,\n",
       "                                                             colsample_bytree=None,\n",
       "                                                             enable_categorical=False,\n",
       "                                                             gamma=None,\n",
       "                                                             gpu_id=None,\n",
       "                                                             importance_type=None,\n",
       "                                                             interaction_constraints=None,\n",
       "                                                             learning_rate=None,\n",
       "                                                             max_delta_step=None,\n",
       "                                                             max_depth=None,\n",
       "                                                             min_child_weight=None,\n",
       "                                                             missing=nan,\n",
       "                                                             monotone_constraints=None,\n",
       "                                                             n_estimators=100,\n",
       "                                                             n_jobs=None,\n",
       "                                                             num_parallel_tree=None,\n",
       "                                                             predictor=None,\n",
       "                                                             random_state=None,\n",
       "                                                             reg_alpha=None,\n",
       "                                                             reg_lambda=None,\n",
       "                                                             scale_pos_weight=None,\n",
       "                                                             subsample=None,\n",
       "                                                             tree_method=None,\n",
       "                                                             validate_parameters=None,\n",
       "                                                             verbosity=None))],\n",
       "                                   final_estimator=LinearRegression()))])</pre><b>Please rerun this cell to show the HTML repr or trust the notebook.</b></div><div class=\"sk-container\" hidden><div class=\"sk-item sk-dashed-wrapped\"><div class=\"sk-label-container\"><div class=\"sk-label sk-toggleable\"><input class=\"sk-toggleable__control sk-hidden--visually\" id=\"71de35b1-6940-42d3-9679-43500ef3196b\" type=\"checkbox\" ><label for=\"71de35b1-6940-42d3-9679-43500ef3196b\" class=\"sk-toggleable__label sk-toggleable__label-arrow\">Pipeline</label><div class=\"sk-toggleable__content\"><pre>Pipeline(steps=[(&#x27;Scaler&#x27;, RobustScaler()),\n",
       "                (&#x27;Stacking&#x27;,\n",
       "                 StackingRegressor(estimators=[(&#x27;LineReg&#x27;, LinearRegression()),\n",
       "                                               (&#x27;XGB&#x27;,\n",
       "                                                XGBRegressor(base_score=None,\n",
       "                                                             booster=None,\n",
       "                                                             colsample_bylevel=None,\n",
       "                                                             colsample_bynode=None,\n",
       "                                                             colsample_bytree=None,\n",
       "                                                             enable_categorical=False,\n",
       "                                                             gamma=None,\n",
       "                                                             gpu_id=None,\n",
       "                                                             importance_type=None,\n",
       "                                                             interaction_constraints=None,\n",
       "                                                             learning_rate=None,\n",
       "                                                             max_delta_step=None,\n",
       "                                                             max_depth=None,\n",
       "                                                             min_child_weight=None,\n",
       "                                                             missing=nan,\n",
       "                                                             monotone_constraints=None,\n",
       "                                                             n_estimators=100,\n",
       "                                                             n_jobs=None,\n",
       "                                                             num_parallel_tree=None,\n",
       "                                                             predictor=None,\n",
       "                                                             random_state=None,\n",
       "                                                             reg_alpha=None,\n",
       "                                                             reg_lambda=None,\n",
       "                                                             scale_pos_weight=None,\n",
       "                                                             subsample=None,\n",
       "                                                             tree_method=None,\n",
       "                                                             validate_parameters=None,\n",
       "                                                             verbosity=None))],\n",
       "                                   final_estimator=LinearRegression()))])</pre></div></div></div><div class=\"sk-serial\"><div class=\"sk-item\"><div class=\"sk-estimator sk-toggleable\"><input class=\"sk-toggleable__control sk-hidden--visually\" id=\"83085524-6df7-4f5a-b581-6ae9025269b9\" type=\"checkbox\" ><label for=\"83085524-6df7-4f5a-b581-6ae9025269b9\" class=\"sk-toggleable__label sk-toggleable__label-arrow\">RobustScaler</label><div class=\"sk-toggleable__content\"><pre>RobustScaler()</pre></div></div></div><div class=\"sk-item\"><div class=\"sk-label-container\"><div class=\"sk-label sk-toggleable\"><input class=\"sk-toggleable__control sk-hidden--visually\" id=\"ccdaa66f-ee41-49e9-9931-09f43030970f\" type=\"checkbox\" ><label for=\"ccdaa66f-ee41-49e9-9931-09f43030970f\" class=\"sk-toggleable__label sk-toggleable__label-arrow\">Stacking: StackingRegressor</label><div class=\"sk-toggleable__content\"><pre>StackingRegressor(estimators=[(&#x27;LineReg&#x27;, LinearRegression()),\n",
       "                              (&#x27;XGB&#x27;,\n",
       "                               XGBRegressor(base_score=None, booster=None,\n",
       "                                            colsample_bylevel=None,\n",
       "                                            colsample_bynode=None,\n",
       "                                            colsample_bytree=None,\n",
       "                                            enable_categorical=False,\n",
       "                                            gamma=None, gpu_id=None,\n",
       "                                            importance_type=None,\n",
       "                                            interaction_constraints=None,\n",
       "                                            learning_rate=None,\n",
       "                                            max_delta_step=None, max_depth=None,\n",
       "                                            min_child_weight=None, missing=nan,\n",
       "                                            monotone_constraints=None,\n",
       "                                            n_estimators=100, n_jobs=None,\n",
       "                                            num_parallel_tree=None,\n",
       "                                            predictor=None, random_state=None,\n",
       "                                            reg_alpha=None, reg_lambda=None,\n",
       "                                            scale_pos_weight=None,\n",
       "                                            subsample=None, tree_method=None,\n",
       "                                            validate_parameters=None,\n",
       "                                            verbosity=None))],\n",
       "                  final_estimator=LinearRegression())</pre></div></div></div><div class=\"sk-serial\"><div class=\"sk-item\"><div class=\"sk-parallel\"><div class=\"sk-parallel-item\"><div class=\"sk-item\"><div class=\"sk-label-container\"><div class=\"sk-label sk-toggleable\"><label>LineReg</label></div></div><div class=\"sk-serial\"><div class=\"sk-item\"><div class=\"sk-estimator sk-toggleable\"><input class=\"sk-toggleable__control sk-hidden--visually\" id=\"9ca01f5d-2427-4536-8afe-2c7e1719f20e\" type=\"checkbox\" ><label for=\"9ca01f5d-2427-4536-8afe-2c7e1719f20e\" class=\"sk-toggleable__label sk-toggleable__label-arrow\">LinearRegression</label><div class=\"sk-toggleable__content\"><pre>LinearRegression()</pre></div></div></div></div></div></div><div class=\"sk-parallel-item\"><div class=\"sk-item\"><div class=\"sk-label-container\"><div class=\"sk-label sk-toggleable\"><label>XGB</label></div></div><div class=\"sk-serial\"><div class=\"sk-item\"><div class=\"sk-estimator sk-toggleable\"><input class=\"sk-toggleable__control sk-hidden--visually\" id=\"16161f78-e98a-4875-ab46-7f8c40c23b27\" type=\"checkbox\" ><label for=\"16161f78-e98a-4875-ab46-7f8c40c23b27\" class=\"sk-toggleable__label sk-toggleable__label-arrow\">XGBRegressor</label><div class=\"sk-toggleable__content\"><pre>XGBRegressor(base_score=None, booster=None, colsample_bylevel=None,\n",
       "             colsample_bynode=None, colsample_bytree=None,\n",
       "             enable_categorical=False, gamma=None, gpu_id=None,\n",
       "             importance_type=None, interaction_constraints=None,\n",
       "             learning_rate=None, max_delta_step=None, max_depth=None,\n",
       "             min_child_weight=None, missing=nan, monotone_constraints=None,\n",
       "             n_estimators=100, n_jobs=None, num_parallel_tree=None,\n",
       "             predictor=None, random_state=None, reg_alpha=None, reg_lambda=None,\n",
       "             scale_pos_weight=None, subsample=None, tree_method=None,\n",
       "             validate_parameters=None, verbosity=None)</pre></div></div></div></div></div></div></div></div><div class=\"sk-item\"><div class=\"sk-parallel\"><div class=\"sk-parallel-item\"><div class=\"sk-item\"><div class=\"sk-label-container\"><div class=\"sk-label sk-toggleable\"><label>final_estimator</label></div></div><div class=\"sk-serial\"><div class=\"sk-item\"><div class=\"sk-estimator sk-toggleable\"><input class=\"sk-toggleable__control sk-hidden--visually\" id=\"a65a2ed8-3ce6-482a-8b33-7420df8ac0d1\" type=\"checkbox\" ><label for=\"a65a2ed8-3ce6-482a-8b33-7420df8ac0d1\" class=\"sk-toggleable__label sk-toggleable__label-arrow\">LinearRegression</label><div class=\"sk-toggleable__content\"><pre>LinearRegression()</pre></div></div></div></div></div></div></div></div></div></div></div></div></div></div>"
      ],
      "text/plain": [
       "Pipeline(steps=[('Scaler', RobustScaler()),\n",
       "                ('Stacking',\n",
       "                 StackingRegressor(estimators=[('LineReg', LinearRegression()),\n",
       "                                               ('XGB',\n",
       "                                                XGBRegressor(base_score=None,\n",
       "                                                             booster=None,\n",
       "                                                             colsample_bylevel=None,\n",
       "                                                             colsample_bynode=None,\n",
       "                                                             colsample_bytree=None,\n",
       "                                                             enable_categorical=False,\n",
       "                                                             gamma=None,\n",
       "                                                             gpu_id=None,\n",
       "                                                             importance_type=None,\n",
       "                                                             interaction_constraints=None,\n",
       "                                                             learning_rate=None,\n",
       "                                                             max_delta_step=None,\n",
       "                                                             max_depth=None,\n",
       "                                                             min_child_weight=None,\n",
       "                                                             missing=nan,\n",
       "                                                             monotone_constraints=None,\n",
       "                                                             n_estimators=100,\n",
       "                                                             n_jobs=None,\n",
       "                                                             num_parallel_tree=None,\n",
       "                                                             predictor=None,\n",
       "                                                             random_state=None,\n",
       "                                                             reg_alpha=None,\n",
       "                                                             reg_lambda=None,\n",
       "                                                             scale_pos_weight=None,\n",
       "                                                             subsample=None,\n",
       "                                                             tree_method=None,\n",
       "                                                             validate_parameters=None,\n",
       "                                                             verbosity=None))],\n",
       "                                   final_estimator=LinearRegression()))])"
      ]
     },
     "execution_count": 471,
     "metadata": {},
     "output_type": "execute_result"
    }
   ],
   "source": [
    "ensemble = StackingRegressor(\n",
    "                            estimators = [\n",
    "                                        (\"LineReg\", LinearRegression()),\n",
    "                                        (\"XGB\", XGBRegressor())],\n",
    "                            final_estimator = LinearRegression())\n",
    "pipe=Pipeline([('Scaler',RobustScaler()),\n",
    "     ('Stacking',ensemble)])\n",
    "pipe.fit(df_train.drop(columns=['Production','Prod_n-1']),df_train['Production'])"
   ]
  },
  {
   "cell_type": "code",
   "execution_count": 474,
   "id": "c217f658",
   "metadata": {
    "ExecuteTime": {
     "end_time": "2022-03-08T11:22:40.647775Z",
     "start_time": "2022-03-08T11:22:40.608862Z"
    }
   },
   "outputs": [
    {
     "data": {
      "text/plain": [
       "139457.9228630925"
      ]
     },
     "execution_count": 474,
     "metadata": {},
     "output_type": "execute_result"
    }
   ],
   "source": [
    "mean_absolute_error(df_2015['Production'],pipe.predict(df_2015.drop(columns=['Production','Prod_n-1'])))"
   ]
  },
  {
   "cell_type": "code",
   "execution_count": 498,
   "id": "db6cb574",
   "metadata": {
    "ExecuteTime": {
     "end_time": "2022-03-08T11:40:05.706437Z",
     "start_time": "2022-03-08T11:40:05.667248Z"
    }
   },
   "outputs": [],
   "source": [
    "pred_2015=pd.DataFrame(pipe.predict(df_2015.drop(columns=['Production','Prod_n-1'])),index=df_2015.index)"
   ]
  },
  {
   "cell_type": "code",
   "execution_count": 476,
   "id": "3d373c64",
   "metadata": {
    "ExecuteTime": {
     "end_time": "2022-03-08T11:22:51.897374Z",
     "start_time": "2022-03-08T11:22:51.856224Z"
    }
   },
   "outputs": [
    {
     "data": {
      "text/plain": [
       "90754.73768380465"
      ]
     },
     "execution_count": 476,
     "metadata": {},
     "output_type": "execute_result"
    }
   ],
   "source": [
    "mean_absolute_error(df_2016['Production'],pipe.predict(df_2016.drop(columns=['Production','Prod_n-1'])))"
   ]
  },
  {
   "cell_type": "code",
   "execution_count": 485,
   "id": "84421cb6",
   "metadata": {
    "ExecuteTime": {
     "end_time": "2022-03-08T11:35:28.395486Z",
     "start_time": "2022-03-08T11:35:28.355674Z"
    }
   },
   "outputs": [],
   "source": [
    "pred_2016=pd.DataFrame(pipe.predict(df_2016.drop(columns=['Production','Prod_n-1'])),index=df_2016.index)"
   ]
  },
  {
   "cell_type": "code",
   "execution_count": 499,
   "id": "dd6f852d",
   "metadata": {
    "ExecuteTime": {
     "end_time": "2022-03-08T11:40:07.868991Z",
     "start_time": "2022-03-08T11:40:07.834138Z"
    }
   },
   "outputs": [
    {
     "data": {
      "text/html": [
       "<div>\n",
       "<style scoped>\n",
       "    .dataframe tbody tr th:only-of-type {\n",
       "        vertical-align: middle;\n",
       "    }\n",
       "\n",
       "    .dataframe tbody tr th {\n",
       "        vertical-align: top;\n",
       "    }\n",
       "\n",
       "    .dataframe thead th {\n",
       "        text-align: right;\n",
       "    }\n",
       "</style>\n",
       "<table border=\"1\" class=\"dataframe\">\n",
       "  <thead>\n",
       "    <tr style=\"text-align: right;\">\n",
       "      <th></th>\n",
       "      <th>0</th>\n",
       "    </tr>\n",
       "  </thead>\n",
       "  <tbody>\n",
       "    <tr>\n",
       "      <th>2015-1</th>\n",
       "      <td>4.341884e+05</td>\n",
       "    </tr>\n",
       "    <tr>\n",
       "      <th>2015-2</th>\n",
       "      <td>1.674976e+06</td>\n",
       "    </tr>\n",
       "    <tr>\n",
       "      <th>2015-3</th>\n",
       "      <td>4.748039e+05</td>\n",
       "    </tr>\n",
       "    <tr>\n",
       "      <th>2015-4</th>\n",
       "      <td>1.739037e+05</td>\n",
       "    </tr>\n",
       "    <tr>\n",
       "      <th>2015-5</th>\n",
       "      <td>1.324330e+05</td>\n",
       "    </tr>\n",
       "    <tr>\n",
       "      <th>...</th>\n",
       "      <td>...</td>\n",
       "    </tr>\n",
       "    <tr>\n",
       "      <th>2015-91</th>\n",
       "      <td>4.329144e+05</td>\n",
       "    </tr>\n",
       "    <tr>\n",
       "      <th>2015-93</th>\n",
       "      <td>1.820703e+05</td>\n",
       "    </tr>\n",
       "    <tr>\n",
       "      <th>2015-94</th>\n",
       "      <td>2.187683e+05</td>\n",
       "    </tr>\n",
       "    <tr>\n",
       "      <th>2015-95</th>\n",
       "      <td>3.947632e+05</td>\n",
       "    </tr>\n",
       "    <tr>\n",
       "      <th>2015-20</th>\n",
       "      <td>1.618450e+05</td>\n",
       "    </tr>\n",
       "  </tbody>\n",
       "</table>\n",
       "<p>93 rows × 1 columns</p>\n",
       "</div>"
      ],
      "text/plain": [
       "                    0\n",
       "2015-1   4.341884e+05\n",
       "2015-2   1.674976e+06\n",
       "2015-3   4.748039e+05\n",
       "2015-4   1.739037e+05\n",
       "2015-5   1.324330e+05\n",
       "...               ...\n",
       "2015-91  4.329144e+05\n",
       "2015-93  1.820703e+05\n",
       "2015-94  2.187683e+05\n",
       "2015-95  3.947632e+05\n",
       "2015-20  1.618450e+05\n",
       "\n",
       "[93 rows x 1 columns]"
      ]
     },
     "execution_count": 499,
     "metadata": {},
     "output_type": "execute_result"
    }
   ],
   "source": [
    "pred_2015"
   ]
  },
  {
   "cell_type": "code",
   "execution_count": 491,
   "id": "c90e9f47",
   "metadata": {
    "ExecuteTime": {
     "end_time": "2022-03-08T11:36:58.607129Z",
     "start_time": "2022-03-08T11:36:58.571343Z"
    }
   },
   "outputs": [
    {
     "data": {
      "text/html": [
       "<div>\n",
       "<style scoped>\n",
       "    .dataframe tbody tr th:only-of-type {\n",
       "        vertical-align: middle;\n",
       "    }\n",
       "\n",
       "    .dataframe tbody tr th {\n",
       "        vertical-align: top;\n",
       "    }\n",
       "\n",
       "    .dataframe thead th {\n",
       "        text-align: right;\n",
       "    }\n",
       "</style>\n",
       "<table border=\"1\" class=\"dataframe\">\n",
       "  <thead>\n",
       "    <tr style=\"text-align: right;\">\n",
       "      <th></th>\n",
       "      <th>0</th>\n",
       "    </tr>\n",
       "  </thead>\n",
       "  <tbody>\n",
       "    <tr>\n",
       "      <th>2016-80</th>\n",
       "      <td>1.663984e+06</td>\n",
       "    </tr>\n",
       "    <tr>\n",
       "      <th>2016-2</th>\n",
       "      <td>1.506723e+06</td>\n",
       "    </tr>\n",
       "    <tr>\n",
       "      <th>2016-62</th>\n",
       "      <td>1.474155e+06</td>\n",
       "    </tr>\n",
       "    <tr>\n",
       "      <th>2016-51</th>\n",
       "      <td>1.363156e+06</td>\n",
       "    </tr>\n",
       "    <tr>\n",
       "      <th>2016-28</th>\n",
       "      <td>1.250346e+06</td>\n",
       "    </tr>\n",
       "    <tr>\n",
       "      <th>2016-60</th>\n",
       "      <td>1.237804e+06</td>\n",
       "    </tr>\n",
       "    <tr>\n",
       "      <th>2016-27</th>\n",
       "      <td>1.189584e+06</td>\n",
       "    </tr>\n",
       "    <tr>\n",
       "      <th>2016-77</th>\n",
       "      <td>1.045368e+06</td>\n",
       "    </tr>\n",
       "    <tr>\n",
       "      <th>2016-59</th>\n",
       "      <td>9.701745e+05</td>\n",
       "    </tr>\n",
       "    <tr>\n",
       "      <th>2016-76</th>\n",
       "      <td>9.436405e+05</td>\n",
       "    </tr>\n",
       "    <tr>\n",
       "      <th>2016-86</th>\n",
       "      <td>7.857462e+05</td>\n",
       "    </tr>\n",
       "    <tr>\n",
       "      <th>2016-10</th>\n",
       "      <td>7.448957e+05</td>\n",
       "    </tr>\n",
       "    <tr>\n",
       "      <th>2016-89</th>\n",
       "      <td>7.425796e+05</td>\n",
       "    </tr>\n",
       "    <tr>\n",
       "      <th>2016-35</th>\n",
       "      <td>6.608920e+05</td>\n",
       "    </tr>\n",
       "    <tr>\n",
       "      <th>2016-37</th>\n",
       "      <td>6.512485e+05</td>\n",
       "    </tr>\n",
       "    <tr>\n",
       "      <th>2016-45</th>\n",
       "      <td>6.434891e+05</td>\n",
       "    </tr>\n",
       "    <tr>\n",
       "      <th>2016-79</th>\n",
       "      <td>6.286263e+05</td>\n",
       "    </tr>\n",
       "    <tr>\n",
       "      <th>2016-36</th>\n",
       "      <td>5.972240e+05</td>\n",
       "    </tr>\n",
       "    <tr>\n",
       "      <th>2016-22</th>\n",
       "      <td>5.947483e+05</td>\n",
       "    </tr>\n",
       "    <tr>\n",
       "      <th>2016-72</th>\n",
       "      <td>5.930370e+05</td>\n",
       "    </tr>\n",
       "  </tbody>\n",
       "</table>\n",
       "</div>"
      ],
      "text/plain": [
       "                    0\n",
       "2016-80  1.663984e+06\n",
       "2016-2   1.506723e+06\n",
       "2016-62  1.474155e+06\n",
       "2016-51  1.363156e+06\n",
       "2016-28  1.250346e+06\n",
       "2016-60  1.237804e+06\n",
       "2016-27  1.189584e+06\n",
       "2016-77  1.045368e+06\n",
       "2016-59  9.701745e+05\n",
       "2016-76  9.436405e+05\n",
       "2016-86  7.857462e+05\n",
       "2016-10  7.448957e+05\n",
       "2016-89  7.425796e+05\n",
       "2016-35  6.608920e+05\n",
       "2016-37  6.512485e+05\n",
       "2016-45  6.434891e+05\n",
       "2016-79  6.286263e+05\n",
       "2016-36  5.972240e+05\n",
       "2016-22  5.947483e+05\n",
       "2016-72  5.930370e+05"
      ]
     },
     "execution_count": 491,
     "metadata": {},
     "output_type": "execute_result"
    }
   ],
   "source": [
    "pred_2016.sort_values(by=0,ascending=False).head(20)"
   ]
  },
  {
   "cell_type": "markdown",
   "id": "3fbcaf5d",
   "metadata": {},
   "source": [
    "# Prediction 2022"
   ]
  },
  {
   "cell_type": "markdown",
   "id": "ee5535e3",
   "metadata": {},
   "source": [
    "## Construction du df"
   ]
  },
  {
   "cell_type": "code",
   "execution_count": 228,
   "id": "3eec8836",
   "metadata": {
    "ExecuteTime": {
     "end_time": "2022-03-07T17:01:51.852245Z",
     "start_time": "2022-03-07T17:01:51.815790Z"
    }
   },
   "outputs": [],
   "source": [
    "df_final=full_df[best_features]"
   ]
  },
  {
   "cell_type": "code",
   "execution_count": 229,
   "id": "d4d01378",
   "metadata": {
    "ExecuteTime": {
     "end_time": "2022-03-07T17:01:56.169359Z",
     "start_time": "2022-03-07T17:01:56.124602Z"
    }
   },
   "outputs": [
    {
     "data": {
      "text/html": [
       "<div>\n",
       "<style scoped>\n",
       "    .dataframe tbody tr th:only-of-type {\n",
       "        vertical-align: middle;\n",
       "    }\n",
       "\n",
       "    .dataframe tbody tr th {\n",
       "        vertical-align: top;\n",
       "    }\n",
       "\n",
       "    .dataframe thead th {\n",
       "        text-align: right;\n",
       "    }\n",
       "</style>\n",
       "<table border=\"1\" class=\"dataframe\">\n",
       "  <thead>\n",
       "    <tr style=\"text-align: right;\">\n",
       "      <th></th>\n",
       "      <th>dpt_10</th>\n",
       "      <th>dpt_11</th>\n",
       "      <th>dpt_12</th>\n",
       "      <th>dpt_13</th>\n",
       "      <th>dpt_14</th>\n",
       "      <th>dpt_15</th>\n",
       "      <th>dpt_16</th>\n",
       "      <th>dpt_17</th>\n",
       "      <th>dpt_18</th>\n",
       "      <th>dpt_19</th>\n",
       "      <th>...</th>\n",
       "      <th>Production</th>\n",
       "      <th>RatioSep</th>\n",
       "      <th>tmax_c 09_n-1</th>\n",
       "      <th>tmin_c 11_n-1</th>\n",
       "      <th>humidity_pct 03</th>\n",
       "      <th>snow_mm 04</th>\n",
       "      <th>snow_mm 09_n-1</th>\n",
       "      <th>snow_mm 10_n-1</th>\n",
       "      <th>tmax_deg 04</th>\n",
       "      <th>tmin_deg 10_n-1</th>\n",
       "    </tr>\n",
       "  </thead>\n",
       "  <tbody>\n",
       "    <tr>\n",
       "      <th>2010-1</th>\n",
       "      <td>0</td>\n",
       "      <td>0</td>\n",
       "      <td>0</td>\n",
       "      <td>0</td>\n",
       "      <td>0</td>\n",
       "      <td>0</td>\n",
       "      <td>0</td>\n",
       "      <td>0</td>\n",
       "      <td>0</td>\n",
       "      <td>0</td>\n",
       "      <td>...</td>\n",
       "      <td>239640.3</td>\n",
       "      <td>1.229426</td>\n",
       "      <td>5.0</td>\n",
       "      <td>22.0</td>\n",
       "      <td>87.838710</td>\n",
       "      <td>0.0</td>\n",
       "      <td>0.0</td>\n",
       "      <td>0.0</td>\n",
       "      <td>25.0</td>\n",
       "      <td>-3.0</td>\n",
       "    </tr>\n",
       "    <tr>\n",
       "      <th>2010-2</th>\n",
       "      <td>0</td>\n",
       "      <td>0</td>\n",
       "      <td>0</td>\n",
       "      <td>0</td>\n",
       "      <td>0</td>\n",
       "      <td>0</td>\n",
       "      <td>0</td>\n",
       "      <td>0</td>\n",
       "      <td>0</td>\n",
       "      <td>0</td>\n",
       "      <td>...</td>\n",
       "      <td>1485134.7</td>\n",
       "      <td>1.229426</td>\n",
       "      <td>4.0</td>\n",
       "      <td>25.0</td>\n",
       "      <td>88.096774</td>\n",
       "      <td>0.0</td>\n",
       "      <td>0.0</td>\n",
       "      <td>0.0</td>\n",
       "      <td>24.0</td>\n",
       "      <td>0.0</td>\n",
       "    </tr>\n",
       "    <tr>\n",
       "      <th>2010-3</th>\n",
       "      <td>0</td>\n",
       "      <td>0</td>\n",
       "      <td>0</td>\n",
       "      <td>0</td>\n",
       "      <td>0</td>\n",
       "      <td>0</td>\n",
       "      <td>0</td>\n",
       "      <td>0</td>\n",
       "      <td>0</td>\n",
       "      <td>0</td>\n",
       "      <td>...</td>\n",
       "      <td>307450.0</td>\n",
       "      <td>1.229426</td>\n",
       "      <td>4.0</td>\n",
       "      <td>24.0</td>\n",
       "      <td>86.580645</td>\n",
       "      <td>0.0</td>\n",
       "      <td>0.0</td>\n",
       "      <td>0.0</td>\n",
       "      <td>26.0</td>\n",
       "      <td>-4.0</td>\n",
       "    </tr>\n",
       "    <tr>\n",
       "      <th>2010-4</th>\n",
       "      <td>0</td>\n",
       "      <td>0</td>\n",
       "      <td>0</td>\n",
       "      <td>0</td>\n",
       "      <td>0</td>\n",
       "      <td>0</td>\n",
       "      <td>0</td>\n",
       "      <td>0</td>\n",
       "      <td>0</td>\n",
       "      <td>0</td>\n",
       "      <td>...</td>\n",
       "      <td>6233.7</td>\n",
       "      <td>1.229426</td>\n",
       "      <td>4.0</td>\n",
       "      <td>23.0</td>\n",
       "      <td>84.322581</td>\n",
       "      <td>0.0</td>\n",
       "      <td>0.0</td>\n",
       "      <td>0.0</td>\n",
       "      <td>20.0</td>\n",
       "      <td>-4.0</td>\n",
       "    </tr>\n",
       "    <tr>\n",
       "      <th>2010-5</th>\n",
       "      <td>0</td>\n",
       "      <td>0</td>\n",
       "      <td>0</td>\n",
       "      <td>0</td>\n",
       "      <td>0</td>\n",
       "      <td>0</td>\n",
       "      <td>0</td>\n",
       "      <td>0</td>\n",
       "      <td>0</td>\n",
       "      <td>0</td>\n",
       "      <td>...</td>\n",
       "      <td>9753.9</td>\n",
       "      <td>1.229426</td>\n",
       "      <td>8.0</td>\n",
       "      <td>24.0</td>\n",
       "      <td>86.645161</td>\n",
       "      <td>3.4</td>\n",
       "      <td>0.0</td>\n",
       "      <td>0.5</td>\n",
       "      <td>17.0</td>\n",
       "      <td>-11.0</td>\n",
       "    </tr>\n",
       "    <tr>\n",
       "      <th>...</th>\n",
       "      <td>...</td>\n",
       "      <td>...</td>\n",
       "      <td>...</td>\n",
       "      <td>...</td>\n",
       "      <td>...</td>\n",
       "      <td>...</td>\n",
       "      <td>...</td>\n",
       "      <td>...</td>\n",
       "      <td>...</td>\n",
       "      <td>...</td>\n",
       "      <td>...</td>\n",
       "      <td>...</td>\n",
       "      <td>...</td>\n",
       "      <td>...</td>\n",
       "      <td>...</td>\n",
       "      <td>...</td>\n",
       "      <td>...</td>\n",
       "      <td>...</td>\n",
       "      <td>...</td>\n",
       "      <td>...</td>\n",
       "      <td>...</td>\n",
       "    </tr>\n",
       "    <tr>\n",
       "      <th>2021-91</th>\n",
       "      <td>0</td>\n",
       "      <td>0</td>\n",
       "      <td>0</td>\n",
       "      <td>0</td>\n",
       "      <td>0</td>\n",
       "      <td>0</td>\n",
       "      <td>0</td>\n",
       "      <td>0</td>\n",
       "      <td>0</td>\n",
       "      <td>0</td>\n",
       "      <td>...</td>\n",
       "      <td>243243.0</td>\n",
       "      <td>1.104197</td>\n",
       "      <td>4.0</td>\n",
       "      <td>25.0</td>\n",
       "      <td>80.193548</td>\n",
       "      <td>0.3</td>\n",
       "      <td>0.0</td>\n",
       "      <td>0.0</td>\n",
       "      <td>24.0</td>\n",
       "      <td>7.0</td>\n",
       "    </tr>\n",
       "    <tr>\n",
       "      <th>2021-93</th>\n",
       "      <td>0</td>\n",
       "      <td>0</td>\n",
       "      <td>0</td>\n",
       "      <td>0</td>\n",
       "      <td>0</td>\n",
       "      <td>0</td>\n",
       "      <td>0</td>\n",
       "      <td>0</td>\n",
       "      <td>0</td>\n",
       "      <td>0</td>\n",
       "      <td>...</td>\n",
       "      <td>2739.0</td>\n",
       "      <td>1.104197</td>\n",
       "      <td>10.0</td>\n",
       "      <td>54.0</td>\n",
       "      <td>69.838710</td>\n",
       "      <td>0.0</td>\n",
       "      <td>0.0</td>\n",
       "      <td>0.0</td>\n",
       "      <td>19.0</td>\n",
       "      <td>10.0</td>\n",
       "    </tr>\n",
       "    <tr>\n",
       "      <th>2021-94</th>\n",
       "      <td>0</td>\n",
       "      <td>0</td>\n",
       "      <td>0</td>\n",
       "      <td>0</td>\n",
       "      <td>0</td>\n",
       "      <td>0</td>\n",
       "      <td>0</td>\n",
       "      <td>0</td>\n",
       "      <td>0</td>\n",
       "      <td>0</td>\n",
       "      <td>...</td>\n",
       "      <td>3483.0</td>\n",
       "      <td>1.104197</td>\n",
       "      <td>4.0</td>\n",
       "      <td>24.0</td>\n",
       "      <td>76.677419</td>\n",
       "      <td>0.7</td>\n",
       "      <td>0.0</td>\n",
       "      <td>0.0</td>\n",
       "      <td>24.0</td>\n",
       "      <td>8.0</td>\n",
       "    </tr>\n",
       "    <tr>\n",
       "      <th>2021-95</th>\n",
       "      <td>0</td>\n",
       "      <td>0</td>\n",
       "      <td>0</td>\n",
       "      <td>0</td>\n",
       "      <td>0</td>\n",
       "      <td>0</td>\n",
       "      <td>0</td>\n",
       "      <td>0</td>\n",
       "      <td>0</td>\n",
       "      <td>0</td>\n",
       "      <td>...</td>\n",
       "      <td>198121.0</td>\n",
       "      <td>1.104197</td>\n",
       "      <td>4.0</td>\n",
       "      <td>26.0</td>\n",
       "      <td>80.322581</td>\n",
       "      <td>2.8</td>\n",
       "      <td>0.0</td>\n",
       "      <td>0.0</td>\n",
       "      <td>23.0</td>\n",
       "      <td>7.0</td>\n",
       "    </tr>\n",
       "    <tr>\n",
       "      <th>2021-20</th>\n",
       "      <td>0</td>\n",
       "      <td>0</td>\n",
       "      <td>0</td>\n",
       "      <td>0</td>\n",
       "      <td>0</td>\n",
       "      <td>0</td>\n",
       "      <td>0</td>\n",
       "      <td>0</td>\n",
       "      <td>0</td>\n",
       "      <td>0</td>\n",
       "      <td>...</td>\n",
       "      <td>297.5</td>\n",
       "      <td>1.104197</td>\n",
       "      <td>4.0</td>\n",
       "      <td>25.0</td>\n",
       "      <td>69.064516</td>\n",
       "      <td>0.0</td>\n",
       "      <td>0.0</td>\n",
       "      <td>0.0</td>\n",
       "      <td>21.0</td>\n",
       "      <td>9.0</td>\n",
       "    </tr>\n",
       "  </tbody>\n",
       "</table>\n",
       "<p>1116 rows × 102 columns</p>\n",
       "</div>"
      ],
      "text/plain": [
       "         dpt_10  dpt_11  dpt_12  dpt_13  dpt_14  dpt_15  dpt_16  dpt_17  \\\n",
       "2010-1        0       0       0       0       0       0       0       0   \n",
       "2010-2        0       0       0       0       0       0       0       0   \n",
       "2010-3        0       0       0       0       0       0       0       0   \n",
       "2010-4        0       0       0       0       0       0       0       0   \n",
       "2010-5        0       0       0       0       0       0       0       0   \n",
       "...         ...     ...     ...     ...     ...     ...     ...     ...   \n",
       "2021-91       0       0       0       0       0       0       0       0   \n",
       "2021-93       0       0       0       0       0       0       0       0   \n",
       "2021-94       0       0       0       0       0       0       0       0   \n",
       "2021-95       0       0       0       0       0       0       0       0   \n",
       "2021-20       0       0       0       0       0       0       0       0   \n",
       "\n",
       "         dpt_18  dpt_19  ...  Production  RatioSep  tmax_c 09_n-1  \\\n",
       "2010-1        0       0  ...    239640.3  1.229426            5.0   \n",
       "2010-2        0       0  ...   1485134.7  1.229426            4.0   \n",
       "2010-3        0       0  ...    307450.0  1.229426            4.0   \n",
       "2010-4        0       0  ...      6233.7  1.229426            4.0   \n",
       "2010-5        0       0  ...      9753.9  1.229426            8.0   \n",
       "...         ...     ...  ...         ...       ...            ...   \n",
       "2021-91       0       0  ...    243243.0  1.104197            4.0   \n",
       "2021-93       0       0  ...      2739.0  1.104197           10.0   \n",
       "2021-94       0       0  ...      3483.0  1.104197            4.0   \n",
       "2021-95       0       0  ...    198121.0  1.104197            4.0   \n",
       "2021-20       0       0  ...       297.5  1.104197            4.0   \n",
       "\n",
       "         tmin_c 11_n-1  humidity_pct 03  snow_mm 04  snow_mm 09_n-1  \\\n",
       "2010-1            22.0        87.838710         0.0             0.0   \n",
       "2010-2            25.0        88.096774         0.0             0.0   \n",
       "2010-3            24.0        86.580645         0.0             0.0   \n",
       "2010-4            23.0        84.322581         0.0             0.0   \n",
       "2010-5            24.0        86.645161         3.4             0.0   \n",
       "...                ...              ...         ...             ...   \n",
       "2021-91           25.0        80.193548         0.3             0.0   \n",
       "2021-93           54.0        69.838710         0.0             0.0   \n",
       "2021-94           24.0        76.677419         0.7             0.0   \n",
       "2021-95           26.0        80.322581         2.8             0.0   \n",
       "2021-20           25.0        69.064516         0.0             0.0   \n",
       "\n",
       "         snow_mm 10_n-1  tmax_deg 04  tmin_deg 10_n-1  \n",
       "2010-1              0.0         25.0             -3.0  \n",
       "2010-2              0.0         24.0              0.0  \n",
       "2010-3              0.0         26.0             -4.0  \n",
       "2010-4              0.0         20.0             -4.0  \n",
       "2010-5              0.5         17.0            -11.0  \n",
       "...                 ...          ...              ...  \n",
       "2021-91             0.0         24.0              7.0  \n",
       "2021-93             0.0         19.0             10.0  \n",
       "2021-94             0.0         24.0              8.0  \n",
       "2021-95             0.0         23.0              7.0  \n",
       "2021-20             0.0         21.0              9.0  \n",
       "\n",
       "[1116 rows x 102 columns]"
      ]
     },
     "execution_count": 229,
     "metadata": {},
     "output_type": "execute_result"
    }
   ],
   "source": [
    "df_final"
   ]
  },
  {
   "cell_type": "markdown",
   "id": "99ef3dfe",
   "metadata": {},
   "source": [
    "## Get X_pred et organisation des colonnes"
   ]
  },
  {
   "cell_type": "code",
   "execution_count": 413,
   "id": "efcb08b3",
   "metadata": {
    "ExecuteTime": {
     "end_time": "2022-03-08T09:52:23.763553Z",
     "start_time": "2022-03-08T09:52:16.221924Z"
    }
   },
   "outputs": [
    {
     "name": "stderr",
     "output_type": "stream",
     "text": [
      "/Users/constantintalandier/code/Constantier/deepagri/deepagri/meteo_agg.py:127: FutureWarning: The behavior of indexing on a MultiIndex with a nested sequence of labels is deprecated and will change in a future version. `series.loc[label, sequence]` will raise if any members of 'sequence' or not present in the index's second level. To retain the old behavior, use `series.index.isin(sequence, level=1)`\n",
      "  df_agg.loc[:, idx[:,cols_to_shift]] = (df_agg.loc[:, idx[:,cols_to_shift]]\n",
      "/Users/constantintalandier/code/Constantier/deepagri/deepagri/meteo_agg.py:127: FutureWarning: The behavior of indexing on a MultiIndex with a nested sequence of labels is deprecated and will change in a future version. `series.loc[label, sequence]` will raise if any members of 'sequence' or not present in the index's second level. To retain the old behavior, use `series.index.isin(sequence, level=1)`\n",
      "  df_agg.loc[:, idx[:,cols_to_shift]] = (df_agg.loc[:, idx[:,cols_to_shift]]\n",
      "/Users/constantintalandier/.pyenv/versions/3.8.12/envs/deepagri/lib/python3.8/site-packages/pandas/core/indexes/base.py:6982: FutureWarning: In a future version, the Index constructor will not infer numeric dtypes when passed object-dtype sequences (matching Series behavior)\n",
      "  return Index(sequences[0], name=names)\n"
     ]
    }
   ],
   "source": [
    "X_pred=get_X_pred(agg_type='M')"
   ]
  },
  {
   "cell_type": "code",
   "execution_count": 233,
   "id": "02dd0356",
   "metadata": {
    "ExecuteTime": {
     "end_time": "2022-03-07T17:03:41.178136Z",
     "start_time": "2022-03-07T17:03:41.144115Z"
    }
   },
   "outputs": [],
   "source": [
    "X_pred=X_pred[df_final.drop(columns=['Production']).columns]"
   ]
  },
  {
   "cell_type": "code",
   "execution_count": 234,
   "id": "aa8a9729",
   "metadata": {
    "ExecuteTime": {
     "end_time": "2022-03-07T17:03:41.732832Z",
     "start_time": "2022-03-07T17:03:41.695658Z"
    }
   },
   "outputs": [
    {
     "data": {
      "text/html": [
       "<div>\n",
       "<style scoped>\n",
       "    .dataframe tbody tr th:only-of-type {\n",
       "        vertical-align: middle;\n",
       "    }\n",
       "\n",
       "    .dataframe tbody tr th {\n",
       "        vertical-align: top;\n",
       "    }\n",
       "\n",
       "    .dataframe thead th {\n",
       "        text-align: right;\n",
       "    }\n",
       "</style>\n",
       "<table border=\"1\" class=\"dataframe\">\n",
       "  <thead>\n",
       "    <tr style=\"text-align: right;\">\n",
       "      <th></th>\n",
       "      <th>dpt_10</th>\n",
       "      <th>dpt_11</th>\n",
       "      <th>dpt_12</th>\n",
       "      <th>dpt_13</th>\n",
       "      <th>dpt_14</th>\n",
       "      <th>dpt_15</th>\n",
       "      <th>dpt_16</th>\n",
       "      <th>dpt_17</th>\n",
       "      <th>dpt_18</th>\n",
       "      <th>dpt_19</th>\n",
       "      <th>...</th>\n",
       "      <th>dpt_95</th>\n",
       "      <th>RatioSep</th>\n",
       "      <th>tmax_c 09_n-1</th>\n",
       "      <th>tmin_c 11_n-1</th>\n",
       "      <th>humidity_pct 03</th>\n",
       "      <th>snow_mm 04</th>\n",
       "      <th>snow_mm 09_n-1</th>\n",
       "      <th>snow_mm 10_n-1</th>\n",
       "      <th>tmax_deg 04</th>\n",
       "      <th>tmin_deg 10_n-1</th>\n",
       "    </tr>\n",
       "  </thead>\n",
       "  <tbody>\n",
       "    <tr>\n",
       "      <th>2022-1</th>\n",
       "      <td>0</td>\n",
       "      <td>0</td>\n",
       "      <td>0</td>\n",
       "      <td>0</td>\n",
       "      <td>0</td>\n",
       "      <td>0</td>\n",
       "      <td>0</td>\n",
       "      <td>0</td>\n",
       "      <td>0</td>\n",
       "      <td>0</td>\n",
       "      <td>...</td>\n",
       "      <td>0</td>\n",
       "      <td>1.091368</td>\n",
       "      <td>4.0</td>\n",
       "      <td>24.0</td>\n",
       "      <td>89.709677</td>\n",
       "      <td>4.4</td>\n",
       "      <td>0.0</td>\n",
       "      <td>0.0</td>\n",
       "      <td>22.0</td>\n",
       "      <td>2.0</td>\n",
       "    </tr>\n",
       "    <tr>\n",
       "      <th>2022-10</th>\n",
       "      <td>1</td>\n",
       "      <td>0</td>\n",
       "      <td>0</td>\n",
       "      <td>0</td>\n",
       "      <td>0</td>\n",
       "      <td>0</td>\n",
       "      <td>0</td>\n",
       "      <td>0</td>\n",
       "      <td>0</td>\n",
       "      <td>0</td>\n",
       "      <td>...</td>\n",
       "      <td>0</td>\n",
       "      <td>1.091368</td>\n",
       "      <td>5.0</td>\n",
       "      <td>26.0</td>\n",
       "      <td>87.870968</td>\n",
       "      <td>0.7</td>\n",
       "      <td>0.0</td>\n",
       "      <td>0.0</td>\n",
       "      <td>21.0</td>\n",
       "      <td>5.0</td>\n",
       "    </tr>\n",
       "    <tr>\n",
       "      <th>2022-11</th>\n",
       "      <td>0</td>\n",
       "      <td>1</td>\n",
       "      <td>0</td>\n",
       "      <td>0</td>\n",
       "      <td>0</td>\n",
       "      <td>0</td>\n",
       "      <td>0</td>\n",
       "      <td>0</td>\n",
       "      <td>0</td>\n",
       "      <td>0</td>\n",
       "      <td>...</td>\n",
       "      <td>0</td>\n",
       "      <td>1.091368</td>\n",
       "      <td>2.0</td>\n",
       "      <td>27.0</td>\n",
       "      <td>86.290323</td>\n",
       "      <td>0.0</td>\n",
       "      <td>0.0</td>\n",
       "      <td>0.0</td>\n",
       "      <td>21.0</td>\n",
       "      <td>3.0</td>\n",
       "    </tr>\n",
       "    <tr>\n",
       "      <th>2022-12</th>\n",
       "      <td>0</td>\n",
       "      <td>0</td>\n",
       "      <td>1</td>\n",
       "      <td>0</td>\n",
       "      <td>0</td>\n",
       "      <td>0</td>\n",
       "      <td>0</td>\n",
       "      <td>0</td>\n",
       "      <td>0</td>\n",
       "      <td>0</td>\n",
       "      <td>...</td>\n",
       "      <td>0</td>\n",
       "      <td>1.091368</td>\n",
       "      <td>3.0</td>\n",
       "      <td>24.0</td>\n",
       "      <td>89.161290</td>\n",
       "      <td>0.1</td>\n",
       "      <td>0.0</td>\n",
       "      <td>0.0</td>\n",
       "      <td>21.0</td>\n",
       "      <td>1.0</td>\n",
       "    </tr>\n",
       "    <tr>\n",
       "      <th>2022-13</th>\n",
       "      <td>0</td>\n",
       "      <td>0</td>\n",
       "      <td>0</td>\n",
       "      <td>1</td>\n",
       "      <td>0</td>\n",
       "      <td>0</td>\n",
       "      <td>0</td>\n",
       "      <td>0</td>\n",
       "      <td>0</td>\n",
       "      <td>0</td>\n",
       "      <td>...</td>\n",
       "      <td>0</td>\n",
       "      <td>1.091368</td>\n",
       "      <td>1.0</td>\n",
       "      <td>23.0</td>\n",
       "      <td>67.096774</td>\n",
       "      <td>0.0</td>\n",
       "      <td>0.0</td>\n",
       "      <td>0.0</td>\n",
       "      <td>19.0</td>\n",
       "      <td>11.0</td>\n",
       "    </tr>\n",
       "    <tr>\n",
       "      <th>...</th>\n",
       "      <td>...</td>\n",
       "      <td>...</td>\n",
       "      <td>...</td>\n",
       "      <td>...</td>\n",
       "      <td>...</td>\n",
       "      <td>...</td>\n",
       "      <td>...</td>\n",
       "      <td>...</td>\n",
       "      <td>...</td>\n",
       "      <td>...</td>\n",
       "      <td>...</td>\n",
       "      <td>...</td>\n",
       "      <td>...</td>\n",
       "      <td>...</td>\n",
       "      <td>...</td>\n",
       "      <td>...</td>\n",
       "      <td>...</td>\n",
       "      <td>...</td>\n",
       "      <td>...</td>\n",
       "      <td>...</td>\n",
       "      <td>...</td>\n",
       "    </tr>\n",
       "    <tr>\n",
       "      <th>2022-90</th>\n",
       "      <td>0</td>\n",
       "      <td>0</td>\n",
       "      <td>0</td>\n",
       "      <td>0</td>\n",
       "      <td>0</td>\n",
       "      <td>0</td>\n",
       "      <td>0</td>\n",
       "      <td>0</td>\n",
       "      <td>0</td>\n",
       "      <td>0</td>\n",
       "      <td>...</td>\n",
       "      <td>0</td>\n",
       "      <td>1.091368</td>\n",
       "      <td>3.0</td>\n",
       "      <td>27.0</td>\n",
       "      <td>86.322581</td>\n",
       "      <td>13.9</td>\n",
       "      <td>0.0</td>\n",
       "      <td>0.0</td>\n",
       "      <td>22.0</td>\n",
       "      <td>2.0</td>\n",
       "    </tr>\n",
       "    <tr>\n",
       "      <th>2022-91</th>\n",
       "      <td>0</td>\n",
       "      <td>0</td>\n",
       "      <td>0</td>\n",
       "      <td>0</td>\n",
       "      <td>0</td>\n",
       "      <td>0</td>\n",
       "      <td>0</td>\n",
       "      <td>0</td>\n",
       "      <td>0</td>\n",
       "      <td>0</td>\n",
       "      <td>...</td>\n",
       "      <td>0</td>\n",
       "      <td>1.091368</td>\n",
       "      <td>4.0</td>\n",
       "      <td>25.0</td>\n",
       "      <td>80.193548</td>\n",
       "      <td>0.3</td>\n",
       "      <td>0.0</td>\n",
       "      <td>0.0</td>\n",
       "      <td>24.0</td>\n",
       "      <td>7.0</td>\n",
       "    </tr>\n",
       "    <tr>\n",
       "      <th>2022-93</th>\n",
       "      <td>0</td>\n",
       "      <td>0</td>\n",
       "      <td>0</td>\n",
       "      <td>0</td>\n",
       "      <td>0</td>\n",
       "      <td>0</td>\n",
       "      <td>0</td>\n",
       "      <td>0</td>\n",
       "      <td>0</td>\n",
       "      <td>0</td>\n",
       "      <td>...</td>\n",
       "      <td>0</td>\n",
       "      <td>1.091368</td>\n",
       "      <td>10.0</td>\n",
       "      <td>54.0</td>\n",
       "      <td>69.838710</td>\n",
       "      <td>0.0</td>\n",
       "      <td>0.0</td>\n",
       "      <td>0.0</td>\n",
       "      <td>19.0</td>\n",
       "      <td>10.0</td>\n",
       "    </tr>\n",
       "    <tr>\n",
       "      <th>2022-94</th>\n",
       "      <td>0</td>\n",
       "      <td>0</td>\n",
       "      <td>0</td>\n",
       "      <td>0</td>\n",
       "      <td>0</td>\n",
       "      <td>0</td>\n",
       "      <td>0</td>\n",
       "      <td>0</td>\n",
       "      <td>0</td>\n",
       "      <td>0</td>\n",
       "      <td>...</td>\n",
       "      <td>0</td>\n",
       "      <td>1.091368</td>\n",
       "      <td>4.0</td>\n",
       "      <td>24.0</td>\n",
       "      <td>76.677419</td>\n",
       "      <td>0.7</td>\n",
       "      <td>0.0</td>\n",
       "      <td>0.0</td>\n",
       "      <td>24.0</td>\n",
       "      <td>8.0</td>\n",
       "    </tr>\n",
       "    <tr>\n",
       "      <th>2022-95</th>\n",
       "      <td>0</td>\n",
       "      <td>0</td>\n",
       "      <td>0</td>\n",
       "      <td>0</td>\n",
       "      <td>0</td>\n",
       "      <td>0</td>\n",
       "      <td>0</td>\n",
       "      <td>0</td>\n",
       "      <td>0</td>\n",
       "      <td>0</td>\n",
       "      <td>...</td>\n",
       "      <td>1</td>\n",
       "      <td>1.091368</td>\n",
       "      <td>4.0</td>\n",
       "      <td>26.0</td>\n",
       "      <td>80.322581</td>\n",
       "      <td>2.8</td>\n",
       "      <td>0.0</td>\n",
       "      <td>0.0</td>\n",
       "      <td>23.0</td>\n",
       "      <td>7.0</td>\n",
       "    </tr>\n",
       "  </tbody>\n",
       "</table>\n",
       "<p>93 rows × 101 columns</p>\n",
       "</div>"
      ],
      "text/plain": [
       "         dpt_10  dpt_11  dpt_12  dpt_13  dpt_14  dpt_15  dpt_16  dpt_17  \\\n",
       "2022-1        0       0       0       0       0       0       0       0   \n",
       "2022-10       1       0       0       0       0       0       0       0   \n",
       "2022-11       0       1       0       0       0       0       0       0   \n",
       "2022-12       0       0       1       0       0       0       0       0   \n",
       "2022-13       0       0       0       1       0       0       0       0   \n",
       "...         ...     ...     ...     ...     ...     ...     ...     ...   \n",
       "2022-90       0       0       0       0       0       0       0       0   \n",
       "2022-91       0       0       0       0       0       0       0       0   \n",
       "2022-93       0       0       0       0       0       0       0       0   \n",
       "2022-94       0       0       0       0       0       0       0       0   \n",
       "2022-95       0       0       0       0       0       0       0       0   \n",
       "\n",
       "         dpt_18  dpt_19  ...  dpt_95  RatioSep  tmax_c 09_n-1  tmin_c 11_n-1  \\\n",
       "2022-1        0       0  ...       0  1.091368            4.0           24.0   \n",
       "2022-10       0       0  ...       0  1.091368            5.0           26.0   \n",
       "2022-11       0       0  ...       0  1.091368            2.0           27.0   \n",
       "2022-12       0       0  ...       0  1.091368            3.0           24.0   \n",
       "2022-13       0       0  ...       0  1.091368            1.0           23.0   \n",
       "...         ...     ...  ...     ...       ...            ...            ...   \n",
       "2022-90       0       0  ...       0  1.091368            3.0           27.0   \n",
       "2022-91       0       0  ...       0  1.091368            4.0           25.0   \n",
       "2022-93       0       0  ...       0  1.091368           10.0           54.0   \n",
       "2022-94       0       0  ...       0  1.091368            4.0           24.0   \n",
       "2022-95       0       0  ...       1  1.091368            4.0           26.0   \n",
       "\n",
       "         humidity_pct 03  snow_mm 04  snow_mm 09_n-1  snow_mm 10_n-1  \\\n",
       "2022-1         89.709677         4.4             0.0             0.0   \n",
       "2022-10        87.870968         0.7             0.0             0.0   \n",
       "2022-11        86.290323         0.0             0.0             0.0   \n",
       "2022-12        89.161290         0.1             0.0             0.0   \n",
       "2022-13        67.096774         0.0             0.0             0.0   \n",
       "...                  ...         ...             ...             ...   \n",
       "2022-90        86.322581        13.9             0.0             0.0   \n",
       "2022-91        80.193548         0.3             0.0             0.0   \n",
       "2022-93        69.838710         0.0             0.0             0.0   \n",
       "2022-94        76.677419         0.7             0.0             0.0   \n",
       "2022-95        80.322581         2.8             0.0             0.0   \n",
       "\n",
       "         tmax_deg 04  tmin_deg 10_n-1  \n",
       "2022-1          22.0              2.0  \n",
       "2022-10         21.0              5.0  \n",
       "2022-11         21.0              3.0  \n",
       "2022-12         21.0              1.0  \n",
       "2022-13         19.0             11.0  \n",
       "...              ...              ...  \n",
       "2022-90         22.0              2.0  \n",
       "2022-91         24.0              7.0  \n",
       "2022-93         19.0             10.0  \n",
       "2022-94         24.0              8.0  \n",
       "2022-95         23.0              7.0  \n",
       "\n",
       "[93 rows x 101 columns]"
      ]
     },
     "execution_count": 234,
     "metadata": {},
     "output_type": "execute_result"
    }
   ],
   "source": [
    "X_pred"
   ]
  },
  {
   "cell_type": "markdown",
   "id": "9bf275cb",
   "metadata": {},
   "source": [
    "## Sans 2021 dans le fit"
   ]
  },
  {
   "cell_type": "code",
   "execution_count": 235,
   "id": "6e9d89d4",
   "metadata": {
    "ExecuteTime": {
     "end_time": "2022-03-07T17:05:00.391334Z",
     "start_time": "2022-03-07T17:05:00.302466Z"
    }
   },
   "outputs": [],
   "source": [
    "X=df_final[:-93].drop(columns=['Production'])\n",
    "X_test=df_final.iloc[-93:].drop(columns=['Production'])\n",
    "y=df_final[:-93]['Production']\n",
    "y_test=df_final.iloc[-93:]['Production']\n",
    "model=build_model(model='linear_reg')\n",
    "model=fit_model(model,X,y)"
   ]
  },
  {
   "cell_type": "code",
   "execution_count": 236,
   "id": "1de8088f",
   "metadata": {
    "ExecuteTime": {
     "end_time": "2022-03-07T17:05:00.859686Z",
     "start_time": "2022-03-07T17:05:00.839974Z"
    }
   },
   "outputs": [
    {
     "data": {
      "text/plain": [
       "35289969.8295509"
      ]
     },
     "execution_count": 236,
     "metadata": {},
     "output_type": "execute_result"
    }
   ],
   "source": [
    "model.predict(X_pred).sum()"
   ]
  },
  {
   "cell_type": "markdown",
   "id": "6039e1b1",
   "metadata": {},
   "source": [
    "## Avec 2021 dans le fit"
   ]
  },
  {
   "cell_type": "code",
   "execution_count": 237,
   "id": "8872d3ad",
   "metadata": {
    "ExecuteTime": {
     "end_time": "2022-03-07T17:05:02.362849Z",
     "start_time": "2022-03-07T17:05:02.270662Z"
    }
   },
   "outputs": [],
   "source": [
    "X=df_final.drop(columns=['Production'])\n",
    "X_test=df_final.drop(columns=['Production'])\n",
    "y=df_final['Production']\n",
    "y_test=df_final['Production']\n",
    "model=build_model(model='linear_reg')\n",
    "model=fit_model(model,X,y)"
   ]
  },
  {
   "cell_type": "code",
   "execution_count": 238,
   "id": "eff8202c",
   "metadata": {
    "ExecuteTime": {
     "end_time": "2022-03-07T17:05:02.793016Z",
     "start_time": "2022-03-07T17:05:02.775689Z"
    }
   },
   "outputs": [
    {
     "data": {
      "text/plain": [
       "35326015.40026926"
      ]
     },
     "execution_count": 238,
     "metadata": {},
     "output_type": "execute_result"
    }
   ],
   "source": [
    "model.predict(X_pred).sum()"
   ]
  },
  {
   "cell_type": "markdown",
   "id": "c47eae64",
   "metadata": {},
   "source": [
    "# Export csv différences prod 2021"
   ]
  },
  {
   "cell_type": "code",
   "execution_count": 132,
   "id": "66e06961",
   "metadata": {
    "ExecuteTime": {
     "end_time": "2022-03-07T15:48:06.051511Z",
     "start_time": "2022-03-07T15:48:06.018693Z"
    }
   },
   "outputs": [],
   "source": [
    "df_diff=model.predict(X_test)"
   ]
  },
  {
   "cell_type": "code",
   "execution_count": 133,
   "id": "6f92594c",
   "metadata": {
    "ExecuteTime": {
     "end_time": "2022-03-07T15:48:07.594394Z",
     "start_time": "2022-03-07T15:48:07.561393Z"
    }
   },
   "outputs": [],
   "source": [
    "df_diff['Prod_reel']=y_test"
   ]
  },
  {
   "cell_type": "code",
   "execution_count": 134,
   "id": "5771b0a8",
   "metadata": {
    "ExecuteTime": {
     "end_time": "2022-03-07T15:48:08.383746Z",
     "start_time": "2022-03-07T15:48:08.346412Z"
    }
   },
   "outputs": [],
   "source": [
    "df_diff['Prod_predite']=df_diff['Prod_predite'].round(0)"
   ]
  },
  {
   "cell_type": "code",
   "execution_count": 136,
   "id": "0c5f45df",
   "metadata": {
    "ExecuteTime": {
     "end_time": "2022-03-07T15:48:09.736668Z",
     "start_time": "2022-03-07T15:48:09.699571Z"
    }
   },
   "outputs": [],
   "source": [
    "df_diff['Diff']=abs(df_compare_2021['Prod_reel']-df_compare_2021['Prod_predite'])"
   ]
  },
  {
   "cell_type": "code",
   "execution_count": 138,
   "id": "f0d0a5d2",
   "metadata": {
    "ExecuteTime": {
     "end_time": "2022-03-07T15:48:25.243079Z",
     "start_time": "2022-03-07T15:48:25.204284Z"
    }
   },
   "outputs": [],
   "source": [
    "df_diff.to_csv('comparaison.csv')"
   ]
  }
 ],
 "metadata": {
  "kernelspec": {
   "display_name": "Python 3 (ipykernel)",
   "language": "python",
   "name": "python3"
  },
  "language_info": {
   "codemirror_mode": {
    "name": "ipython",
    "version": 3
   },
   "file_extension": ".py",
   "mimetype": "text/x-python",
   "name": "python",
   "nbconvert_exporter": "python",
   "pygments_lexer": "ipython3",
   "version": "3.8.12"
  },
  "toc": {
   "base_numbering": 1,
   "nav_menu": {},
   "number_sections": true,
   "sideBar": true,
   "skip_h1_title": false,
   "title_cell": "Table of Contents",
   "title_sidebar": "Contents",
   "toc_cell": false,
   "toc_position": {},
   "toc_section_display": true,
   "toc_window_display": false
  },
  "varInspector": {
   "cols": {
    "lenName": 16,
    "lenType": 16,
    "lenVar": 40
   },
   "kernels_config": {
    "python": {
     "delete_cmd_postfix": "",
     "delete_cmd_prefix": "del ",
     "library": "var_list.py",
     "varRefreshCmd": "print(var_dic_list())"
    },
    "r": {
     "delete_cmd_postfix": ") ",
     "delete_cmd_prefix": "rm(",
     "library": "var_list.r",
     "varRefreshCmd": "cat(var_dic_list()) "
    }
   },
   "types_to_exclude": [
    "module",
    "function",
    "builtin_function_or_method",
    "instance",
    "_Feature"
   ],
   "window_display": false
  }
 },
 "nbformat": 4,
 "nbformat_minor": 5
}
