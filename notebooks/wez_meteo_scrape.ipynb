{
 "cells": [
  {
   "cell_type": "code",
   "execution_count": 17,
   "id": "e13663a8",
   "metadata": {
    "ExecuteTime": {
     "end_time": "2022-03-03T08:17:06.065060Z",
     "start_time": "2022-03-03T08:17:06.062395Z"
    }
   },
   "outputs": [],
   "source": [
    "import pandas as pd"
   ]
  },
  {
   "cell_type": "markdown",
   "id": "e64d0295",
   "metadata": {},
   "source": [
    "# Get import dict"
   ]
  },
  {
   "cell_type": "code",
   "execution_count": 18,
   "id": "d5e7ca0b",
   "metadata": {
    "ExecuteTime": {
     "end_time": "2022-03-03T08:17:06.861406Z",
     "start_time": "2022-03-03T08:17:06.621626Z"
    }
   },
   "outputs": [],
   "source": [
    "df = pd.read_excel(\"../raw_data/Meteo/Classement_Departement.xlsx\")"
   ]
  },
  {
   "cell_type": "code",
   "execution_count": 19,
   "id": "83a4ae41",
   "metadata": {
    "ExecuteTime": {
     "end_time": "2022-03-03T08:17:07.056079Z",
     "start_time": "2022-03-03T08:17:07.052919Z"
    },
    "scrolled": true
   },
   "outputs": [],
   "source": [
    "df = df[['Departement','id_hist_meteo']]"
   ]
  },
  {
   "cell_type": "code",
   "execution_count": 20,
   "id": "019091f7",
   "metadata": {
    "ExecuteTime": {
     "end_time": "2022-03-03T08:17:07.601487Z",
     "start_time": "2022-03-03T08:17:07.598907Z"
    }
   },
   "outputs": [],
   "source": [
    "df = df[41:]"
   ]
  },
  {
   "cell_type": "code",
   "execution_count": 22,
   "id": "ef15ac91",
   "metadata": {
    "ExecuteTime": {
     "end_time": "2022-03-03T08:17:12.673203Z",
     "start_time": "2022-03-03T08:17:12.668411Z"
    }
   },
   "outputs": [],
   "source": [
    "df = df.dropna()"
   ]
  },
  {
   "cell_type": "code",
   "execution_count": 23,
   "id": "c44914b4",
   "metadata": {
    "ExecuteTime": {
     "end_time": "2022-03-03T08:17:13.295977Z",
     "start_time": "2022-03-03T08:17:13.292479Z"
    }
   },
   "outputs": [],
   "source": [
    "df = df[df.columns].astype(int)"
   ]
  },
  {
   "cell_type": "code",
   "execution_count": 24,
   "id": "bda274b7",
   "metadata": {
    "ExecuteTime": {
     "end_time": "2022-03-03T08:17:13.953208Z",
     "start_time": "2022-03-03T08:17:13.947239Z"
    }
   },
   "outputs": [
    {
     "data": {
      "text/plain": [
       "{80: 226,\n",
       " 62: 212,\n",
       " 2: 1155,\n",
       " 51: 177,\n",
       " 60: 1018,\n",
       " 26: 5977,\n",
       " 27: 1008,\n",
       " 59: 210,\n",
       " 76: 218,\n",
       " 77: 998,\n",
       " 10: 178,\n",
       " 89: 171,\n",
       " 14: 216,\n",
       " 20: 179,\n",
       " 55: 4800,\n",
       " 21: 170,\n",
       " 86: 233,\n",
       " 45: 164,\n",
       " 8: 887,\n",
       " 18: 163,\n",
       " 57: 199,\n",
       " 35: 172,\n",
       " 61: 873,\n",
       " 54: 200,\n",
       " 37: 168,\n",
       " 79: 1156,\n",
       " 36: 167,\n",
       " 41: 169,\n",
       " 49: 225,\n",
       " 53: 1154,\n",
       " 72: 1001,\n",
       " 52: 1036,\n",
       " 56: 173,\n",
       " 17: 5655,\n",
       " 32: 1035,\n",
       " 28: 166,\n",
       " 85: 7927,\n",
       " 50: 2181,\n",
       " 67: 153,\n",
       " 70: 1623,\n",
       " 3: 872,\n",
       " 63: 161,\n",
       " 71: 999,\n",
       " 58: 876,\n",
       " 78: 189,\n",
       " 44: 221,\n",
       " 16: 1012,\n",
       " 47: 493,\n",
       " 91: 1080,\n",
       " 1: 1016,\n",
       " 81: 207,\n",
       " 95: 1938,\n",
       " 88: 1114,\n",
       " 31: 205,\n",
       " 68: 155,\n",
       " 38: 1006,\n",
       " 82: 1140,\n",
       " 39: 4095,\n",
       " 25: 186,\n",
       " 23: 1112,\n",
       " 43: 871,\n",
       " 12: 1143,\n",
       " 22: 1002,\n",
       " 69: 201,\n",
       " 87: 197,\n",
       " 42: 990,\n",
       " 24: 2666,\n",
       " 11: 193,\n",
       " 46: 1144,\n",
       " 90: 187,\n",
       " 15: 518,\n",
       " 9: 1142,\n",
       " 74: 1025,\n",
       " 34: 192,\n",
       " 19: 198,\n",
       " 65: 987,\n",
       " 33: 156,\n",
       " 64: 158,\n",
       " 5: 1007,\n",
       " 4: 5890,\n",
       " 48: 1111,\n",
       " 30: 195,\n",
       " 7: 1070,\n",
       " 40: 2668,\n",
       " 84: 184,\n",
       " 73: 1013,\n",
       " 13: 182,\n",
       " 93: 986,\n",
       " 94: 4252,\n",
       " 83: 986,\n",
       " 66: 848,\n",
       " 29: 1043,\n",
       " 6: 181}"
      ]
     },
     "execution_count": 24,
     "metadata": {},
     "output_type": "execute_result"
    }
   ],
   "source": [
    "dict_id_ville = pd.Series(df['id_hist_meteo'].values, index=df['Departement']).to_dict()\n",
    "dict_id_ville"
   ]
  },
  {
   "cell_type": "code",
   "execution_count": 25,
   "id": "9e52c732",
   "metadata": {
    "ExecuteTime": {
     "end_time": "2022-03-03T08:17:19.978101Z",
     "start_time": "2022-03-03T08:17:19.974910Z"
    }
   },
   "outputs": [],
   "source": [
    "# dict_id_ville = {'amiens': '226',\n",
    "#  'reims': '177',\n",
    "#  'lille': '210',\n",
    "#  'rouen': '218',\n",
    "#  'troyes': '178',\n",
    "#  'poitiers': '233',\n",
    "#  'tours': '168',\n",
    "#  'rennes': '172',\n",
    "#  'dijon': '170',\n",
    "#  'lannion': '1002',\n",
    "#  'caen': '216',\n",
    "#  'bourges': '163',\n",
    "#  'alençon': '873',\n",
    "#  'saintes': '5655',\n",
    "#  'vannes': '173',\n",
    "#  'nancy': '200',\n",
    "#  'concarneau': '1043',\n",
    "#  'nantes': '221',\n",
    "#  'granville': '2181',\n",
    "#  'clermont-ferrand': '161',\n",
    "#  'Strasbourg': '153',\n",
    "#  'toulouse': '205',\n",
    "#  'colmar': '155',\n",
    "#  'valence': '5977',\n",
    "#  'rodez-aveyron': '1143',\n",
    "#  'puy-en-velay-haute-loire': '871',\n",
    "#  'Limoges': '197',\n",
    "#  'lyon': '201',\n",
    "#  'Cahors-lot': '1144',\n",
    "#  'foix-ariege': '1142',\n",
    "#  'bordeaux': '156',\n",
    "#  'tarbes': '987',\n",
    "#  'mont-de-marsan': '2668',\n",
    "#  'gap-hautes-alpes': '1007',\n",
    "#  'Montpellier': '192',\n",
    "#  'Marseille': '182',\n",
    "#  'Toulon': '986',\n",
    "#  'Perpignan': '848'}"
   ]
  },
  {
   "cell_type": "markdown",
   "id": "656bd659",
   "metadata": {},
   "source": [
    "# Requests"
   ]
  },
  {
   "cell_type": "code",
   "execution_count": 26,
   "id": "211772d4",
   "metadata": {
    "ExecuteTime": {
     "end_time": "2022-03-03T08:17:20.777377Z",
     "start_time": "2022-03-03T08:17:20.775118Z"
    }
   },
   "outputs": [],
   "source": [
    "ville_ids = list(dict_id_ville.values())"
   ]
  },
  {
   "cell_type": "code",
   "execution_count": 27,
   "id": "05505401",
   "metadata": {
    "ExecuteTime": {
     "end_time": "2022-03-03T08:17:42.314485Z",
     "start_time": "2022-03-03T08:17:42.282344Z"
    }
   },
   "outputs": [],
   "source": [
    "import requests\n",
    "\n",
    "headers = {\n",
    "    'authority': 'www.historique-meteo.net',\n",
    "    'cache-control': 'max-age=0',\n",
    "    'sec-ch-ua': '\" Not A;Brand\";v=\"99\", \"Chromium\";v=\"98\", \"Google Chrome\";v=\"98\"',\n",
    "    'sec-ch-ua-mobile': '?0',\n",
    "    'sec-ch-ua-platform': '\"Windows\"',\n",
    "    'upgrade-insecure-requests': '1',\n",
    "    'user-agent': 'Mozilla/5.0 (Windows NT 10.0; Win64; x64) AppleWebKit/537.36 (KHTML, like Gecko) Chrome/98.0.4758.102 Safari/537.36',\n",
    "    'accept': 'text/html,application/xhtml+xml,application/xml;q=0.9,image/avif,image/webp,image/apng,*/*;q=0.8,application/signed-exchange;v=b3;q=0.9',\n",
    "    'sec-fetch-site': 'same-origin',\n",
    "    'sec-fetch-mode': 'navigate',\n",
    "    'sec-fetch-user': '?1',\n",
    "    'sec-fetch-dest': 'document',\n",
    "    'referer': 'https://www.historique-meteo.net/france/corse/ajaccio/2022/02/',\n",
    "    'accept-language': 'en-US,en;q=0.9,fr-FR;q=0.8,fr;q=0.7',\n",
    "    'cookie': 'euconsent-v2=CPVMwMAPVMwMABcAIBENCECgAP_AAH_AAAqIIDkZ_C9MQWNjUX58A_s0aYxHxgAGoWQADACJgygBCAPA8IQEwGAYIAVAAogKAAAAoiZBAAAhCAlAAAEAQAAAACCMAEAAAAAAICIAgAARAgEACAhBEQAAEAIAAABBABAAgAAEQhoAQAAAAAAgAAAAAAAgAACBAAAAAAAAAAAAAAAAAAggOACYKkxAA2JQYEgQaRQogBBGAAQAIAAIAIGCKAAIAADghABwQAgAAAAAiAgAAACiBgEAAAEACEAAAABAAEAAAAgAAAAAAAAAIgAAAAEAAAAACAABAAAAAAAAAEEAAACAAAAAEABAAAAAACAAAAAAAAAAAMAAAAAAAAAAAAAAAAAAAAAA.x6pux3I.4UGADABZAIgAVIBJYEsQUGAAQACAAgACAAQAEA; __cf_bm=.vXWIt.jblfaNmL9gMYHae0N_.2EQpcgzgVTZqrzTx0-1646295172-0-AdTkucwT68/2AduFiYYON/Fcba91rkpxeQ4eXZgNSyMPVDxoBOTDOAA8F1vJxSxE2NHMe2YbMeoZnEeTaMuIrMkriuKFzqefcNyWgEZqgtmm2NSkV7nP3ho7bQu4Qhx1Ag==; cf_chl_2=e44bce0bffd9b73; cf_chl_prog=x11; cf_clearance=9YYMobtexq9fVVJIBSH8wL1CWzRpJkKNXj1mmHLP5Ik-1646295247-0-150',\n",
    "}\n",
    "\n"
   ]
  },
  {
   "cell_type": "code",
   "execution_count": 28,
   "id": "f7af8315",
   "metadata": {
    "ExecuteTime": {
     "end_time": "2022-03-03T08:18:17.299826Z",
     "start_time": "2022-03-03T08:17:43.753497Z"
    }
   },
   "outputs": [
    {
     "name": "stdout",
     "output_type": "stream",
     "text": [
      "(226, 200)\n",
      "(212, 200)\n",
      "(1155, 200)\n",
      "(177, 200)\n",
      "(1018, 200)\n",
      "(5977, 200)\n",
      "(1008, 200)\n",
      "(210, 200)\n",
      "(218, 200)\n",
      "(998, 200)\n",
      "(178, 200)\n",
      "(171, 200)\n",
      "(216, 200)\n",
      "(179, 200)\n",
      "(4800, 200)\n",
      "(170, 200)\n",
      "(233, 200)\n",
      "(164, 200)\n",
      "(887, 200)\n",
      "(163, 200)\n",
      "(199, 200)\n",
      "(172, 200)\n",
      "(873, 200)\n",
      "(200, 200)\n",
      "(168, 200)\n",
      "(1156, 200)\n",
      "(167, 200)\n",
      "(169, 200)\n",
      "(225, 200)\n",
      "(1154, 200)\n",
      "(1001, 200)\n",
      "(1036, 200)\n",
      "(173, 200)\n",
      "(5655, 200)\n",
      "(1035, 200)\n",
      "(166, 200)\n",
      "(7927, 200)\n",
      "(2181, 200)\n",
      "(153, 200)\n",
      "(1623, 200)\n",
      "(872, 200)\n",
      "(161, 200)\n",
      "(999, 200)\n",
      "(876, 200)\n",
      "(189, 200)\n",
      "(221, 200)\n",
      "(1012, 200)\n",
      "(493, 200)\n",
      "(1080, 200)\n",
      "(1016, 200)\n",
      "(207, 200)\n",
      "(1938, 200)\n",
      "(1114, 200)\n",
      "(205, 200)\n",
      "(155, 200)\n",
      "(1006, 200)\n",
      "(1140, 200)\n",
      "(4095, 200)\n",
      "(186, 200)\n",
      "(1112, 200)\n",
      "(871, 200)\n",
      "(1143, 200)\n",
      "(1002, 200)\n",
      "(201, 200)\n",
      "(197, 200)\n",
      "(990, 200)\n",
      "(2666, 200)\n",
      "(193, 200)\n",
      "(1144, 200)\n",
      "(187, 200)\n",
      "(518, 200)\n",
      "(1142, 200)\n",
      "(1025, 200)\n",
      "(192, 200)\n",
      "(198, 200)\n",
      "(987, 200)\n",
      "(156, 200)\n",
      "(158, 200)\n",
      "(1007, 200)\n",
      "(5890, 200)\n",
      "(1111, 200)\n",
      "(195, 200)\n",
      "(1070, 200)\n",
      "(2668, 200)\n",
      "(184, 200)\n",
      "(1013, 200)\n",
      "(182, 200)\n",
      "(986, 200)\n",
      "(4252, 200)\n",
      "(986, 200)\n",
      "(848, 200)\n",
      "(1043, 200)\n",
      "(181, 200)\n"
     ]
    }
   ],
   "source": [
    "df = pd.DataFrame()\n",
    "for id_ in ville_ids:\n",
    "    params = (\n",
    "        ('ville_id', id_),\n",
    "        ('__cf_chl_tk', 'F6pnR2S6FlBuLYz3PC.u9_AGa0Em0CYME0RXHYQ8le8-1646295246-0-gaNycGzNDNE'),\n",
    "    )\n",
    "\n",
    "\n",
    "    response = requests.get('https://www.historique-meteo.net/site/export.php', headers=headers, params=params)\n",
    "    print((id_, response.status_code))\n",
    "    tmp = pd.DataFrame([l.split(\",\") for l in response.text.split(\"\\n\")][3:])\n",
    "    tmp.columns = tmp.iloc[0]\n",
    "    tmp = tmp.iloc[1:]\n",
    "    tmp['id'] = id_\n",
    "    df = df.append(tmp)"
   ]
  },
  {
   "cell_type": "code",
   "execution_count": 29,
   "id": "db9420aa",
   "metadata": {
    "ExecuteTime": {
     "end_time": "2022-03-03T08:18:23.026886Z",
     "start_time": "2022-03-03T08:18:23.023126Z"
    }
   },
   "outputs": [
    {
     "data": {
      "text/plain": [
       "(447144, 23)"
      ]
     },
     "execution_count": 29,
     "metadata": {},
     "output_type": "execute_result"
    }
   ],
   "source": [
    "df.shape"
   ]
  },
  {
   "cell_type": "code",
   "execution_count": 30,
   "id": "c5b97498",
   "metadata": {
    "ExecuteTime": {
     "end_time": "2022-03-03T08:18:24.126585Z",
     "start_time": "2022-03-03T08:18:24.122419Z"
    }
   },
   "outputs": [
    {
     "data": {
      "text/plain": [
       "(447144, 23)"
      ]
     },
     "execution_count": 30,
     "metadata": {},
     "output_type": "execute_result"
    }
   ],
   "source": [
    "df.shape"
   ]
  },
  {
   "cell_type": "code",
   "execution_count": 31,
   "id": "b65848b9",
   "metadata": {
    "ExecuteTime": {
     "end_time": "2022-03-03T08:18:25.534842Z",
     "start_time": "2022-03-03T08:18:25.149190Z"
    },
    "scrolled": true
   },
   "outputs": [],
   "source": [
    "df = df[~df[\"MAX_TEMPERATURE_C\"].isna()]"
   ]
  },
  {
   "cell_type": "code",
   "execution_count": 32,
   "id": "47af6f0a",
   "metadata": {
    "ExecuteTime": {
     "end_time": "2022-03-03T08:18:26.051918Z",
     "start_time": "2022-03-03T08:18:26.048778Z"
    },
    "scrolled": true
   },
   "outputs": [
    {
     "data": {
      "text/plain": [
       "(447051, 23)"
      ]
     },
     "execution_count": 32,
     "metadata": {},
     "output_type": "execute_result"
    }
   ],
   "source": [
    "df.shape"
   ]
  },
  {
   "cell_type": "markdown",
   "id": "dbd625ba",
   "metadata": {},
   "source": [
    "# Cleaning"
   ]
  },
  {
   "cell_type": "markdown",
   "id": "c187793a",
   "metadata": {},
   "source": [
    "## Meteo_key"
   ]
  },
  {
   "cell_type": "code",
   "execution_count": 33,
   "id": "e242d3d0",
   "metadata": {
    "ExecuteTime": {
     "end_time": "2022-03-03T08:18:27.555489Z",
     "start_time": "2022-03-03T08:18:27.545738Z"
    }
   },
   "outputs": [],
   "source": [
    "meteo_key = pd.read_excel(\"../raw_data/Meteo/scraped_meteo_name_key.xlsx\")"
   ]
  },
  {
   "cell_type": "code",
   "execution_count": 34,
   "id": "04b75547",
   "metadata": {
    "ExecuteTime": {
     "end_time": "2022-03-03T08:18:29.679992Z",
     "start_time": "2022-03-03T08:18:29.670665Z"
    }
   },
   "outputs": [
    {
     "data": {
      "text/html": [
       "<div>\n",
       "<style scoped>\n",
       "    .dataframe tbody tr th:only-of-type {\n",
       "        vertical-align: middle;\n",
       "    }\n",
       "\n",
       "    .dataframe tbody tr th {\n",
       "        vertical-align: top;\n",
       "    }\n",
       "\n",
       "    .dataframe thead th {\n",
       "        text-align: right;\n",
       "    }\n",
       "</style>\n",
       "<table border=\"1\" class=\"dataframe\">\n",
       "  <thead>\n",
       "    <tr style=\"text-align: right;\">\n",
       "      <th></th>\n",
       "      <th>name_raw</th>\n",
       "      <th>keep</th>\n",
       "      <th>name_clean</th>\n",
       "      <th>agg</th>\n",
       "      <th>dtype</th>\n",
       "    </tr>\n",
       "  </thead>\n",
       "  <tbody>\n",
       "    <tr>\n",
       "      <th>0</th>\n",
       "      <td>DATE</td>\n",
       "      <td>1.0</td>\n",
       "      <td>date</td>\n",
       "      <td>key</td>\n",
       "      <td>&lt;M8[ns]</td>\n",
       "    </tr>\n",
       "    <tr>\n",
       "      <th>1</th>\n",
       "      <td>MAX_TEMPERATURE_C</td>\n",
       "      <td>1.0</td>\n",
       "      <td>tmax_c</td>\n",
       "      <td>count_pos_outliers</td>\n",
       "      <td>int32</td>\n",
       "    </tr>\n",
       "    <tr>\n",
       "      <th>2</th>\n",
       "      <td>MIN_TEMPERATURE_C</td>\n",
       "      <td>1.0</td>\n",
       "      <td>tmin_c</td>\n",
       "      <td>count_neg_outliers</td>\n",
       "      <td>int32</td>\n",
       "    </tr>\n",
       "    <tr>\n",
       "      <th>3</th>\n",
       "      <td>WINDSPEED_MAX_KMH</td>\n",
       "      <td>1.0</td>\n",
       "      <td>windspeed_max</td>\n",
       "      <td>mean</td>\n",
       "      <td>int32</td>\n",
       "    </tr>\n",
       "    <tr>\n",
       "      <th>4</th>\n",
       "      <td>PRECIP_TOTAL_DAY_MM</td>\n",
       "      <td>1.0</td>\n",
       "      <td>rain_mm</td>\n",
       "      <td>sum</td>\n",
       "      <td>float32</td>\n",
       "    </tr>\n",
       "    <tr>\n",
       "      <th>5</th>\n",
       "      <td>HUMIDITY_MAX_PERCENT</td>\n",
       "      <td>1.0</td>\n",
       "      <td>humidity_pct</td>\n",
       "      <td>mean</td>\n",
       "      <td>float32</td>\n",
       "    </tr>\n",
       "    <tr>\n",
       "      <th>6</th>\n",
       "      <td>PRESSURE_MAX_MB</td>\n",
       "      <td>1.0</td>\n",
       "      <td>pressuremax_mb</td>\n",
       "      <td>mean</td>\n",
       "      <td>int32</td>\n",
       "    </tr>\n",
       "    <tr>\n",
       "      <th>7</th>\n",
       "      <td>CLOUDCOVER_AVG_PERCENT</td>\n",
       "      <td>1.0</td>\n",
       "      <td>cloudcov_avg_pct</td>\n",
       "      <td>mean</td>\n",
       "      <td>float32</td>\n",
       "    </tr>\n",
       "    <tr>\n",
       "      <th>9</th>\n",
       "      <td>DEWPOINT_MAX_C</td>\n",
       "      <td>1.0</td>\n",
       "      <td>dewmax_c</td>\n",
       "      <td>max</td>\n",
       "      <td>int32</td>\n",
       "    </tr>\n",
       "    <tr>\n",
       "      <th>10</th>\n",
       "      <td>TOTAL_SNOW_MM</td>\n",
       "      <td>1.0</td>\n",
       "      <td>snow_mm</td>\n",
       "      <td>sum</td>\n",
       "      <td>float32</td>\n",
       "    </tr>\n",
       "    <tr>\n",
       "      <th>11</th>\n",
       "      <td>UV_INDEX</td>\n",
       "      <td>1.0</td>\n",
       "      <td>uv_idx</td>\n",
       "      <td>mean</td>\n",
       "      <td>int32</td>\n",
       "    </tr>\n",
       "    <tr>\n",
       "      <th>12</th>\n",
       "      <td>SUNHOUR</td>\n",
       "      <td>1.0</td>\n",
       "      <td>sunhour</td>\n",
       "      <td>mean</td>\n",
       "      <td>float32</td>\n",
       "    </tr>\n",
       "    <tr>\n",
       "      <th>13</th>\n",
       "      <td>id</td>\n",
       "      <td>1.0</td>\n",
       "      <td>id</td>\n",
       "      <td>key</td>\n",
       "      <td>str</td>\n",
       "    </tr>\n",
       "  </tbody>\n",
       "</table>\n",
       "</div>"
      ],
      "text/plain": [
       "                  name_raw  keep        name_clean                 agg  \\\n",
       "0                     DATE   1.0              date                 key   \n",
       "1        MAX_TEMPERATURE_C   1.0            tmax_c  count_pos_outliers   \n",
       "2        MIN_TEMPERATURE_C   1.0            tmin_c  count_neg_outliers   \n",
       "3        WINDSPEED_MAX_KMH   1.0     windspeed_max                mean   \n",
       "4      PRECIP_TOTAL_DAY_MM   1.0           rain_mm                 sum   \n",
       "5     HUMIDITY_MAX_PERCENT   1.0      humidity_pct                mean   \n",
       "6          PRESSURE_MAX_MB   1.0    pressuremax_mb                mean   \n",
       "7   CLOUDCOVER_AVG_PERCENT   1.0  cloudcov_avg_pct                mean   \n",
       "9           DEWPOINT_MAX_C   1.0          dewmax_c                 max   \n",
       "10           TOTAL_SNOW_MM   1.0           snow_mm                 sum   \n",
       "11                UV_INDEX   1.0            uv_idx                mean   \n",
       "12                 SUNHOUR   1.0           sunhour                mean   \n",
       "13                      id   1.0                id                 key   \n",
       "\n",
       "      dtype  \n",
       "0   <M8[ns]  \n",
       "1     int32  \n",
       "2     int32  \n",
       "3     int32  \n",
       "4   float32  \n",
       "5   float32  \n",
       "6     int32  \n",
       "7   float32  \n",
       "9     int32  \n",
       "10  float32  \n",
       "11    int32  \n",
       "12  float32  \n",
       "13      str  "
      ]
     },
     "execution_count": 34,
     "metadata": {},
     "output_type": "execute_result"
    }
   ],
   "source": [
    "meteo_key = meteo_key[meteo_key['keep']==1.0]\n",
    "meteo_key"
   ]
  },
  {
   "cell_type": "markdown",
   "id": "88ed6e19",
   "metadata": {},
   "source": [
    "## Name"
   ]
  },
  {
   "cell_type": "code",
   "execution_count": 35,
   "id": "ccd68ec4",
   "metadata": {
    "ExecuteTime": {
     "end_time": "2022-03-03T08:18:30.672774Z",
     "start_time": "2022-03-03T08:18:30.668594Z"
    },
    "scrolled": false
   },
   "outputs": [
    {
     "data": {
      "text/plain": [
       "{'DATE': 'date',\n",
       " 'MAX_TEMPERATURE_C': 'tmax_c',\n",
       " 'MIN_TEMPERATURE_C': 'tmin_c',\n",
       " 'WINDSPEED_MAX_KMH': 'windspeed_max',\n",
       " 'PRECIP_TOTAL_DAY_MM': 'rain_mm',\n",
       " 'HUMIDITY_MAX_PERCENT': 'humidity_pct',\n",
       " 'PRESSURE_MAX_MB': 'pressuremax_mb',\n",
       " 'CLOUDCOVER_AVG_PERCENT': 'cloudcov_avg_pct',\n",
       " 'DEWPOINT_MAX_C': 'dewmax_c',\n",
       " 'TOTAL_SNOW_MM': 'snow_mm',\n",
       " 'UV_INDEX': 'uv_idx',\n",
       " 'SUNHOUR': 'sunhour',\n",
       " 'id': 'id'}"
      ]
     },
     "execution_count": 35,
     "metadata": {},
     "output_type": "execute_result"
    }
   ],
   "source": [
    "name_dict = pd.Series(meteo_key['name_clean'].values, index=meteo_key['name_raw']).to_dict()\n",
    "name_dict"
   ]
  },
  {
   "cell_type": "markdown",
   "id": "a5b00c73",
   "metadata": {},
   "source": [
    "## Agg"
   ]
  },
  {
   "cell_type": "code",
   "execution_count": 36,
   "id": "d97bf0be",
   "metadata": {
    "ExecuteTime": {
     "end_time": "2022-03-03T08:18:31.552410Z",
     "start_time": "2022-03-03T08:18:31.548403Z"
    },
    "scrolled": true
   },
   "outputs": [
    {
     "data": {
      "text/plain": [
       "{'date': 'key',\n",
       " 'tmax_c': 'count_pos_outliers',\n",
       " 'tmin_c': 'count_neg_outliers',\n",
       " 'windspeed_max': 'mean',\n",
       " 'rain_mm': 'sum',\n",
       " 'humidity_pct': 'mean',\n",
       " 'pressuremax_mb': 'mean',\n",
       " 'cloudcov_avg_pct': 'mean',\n",
       " 'dewmax_c': 'max',\n",
       " 'snow_mm': 'sum',\n",
       " 'uv_idx': 'mean',\n",
       " 'sunhour': 'mean',\n",
       " 'id': 'key'}"
      ]
     },
     "execution_count": 36,
     "metadata": {},
     "output_type": "execute_result"
    }
   ],
   "source": [
    "agg_dict = pd.Series(meteo_key['agg'].values, index=meteo_key['name_clean']).to_dict()\n",
    "agg_dict"
   ]
  },
  {
   "cell_type": "markdown",
   "id": "087f775e",
   "metadata": {},
   "source": [
    "## Cleaning df"
   ]
  },
  {
   "cell_type": "code",
   "execution_count": 37,
   "id": "c6ea6a11",
   "metadata": {
    "ExecuteTime": {
     "end_time": "2022-03-03T08:18:32.888569Z",
     "start_time": "2022-03-03T08:18:32.623433Z"
    }
   },
   "outputs": [],
   "source": [
    "df = df[meteo_key.name_raw]"
   ]
  },
  {
   "cell_type": "code",
   "execution_count": 38,
   "id": "75e1b8b0",
   "metadata": {
    "ExecuteTime": {
     "end_time": "2022-03-03T08:18:33.161559Z",
     "start_time": "2022-03-03T08:18:33.010516Z"
    }
   },
   "outputs": [],
   "source": [
    "df = df.rename(columns=name_dict)"
   ]
  },
  {
   "cell_type": "code",
   "execution_count": 39,
   "id": "67008f9d",
   "metadata": {
    "ExecuteTime": {
     "end_time": "2022-03-03T08:18:33.672714Z",
     "start_time": "2022-03-03T08:18:33.527552Z"
    }
   },
   "outputs": [],
   "source": [
    "df = df.reset_index(drop=True)"
   ]
  },
  {
   "cell_type": "code",
   "execution_count": 40,
   "id": "feee4c98",
   "metadata": {
    "ExecuteTime": {
     "end_time": "2022-03-03T08:18:34.238542Z",
     "start_time": "2022-03-03T08:18:33.968388Z"
    }
   },
   "outputs": [],
   "source": [
    "df['date'] = pd.to_datetime(df['date'])"
   ]
  },
  {
   "cell_type": "code",
   "execution_count": 41,
   "id": "e6b01c55",
   "metadata": {
    "ExecuteTime": {
     "end_time": "2022-03-03T08:18:34.663551Z",
     "start_time": "2022-03-03T08:18:34.524573Z"
    }
   },
   "outputs": [],
   "source": [
    "df = df.set_index(\"date\")"
   ]
  },
  {
   "cell_type": "code",
   "execution_count": 42,
   "id": "09468d9d",
   "metadata": {
    "ExecuteTime": {
     "end_time": "2022-03-03T08:18:35.377301Z",
     "start_time": "2022-03-03T08:18:35.365510Z"
    }
   },
   "outputs": [
    {
     "data": {
      "text/html": [
       "<div>\n",
       "<style scoped>\n",
       "    .dataframe tbody tr th:only-of-type {\n",
       "        vertical-align: middle;\n",
       "    }\n",
       "\n",
       "    .dataframe tbody tr th {\n",
       "        vertical-align: top;\n",
       "    }\n",
       "\n",
       "    .dataframe thead th {\n",
       "        text-align: right;\n",
       "    }\n",
       "</style>\n",
       "<table border=\"1\" class=\"dataframe\">\n",
       "  <thead>\n",
       "    <tr style=\"text-align: right;\">\n",
       "      <th></th>\n",
       "      <th>tmax_c</th>\n",
       "      <th>tmin_c</th>\n",
       "      <th>windspeed_max</th>\n",
       "      <th>rain_mm</th>\n",
       "      <th>humidity_pct</th>\n",
       "      <th>pressuremax_mb</th>\n",
       "      <th>cloudcov_avg_pct</th>\n",
       "      <th>dewmax_c</th>\n",
       "      <th>snow_mm</th>\n",
       "      <th>uv_idx</th>\n",
       "      <th>sunhour</th>\n",
       "      <th>id</th>\n",
       "    </tr>\n",
       "    <tr>\n",
       "      <th>date</th>\n",
       "      <th></th>\n",
       "      <th></th>\n",
       "      <th></th>\n",
       "      <th></th>\n",
       "      <th></th>\n",
       "      <th></th>\n",
       "      <th></th>\n",
       "      <th></th>\n",
       "      <th></th>\n",
       "      <th></th>\n",
       "      <th></th>\n",
       "      <th></th>\n",
       "    </tr>\n",
       "  </thead>\n",
       "  <tbody>\n",
       "    <tr>\n",
       "      <th>2009-01-01</th>\n",
       "      <td>2</td>\n",
       "      <td>-4</td>\n",
       "      <td>11</td>\n",
       "      <td>0</td>\n",
       "      <td>92</td>\n",
       "      <td>1029</td>\n",
       "      <td>8.25</td>\n",
       "      <td>0</td>\n",
       "      <td>0</td>\n",
       "      <td>2</td>\n",
       "      <td>8.5</td>\n",
       "      <td>226</td>\n",
       "    </tr>\n",
       "    <tr>\n",
       "      <th>2009-01-02</th>\n",
       "      <td>1</td>\n",
       "      <td>-6</td>\n",
       "      <td>12</td>\n",
       "      <td>0</td>\n",
       "      <td>81</td>\n",
       "      <td>1029</td>\n",
       "      <td>28.875</td>\n",
       "      <td>0</td>\n",
       "      <td>0</td>\n",
       "      <td>2</td>\n",
       "      <td>8.5</td>\n",
       "      <td>226</td>\n",
       "    </tr>\n",
       "    <tr>\n",
       "      <th>2009-01-03</th>\n",
       "      <td>0</td>\n",
       "      <td>-3</td>\n",
       "      <td>15</td>\n",
       "      <td>0</td>\n",
       "      <td>92</td>\n",
       "      <td>1029</td>\n",
       "      <td>35.875</td>\n",
       "      <td>0</td>\n",
       "      <td>0</td>\n",
       "      <td>1</td>\n",
       "      <td>8.5</td>\n",
       "      <td>226</td>\n",
       "    </tr>\n",
       "    <tr>\n",
       "      <th>2009-01-04</th>\n",
       "      <td>0</td>\n",
       "      <td>-5</td>\n",
       "      <td>13</td>\n",
       "      <td>0.4</td>\n",
       "      <td>81</td>\n",
       "      <td>1026</td>\n",
       "      <td>57.375</td>\n",
       "      <td>0</td>\n",
       "      <td>0.3</td>\n",
       "      <td>2</td>\n",
       "      <td>5</td>\n",
       "      <td>226</td>\n",
       "    </tr>\n",
       "    <tr>\n",
       "      <th>2009-01-05</th>\n",
       "      <td>-0</td>\n",
       "      <td>-1</td>\n",
       "      <td>26</td>\n",
       "      <td>4.9</td>\n",
       "      <td>97</td>\n",
       "      <td>1022</td>\n",
       "      <td>100</td>\n",
       "      <td>0</td>\n",
       "      <td>4.1</td>\n",
       "      <td>1</td>\n",
       "      <td>3.2</td>\n",
       "      <td>226</td>\n",
       "    </tr>\n",
       "    <tr>\n",
       "      <th>...</th>\n",
       "      <td>...</td>\n",
       "      <td>...</td>\n",
       "      <td>...</td>\n",
       "      <td>...</td>\n",
       "      <td>...</td>\n",
       "      <td>...</td>\n",
       "      <td>...</td>\n",
       "      <td>...</td>\n",
       "      <td>...</td>\n",
       "      <td>...</td>\n",
       "      <td>...</td>\n",
       "      <td>...</td>\n",
       "    </tr>\n",
       "    <tr>\n",
       "      <th>2022-02-24</th>\n",
       "      <td>13</td>\n",
       "      <td>10</td>\n",
       "      <td>9</td>\n",
       "      <td>0</td>\n",
       "      <td>58</td>\n",
       "      <td>1026</td>\n",
       "      <td>27.875</td>\n",
       "      <td>6</td>\n",
       "      <td>0</td>\n",
       "      <td>4</td>\n",
       "      <td>11</td>\n",
       "      <td>181</td>\n",
       "    </tr>\n",
       "    <tr>\n",
       "      <th>2022-02-25</th>\n",
       "      <td>13</td>\n",
       "      <td>9</td>\n",
       "      <td>10</td>\n",
       "      <td>0.5</td>\n",
       "      <td>70</td>\n",
       "      <td>1019</td>\n",
       "      <td>21.375</td>\n",
       "      <td>8</td>\n",
       "      <td>0</td>\n",
       "      <td>4</td>\n",
       "      <td>11</td>\n",
       "      <td>181</td>\n",
       "    </tr>\n",
       "    <tr>\n",
       "      <th>2022-02-26</th>\n",
       "      <td>15</td>\n",
       "      <td>8</td>\n",
       "      <td>16</td>\n",
       "      <td>0.3</td>\n",
       "      <td>40</td>\n",
       "      <td>1027</td>\n",
       "      <td>18.75</td>\n",
       "      <td>4</td>\n",
       "      <td>0</td>\n",
       "      <td>3</td>\n",
       "      <td>11</td>\n",
       "      <td>181</td>\n",
       "    </tr>\n",
       "    <tr>\n",
       "      <th>2022-02-27</th>\n",
       "      <td>10</td>\n",
       "      <td>8</td>\n",
       "      <td>6</td>\n",
       "      <td>0</td>\n",
       "      <td>65</td>\n",
       "      <td>1029</td>\n",
       "      <td>27.5</td>\n",
       "      <td>3</td>\n",
       "      <td>0</td>\n",
       "      <td>3</td>\n",
       "      <td>10.1</td>\n",
       "      <td>181</td>\n",
       "    </tr>\n",
       "    <tr>\n",
       "      <th>2022-02-28</th>\n",
       "      <td>13</td>\n",
       "      <td>6</td>\n",
       "      <td>12</td>\n",
       "      <td>0</td>\n",
       "      <td>46</td>\n",
       "      <td>1028</td>\n",
       "      <td>0.625</td>\n",
       "      <td>3</td>\n",
       "      <td>0</td>\n",
       "      <td>3</td>\n",
       "      <td>11.1</td>\n",
       "      <td>181</td>\n",
       "    </tr>\n",
       "  </tbody>\n",
       "</table>\n",
       "<p>447051 rows × 12 columns</p>\n",
       "</div>"
      ],
      "text/plain": [
       "0          tmax_c tmin_c windspeed_max rain_mm humidity_pct pressuremax_mb  \\\n",
       "date                                                                         \n",
       "2009-01-01      2     -4            11       0           92           1029   \n",
       "2009-01-02      1     -6            12       0           81           1029   \n",
       "2009-01-03      0     -3            15       0           92           1029   \n",
       "2009-01-04      0     -5            13     0.4           81           1026   \n",
       "2009-01-05     -0     -1            26     4.9           97           1022   \n",
       "...           ...    ...           ...     ...          ...            ...   \n",
       "2022-02-24     13     10             9       0           58           1026   \n",
       "2022-02-25     13      9            10     0.5           70           1019   \n",
       "2022-02-26     15      8            16     0.3           40           1027   \n",
       "2022-02-27     10      8             6       0           65           1029   \n",
       "2022-02-28     13      6            12       0           46           1028   \n",
       "\n",
       "0          cloudcov_avg_pct dewmax_c snow_mm uv_idx sunhour   id  \n",
       "date                                                              \n",
       "2009-01-01             8.25        0       0      2     8.5  226  \n",
       "2009-01-02           28.875        0       0      2     8.5  226  \n",
       "2009-01-03           35.875        0       0      1     8.5  226  \n",
       "2009-01-04           57.375        0     0.3      2       5  226  \n",
       "2009-01-05              100        0     4.1      1     3.2  226  \n",
       "...                     ...      ...     ...    ...     ...  ...  \n",
       "2022-02-24           27.875        6       0      4      11  181  \n",
       "2022-02-25           21.375        8       0      4      11  181  \n",
       "2022-02-26            18.75        4       0      3      11  181  \n",
       "2022-02-27             27.5        3       0      3    10.1  181  \n",
       "2022-02-28            0.625        3       0      3    11.1  181  \n",
       "\n",
       "[447051 rows x 12 columns]"
      ]
     },
     "execution_count": 42,
     "metadata": {},
     "output_type": "execute_result"
    }
   ],
   "source": [
    "df"
   ]
  },
  {
   "cell_type": "code",
   "execution_count": 43,
   "id": "ccebf0ac",
   "metadata": {
    "ExecuteTime": {
     "end_time": "2022-03-03T08:18:40.664722Z",
     "start_time": "2022-03-03T08:18:38.158085Z"
    }
   },
   "outputs": [],
   "source": [
    "df.to_csv('../raw_data/Meteo/historique_meteo_daily.csv')"
   ]
  },
  {
   "cell_type": "code",
   "execution_count": null,
   "id": "42ba9333",
   "metadata": {},
   "outputs": [],
   "source": []
  }
 ],
 "metadata": {
  "kernelspec": {
   "display_name": "Python 3 (ipykernel)",
   "language": "python",
   "name": "python3"
  },
  "language_info": {
   "codemirror_mode": {
    "name": "ipython",
    "version": 3
   },
   "file_extension": ".py",
   "mimetype": "text/x-python",
   "name": "python",
   "nbconvert_exporter": "python",
   "pygments_lexer": "ipython3",
   "version": "3.8.12"
  },
  "toc": {
   "base_numbering": 1,
   "nav_menu": {},
   "number_sections": true,
   "sideBar": true,
   "skip_h1_title": false,
   "title_cell": "Table of Contents",
   "title_sidebar": "Contents",
   "toc_cell": false,
   "toc_position": {},
   "toc_section_display": true,
   "toc_window_display": true
  },
  "varInspector": {
   "cols": {
    "lenName": 16,
    "lenType": 16,
    "lenVar": 40
   },
   "kernels_config": {
    "python": {
     "delete_cmd_postfix": "",
     "delete_cmd_prefix": "del ",
     "library": "var_list.py",
     "varRefreshCmd": "print(var_dic_list())"
    },
    "r": {
     "delete_cmd_postfix": ") ",
     "delete_cmd_prefix": "rm(",
     "library": "var_list.r",
     "varRefreshCmd": "cat(var_dic_list()) "
    }
   },
   "types_to_exclude": [
    "module",
    "function",
    "builtin_function_or_method",
    "instance",
    "_Feature"
   ],
   "window_display": false
  }
 },
 "nbformat": 4,
 "nbformat_minor": 5
}
