{
 "cells": [
  {
   "cell_type": "code",
   "execution_count": 1,
   "id": "393cf60b",
   "metadata": {},
   "outputs": [],
   "source": [
    "import pandas as pd\n",
    "import matplotlib.pyplot as plt"
   ]
  },
  {
   "cell_type": "code",
   "execution_count": 11,
   "id": "c6094cb6",
   "metadata": {},
   "outputs": [
    {
     "data": {
      "text/html": [
       "<div>\n",
       "<style scoped>\n",
       "    .dataframe tbody tr th:only-of-type {\n",
       "        vertical-align: middle;\n",
       "    }\n",
       "\n",
       "    .dataframe tbody tr th {\n",
       "        vertical-align: top;\n",
       "    }\n",
       "\n",
       "    .dataframe thead th {\n",
       "        text-align: right;\n",
       "    }\n",
       "</style>\n",
       "<table border=\"1\" class=\"dataframe\">\n",
       "  <thead>\n",
       "    <tr style=\"text-align: right;\">\n",
       "      <th></th>\n",
       "      <th>Production</th>\n",
       "    </tr>\n",
       "    <tr>\n",
       "      <th>Ind</th>\n",
       "      <th></th>\n",
       "    </tr>\n",
       "  </thead>\n",
       "  <tbody>\n",
       "    <tr>\n",
       "      <th>2000-1</th>\n",
       "      <td>203500.0</td>\n",
       "    </tr>\n",
       "    <tr>\n",
       "      <th>2000-2</th>\n",
       "      <td>1528720.0</td>\n",
       "    </tr>\n",
       "    <tr>\n",
       "      <th>2000-3</th>\n",
       "      <td>320531.6</td>\n",
       "    </tr>\n",
       "    <tr>\n",
       "      <th>2000-4</th>\n",
       "      <td>8750.0</td>\n",
       "    </tr>\n",
       "    <tr>\n",
       "      <th>2000-5</th>\n",
       "      <td>12630.0</td>\n",
       "    </tr>\n",
       "    <tr>\n",
       "      <th>...</th>\n",
       "      <td>...</td>\n",
       "    </tr>\n",
       "    <tr>\n",
       "      <th>2021-91</th>\n",
       "      <td>243243.0</td>\n",
       "    </tr>\n",
       "    <tr>\n",
       "      <th>2021-92</th>\n",
       "      <td>0.0</td>\n",
       "    </tr>\n",
       "    <tr>\n",
       "      <th>2021-93</th>\n",
       "      <td>2739.0</td>\n",
       "    </tr>\n",
       "    <tr>\n",
       "      <th>2021-94</th>\n",
       "      <td>3483.0</td>\n",
       "    </tr>\n",
       "    <tr>\n",
       "      <th>2021-95</th>\n",
       "      <td>198121.0</td>\n",
       "    </tr>\n",
       "  </tbody>\n",
       "</table>\n",
       "<p>2090 rows × 1 columns</p>\n",
       "</div>"
      ],
      "text/plain": [
       "         Production\n",
       "Ind                \n",
       "2000-1     203500.0\n",
       "2000-2    1528720.0\n",
       "2000-3     320531.6\n",
       "2000-4       8750.0\n",
       "2000-5      12630.0\n",
       "...             ...\n",
       "2021-91    243243.0\n",
       "2021-92         0.0\n",
       "2021-93      2739.0\n",
       "2021-94      3483.0\n",
       "2021-95    198121.0\n",
       "\n",
       "[2090 rows x 1 columns]"
      ]
     },
     "execution_count": 11,
     "metadata": {},
     "output_type": "execute_result"
    }
   ],
   "source": [
    "filepath = '/Users/pierre/code/PierreCeraH/deepagri/raw_data/cleaned/Production_Y.xlsx'\n",
    "\n",
    "df = pd.read_excel(filepath)\n",
    "\n",
    "df = df.rename(columns={'Prod.(t)':'FRANCE'})\n",
    "\n",
    "y_France = df[['FRANCE']]\n",
    "\n",
    "df = df.drop('FRANCE', axis=1)\n",
    "df = df.set_index('Année')\n",
    "\n",
    "y = pd.DataFrame(df.stack())\n",
    "\n",
    "y = y.rename(columns={0:'Production'})\n",
    "y = y.reset_index()\n",
    "y['Ind']=y['Année'].astype(str)+'-'+y['level_1'].astype(str)\n",
    "\n",
    "y = y.drop(['level_1','Année'], axis=1)\n",
    "y = y.set_index('Ind')"
   ]
  },
  {
   "cell_type": "code",
   "execution_count": null,
   "id": "9108e1a2",
   "metadata": {},
   "outputs": [],
   "source": []
  }
 ],
 "metadata": {
  "kernelspec": {
   "display_name": "Python 3 (ipykernel)",
   "language": "python",
   "name": "python3"
  },
  "language_info": {
   "codemirror_mode": {
    "name": "ipython",
    "version": 3
   },
   "file_extension": ".py",
   "mimetype": "text/x-python",
   "name": "python",
   "nbconvert_exporter": "python",
   "pygments_lexer": "ipython3",
   "version": "3.8.12"
  },
  "toc": {
   "base_numbering": 1,
   "nav_menu": {},
   "number_sections": true,
   "sideBar": true,
   "skip_h1_title": false,
   "title_cell": "Table of Contents",
   "title_sidebar": "Contents",
   "toc_cell": false,
   "toc_position": {},
   "toc_section_display": true,
   "toc_window_display": false
  },
  "varInspector": {
   "cols": {
    "lenName": 16,
    "lenType": 16,
    "lenVar": 40
   },
   "kernels_config": {
    "python": {
     "delete_cmd_postfix": "",
     "delete_cmd_prefix": "del ",
     "library": "var_list.py",
     "varRefreshCmd": "print(var_dic_list())"
    },
    "r": {
     "delete_cmd_postfix": ") ",
     "delete_cmd_prefix": "rm(",
     "library": "var_list.r",
     "varRefreshCmd": "cat(var_dic_list()) "
    }
   },
   "types_to_exclude": [
    "module",
    "function",
    "builtin_function_or_method",
    "instance",
    "_Feature"
   ],
   "window_display": false
  }
 },
 "nbformat": 4,
 "nbformat_minor": 5
}
