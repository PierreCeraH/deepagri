{
 "cells": [
  {
   "cell_type": "code",
   "execution_count": 1,
   "id": "a5ec4d11",
   "metadata": {},
   "outputs": [],
   "source": [
    "import pandas as pd\n",
    "import seaborn as sns\n",
    "import matplotlib.pyplot as plt"
   ]
  },
  {
   "cell_type": "code",
   "execution_count": 2,
   "id": "d1995e60",
   "metadata": {},
   "outputs": [],
   "source": [
    "url = '/Users/pierre/code/PierreCeraH/deepagri/raw_data/cleaned/Histo_data_YieldsAreasProd.xlsx'\n",
    "df = pd.read_excel(url, sheet_name='Blé tendre')"
   ]
  },
  {
   "cell_type": "code",
   "execution_count": 3,
   "id": "20d03216",
   "metadata": {},
   "outputs": [],
   "source": [
    "def get_df_all(df):\n",
    "    df = df.rename(columns={'Unnamed: 0':'Année'})\n",
    "    df = df.set_index('Année')\n",
    "\n",
    "    col_rendements = []\n",
    "    col_surfaces = []\n",
    "    col_prod = []\n",
    "\n",
    "    for col in df.columns :\n",
    "        if '1' in col: #rendements\n",
    "            col_rendements.append(col)\n",
    "        elif '2' in col: #production\n",
    "            col_prod.append(col)\n",
    "        else: #surfaces\n",
    "            col_surfaces.append(col)\n",
    "            \n",
    "    df_rendements = df[col_rendements].drop(['Année',2022],axis=0)\n",
    "    df_prod = df[col_prod].drop(['Année',2022],axis=0)\n",
    "    df_surfaces = df[col_surfaces].drop(['Année',2022],axis=0)     \n",
    "    \n",
    "    dept_codes = [1,2,3,4,5,6,7,8,9,10,\n",
    "              11,12,13,14,15,16,17,\n",
    "              18,19,\n",
    "              21,22,23,24,25,26,27,28,29,\n",
    "              20,\n",
    "              30,31,32,33,34,35,36,\n",
    "              37,38,39,40,41,42,43,\n",
    "              44,45,46,47,48,49,50,\n",
    "              51,52,53,54,55,56,57,\n",
    "              58,59,60,61,62,63,64,\n",
    "              65,66,67,68,69,70,71,\n",
    "              72,73,74,75,76,77,78,\n",
    "              79,80,81,82,83,84,85,\n",
    "              86,87,88,89,90,91,92,\n",
    "              93,94,95,96,0]\n",
    "    \n",
    "    col_names_rend = df_rendements.columns\n",
    "    col_names_surf = df_surfaces.columns\n",
    "    col_names_prod = df_prod.columns\n",
    "    \n",
    "    dict_rename_rend = {}\n",
    "    dict_rename_surf = {}\n",
    "    dict_rename_prod = {}\n",
    "    \n",
    "    i = 0\n",
    "    for col in col_names_rend:\n",
    "        dict_rename_rend[col]=dept_codes[i]\n",
    "        i = i+1\n",
    "    \n",
    "    i = 0\n",
    "    for col in col_names_surf:\n",
    "        dict_rename_surf[col]=dept_codes[i]\n",
    "        i = i+1\n",
    "    \n",
    "    i = 0\n",
    "    for col in col_names_prod:\n",
    "        dict_rename_prod[col]=dept_codes[i]\n",
    "        i = i+1\n",
    "        \n",
    "    df_rendements = df_rendements.rename(columns=dict_rename_rend)\n",
    "    df_rendements = df_rendements.rename(columns={96:'FRANCE'})\n",
    "    \n",
    "    df_prod = df_prod.rename(columns=dict_rename_prod)\n",
    "    df_prod = df_prod.rename(columns={96:'FRANCE'})\n",
    "    \n",
    "    df_surfaces = df_surfaces.rename(columns=dict_rename_surf)\n",
    "    df_surfaces = df_surfaces.rename(columns={96:'FRANCE'})\n",
    "    \n",
    "    return df_rendements, df_surfaces, df_prod"
   ]
  },
  {
   "cell_type": "code",
   "execution_count": 4,
   "id": "b44c7a08",
   "metadata": {},
   "outputs": [],
   "source": [
    "def baseline(df_rendements, df_surfaces):\n",
    "    baseline_rendements = {}\n",
    "    for col in df_rendements.columns:\n",
    "        baseline_rendements[col] = df_rendements[col].mean()\n",
    "    \n",
    "    baseline_surfaces = {}\n",
    "    for col in df_surfaces.columns:\n",
    "        baseline_surfaces[col] = df_surfaces[col].mean()\n",
    "\n",
    "    base_rendements = pd.DataFrame.from_dict(baseline_rendements,orient='index')\n",
    "    base_surfaces = pd.DataFrame.from_dict(baseline_surfaces,orient='index')\n",
    "    \n",
    "    base_rendements = base_rendements.rename(columns={0:'Rendements'})\n",
    "    base_surfaces = base_surfaces.rename(columns={0:'Surfaces'})\n",
    "    \n",
    "    baseline = base_rendements.copy()\n",
    "    baseline = baseline.join(base_surfaces)\n",
    "    \n",
    "    baseline['Production']=baseline['Rendements']*baseline['Surfaces']/10\n",
    "    \n",
    "    return baseline"
   ]
  },
  {
   "cell_type": "code",
   "execution_count": 5,
   "id": "2a792015",
   "metadata": {},
   "outputs": [],
   "source": [
    "df_rendements, df_surfaces, df_prod = get_df_all(df)\n",
    "baseline = baseline(df_rendements, df_surfaces)"
   ]
  },
  {
   "cell_type": "code",
   "execution_count": 6,
   "id": "25ff1943",
   "metadata": {},
   "outputs": [],
   "source": [
    "baseline.to_csv('baseline.csv')"
   ]
  }
 ],
 "metadata": {
  "kernelspec": {
   "display_name": "Python 3 (ipykernel)",
   "language": "python",
   "name": "python3"
  },
  "language_info": {
   "codemirror_mode": {
    "name": "ipython",
    "version": 3
   },
   "file_extension": ".py",
   "mimetype": "text/x-python",
   "name": "python",
   "nbconvert_exporter": "python",
   "pygments_lexer": "ipython3",
   "version": "3.8.12"
  },
  "toc": {
   "base_numbering": 1,
   "nav_menu": {},
   "number_sections": true,
   "sideBar": true,
   "skip_h1_title": false,
   "title_cell": "Table of Contents",
   "title_sidebar": "Contents",
   "toc_cell": false,
   "toc_position": {},
   "toc_section_display": true,
   "toc_window_display": false
  },
  "varInspector": {
   "cols": {
    "lenName": 16,
    "lenType": 16,
    "lenVar": 40
   },
   "kernels_config": {
    "python": {
     "delete_cmd_postfix": "",
     "delete_cmd_prefix": "del ",
     "library": "var_list.py",
     "varRefreshCmd": "print(var_dic_list())"
    },
    "r": {
     "delete_cmd_postfix": ") ",
     "delete_cmd_prefix": "rm(",
     "library": "var_list.r",
     "varRefreshCmd": "cat(var_dic_list()) "
    }
   },
   "types_to_exclude": [
    "module",
    "function",
    "builtin_function_or_method",
    "instance",
    "_Feature"
   ],
   "window_display": false
  }
 },
 "nbformat": 4,
 "nbformat_minor": 5
}
